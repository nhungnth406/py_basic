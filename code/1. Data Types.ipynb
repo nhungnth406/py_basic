{
 "cells": [
  {
   "cell_type": "code",
   "execution_count": 1,
   "id": "1ef3b6dd",
   "metadata": {},
   "outputs": [
    {
     "name": "stdout",
     "output_type": "stream",
     "text": [
      "flo\n",
      "flo\n"
     ]
    }
   ],
   "source": [
    "# this \n",
    "# is \n",
    "# comment\n",
    "\n",
    "\"\"\"\n",
    "1 lines\n",
    "2 lines\n",
    "3 lines\n",
    "\"\"\"\n",
    "\n",
    "'''\n",
    "Tuong tu\n",
    "'''\n",
    "\n",
    "print('flo')\n",
    "print(\"flo\")\n",
    "# Ctrl + Enter => Run"
   ]
  },
  {
   "cell_type": "code",
   "execution_count": 4,
   "id": "1f6897fc",
   "metadata": {},
   "outputs": [
    {
     "name": "stdout",
     "output_type": "stream",
     "text": [
      "3\n",
      "me\n"
     ]
    }
   ],
   "source": [
    "x = 3\n",
    "y = 'me'\n",
    "print(x)\n",
    "print(y)"
   ]
  },
  {
   "cell_type": "code",
   "execution_count": 5,
   "id": "80314355",
   "metadata": {},
   "outputs": [
    {
     "name": "stdout",
     "output_type": "stream",
     "text": [
      "3\n",
      "me\n"
     ]
    }
   ],
   "source": [
    "# Case sensitive\n",
    "x = 8\n",
    "X = 'me'\n",
    "print(x)\n",
    "print(X)\n",
    "# => Biến có phân biệt hoa, thường"
   ]
  },
  {
   "cell_type": "code",
   "execution_count": 1,
   "id": "43d338c8",
   "metadata": {},
   "outputs": [
    {
     "ename": "NameError",
     "evalue": "name 'hj' is not defined",
     "output_type": "error",
     "traceback": [
      "\u001b[1;31m---------------------------------------------------------------------------\u001b[0m",
      "\u001b[1;31mNameError\u001b[0m                                 Traceback (most recent call last)",
      "\u001b[1;32m<ipython-input-1-bf91892c446f>\u001b[0m in \u001b[0;36m<module>\u001b[1;34m\u001b[0m\n\u001b[0;32m      1\u001b[0m \u001b[0ma\u001b[0m \u001b[1;33m=\u001b[0m \u001b[1;36m3\u001b[0m\u001b[1;33m\u001b[0m\u001b[1;33m\u001b[0m\u001b[0m\n\u001b[0;32m      2\u001b[0m \u001b[0mb\u001b[0m \u001b[1;33m=\u001b[0m \u001b[1;36m9.7\u001b[0m\u001b[1;33m\u001b[0m\u001b[1;33m\u001b[0m\u001b[0m\n\u001b[1;32m----> 3\u001b[1;33m \u001b[0mc\u001b[0m \u001b[1;33m=\u001b[0m \u001b[0mhj\u001b[0m\u001b[1;33m\u001b[0m\u001b[1;33m\u001b[0m\u001b[0m\n\u001b[0m\u001b[0;32m      4\u001b[0m \u001b[0mprint\u001b[0m\u001b[1;33m(\u001b[0m\u001b[0mtype\u001b[0m\u001b[1;33m(\u001b[0m\u001b[0ma\u001b[0m\u001b[1;33m)\u001b[0m\u001b[1;33m)\u001b[0m\u001b[1;33m\u001b[0m\u001b[1;33m\u001b[0m\u001b[0m\n\u001b[0;32m      5\u001b[0m \u001b[0mprint\u001b[0m\u001b[1;33m(\u001b[0m\u001b[0mtype\u001b[0m\u001b[1;33m(\u001b[0m\u001b[0mb\u001b[0m\u001b[1;33m)\u001b[0m\u001b[1;33m)\u001b[0m\u001b[1;33m\u001b[0m\u001b[1;33m\u001b[0m\u001b[0m\n",
      "\u001b[1;31mNameError\u001b[0m: name 'hj' is not defined"
     ]
    }
   ],
   "source": [
    "a = 3 \n",
    "b = 9.7\n",
    "c = hj\n",
    "print(type(a))\n",
    "print(type(b))\n",
    "print(type(c))\n",
    "# => Hàm type() để xem kiểu dữ liệu"
   ]
  },
  {
   "cell_type": "code",
   "execution_count": 8,
   "id": "a4f4a0d1",
   "metadata": {},
   "outputs": [
    {
     "name": "stdout",
     "output_type": "stream",
     "text": [
      "3.0\n",
      "9\n"
     ]
    }
   ],
   "source": [
    "#Casting - chuyển đổi kiểu dữ liệu\n",
    "a = 3 \n",
    "b = 9.6\n",
    "x = float(a)\n",
    "print(x)\n",
    "y = int(b)\n",
    "print(y)"
   ]
  },
  {
   "cell_type": "code",
   "execution_count": 6,
   "id": "e80e221b",
   "metadata": {},
   "outputs": [
    {
     "name": "stdout",
     "output_type": "stream",
     "text": [
      "200.0\n"
     ]
    }
   ],
   "source": [
    "x = 2E2 #E = 10^\n",
    "print(x)"
   ]
  },
  {
   "cell_type": "code",
   "execution_count": 2,
   "id": "aa2d7a26",
   "metadata": {},
   "outputs": [
    {
     "name": "stdout",
     "output_type": "stream",
     "text": [
      "mot\n",
      "hai\n",
      "ba\n"
     ]
    }
   ],
   "source": [
    "x, y ,z = \"mot\", \"hai\", \"ba\"\n",
    "print(x)\n",
    "print(y)\n",
    "print(z)"
   ]
  },
  {
   "cell_type": "code",
   "execution_count": 3,
   "id": "2e3926e7",
   "metadata": {},
   "outputs": [
    {
     "name": "stdout",
     "output_type": "stream",
     "text": [
      "mot\n",
      "mot\n",
      "mot\n"
     ]
    }
   ],
   "source": [
    "x = y = z = \"mot\"\n",
    "print(x)\n",
    "print(y)\n",
    "print(z)"
   ]
  },
  {
   "cell_type": "code",
   "execution_count": 4,
   "id": "e00450ae",
   "metadata": {},
   "outputs": [
    {
     "name": "stdout",
     "output_type": "stream",
     "text": [
      "mot\n",
      "hai\n",
      "ba\n"
     ]
    }
   ],
   "source": [
    "numbs = [\"mot\", \"hai\", \"ba\"]\n",
    "x, y ,z = numbs\n",
    "print(x)\n",
    "print(y)\n",
    "print(z)"
   ]
  },
  {
   "cell_type": "code",
   "execution_count": 10,
   "id": "649318e5",
   "metadata": {},
   "outputs": [
    {
     "name": "stdout",
     "output_type": "stream",
     "text": [
      "3\n"
     ]
    }
   ],
   "source": [
    "import random\n",
    "print(random.randrange(0,10)) #0,1,2,3....,9"
   ]
  },
  {
   "cell_type": "code",
   "execution_count": 11,
   "id": "2d1cfeca",
   "metadata": {},
   "outputs": [
    {
     "name": "stdout",
     "output_type": "stream",
     "text": [
      "Hello\n",
      "Hello\n"
     ]
    }
   ],
   "source": [
    "print(\"Hello\")\n",
    "print('Hello')"
   ]
  },
  {
   "cell_type": "code",
   "execution_count": 12,
   "id": "abb6f031",
   "metadata": {},
   "outputs": [
    {
     "name": "stdout",
     "output_type": "stream",
     "text": [
      "Nhung Nguyen\n",
      "<class 'str'>\n",
      "Type of student is: <class 'str'>\n"
     ]
    }
   ],
   "source": [
    "student = \"Nhung Nguyen\"\n",
    "print(student)\n",
    "print(type(student))\n",
    "print('Type of student is:', type(student))"
   ]
  },
  {
   "cell_type": "code",
   "execution_count": 13,
   "id": "da9c4362",
   "metadata": {},
   "outputs": [
    {
     "name": "stdout",
     "output_type": "stream",
     "text": [
      "N\n",
      "12\n"
     ]
    }
   ],
   "source": [
    "s = 'Nhung Nguyen'\n",
    "print(s[0])\n",
    "print(len(s))\n",
    "# len() lấy độ dài"
   ]
  },
  {
   "cell_type": "code",
   "execution_count": 14,
   "id": "917866e9",
   "metadata": {},
   "outputs": [
    {
     "name": "stdout",
     "output_type": "stream",
     "text": [
      "N\n",
      "h\n",
      "u\n",
      "n\n",
      "g\n",
      " \n",
      "N\n",
      "g\n",
      "u\n",
      "y\n",
      "e\n",
      "n\n"
     ]
    }
   ],
   "source": [
    "s = 'Nhung Nguyen'\n",
    "for x in s:\n",
    "    print(x)"
   ]
  },
  {
   "cell_type": "code",
   "execution_count": 15,
   "id": "2ed9bce6",
   "metadata": {},
   "outputs": [
    {
     "name": "stdout",
     "output_type": "stream",
     "text": [
      "True\n"
     ]
    }
   ],
   "source": [
    "# Check xem 1 chuoi co nam trong chuoi co san hay khong?\n",
    "s = 'Nhung Nguyen'\n",
    "print('ung' in s)"
   ]
  },
  {
   "cell_type": "code",
   "execution_count": 16,
   "id": "fe4e3902",
   "metadata": {},
   "outputs": [
    {
     "name": "stdout",
     "output_type": "stream",
     "text": [
      "Yes, 'ung' is present\n"
     ]
    }
   ],
   "source": [
    "s = 'Nhung Nguyen'\n",
    "if 'ung' in s:\n",
    "    print(\"Yes, 'ung' is present\")"
   ]
  },
  {
   "cell_type": "code",
   "execution_count": 17,
   "id": "2c41b7c3",
   "metadata": {},
   "outputs": [
    {
     "name": "stdout",
     "output_type": "stream",
     "text": [
      "True\n",
      "False\n"
     ]
    }
   ],
   "source": [
    "s = 'Nhung Nguyen'\n",
    "print('Le' not in s)\n",
    "print('Le' in s)"
   ]
  },
  {
   "cell_type": "code",
   "execution_count": 25,
   "id": "ae872aed",
   "metadata": {},
   "outputs": [
    {
     "name": "stdout",
     "output_type": "stream",
     "text": [
      "Nguyen\n"
     ]
    }
   ],
   "source": [
    "#Slicing\n",
    "s = 'Nhung Nguyen'\n",
    "print(s[6:12]) #No se bo ko lay ky tu cuoi [12]"
   ]
  },
  {
   "cell_type": "code",
   "execution_count": 28,
   "id": "d4cb707f",
   "metadata": {},
   "outputs": [
    {
     "name": "stdout",
     "output_type": "stream",
     "text": [
      "Nhung \n",
      "Nguyen\n"
     ]
    }
   ],
   "source": [
    "s = 'Nhung Nguyen'\n",
    "print(s[:6])\n",
    "\n",
    "#######\n",
    "s = 'Nhung Nguyen'\n",
    "print(s[6:])"
   ]
  },
  {
   "cell_type": "code",
   "execution_count": 34,
   "id": "c529fa92",
   "metadata": {},
   "outputs": [
    {
     "name": "stdout",
     "output_type": "stream",
     "text": [
      "m\n",
      "i o\n",
      "\n",
      "noitnigami ruoy si\n"
     ]
    }
   ],
   "source": [
    "#[start:stop:step] => buoc nhay\n",
    "NhungNguyen = 'is your imagintion'\n",
    "print(NhungNguyen[-9])\n",
    "print(NhungNguyen[0:6:2])\n",
    "print(NhungNguyen[6:0:2])\n",
    "print(NhungNguyen[::-1]) # => Dao nguoc chuoi"
   ]
  },
  {
   "cell_type": "code",
   "execution_count": 35,
   "id": "a08474e5",
   "metadata": {},
   "outputs": [
    {
     "name": "stdout",
     "output_type": "stream",
     "text": [
      "IS YOUR IMAGINTION\n",
      "is your imagintion\n"
     ]
    }
   ],
   "source": [
    "s1 = 'is your imagintion'\n",
    "print(s1.upper())\n",
    "\n",
    "s2 = 'Is Your Imagintion'\n",
    "print(s2.lower())"
   ]
  },
  {
   "cell_type": "code",
   "execution_count": 36,
   "id": "9d23de91",
   "metadata": {},
   "outputs": [
    {
     "name": "stdout",
     "output_type": "stream",
     "text": [
      "   Is Your Imagintion   \n",
      "Is Your Imagintion\n"
     ]
    }
   ],
   "source": [
    "#Bo khoang cach dau cuoi\n",
    "s = '   Is Your Imagintion   '\n",
    "print(s)\n",
    "print(s.strip())"
   ]
  },
  {
   "cell_type": "code",
   "execution_count": 37,
   "id": "83b0813f",
   "metadata": {},
   "outputs": [
    {
     "name": "stdout",
     "output_type": "stream",
     "text": [
      "Is Not Your Imagintion\n"
     ]
    }
   ],
   "source": [
    "#Thy the ky tu trong chuoi\n",
    "s = 'Is Your Imagintion'\n",
    "print(s.replace('Is','Is Not'))"
   ]
  },
  {
   "cell_type": "code",
   "execution_count": null,
   "id": "7e74bc37",
   "metadata": {},
   "outputs": [],
   "source": [
    "#Noi chuoi\n",
    "a = 'Nhung'\n",
    "b = 'Nguyen'\n",
    "c = a + b\n",
    "print(c)\n",
    "d = a+\" \"+b\n",
    "print(d)\n",
    "### NOT\n",
    "'''\n",
    "s = \"My age is \"\n",
    "a= 39\n",
    "c = s + a\n",
    "'''\n"
   ]
  },
  {
   "cell_type": "code",
   "execution_count": 40,
   "id": "21d7887e",
   "metadata": {},
   "outputs": [
    {
     "name": "stdout",
     "output_type": "stream",
     "text": [
      "My age is 39\n"
     ]
    }
   ],
   "source": [
    "s = \"My age is {}\"\n",
    "a = 39\n",
    "c = s.format(a)\n",
    "print(c)"
   ]
  },
  {
   "cell_type": "code",
   "execution_count": 39,
   "id": "020a1505",
   "metadata": {},
   "outputs": [
    {
     "name": "stdout",
     "output_type": "stream",
     "text": [
      "My age is 39\n"
     ]
    }
   ],
   "source": [
    "s = \"My age is\"\n",
    "a= 39\n",
    "c = s +\" \" + str(a) #Casting a\n",
    "print(c)"
   ]
  },
  {
   "cell_type": "code",
   "execution_count": 41,
   "id": "e6056ede",
   "metadata": {},
   "outputs": [
    {
     "name": "stdout",
     "output_type": "stream",
     "text": [
      "I want 3 pieces of item 567 for 49.95 dollars.\n"
     ]
    }
   ],
   "source": [
    "quantity = 3\n",
    "itemno = 567\n",
    "price = 49.95\n",
    "myorder = \"I want {} pieces of item {} for {} dollars.\"\n",
    "print(myorder.format(quantity, itemno, price))"
   ]
  },
  {
   "cell_type": "code",
   "execution_count": 42,
   "id": "eff637e2",
   "metadata": {},
   "outputs": [
    {
     "name": "stdout",
     "output_type": "stream",
     "text": [
      "I want to pay 49.95 dollars for 3 pieces of item 567.\n"
     ]
    }
   ],
   "source": [
    "quantity = 3\n",
    "itemno = 567\n",
    "price = 49.95\n",
    "myorder = \"I want to pay {2} dollars for {0} pieces of item {1}.\"\n",
    "print(myorder.format(quantity, itemno, price))"
   ]
  },
  {
   "cell_type": "code",
   "execution_count": 43,
   "id": "68436dc7",
   "metadata": {},
   "outputs": [
    {
     "ename": "SyntaxError",
     "evalue": "unexpected character after line continuation character (<ipython-input-43-99cf54d63f0d>, line 2)",
     "output_type": "error",
     "traceback": [
      "\u001b[1;36m  File \u001b[1;32m\"<ipython-input-43-99cf54d63f0d>\"\u001b[1;36m, line \u001b[1;32m2\u001b[0m\n\u001b[1;33m    \\'\tSingle Quote\u001b[0m\n\u001b[1;37m      \t            \t^\u001b[0m\n\u001b[1;31mSyntaxError\u001b[0m\u001b[1;31m:\u001b[0m unexpected character after line continuation character\n"
     ]
    }
   ],
   "source": [
    "#Escape Character\n",
    "\\'\tSingle Quote\t\n",
    "\\\\\tBackslash\t\n",
    "\\n\tNew Line\t\n",
    "\\r\tCarriage Return\t\n",
    "\\t\tTab\t\n",
    "\\b\tBackspace\t\n",
    "\\f\tForm Feed\t\n",
    "\\ooo\tOctal value\t\n",
    "\\xhh\tHex value"
   ]
  },
  {
   "cell_type": "code",
   "execution_count": 44,
   "id": "5ee4b898",
   "metadata": {},
   "outputs": [
    {
     "name": "stdout",
     "output_type": "stream",
     "text": [
      "False\n"
     ]
    },
    {
     "data": {
      "text/plain": [
       "bool"
      ]
     },
     "execution_count": 44,
     "metadata": {},
     "output_type": "execute_result"
    }
   ],
   "source": [
    "#Boolean => True/False\n",
    "Boolean_Variable = 4==5\n",
    "print(Boolean_Variable)\n",
    "type(Boolean_Variable)"
   ]
  },
  {
   "cell_type": "code",
   "execution_count": null,
   "id": "82e6dfbd",
   "metadata": {},
   "outputs": [],
   "source": [
    "x = \"Hello\"\n",
    "y = 15\n",
    "z=\"\"\n",
    "\n",
    "print(bool(x))\n",
    "print(bool(y))\n",
    "print(bool(z))"
   ]
  },
  {
   "cell_type": "code",
   "execution_count": null,
   "id": "525d2398",
   "metadata": {},
   "outputs": [],
   "source": [
    "a = 20\n",
    "b = 33\n",
    "\n",
    "if b > a:\n",
    "  print(\"b is greater than a\")\n",
    "else:\n",
    "  print(\"b is not greater than a\")"
   ]
  },
  {
   "cell_type": "code",
   "execution_count": null,
   "id": "c79a28a2",
   "metadata": {},
   "outputs": [],
   "source": [
    "x = \"Hello\"\n",
    "y = 15\n",
    "\n",
    "print(bool(x))\n",
    "print(bool(y))"
   ]
  },
  {
   "cell_type": "code",
   "execution_count": 45,
   "id": "c1ba4a48",
   "metadata": {},
   "outputs": [
    {
     "name": "stdout",
     "output_type": "stream",
     "text": [
      "True\n",
      "True\n",
      "False\n"
     ]
    }
   ],
   "source": [
    "x = \"Hello\"\n",
    "y = 15\n",
    "z=\"\"\n",
    "\n",
    "print(bool(x))\n",
    "print(bool(y))\n",
    "print(bool(z))"
   ]
  },
  {
   "cell_type": "code",
   "execution_count": 47,
   "id": "6868d8b0",
   "metadata": {},
   "outputs": [
    {
     "data": {
      "text/plain": [
       "False"
      ]
     },
     "execution_count": 47,
     "metadata": {},
     "output_type": "execute_result"
    }
   ],
   "source": [
    "bool(False)\n",
    "bool(None)\n",
    "bool(0)\n",
    "bool(\"\")\n",
    "bool(())\n",
    "bool([])\n",
    "bool({})"
   ]
  },
  {
   "cell_type": "code",
   "execution_count": null,
   "id": "2f4113c6",
   "metadata": {},
   "outputs": [],
   "source": [
    "#OPERATORS \n",
    "\n",
    "# Arithmetic Operators\n",
    "+\tAddition\tx + y\t\n",
    "-\tSubtraction\tx - y\t\n",
    "*\tMultiplication\tx * y\t\n",
    "/\tDivision\tx / y\t\n",
    "%\tModulus\tx % y\t\n",
    "**\tExponentiation\tx ** y\t\n",
    "//\tFloor division\tx // y"
   ]
  },
  {
   "cell_type": "code",
   "execution_count": 46,
   "id": "768502ad",
   "metadata": {},
   "outputs": [
    {
     "name": "stdout",
     "output_type": "stream",
     "text": [
      "2\n",
      "8\n",
      "1\n"
     ]
    }
   ],
   "source": [
    "print(8%3) #=> Chia lay du\n",
    "print(2**3) #=>2^3\n",
    "print(8//5) #Chia ly phan nguyen"
   ]
  },
  {
   "cell_type": "code",
   "execution_count": null,
   "id": "12f0d1dc",
   "metadata": {},
   "outputs": [],
   "source": [
    "# Comparison Operators\n",
    "==\tEqual\tx == y\t\n",
    "!=\tNot equal\tx != y\t\n",
    ">\tGreater than\tx > y\t\n",
    "<\tLess than\tx < y\t\n",
    ">=\tGreater than or equal to\tx >= y\t\n",
    "<=\tLess than or equal to\tx <= y"
   ]
  },
  {
   "cell_type": "code",
   "execution_count": null,
   "id": "dbc44b09",
   "metadata": {},
   "outputs": [],
   "source": [
    "#Logical Operators\n",
    "and \tReturns True if both statements are true\tx < 5 and  x < 10\t\n",
    "or\tReturns True if one of the statements is true\tx < 5 or x < 4\t\n",
    "not\tReverse the result, returns False if the result is true\tnot(x < 5 and x < 10)"
   ]
  },
  {
   "cell_type": "code",
   "execution_count": null,
   "id": "3f2676e3",
   "metadata": {},
   "outputs": [],
   "source": [
    "#Identity Operators\n",
    "is \tReturns True if both variables are the same object\tx is y\t\n",
    "is not\tReturns True if both variables are not the same object\tx is not y"
   ]
  },
  {
   "cell_type": "code",
   "execution_count": 48,
   "id": "ffb0a2c2",
   "metadata": {},
   "outputs": [
    {
     "name": "stdout",
     "output_type": "stream",
     "text": [
      "False\n",
      "True\n",
      "False\n",
      "False\n"
     ]
    }
   ],
   "source": [
    "x = [\"apple\", \"banana\"]\n",
    "y = [\"apple\", \"banana\"]\n",
    "z = x\n",
    "#x, y tạo 2 vùng nhớ trên ô nhớ với giá trị trong []\n",
    "# => 2 vùng nhớ là khác nhau, gtri giong nhau\n",
    "#Khi z = x thì 2 biến này cùng trỏ về cùng 1 ô nhớ\n",
    "#x is y thì 2 biến này trỏ về 2 vùng ô nhớ khác nhau\n",
    "print(x is not z)\n",
    "\n",
    "# returns False because z is the same object as x\n",
    "\n",
    "print(x is not y) # => True, vi ko cung tro cung ve 1 vung nho\n",
    "\n",
    "# returns True because x is not the same object as y, even if they have the same content\n",
    "\n",
    "print(x != y) # => so sanh ve gi tri\n",
    "print(x != z)\n",
    "# to demonstrate the difference betweeen \"is not\" and \"!=\": this comparison returns False because x is equal to y"
   ]
  },
  {
   "cell_type": "code",
   "execution_count": null,
   "id": "92d94166",
   "metadata": {},
   "outputs": [],
   "source": [
    "# Membership Operators\n",
    "\n",
    "in \tReturns True if a sequence with the specified value is present in the object\tx in y\t\n",
    "not in\tReturns True if a sequence with the specified value is not present in the object\tx not in y"
   ]
  },
  {
   "cell_type": "code",
   "execution_count": null,
   "id": "39bdf10e",
   "metadata": {},
   "outputs": [],
   "source": [
    "x = [\"apple\", \"banana\"]\n",
    "\n",
    "print(\"banana\" in x)\n",
    "\n",
    "# returns True because a sequence with the value \"banana\" is in the list"
   ]
  },
  {
   "cell_type": "code",
   "execution_count": null,
   "id": "bdfd79fe",
   "metadata": {},
   "outputs": [],
   "source": [
    "x = [\"apple\", \"banana\"]\n",
    "\n",
    "print(\"pineapple\" not in x)\n",
    "\n",
    "# returns True because a sequence with the value \"pineapple\" is not in the list"
   ]
  },
  {
   "cell_type": "code",
   "execution_count": null,
   "id": "2758d761",
   "metadata": {},
   "outputs": [],
   "source": [
    "# Bitwise Operators\n",
    "\n",
    "Operator\tName\tDescription\n",
    "& \tAND\tSets each bit to 1 if both bits are 1\n",
    "|\tOR\tSets each bit to 1 if one of two bits is 1\n",
    " ^\tXOR\tSets each bit to 1 if only one of two bits is 1\n",
    "~ \tNOT\tInverts all the bits\n",
    "<<\tZero fill left shift\tShift left by pushing zeros in from the right and let the leftmost bits fall off\n",
    ">>\tSigned right shift\tShift right by pushing copies of the leftmost bit in from the left, and let the rightmost bits fall off\n",
    "\n",
    "\n",
    "\n",
    "78 & 97"
   ]
  },
  {
   "cell_type": "code",
   "execution_count": null,
   "id": "6558a582",
   "metadata": {},
   "outputs": [],
   "source": [
    "# Assignment Operators\n",
    "\n",
    "=  x = 5  x = 5\n",
    "\n",
    "x =5 \n",
    "\n",
    "+=  x += 3  x = x + 3\t\n",
    "\n",
    "\n",
    "-=  x -= 3  x = x - 3\t\n",
    "\n",
    "*=  x *= 3  x = x * 3\t\n",
    "\n",
    "/=  x /= 3  x = x / 3\t\n",
    "\n",
    "\n",
    "%=  x %= 3  x = x % 3\t\n",
    "//=  x //= 3  x = x // 3\t\n",
    "**=  x **= 3  x = x ** 3"
   ]
  },
  {
   "cell_type": "code",
   "execution_count": null,
   "id": "0236b432",
   "metadata": {},
   "outputs": [],
   "source": [
    "# Lists\n",
    "\n",
    "lecturers = ['Phúc', 'Nam'] # list\n",
    "print(lecturers)\n",
    "print(lecturers[0])\n",
    "print(lecturers[1])\n",
    "print('The lecturer of this course is:', lecturers[1])"
   ]
  },
  {
   "cell_type": "code",
   "execution_count": null,
   "id": "3cb205d2",
   "metadata": {},
   "outputs": [],
   "source": [
    "lecturers = ['Phúc', 'Nam', 'Nam'] # list\n",
    "print(lecturers)"
   ]
  },
  {
   "cell_type": "code",
   "execution_count": null,
   "id": "9e3ee4aa",
   "metadata": {},
   "outputs": [],
   "source": [
    "lecturers1 = [\n",
    "    'Phúc',\n",
    "    'Nam'\n",
    "]\n",
    "print(lecturers1)"
   ]
  },
  {
   "cell_type": "code",
   "execution_count": null,
   "id": "70160da3",
   "metadata": {},
   "outputs": [],
   "source": [
    "#Các thành phần trong list có thể nhiều kỉêu dữ liệu khác nhau1\n",
    "list1 = [\"abc\", 34, True, 40, \"male\"]\n",
    "print(list1)\n",
    "type(list1)"
   ]
  }
 ],
 "metadata": {
  "kernelspec": {
   "display_name": "Python 3",
   "language": "python",
   "name": "python3"
  },
  "language_info": {
   "codemirror_mode": {
    "name": "ipython",
    "version": 3
   },
   "file_extension": ".py",
   "mimetype": "text/x-python",
   "name": "python",
   "nbconvert_exporter": "python",
   "pygments_lexer": "ipython3",
   "version": "3.8.8"
  }
 },
 "nbformat": 4,
 "nbformat_minor": 5
}
