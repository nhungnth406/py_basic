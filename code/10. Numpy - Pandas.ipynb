{
 "cells": [
  {
   "cell_type": "code",
   "execution_count": null,
   "id": "1445e6d6",
   "metadata": {},
   "outputs": [],
   "source": [
    "# numpy-financial\n",
    "\n",
    "fv(rate, nper, pmt, pv[, when]) Compute the future value.\n",
    "\n",
    "pv(rate, nper, pmt[, fv, when]) Compute the present value.\n",
    "\n",
    "pmt(rate, nper, pv[, fv, when]) Compute the payment against loan principal plus interest.\n",
    "\n",
    "ppmt(rate, per, nper, pv[, fv, when]) Compute the payment against loan principal.\n",
    "\n",
    "ipmt(rate, per, nper, pv[, fv, when]) Compute the interest portion of a payment.\n",
    "\n",
    "nper(rate, pmt, pv[, fv, when]) Compute the number of periodic payments.\n",
    "\n",
    "rate(nper, pmt, pv, fv[, when, guess, tol, …]) Compute the rate of interest per period.\n",
    "\n",
    "npv(rate, values) Returns the NPV (Net Present Value) of a cash flow series.\n",
    "\n",
    "irr(values) Return the Internal Rate of Return (IRR).\n",
    "\n",
    "mirr(values, finance_rate, reinvest_rate) Modified internal rate of return.\n"
   ]
  },
  {
   "cell_type": "code",
   "execution_count": 11,
   "id": "2c05ad33",
   "metadata": {
    "scrolled": true
   },
   "outputs": [
    {
     "name": "stderr",
     "output_type": "stream",
     "text": [
      "<ipython-input-11-4d04ff423d7c>:2: DeprecationWarning: In accordance with NEP 32, the function fv was removed from NumPy version 1.20.  A replacement for this function is available in the numpy_financial library: https://pypi.org/project/numpy-financial\n",
      "  print(np.fv(0.1, 4, -10, -100, 0))\n"
     ]
    },
    {
     "ename": "RuntimeError",
     "evalue": "In accordance with NEP 32, the function fv was removed from NumPy version 1.20.  A replacement for this function is available in the numpy_financial library: https://pypi.org/project/numpy-financial",
     "output_type": "error",
     "traceback": [
      "\u001b[1;31m---------------------------------------------------------------------------\u001b[0m",
      "\u001b[1;31mRuntimeError\u001b[0m                              Traceback (most recent call last)",
      "\u001b[1;32m<ipython-input-11-4d04ff423d7c>\u001b[0m in \u001b[0;36m<module>\u001b[1;34m\u001b[0m\n\u001b[0;32m      1\u001b[0m \u001b[1;32mimport\u001b[0m \u001b[0mnumpy\u001b[0m \u001b[1;32mas\u001b[0m \u001b[0mnp\u001b[0m\u001b[1;33m\u001b[0m\u001b[1;33m\u001b[0m\u001b[0m\n\u001b[1;32m----> 2\u001b[1;33m \u001b[0mprint\u001b[0m\u001b[1;33m(\u001b[0m\u001b[0mnp\u001b[0m\u001b[1;33m.\u001b[0m\u001b[0mfv\u001b[0m\u001b[1;33m(\u001b[0m\u001b[1;36m0.1\u001b[0m\u001b[1;33m,\u001b[0m \u001b[1;36m4\u001b[0m\u001b[1;33m,\u001b[0m \u001b[1;33m-\u001b[0m\u001b[1;36m10\u001b[0m\u001b[1;33m,\u001b[0m \u001b[1;33m-\u001b[0m\u001b[1;36m100\u001b[0m\u001b[1;33m,\u001b[0m \u001b[1;36m0\u001b[0m\u001b[1;33m)\u001b[0m\u001b[1;33m)\u001b[0m\u001b[1;33m\u001b[0m\u001b[1;33m\u001b[0m\u001b[0m\n\u001b[0m\u001b[0;32m      3\u001b[0m \u001b[0mprint\u001b[0m\u001b[1;33m(\u001b[0m\u001b[0mnp\u001b[0m\u001b[1;33m.\u001b[0m\u001b[0m__version__\u001b[0m\u001b[1;33m)\u001b[0m\u001b[1;33m\u001b[0m\u001b[1;33m\u001b[0m\u001b[0m\n",
      "\u001b[1;32mC:\\ProgramData\\Anaconda3\\lib\\site-packages\\numpy\\__init__.py\u001b[0m in \u001b[0;36m_expired\u001b[1;34m(*args, **kwds)\u001b[0m\n\u001b[0;32m    275\u001b[0m \u001b[1;33m\u001b[0m\u001b[0m\n\u001b[0;32m    276\u001b[0m                 \u001b[1;32mdef\u001b[0m \u001b[0m_expired\u001b[0m\u001b[1;33m(\u001b[0m\u001b[1;33m*\u001b[0m\u001b[0margs\u001b[0m\u001b[1;33m,\u001b[0m \u001b[1;33m**\u001b[0m\u001b[0mkwds\u001b[0m\u001b[1;33m)\u001b[0m\u001b[1;33m:\u001b[0m\u001b[1;33m\u001b[0m\u001b[1;33m\u001b[0m\u001b[0m\n\u001b[1;32m--> 277\u001b[1;33m                     \u001b[1;32mraise\u001b[0m \u001b[0mRuntimeError\u001b[0m\u001b[1;33m(\u001b[0m\u001b[0mmsg\u001b[0m\u001b[1;33m)\u001b[0m\u001b[1;33m\u001b[0m\u001b[1;33m\u001b[0m\u001b[0m\n\u001b[0m\u001b[0;32m    278\u001b[0m \u001b[1;33m\u001b[0m\u001b[0m\n\u001b[0;32m    279\u001b[0m                 \u001b[1;32mreturn\u001b[0m \u001b[0m_expired\u001b[0m\u001b[1;33m\u001b[0m\u001b[1;33m\u001b[0m\u001b[0m\n",
      "\u001b[1;31mRuntimeError\u001b[0m: In accordance with NEP 32, the function fv was removed from NumPy version 1.20.  A replacement for this function is available in the numpy_financial library: https://pypi.org/project/numpy-financial"
     ]
    }
   ],
   "source": [
    "#import numpy as np\n",
    "#print(np.fv(0.1, 4, -10, -100, 0))\n",
    "#print(np.__version__)"
   ]
  },
  {
   "cell_type": "code",
   "execution_count": 1,
   "id": "c3eed6ac",
   "metadata": {},
   "outputs": [
    {
     "name": "stdout",
     "output_type": "stream",
     "text": [
      "192.8200000000001\n",
      "1.0.0\n"
     ]
    }
   ],
   "source": [
    "# Run as administrator Anaconda3 Prompt\n",
    "# conda install -c conda-forge numpy-financial\n",
    "# .....\n",
    "# Proceed ([y]/n)? y  (press y)\n",
    "\n",
    "import numpy_financial as npf\n",
    "print(npf.fv(0.1, 4, -10, -100, 0))\n",
    "print(npf.__version__)"
   ]
  },
  {
   "cell_type": "code",
   "execution_count": 15,
   "id": "9fe25dbf",
   "metadata": {},
   "outputs": [
    {
     "name": "stdout",
     "output_type": "stream",
     "text": [
      "-11994.13010063512\n",
      "-62969.855000000054\n"
     ]
    }
   ],
   "source": [
    "nfvA = 32000- 0.6*32000\n",
    "print(npf.pmt(0.05,4,32000,nfvA,0))\n",
    "nfvB = 28000- 0.45*28000\n",
    "bb = npf.fv(0.05,4,-11000,nfvA,0)\n",
    "print(bb)"
   ]
  },
  {
   "cell_type": "code",
   "execution_count": 10,
   "id": "d8198e40",
   "metadata": {},
   "outputs": [
    {
     "name": "stdout",
     "output_type": "stream",
     "text": [
      "Model A is better decision, cheaper than $ 1737.97\n"
     ]
    }
   ],
   "source": [
    "#2753\n",
    "#Price A after 4 years\n",
    "NC = 32000 - 32000*0.6\n",
    "\n",
    "#Price B after 4 years\n",
    "PB = 28000 - 28000*0.45\n",
    "\n",
    "#Future value of $4000 savings if choose B\n",
    "FVSB = npf.fv(0.05,4,0,-4000) - 4000\n",
    "\n",
    "##Net cost B after 4 years\n",
    "NCB = PB - FVSB\n",
    "\n",
    "delta = round((NC - NCB),2)\n",
    "if delta < 0:\n",
    "    print(\"Model A is better decision, cheaper than $\", abs(delta))\n",
    "else:\n",
    "    print(\"Model B is better decision, cheaper than $\", abs(delta))"
   ]
  },
  {
   "cell_type": "code",
   "execution_count": 28,
   "id": "1db9aba2",
   "metadata": {},
   "outputs": [
    {
     "name": "stdout",
     "output_type": "stream",
     "text": [
      "a/\n",
      "PV = $ 8000\n",
      "nper = 60 months\n",
      "rate = 0.08\n",
      "PMT = 162.2111543073108 $\n",
      "At Third Year, PV1 = $ 5176.450807830944\n",
      "PMT1 = $ 157.47766269688805\n",
      "She will save 4.73 $ per month for the next three years if she decides to refinance\n",
      "b/\n",
      "Yes, gain $ 55.59\n"
     ]
    }
   ],
   "source": [
    "import numpy_financial as npf\n",
    "#a\n",
    "print(\"a/\")\n",
    "PV = 10000 - 2000\n",
    "print(\"PV = $\", PV)\n",
    "print(\"nper =\", 60, \"months\")\n",
    "print(\"rate =\", 0.08)\n",
    "a = npf.pmt(0.08/12, 60, -PV)\n",
    "print(\"PMT = $\", a)\n",
    "b = npf.pv(0.08/12, 36, -a)\n",
    "print(\"At Third Year, PV1 = $\", b)\n",
    "c = npf.pmt(0.06/12, 36, -b)\n",
    "print(\"PMT1 = $\", c)\n",
    "s1 = a - c\n",
    "print(\"She will save\",round(s1,2), \"$ per month for the next three years if she decides to refinance\")\n",
    "\n",
    "#b\n",
    "print(\"b/\")\n",
    "#pv of saving \n",
    "pvs = npf.pv(0.06/12,36,-s1)\n",
    "s2 = round((pvs - 100),2)\n",
    "if s2 > 0:\n",
    "    print(\"Yes, gain $\",abs(s2))\n",
    "else:\n",
    "    print(\"No, lose $\",abs(s2))"
   ]
  },
  {
   "cell_type": "code",
   "execution_count": 30,
   "id": "75f7d698",
   "metadata": {},
   "outputs": [
    {
     "name": "stdout",
     "output_type": "stream",
     "text": [
      "PV = $ 16000\n",
      "nper = 48 months\n",
      "rate = 0.06\n",
      "PMT = $ 375.760464766977\n",
      "At Third Year, PV1 = $ 8478.233097965878\n",
      "PMT1 = 368.16661242484116 $\n",
      "She will save $ 7.59  per month for the next three years if she decides to refinance\n",
      "No, lose $ 25.13\n"
     ]
    }
   ],
   "source": [
    "import numpy_financial as npf\n",
    "#a\n",
    "PV = 16000\n",
    "print(\"PV = $\", PV)\n",
    "print(\"nper =\", 48, \"months\")\n",
    "print(\"rate =\", 0.06)\n",
    "a = npf.pmt(0.06/12, 48, -PV)\n",
    "print(\"PMT = $\", a)\n",
    "b = npf.pv(0.06/12, 24, -a)\n",
    "print(\"At Third Year, PV1 = $\", b)\n",
    "c = npf.pmt(0.04/12, 24, -b)\n",
    "print(\"PMT1 =\", c , \"$\")\n",
    "s1 = a - c\n",
    "print(\"She will save $\",round(s1,2), \" per month for the next three years if she decides to refinance\")\n",
    "\n",
    "#b\n",
    "#pv of saving \n",
    "pvs = npf.pv(0.04/12,24,-s1)\n",
    "s2 = round((pvs - 200),2)\n",
    "if s2 > 0:\n",
    "    print(\"Yes, gain $\",abs(s2))\n",
    "else:\n",
    "    print(\"No, lose $\",abs(s2))"
   ]
  }
 ],
 "metadata": {
  "kernelspec": {
   "display_name": "Python 3",
   "language": "python",
   "name": "python3"
  },
  "language_info": {
   "codemirror_mode": {
    "name": "ipython",
    "version": 3
   },
   "file_extension": ".py",
   "mimetype": "text/x-python",
   "name": "python",
   "nbconvert_exporter": "python",
   "pygments_lexer": "ipython3",
   "version": "3.8.8"
  }
 },
 "nbformat": 4,
 "nbformat_minor": 5
}
