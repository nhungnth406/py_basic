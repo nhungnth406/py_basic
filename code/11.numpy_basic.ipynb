{
 "cells": [
  {
   "cell_type": "code",
   "execution_count": null,
   "id": "ead4e593",
   "metadata": {},
   "outputs": [],
   "source": [
    "NumPy stands for Numerical Python.\n",
    "NumPy is a Python library used for working with arrays.\n",
    "It also has functions for working in domain of linear algebra, fourier transform, and matrices."
   ]
  },
  {
   "cell_type": "code",
   "execution_count": null,
   "id": "9232112c",
   "metadata": {},
   "outputs": [],
   "source": [
    "In Python we have lists that serve the purpose of arrays, but they are slow to process.\n",
    "NumPy aims to provide an array object that is up to 50x faster than traditional Python lists.\n",
    "The array object in NumPy is called ndarray, it provides a lot of supporting functions\n",
    "that make working with ndarray very easy.\n",
    "Arrays are very frequently used in data science, where speed and resources are very important."
   ]
  },
  {
   "cell_type": "code",
   "execution_count": null,
   "id": "2a18eba1",
   "metadata": {},
   "outputs": [],
   "source": [
    "The source code for NumPy is located at this github repository https://github.com/numpy/numpy"
   ]
  },
  {
   "cell_type": "code",
   "execution_count": null,
   "id": "589123d2",
   "metadata": {},
   "outputs": [],
   "source": [
    "Table of content:\n",
    "1/ A list, tuple or any array-like object into the array() method, narray\n",
    "2/ numpy.array(object, dtype = None, copy = True, order = None, subok = False, ndmin = 0)\n",
    "3/ Accessing: array indexing, negative indexing, slicing\n",
    "\tinteger indexing, boolean Array Indexing\n",
    "4/ NaN (Not a Number), ~np.isnan(a)\n",
    "\tnp.iscomplex(a)\n",
    "5/ Data Types in NumPy, dtype, np.dtype\n",
    "Converting Data Type on Existing Arrays: astype()\n",
    "6/ Shape of an Array: shape, reshape\n",
    "7/ Copy (Deep Copy), View (Shallow Copy), No Copy (=)\n",
    "\tReshape returns View\n",
    "8/ Array Iterating, nditer(), ndenumerate(), Modifying Array Values, External Loop (optional), Broadcasting Iteration\n",
    "9/ Array Manipulation\n",
    "\tTranspose Operations\n",
    "\tJoining Array: concatenate(), stack(), hstack(), vstack(), dstack()\n",
    "\tSplitting Array: array_split(), hsplit()\n",
    "\tAdding / Removing Elements: resize, append, insert, delete, unique\n",
    "10/ Searching: where(), extract(), nonzero() , numpy.argmax() & numpy.argmin(),\n",
    "11/ Sort: searchsorted(), side='right', argsort(), lexsort()\n",
    "12/ F"
   ]
  },
  {
   "cell_type": "code",
   "execution_count": null,
   "id": "20c3819c",
   "metadata": {},
   "outputs": [],
   "source": [
    "# ndarray Object (N-dimensional array)"
   ]
  },
  {
   "cell_type": "code",
   "execution_count": null,
   "id": "ee8c8ac5",
   "metadata": {},
   "outputs": [],
   "source": [
    "import numpy as np\n",
    "\n",
    "arr = np.array([1, 2, 3, 4, 5])\n",
    "\n",
    "print(arr)\n",
    "\n",
    "print(type(arr))"
   ]
  },
  {
   "cell_type": "code",
   "execution_count": null,
   "id": "d3d8bfe4",
   "metadata": {},
   "outputs": [],
   "source": [
    "# To create an ndarray, we can pass a list, tuple or any array-like object into the array() method, \n",
    "# and it will be converted into an ndarray\n",
    "import numpy as np\n",
    "\n",
    "arr = np.array((1, 2, 3, 4, 5))\n",
    "\n",
    "print(arr)"
   ]
  },
  {
   "cell_type": "code",
   "execution_count": null,
   "id": "795ab25a",
   "metadata": {},
   "outputs": [],
   "source": [
    "# 0-D Arrays\n",
    "# 0-D arrays, or Scalars, are the elements in an array. Each value in an array is a 0-D array.\n",
    "import numpy as np\n",
    "\n",
    "arr = np.array(42)\n",
    "\n",
    "print(arr)"
   ]
  },
  {
   "cell_type": "code",
   "execution_count": null,
   "id": "2c6e5311",
   "metadata": {},
   "outputs": [],
   "source": [
    "# 1-D Arrays\n",
    "# An array that has 0-D arrays as its elements is called uni-dimensional or 1-D array.\n",
    "import numpy as np\n",
    "\n",
    "arr = np.array([1, 2, 3, 4, 5])\n",
    "\n",
    "print(arr)"
   ]
  },
  {
   "cell_type": "code",
   "execution_count": null,
   "id": "af84176f",
   "metadata": {},
   "outputs": [],
   "source": [
    "# 2-D Arrays\n",
    "# An array that has 1-D arrays as its elements is called a 2-D array.\n",
    "# These are often used to represent matrix or 2nd order tensors\n",
    "# => NumPy has a whole sub module dedicated towards matrix operations called numpy.mat\n",
    "import numpy as np\n",
    "\n",
    "arr = np.array([[1, 2, 3], [4, 5, 6]])\n",
    "\n",
    "print(arr)"
   ]
  },
  {
   "cell_type": "code",
   "execution_count": null,
   "id": "e15902a9",
   "metadata": {},
   "outputs": [],
   "source": [
    "#3-D arrays\n",
    "#An array that has 2-D arrays (matrices) as its elements is called 3-D array.\n",
    "#These are often used to represent a 3rd order tensor.\n",
    "import numpy as np\n",
    "\n",
    "arr = np.array([[[1, 2, 3], [4, 5, 6]], [[1, 2, 3], [4, 5, 6]]])\n",
    "\n",
    "print(arr)"
   ]
  },
  {
   "cell_type": "code",
   "execution_count": null,
   "id": "535ba20e",
   "metadata": {},
   "outputs": [],
   "source": [
    "# Check Number of Dimensions?\n",
    "import numpy as np\n",
    "\n",
    "a = np.array(42)\n",
    "b = np.array([1, 2, 3, 4, 5])\n",
    "c = np.array([[1, 2, 3], [4, 5, 6]])\n",
    "d = np.array([[[1, 2, 3], [4, 5, 6]], [[1, 2, 3], [4, 5, 6]]])\n",
    "\n",
    "print(a.ndim)\n",
    "print(b.ndim)\n",
    "print(c.ndim)\n",
    "print(d.ndim)"
   ]
  },
  {
   "cell_type": "code",
   "execution_count": null,
   "id": "fd4c4e2f",
   "metadata": {},
   "outputs": [],
   "source": [
    "numpy.array(object, dtype = None, copy = True, order = None, subok = False, ndmin = 0)\n",
    "1\t\n",
    "object\n",
    "\n",
    "Any object exposing the array interface method returns an array, or any (nested) sequence.\n",
    "\n",
    "2\t\n",
    "dtype\n",
    "\n",
    "Desired data type of array, optional\n",
    "\n",
    "3\t\n",
    "copy\n",
    "\n",
    "Optional. By default (true), the object is copied\n",
    "\n",
    "4\t\n",
    "order\n",
    "\n",
    "C (row major) or F (column major) or A (any) (default)\n",
    "\n",
    "5\t\n",
    "subok\n",
    "\n",
    "By default, returned array forced to be a base class array. If true, sub-classes passed through\n",
    "\n",
    "6\t\n",
    "ndmin\n",
    "\n",
    "Specifies minimum dimensions of resultant array"
   ]
  },
  {
   "cell_type": "code",
   "execution_count": null,
   "id": "e3e11880",
   "metadata": {},
   "outputs": [],
   "source": [
    "import numpy as np \n",
    "a = np.array([1, 2, 3,4,5], ndmin = 1) \n",
    "print(a)"
   ]
  },
  {
   "cell_type": "code",
   "execution_count": null,
   "id": "b4c6e108",
   "metadata": {},
   "outputs": [],
   "source": [
    "# To create an ndarray, we can pass a list, tuple or any array-like object into the array() method, \n",
    "# and it will be converted into an ndarray\n",
    "import numpy as np\n",
    "\n",
    "arr = np.array((1, 2, 3, 4, 5))\n",
    "\n",
    "print(arr)\n"
   ]
  },
  {
   "cell_type": "code",
   "execution_count": null,
   "id": "acb492b2",
   "metadata": {},
   "outputs": [],
   "source": [
    "# 0-D Arrays\n",
    "# 0-D arrays, or Scalars, are the elements in an array. Each value in an array is a 0-D array.\n",
    "import numpy as np\n",
    "\n",
    "arr = np.array(42)\n",
    "\n",
    "print(arr)\n"
   ]
  },
  {
   "cell_type": "code",
   "execution_count": null,
   "id": "d7e05160",
   "metadata": {},
   "outputs": [],
   "source": [
    "# 1-D Arrays\n",
    "# An array that has 0-D arrays as its elements is called uni-dimensional or 1-D array.\n",
    "import numpy as np\n",
    "\n",
    "arr = np.array([1, 2, 3, 4, 5])\n",
    "\n",
    "print(arr)\n"
   ]
  },
  {
   "cell_type": "code",
   "execution_count": null,
   "id": "d17b430c",
   "metadata": {},
   "outputs": [],
   "source": [
    "# 2-D Arrays\n",
    "# An array that has 1-D arrays as its elements is called a 2-D array.\n",
    "# These are often used to represent matrix or 2nd order tensors\n",
    "# => NumPy has a whole sub module dedicated towards matrix operations called numpy.mat\n",
    "import numpy as np\n",
    "\n",
    "arr = np.array([[1, 2, 3], [4, 5, 6]])\n",
    "\n",
    "print(arr)\n"
   ]
  },
  {
   "cell_type": "code",
   "execution_count": null,
   "id": "83aa22cc",
   "metadata": {},
   "outputs": [],
   "source": [
    "#3-D arrays\n",
    "#An array that has 2-D arrays (matrices) as its elements is called 3-D array.\n",
    "#These are often used to represent a 3rd order tensor.\n",
    "import numpy as np\n",
    "\n",
    "arr = np.array([[[1, 2, 3], [4, 5, 6]], [[1, 2, 3], [4, 5, 6]]])\n",
    "\n",
    "print(arr)\n"
   ]
  },
  {
   "cell_type": "code",
   "execution_count": null,
   "id": "f5288f97",
   "metadata": {},
   "outputs": [],
   "source": [
    "# Check Number of Dimensions?\n",
    "import numpy as np\n",
    "\n",
    "a = np.array(42)\n",
    "b = np.array([1, 2, 3, 4, 5])\n",
    "c = np.array([[1, 2, 3], [4, 5, 6]])\n",
    "d = np.array([[[1, 2, 3], [4, 5, 6]], [[1, 2, 3], [4, 5, 6]]])\n",
    "\n",
    "print(a.ndim)\n",
    "print(b.ndim)\n",
    "print(c.ndim)\n",
    "print(d.ndim)\n"
   ]
  },
  {
   "cell_type": "code",
   "execution_count": null,
   "id": "f223a207",
   "metadata": {},
   "outputs": [],
   "source": [
    "numpy.array(object, dtype = None, copy = True, order = None, subok = False, ndmin = 0)\n",
    "1\t\n",
    "object\n",
    "\n",
    "Any object exposing the array interface method returns an array, or any (nested) sequence.\n",
    "\n",
    "2\t\n",
    "dtype\n",
    "\n",
    "Desired data type of array, optional\n",
    "\n",
    "3\t\n",
    "copy\n",
    "\n",
    "Optional. By default (true), the object is copied\n",
    "\n",
    "4\t\n",
    "order\n",
    "\n",
    "C (row major) or F (column major) or A (any) (default)\n",
    "\n",
    "5\t\n",
    "subok\n",
    "\n",
    "By default, returned array forced to be a base class array. If true, sub-classes passed through\n",
    "\n",
    "6\t\n",
    "ndmin\n",
    "\n",
    "Specifies minimum dimensions of resultant array\n"
   ]
  },
  {
   "cell_type": "code",
   "execution_count": null,
   "id": "c1c20437",
   "metadata": {},
   "outputs": [],
   "source": [
    "import numpy as np \n",
    "a = np.array([1, 2, 3,4,5], ndmin = 1) \n",
    "print(a)\n"
   ]
  },
  {
   "cell_type": "code",
   "execution_count": null,
   "id": "5e9867b0",
   "metadata": {},
   "outputs": [],
   "source": [
    "import numpy as np \n",
    "a = np.array([1, 2, 3,4,5], ndmin = 2) \n",
    "print(a)"
   ]
  },
  {
   "cell_type": "code",
   "execution_count": null,
   "id": "5044428e",
   "metadata": {},
   "outputs": [],
   "source": [
    "import numpy as np \n",
    "a = np.array([1, 2, 3], dtype = complex) \n",
    "print(a)"
   ]
  },
  {
   "cell_type": "code",
   "execution_count": null,
   "id": "329fcee6",
   "metadata": {},
   "outputs": [],
   "source": [
    "import numpy as np\n",
    "\n",
    "arr = np.array([1, 2, 3, 4], ndmin=5)\n",
    "\n",
    "print(arr)\n",
    "print('number of dimensions :', arr.ndim)\n"
   ]
  },
  {
   "cell_type": "code",
   "execution_count": null,
   "id": "6c7501c7",
   "metadata": {},
   "outputs": [],
   "source": [
    "NumPy Array Indexing\n"
   ]
  },
  {
   "cell_type": "code",
   "execution_count": null,
   "id": "03f2e9db",
   "metadata": {},
   "outputs": [],
   "source": [
    "# Access 2-D Arrays\n",
    "\n",
    "import numpy as np\n",
    "\n",
    "arr = np.array([[1,2,3,4,5], [6,7,8,9,10]])\n",
    "\n",
    "print(arr)\n",
    "print('\\n2nd element on 1st dim: ', arr[0, 1])\n"
   ]
  },
  {
   "cell_type": "code",
   "execution_count": null,
   "id": "c0fa991a",
   "metadata": {},
   "outputs": [],
   "source": [
    "import numpy as np\n",
    "\n",
    "arr = np.array([[1,2,3,4,5], [6,7,8,9,10]])\n",
    "\n",
    "print(arr)\n",
    "print('5th element on 2nd dim: ', arr[1, 4])\n"
   ]
  },
  {
   "cell_type": "code",
   "execution_count": null,
   "id": "ce951387",
   "metadata": {},
   "outputs": [],
   "source": [
    "# Access 3-D Arrays\n",
    "import numpy as np\n",
    "\n",
    "arr = np.array([[[1, 2, 3], [4, 5, 6]], [[7, 8, 9], [10, 11, 12]]])\n",
    "\n",
    "print(arr, '\\n')\n",
    "print(arr[0, 1, 2])"
   ]
  },
  {
   "cell_type": "code",
   "execution_count": null,
   "id": "18cb5b5c",
   "metadata": {},
   "outputs": [],
   "source": [
    "import numpy as np\n",
    "\n",
    "arr = np.array([1, 2, 3, 4, 5, 6, 7])\n",
    "\n",
    "print(arr[1:5])\n"
   ]
  },
  {
   "cell_type": "code",
   "execution_count": null,
   "id": "e0a98541",
   "metadata": {},
   "outputs": [],
   "source": [
    "import numpy as np\n",
    "\n",
    "arr = np.array([1, 2, 3, 4, 5, 6, 7])\n",
    "\n",
    "print(arr[4:])\n"
   ]
  },
  {
   "cell_type": "code",
   "execution_count": null,
   "id": "1d94fe26",
   "metadata": {},
   "outputs": [],
   "source": [
    "import numpy as np\n",
    "\n",
    "arr = np.array([1, 2, 3, 4, 5, 6, 7])\n",
    "\n",
    "print(arr[:4])\n"
   ]
  },
  {
   "cell_type": "code",
   "execution_count": null,
   "id": "1d85b59f",
   "metadata": {},
   "outputs": [],
   "source": [
    "# Negative Slicing\n",
    "import numpy as np\n",
    "\n",
    "arr = np.array([1, 2, 3, 4, 5, 6, 7])\n",
    "\n",
    "print(arr[-3:-1])\n"
   ]
  },
  {
   "cell_type": "code",
   "execution_count": null,
   "id": "e46bfea0",
   "metadata": {},
   "outputs": [],
   "source": [
    "# STEP\n",
    "import numpy as np\n",
    "\n",
    "arr = np.array([1, 2, 3, 4, 5, 6, 7])\n",
    "\n",
    "print(arr[1:5:2])\n"
   ]
  },
  {
   "cell_type": "code",
   "execution_count": null,
   "id": "dd95c988",
   "metadata": {},
   "outputs": [],
   "source": [
    "import numpy as np\n",
    "\n",
    "arr = np.array([1, 2, 3, 4, 5, 6, 7])\n",
    "\n",
    "print(arr[::2])\n"
   ]
  },
  {
   "cell_type": "code",
   "execution_count": null,
   "id": "23b9251c",
   "metadata": {},
   "outputs": [],
   "source": [
    "import numpy as np\n",
    "\n",
    "arr = np.array([1, 2, 3, 4, 5, 6, 7])\n",
    "\n",
    "print(arr[::2])\n"
   ]
  },
  {
   "cell_type": "code",
   "execution_count": null,
   "id": "731dc6e9",
   "metadata": {},
   "outputs": [],
   "source": [
    "import numpy as np\n",
    "\n",
    "arr = np.array([1, 2, 3, 4, 5, 6, 7])\n",
    "\n",
    "print(arr[::2])"
   ]
  },
  {
   "cell_type": "code",
   "execution_count": 1,
   "id": "329f9196",
   "metadata": {},
   "outputs": [
    {
     "name": "stdout",
     "output_type": "stream",
     "text": [
      "[1 3 5 7]\n"
     ]
    }
   ],
   "source": [
    "import numpy as np\n",
    "\n",
    "arr = np.array([1, 2, 3, 4, 5, 6, 7])\n",
    "\n",
    "print(arr[::2])"
   ]
  },
  {
   "cell_type": "code",
   "execution_count": null,
   "id": "b3f68e84",
   "metadata": {},
   "outputs": [],
   "source": [
    "import numpy as np \n",
    "a = np.arange(10) \n",
    "s = slice(2,7,2) \n",
    "print(a)\n",
    "print(s)\n",
    "print(a[s])"
   ]
  },
  {
   "cell_type": "code",
   "execution_count": null,
   "id": "05016ca7",
   "metadata": {},
   "outputs": [],
   "source": [
    "# Slicing 2-D Arrays\n",
    "import numpy as np\n",
    "\n",
    "arr = np.array([[1, 2, 3, 4, 5], [6, 7, 8, 9, 10]])\n",
    "\n",
    "print(arr[1, 1:4])"
   ]
  },
  {
   "cell_type": "code",
   "execution_count": null,
   "id": "5e14c4b0",
   "metadata": {},
   "outputs": [],
   "source": [
    "import numpy as np\n",
    "\n",
    "arr = np.array([[1, 2, 3, 4, 5], [6, 7, 8, 9, 10]])\n",
    "\n",
    "print(arr,'\\n')\n",
    "print(arr[0:2, 2])"
   ]
  },
  {
   "cell_type": "code",
   "execution_count": 2,
   "id": "313a2d25",
   "metadata": {},
   "outputs": [
    {
     "name": "stdout",
     "output_type": "stream",
     "text": [
      "[[ 1  2  3  4  5]\n",
      " [ 6  7  8  9 10]] \n",
      "\n",
      "[[2 3 4]\n",
      " [7 8 9]]\n"
     ]
    }
   ],
   "source": [
    "import numpy as np\n",
    "\n",
    "arr = np.array([[1, 2, 3, 4, 5], [6, 7, 8, 9, 10]])\n",
    "\n",
    "print(arr, '\\n')\n",
    "print(arr[0:2, 1:4])"
   ]
  },
  {
   "cell_type": "code",
   "execution_count": null,
   "id": "30a04aee",
   "metadata": {},
   "outputs": [],
   "source": [
    "import numpy as np \n",
    "a = np.array([[1,2,3],[3,4,5],[4,5,6]]) \n",
    "print(a)\n",
    "\n",
    "# slice items starting from index\n",
    "print('Now we will slice the array from the index a[1:]') \n",
    "print(a[1:])"
   ]
  },
  {
   "cell_type": "code",
   "execution_count": null,
   "id": "f5cd73b2",
   "metadata": {},
   "outputs": [],
   "source": [
    "import numpy as np \n",
    "a = np.array([[1,2,3],[3,4,5],[4,5,6]]) \n",
    "\n",
    "print('Our array is:') \n",
    "print(a) \n",
    "print('\\n')  \n",
    "\n",
    "# this returns array of items in the second column \n",
    "print('The items in the second column are:')\n",
    "print(a[...,1]) \n",
    "print('\\n')  \n",
    "\n",
    "# Now we will slice all items from the second row \n",
    "print('The items in the second row are:') \n",
    "print(a[1,...]) \n",
    "print('\\n')  \n",
    "\n",
    "# Now we will slice all items from column 1 onwards \n",
    "print('The items column 1 onwards are:') \n",
    "print(a[...,1:])\n",
    "\n"
   ]
  },
  {
   "cell_type": "code",
   "execution_count": null,
   "id": "45606515",
   "metadata": {},
   "outputs": [],
   "source": [
    "Advanced Indexing"
   ]
  },
  {
   "cell_type": "code",
   "execution_count": null,
   "id": "4c1db767",
   "metadata": {},
   "outputs": [],
   "source": [
    "Integer Indexing"
   ]
  },
  {
   "cell_type": "code",
   "execution_count": null,
   "id": "8fb58fe6",
   "metadata": {},
   "outputs": [],
   "source": [
    "import numpy as np \n",
    "\n",
    "x = np.array([[1, 2], [3, 4], [5, 6]]) \n",
    "print(x)\n",
    "print('\\n')\n",
    "y = x[[0,1,2], [0,1,0]] \n",
    "print(y)"
   ]
  },
  {
   "cell_type": "code",
   "execution_count": 3,
   "id": "352b1db1",
   "metadata": {},
   "outputs": [
    {
     "name": "stdout",
     "output_type": "stream",
     "text": [
      "Our array is:\n",
      "[[ 0  1  2]\n",
      " [ 3  4  5]\n",
      " [ 6  7  8]\n",
      " [ 9 10 11]]\n",
      "\n",
      "\n",
      "The corner elements of this array are:\n",
      "[[ 0  2]\n",
      " [ 9 11]]\n"
     ]
    }
   ],
   "source": [
    "import numpy as np \n",
    "x = np.array([[ 0,  1,  2],[ 3,  4,  5],[ 6,  7,  8],[ 9, 10, 11]]) \n",
    "   \n",
    "print('Our array is:') \n",
    "print(x) \n",
    "print('\\n') \n",
    "\n",
    "rows = np.array([[0,0],[3,3]])\n",
    "cols = np.array([[0,2],[0,2]]) \n",
    "y = x[rows,cols] \n",
    "   \n",
    "print('The corner elements of this array are:') \n",
    "print(y)"
   ]
  },
  {
   "cell_type": "code",
   "execution_count": 4,
   "id": "1d33367f",
   "metadata": {},
   "outputs": [
    {
     "name": "stdout",
     "output_type": "stream",
     "text": [
      "Our array is:\n",
      "[[ 0  1  2]\n",
      " [ 3  4  5]\n",
      " [ 6  7  8]\n",
      " [ 9 10 11]]\n",
      "\n",
      "\n",
      "After slicing, our array becomes:\n",
      "[[ 4  5]\n",
      " [ 7  8]\n",
      " [10 11]]\n",
      "\n",
      "\n",
      "Slicing using advanced index for column:\n",
      "[[ 4  5]\n",
      " [ 7  8]\n",
      " [10 11]]\n"
     ]
    }
   ],
   "source": [
    "import numpy as np \n",
    "x = np.array([[ 0,  1,  2],[ 3,  4,  5],[ 6,  7,  8],[ 9, 10, 11]]) \n",
    "\n",
    "print('Our array is:') \n",
    "print(x) \n",
    "print('\\n')\n",
    "\n",
    "# slicing \n",
    "z = x[1:4,1:3] \n",
    "\n",
    "print('After slicing, our array becomes:')\n",
    "print(z) \n",
    "print('\\n')  \n",
    "\n",
    "# using advanced index for column \n",
    "y = x[1:4,[1,2]] \n",
    "\n",
    "print('Slicing using advanced index for column:') \n",
    "print(y)"
   ]
  },
  {
   "cell_type": "code",
   "execution_count": null,
   "id": "9e5c8b17",
   "metadata": {},
   "outputs": [],
   "source": [
    "Boolean Array Indexing"
   ]
  },
  {
   "cell_type": "code",
   "execution_count": null,
   "id": "a7a19af4",
   "metadata": {},
   "outputs": [],
   "source": [
    "import numpy as np \n",
    "x = np.array([[ 0,  1,  2],[ 3,  4,  5],[ 6,  7,  8],[ 9, 10, 11]]) \n",
    "\n",
    "print('Our array is:')\n",
    "print(x) \n",
    "print('\\n')  \n",
    "\n",
    "# Now we will print the items greater than 5 \n",
    "print('The items greater than 5 are:')\n",
    "print(x[x > 5])\n"
   ]
  },
  {
   "cell_type": "code",
   "execution_count": null,
   "id": "5fa5c16b",
   "metadata": {},
   "outputs": [],
   "source": [
    "# NaN (Not a Number) elements are omitted by using ~ (complement operator)\n",
    "import numpy as np \n",
    "a = np.array([np.nan, 1,2,np.nan,3,4,5]) \n",
    "print(a[~np.isnan(a)])"
   ]
  },
  {
   "cell_type": "code",
   "execution_count": null,
   "id": "d8139cdf",
   "metadata": {},
   "outputs": [],
   "source": [
    "import numpy as np \n",
    "a = np.array([1, 2+6j, 5, 3.5+5j]) \n",
    "print(a[np.iscomplex(a)])\n",
    "print(a[~np.iscomplex(a)])\n"
   ]
  },
  {
   "cell_type": "code",
   "execution_count": null,
   "id": "2089fdcf",
   "metadata": {},
   "outputs": [],
   "source": [
    "Data Types in NumPy\n",
    "\n",
    "i - integer\n",
    "b - boolean\n",
    "u - unsigned integer\n",
    "f - float\n",
    "c - complex float\n",
    "m - timedelta\n",
    "M - datetime\n",
    "O - object\n",
    "S - string\n",
    "U - unicode string\n",
    "V - fixed chunk of memory for other type ( void )\n"
   ]
  },
  {
   "cell_type": "code",
   "execution_count": null,
   "id": "71a08a7e",
   "metadata": {},
   "outputs": [],
   "source": [
    "import numpy as np\n",
    "\n",
    "arr = np.array([1, 2, 3, 4])\n",
    "\n",
    "print(arr.dtype)\n"
   ]
  },
  {
   "cell_type": "code",
   "execution_count": null,
   "id": "823d2e84",
   "metadata": {},
   "outputs": [],
   "source": [
    "import numpy as np\n",
    "\n",
    "arr = np.array(['apple', 'banana', 'cherry'])\n",
    "\n",
    "print(arr.dtype)\n"
   ]
  },
  {
   "cell_type": "code",
   "execution_count": null,
   "id": "1842ef2c",
   "metadata": {},
   "outputs": [],
   "source": [
    "Creating Arrays With a Defined Data Type\n"
   ]
  },
  {
   "cell_type": "code",
   "execution_count": null,
   "id": "0555c1b1",
   "metadata": {},
   "outputs": [],
   "source": [
    "import numpy as np\n",
    "\n",
    "arr = np.array([1, 2, 3, 4], dtype='S')\n",
    "\n",
    "print(arr)\n",
    "print(arr.dtype)"
   ]
  },
  {
   "cell_type": "code",
   "execution_count": null,
   "id": "1efbaff6",
   "metadata": {},
   "outputs": [],
   "source": [
    "# For i, u, f, S and U we can define size as well.\n",
    "\n",
    "import numpy as np\n",
    "\n",
    "arr = np.array([1, 2, 3, 4], dtype='i4')\n",
    "# #int8, int16, int32, int64 can be replaced by equivalent string 'i1', 'i2','i4', etc.\n",
    "print(arr)\n",
    "print(arr.dtype)"
   ]
  },
  {
   "cell_type": "code",
   "execution_count": null,
   "id": "e80dde41",
   "metadata": {},
   "outputs": [],
   "source": [
    "1\t\n",
    "bool_\n",
    "\n",
    "Boolean (True or False) stored as a byte\n",
    "\n",
    "2\t\n",
    "int_\n",
    "\n",
    "Default integer type (same as C long; normally either int64 or int32)\n",
    "\n",
    "3\t\n",
    "intc\n",
    "\n",
    "Identical to C int (normally int32 or int64)\n",
    "\n",
    "4\t\n",
    "intp\n",
    "\n",
    "Integer used for indexing (same as C ssize_t; normally either int32 or int64)\n",
    "\n",
    "5\t\n",
    "int8\n",
    "\n",
    "Byte (-128 to 127)\n",
    "\n",
    "6\t\n",
    "int16\n",
    "\n",
    "Integer (-32768 to 32767)\n",
    "\n",
    "7\t\n",
    "int32\n",
    "\n",
    "Integer (-2147483648 to 2147483647)\n",
    "\n",
    "8\t\n",
    "int64\n",
    "\n",
    "Integer (-9223372036854775808 to 9223372036854775807)\n",
    "\n",
    "9\t\n",
    "uint8\n",
    "\n",
    "Unsigned integer (0 to 255)\n",
    "\n",
    "10\t\n",
    "uint16\n",
    "\n",
    "Unsigned integer (0 to 65535)\n",
    "\n",
    "11\t\n",
    "uint32\n",
    "\n",
    "Unsigned integer (0 to 4294967295)\n",
    "\n",
    "12\t\n",
    "uint64\n",
    "\n",
    "Unsigned integer (0 to 18446744073709551615)\n",
    "\n",
    "13\t\n",
    "float_\n",
    "\n",
    "Shorthand for float64\n",
    "\n",
    "14\t\n",
    "float16\n",
    "\n",
    "Half precision float: sign bit, 5 bits exponent, 10 bits mantissa\n",
    "\n",
    "15\t\n",
    "float32\n",
    "\n",
    "Single precision float: sign bit, 8 bits exponent, 23 bits mantissa\n",
    "\n",
    "16\t\n",
    "float64\n",
    "\n",
    "Double precision float: sign bit, 11 bits exponent, 52 bits mantissa\n",
    "\n",
    "17\t\n",
    "complex_\n",
    "\n",
    "Shorthand for complex128\n",
    "\n",
    "18\t\n",
    "complex64\n",
    "\n",
    "Complex number, represented by two 32-bit floats\n"
   ]
  },
  {
   "cell_type": "code",
   "execution_count": null,
   "id": "41408424",
   "metadata": {},
   "outputs": [],
   "source": [
    "# dtype of array is int8 (1 byte) \n",
    "import numpy as np \n",
    "x = np.array([1,2,3,4,5], dtype = np.int8) \n",
    "print(x.itemsize)"
   ]
  },
  {
   "cell_type": "code",
   "execution_count": null,
   "id": "5aeb21b8",
   "metadata": {},
   "outputs": [],
   "source": [
    "# dtype of array is now float32 (4 bytes) \n",
    "import numpy as np \n",
    "x = np.array([1,2,3,4,5], dtype = np.float32) \n",
    "print(x.itemsize)\n"
   ]
  },
  {
   "cell_type": "code",
   "execution_count": null,
   "id": "9e2d7789",
   "metadata": {},
   "outputs": [],
   "source": [
    "import numpy as np\n",
    "\n",
    "arr = np.array(['a', '2', '3'], dtype='i')\n"
   ]
  },
  {
   "cell_type": "code",
   "execution_count": null,
   "id": "6790445e",
   "metadata": {},
   "outputs": [],
   "source": [
    "the use of structured data type\n",
    "the field name and the corresponding scalar data type is to be declared.\n",
    "\n",
    "# dtype()\n"
   ]
  },
  {
   "cell_type": "code",
   "execution_count": null,
   "id": "8f474b3a",
   "metadata": {},
   "outputs": [],
   "source": [
    "import numpy as np \n",
    "\n",
    "dt = np.dtype([('age',np.int8)]) \n",
    "a = np.array([(10,),(20,),(30,)], dtype = dt) \n",
    "print(dt)\n",
    "print(a)\n",
    "print(a['age'])"
   ]
  },
  {
   "cell_type": "code",
   "execution_count": 5,
   "id": "c98eafd6",
   "metadata": {},
   "outputs": [
    {
     "name": "stdout",
     "output_type": "stream",
     "text": [
      "[('name', 'S5'), ('age', 'i1'), ('marks', '<f4')]\n",
      "[(b'abc', 21, 50.) (b'xyz', 18, 75.)]\n",
      "[b'abc' b'xyz']\n",
      "[21 18]\n",
      "[50. 75.]\n"
     ]
    }
   ],
   "source": [
    "import numpy as np \n",
    "\n",
    "student = np.dtype([('name','S5'), ('age', 'i1'), ('marks', 'f4')]) \n",
    "a = np.array([('abc', 21, 50),('xyz', 18, 75)], dtype = student) \n",
    "print(student)\n",
    "print(a)\n",
    "print(a['name'])\n",
    "print(a['age'])\n",
    "print(a['marks'])"
   ]
  },
  {
   "cell_type": "code",
   "execution_count": null,
   "id": "a4d488e2",
   "metadata": {},
   "outputs": [],
   "source": [
    "#Not important\n",
    "The byte order is decided by prefixing '<' or '>' to data type.\n",
    "'<' means that encoding is little-endian (least significant is stored in smallest address).\n",
    "'>' means that encoding is big-endian (most significant byte is stored in smallest address).\n",
    "\n"
   ]
  },
  {
   "cell_type": "code",
   "execution_count": null,
   "id": "bd8f661b",
   "metadata": {},
   "outputs": [],
   "source": [
    "import numpy as np\n",
    "\n",
    "arr = np.array([1.1, 2.1, 3.1])\n",
    "\n",
    "newarr = arr.astype('i')\n",
    "\n",
    "print(newarr)\n",
    "print(newarr.dtype)\n"
   ]
  },
  {
   "cell_type": "code",
   "execution_count": null,
   "id": "e21b8fec",
   "metadata": {},
   "outputs": [],
   "source": [
    "# Shape of an Array\n",
    "NumPy arrays have an attribute called shape that returns\n",
    "a tuple with each index having the number of corresponding elements.\n"
   ]
  },
  {
   "cell_type": "code",
   "execution_count": null,
   "id": "f1274a25",
   "metadata": {},
   "outputs": [],
   "source": [
    "import numpy as np\n",
    "\n",
    "arr = np.array([1.1, 2.1, 3.1])\n",
    "\n",
    "newarr = arr.astype(int)\n",
    "\n",
    "print(newarr)\n",
    "print(newarr.dtype)\n",
    "import numpy as np\n",
    "\n",
    "arr = np.array([1, 0, 3])\n",
    "\n",
    "newarr = arr.astype(bool)\n",
    "\n",
    "print(newarr)\n",
    "print(newarr.dtype)"
   ]
  },
  {
   "cell_type": "code",
   "execution_count": null,
   "id": "ff4bdb35",
   "metadata": {},
   "outputs": [],
   "source": [
    "import numpy as np\n",
    "\n",
    "arr = np.array([[1, 2, 3, 4], [5, 6, 7, 8]])\n",
    "print(arr, '\\n')\n",
    "print(arr.shape)"
   ]
  },
  {
   "cell_type": "code",
   "execution_count": 15,
   "id": "644d55a5",
   "metadata": {},
   "outputs": [
    {
     "name": "stdout",
     "output_type": "stream",
     "text": [
      "[[[[[1 2 3 4]]]]]\n",
      "shape of array : (1, 1, 1, 1, 4)\n"
     ]
    }
   ],
   "source": [
    "import numpy as np\n",
    "\n",
    "arr = np.array([1, 2, 3, 4], ndmin=5)\n",
    "\n",
    "print(arr)\n",
    "print('shape of array :', arr.shape)\n"
   ]
  },
  {
   "cell_type": "code",
   "execution_count": 16,
   "id": "c890b886",
   "metadata": {},
   "outputs": [
    {
     "name": "stdout",
     "output_type": "stream",
     "text": [
      "[[1 2 3]\n",
      " [4 5 6]] \n",
      "\n",
      "[[1 2]\n",
      " [3 4]\n",
      " [5 6]]\n"
     ]
    }
   ],
   "source": [
    "# reshape\n",
    "# this resizes the ndarray \n",
    "import numpy as np \n",
    "\n",
    "a = np.array([[1,2,3],[4,5,6]]) \n",
    "print(a, '\\n')\n",
    "a.shape = (3,2) \n",
    "print(a)\n"
   ]
  },
  {
   "cell_type": "code",
   "execution_count": null,
   "id": "7ce7c7f4",
   "metadata": {},
   "outputs": [],
   "source": [
    "import numpy as np \n",
    "a = np.array([[1,2,3],[4,5,6]]) \n",
    "print(a)\n",
    "print('id(a): ',id(a))\n",
    "b = a.reshape(3,2) \n",
    "print(b)\n",
    "print('id(b): ',id(b))\n",
    "print('b is a? ', b is a )"
   ]
  },
  {
   "cell_type": "code",
   "execution_count": 6,
   "id": "43d5185e",
   "metadata": {},
   "outputs": [
    {
     "name": "stdout",
     "output_type": "stream",
     "text": [
      "[[ 1  2  3]\n",
      " [ 4  5  6]\n",
      " [ 7  8  9]\n",
      " [10 11 12]]\n"
     ]
    }
   ],
   "source": [
    "import numpy as np\n",
    "\n",
    "arr = np.array([1, 2, 3, 4, 5, 6, 7, 8, 9, 10, 11, 12])\n",
    "\n",
    "newarr = arr.reshape(4, 3)\n",
    "\n",
    "print(newarr)"
   ]
  },
  {
   "cell_type": "code",
   "execution_count": null,
   "id": "99ee3153",
   "metadata": {},
   "outputs": [],
   "source": [
    "import numpy as np\n",
    "\n",
    "arr = np.array([1, 2, 3, 4, 5, 6, 7, 8, 9, 10, 11, 12])\n",
    "\n",
    "newarr = arr.reshape(2, 3, 2)\n",
    "\n",
    "print(newarr)\n"
   ]
  },
  {
   "cell_type": "code",
   "execution_count": null,
   "id": "66067a22",
   "metadata": {},
   "outputs": [],
   "source": [
    "import numpy as np\n",
    "\n",
    "arr = np.array([1, 2, 3, 4, 5, 6, 7, 8])\n",
    "\n",
    "newarr = arr.reshape(3, 3)\n",
    "\n",
    "print(newarr)\n"
   ]
  },
  {
   "cell_type": "code",
   "execution_count": null,
   "id": "334d446e",
   "metadata": {},
   "outputs": [],
   "source": [
    "The Difference Between copy() and view()\n",
    "\n",
    "The main difference between a copy and a view of an array is that the copy is a new array,\n",
    "and the view is just a view of the original array.\n",
    "\n",
    "The copy owns the data and any changes made to the copy will not affect original array,\n",
    "and any changes made to the original array will not affect the copy.\n",
    "\n",
    "The view does not own the data and any changes made to the view will affect the original array,\n",
    "and any changes made to the original array will affect the view.\n",
    "\n"
   ]
  },
  {
   "cell_type": "code",
   "execution_count": null,
   "id": "d3c80e7b",
   "metadata": {},
   "outputs": [],
   "source": [
    "# COPY\n",
    "# Deep Copy\n",
    "# The ndarray.copy() function creates a deep copy. It is a complete copy of the array and its data,\n",
    "# and doesn’t share with the original array.\n",
    "import numpy as np\n",
    "\n",
    "arr = np.array([0, 1, 2, 3, 4, 5])\n",
    "x = arr.copy()\n",
    "arr[0] = 42\n",
    "\n",
    "print(arr)\n",
    "print(id(arr))\n",
    "print(x)\n",
    "print(id(x))\n",
    "\n",
    "x.shape = (2, 3)\n",
    "print('arr:\\n', arr)\n",
    "print('x:\\n', x)\n",
    "\n"
   ]
  },
  {
   "cell_type": "code",
   "execution_count": 20,
   "id": "2121a4a5",
   "metadata": {},
   "outputs": [
    {
     "name": "stdout",
     "output_type": "stream",
     "text": [
      "[42  1  2  3  4  5]\n",
      "2253295592144\n",
      "[42  1  2  3  4  5]\n",
      "2253295591952\n",
      "arr:\n",
      " [42  1  2  3  4  5]\n",
      "x:\n",
      " [[42  1  2]\n",
      " [ 3  4  5]]\n"
     ]
    }
   ],
   "source": [
    "# VIEW\n",
    "# Shallow Copy\n",
    "# ndarray.view() method which is a new array object that looks at the same data of the original array.\n",
    "# Change in dimensions of the new array doesn’t change dimensions of the original.\n",
    "\n",
    "import numpy as np\n",
    "\n",
    "arr = np.array([0, 1, 2, 3, 4, 5])\n",
    "x = arr.view()\n",
    "arr[0] = 42\n",
    "\n",
    "print(arr)\n",
    "print(id(arr))\n",
    "print(x)\n",
    "print(id(x))\n",
    "\n",
    "x.shape = (2, 3)\n",
    "print('arr:\\n', arr)\n",
    "print('x:\\n', x)\n"
   ]
  },
  {
   "cell_type": "code",
   "execution_count": null,
   "id": "a8f9620c",
   "metadata": {},
   "outputs": [],
   "source": [
    "import numpy as np\n",
    "\n",
    "arr = np.array([1, 2, 3, 4, 5])\n",
    "x = arr.view()\n",
    "x[0] = 31\n",
    "\n",
    "print(arr)\n",
    "print(x)\n"
   ]
  },
  {
   "cell_type": "code",
   "execution_count": 7,
   "id": "0329c4f4",
   "metadata": {},
   "outputs": [
    {
     "name": "stdout",
     "output_type": "stream",
     "text": [
      "Array a:\n",
      "[[0 1]\n",
      " [2 3]\n",
      " [4 5]]\n",
      "Create view of a:\n",
      "[[0 1]\n",
      " [2 3]\n",
      " [4 5]]\n",
      "id() for both the arrays are different:\n",
      "id() of a:\n",
      "1651773256400\n",
      "id() of b:\n",
      "1651773188976\n",
      "Shape of b:\n",
      "[[0 1 2]\n",
      " [3 4 5]]\n",
      "Shape of a:\n",
      "[[0 1]\n",
      " [2 3]\n",
      " [4 5]]\n",
      "a.base:\n",
      " [0 1 2 3 4 5]\n",
      "b.base:\n",
      " [0 1 2 3 4 5]\n"
     ]
    }
   ],
   "source": [
    "import numpy as np \n",
    "# To begin with, a is 3X2 array \n",
    "a = np.arange(6).reshape(3,2) \n",
    "\n",
    "print('Array a:')\n",
    "print (a)  \n",
    "\n",
    "print('Create view of a:') \n",
    "b = a.view() \n",
    "print(b)  \n",
    "\n",
    "print('id() for both the arrays are different:') \n",
    "print('id() of a:')\n",
    "print(id(a))  \n",
    "print('id() of b:') \n",
    "print(id(b))  \n",
    "\n",
    "# Change the shape of b. It does not change the shape of a \n",
    "b.shape = 2,3 \n",
    "\n",
    "# b[0,0] = 8\n",
    "# a[2,1] = 9\n",
    "\n",
    "print('Shape of b:') \n",
    "print(b)  \n",
    "\n",
    "print('Shape of a:') \n",
    "print(a)\n",
    "\n",
    "print('a.base:\\n',a.base)\n",
    "print('b.base:\\n',b.base)"
   ]
  },
  {
   "cell_type": "code",
   "execution_count": 21,
   "id": "5e4f42ba",
   "metadata": {},
   "outputs": [
    {
     "name": "stdout",
     "output_type": "stream",
     "text": [
      "None\n",
      "[1 2 3 4 5]\n"
     ]
    }
   ],
   "source": [
    "# Check if Array Owns it's Data\n",
    "import numpy as np\n",
    "\n",
    "arr = np.array([1, 2, 3, 4, 5])\n",
    "\n",
    "x = arr.copy()\n",
    "y = arr.view()\n",
    "\n",
    "print(x.base) # The copy returns None.\n",
    "print(y.base) # The view returns the original array."
   ]
  },
  {
   "cell_type": "code",
   "execution_count": 8,
   "id": "5b012f89",
   "metadata": {},
   "outputs": [
    {
     "name": "stdout",
     "output_type": "stream",
     "text": [
      "Our array is:\n",
      "[0 1 2 3 4 5]\n",
      "Applying id() function:\n",
      "1651773256976\n",
      "a is assigned to b:\n",
      "[0 1 2 3 4 5]\n",
      "b has same id():\n",
      "1651773256976\n",
      "Change shape of b:\n",
      "[[0 1]\n",
      " [2 3]\n",
      " [4 5]]\n",
      "Shape of a also gets changed:\n",
      "[[0 1]\n",
      " [2 3]\n",
      " [4 5]]\n"
     ]
    }
   ],
   "source": [
    "# No Copy\n",
    "import numpy as np \n",
    "a = np.arange(6) \n",
    "\n",
    "print('Our array is:') \n",
    "print(a)  \n",
    "\n",
    "print('Applying id() function:') \n",
    "print(id(a))  \n",
    "\n",
    "print('a is assigned to b:') \n",
    "b = a #-> cung tro ve o nho\n",
    "print(b)\n",
    "\n",
    "print('b has same id():')\n",
    "print(id(b))\n",
    "\n",
    "print('Change shape of b:') \n",
    "b.shape = 3,2 \n",
    "print(b)  \n",
    "\n",
    "print('Shape of a also gets changed:')\n",
    "print(a)"
   ]
  },
  {
   "cell_type": "code",
   "execution_count": 19,
   "id": "1a692379",
   "metadata": {},
   "outputs": [
    {
     "name": "stdout",
     "output_type": "stream",
     "text": [
      "[[1 2 3]\n",
      " [4 5 6]]\n",
      "[[ 7  8  9]\n",
      " [10 11 12]]\n"
     ]
    }
   ],
   "source": [
    "import numpy as np\n",
    "\n",
    "arr = np.array([[[1, 2, 3], [4, 5, 6]], [[7, 8, 9], [10, 11, 12]]])\n",
    "\n",
    "for x in arr:\n",
    "  print(x)"
   ]
  },
  {
   "cell_type": "code",
   "execution_count": 18,
   "id": "a5b84214",
   "metadata": {},
   "outputs": [
    {
     "name": "stdout",
     "output_type": "stream",
     "text": [
      "1\n",
      "2\n",
      "3\n",
      "4\n",
      "5\n",
      "6\n",
      "7\n",
      "8\n",
      "9\n",
      "10\n",
      "11\n",
      "12\n"
     ]
    }
   ],
   "source": [
    "import numpy as np\n",
    "\n",
    "arr = np.array([[[1, 2, 3], [4, 5, 6]], [[7, 8, 9], [10, 11, 12]]])\n",
    "\n",
    "for x in arr:\n",
    "  for y in x:\n",
    "    for z in y:\n",
    "      print(z)"
   ]
  },
  {
   "cell_type": "code",
   "execution_count": 9,
   "id": "e7d1470d",
   "metadata": {},
   "outputs": [
    {
     "name": "stdout",
     "output_type": "stream",
     "text": [
      "ndim:  3\n",
      "1\n",
      "2\n",
      "3\n",
      "4\n",
      "5\n",
      "6\n",
      "7\n",
      "8\n"
     ]
    }
   ],
   "source": [
    "# nditer()\n",
    "import numpy as np\n",
    "\n",
    "arr = np.array([[[1, 2], [3, 4]], [[5, 6], [7, 8]]])\n",
    "print('ndim:', np.ndim(arr))\n",
    "for x in np.nditer(arr):\n",
    "  print(x)"
   ]
  },
  {
   "cell_type": "code",
   "execution_count": null,
   "id": "533c8eff",
   "metadata": {},
   "outputs": [],
   "source": [
    "Iterating Array With Different Data Types\n",
    "We can use op_dtypes argument and pass it the expected datatype to chang\n",
    "the datatype of elementswhile iterating.\n",
    "\n",
    "NumPy does not change the data type of the element in-place (where the element is in array)\n",
    "so it needs some other space to perform this action, that extra space is called buffer,\n",
    "and in order to enable it in nditer() we pass flags=['buffered'].\n"
   ]
  },
  {
   "cell_type": "code",
   "execution_count": null,
   "id": "1a984337",
   "metadata": {},
   "outputs": [],
   "source": [
    "# Optional\n",
    "import numpy as np\n",
    "\n",
    "arr = np.array([1, 2, 3])\n",
    "\n",
    "for x in np.nditer(arr, flags=['buffered'], op_dtypes=['S']):\n",
    "  print(x)\n",
    "\n"
   ]
  },
  {
   "cell_type": "code",
   "execution_count": 22,
   "id": "f432595c",
   "metadata": {},
   "outputs": [
    {
     "name": "stdout",
     "output_type": "stream",
     "text": [
      "1\n",
      "3\n",
      "5\n",
      "7\n"
     ]
    }
   ],
   "source": [
    "import numpy as np\n",
    "\n",
    "arr = np.array([[1, 2, 3, 4], [5, 6, 7, 8]])\n",
    "\n",
    "for x in np.nditer(arr[:,::2]):\n",
    "  print(x)"
   ]
  },
  {
   "cell_type": "code",
   "execution_count": null,
   "id": "39f8bdd4",
   "metadata": {},
   "outputs": [],
   "source": [
    "K184060744 - Nguyễn Thị Hồng Nhung"
   ]
  },
  {
   "cell_type": "code",
   "execution_count": null,
   "id": "1d4eac92",
   "metadata": {},
   "outputs": [],
   "source": [
    "#Enumerated Iteration Using ndenumerate()\n",
    "Enumeration means mentioning sequence number of somethings one by one.\n",
    "\n",
    "Sometimes we require corresponding index of the element while iterating,\n",
    "the ndenumerate() method can be used for those usecases."
   ]
  },
  {
   "cell_type": "code",
   "execution_count": 1,
   "id": "45524d4f",
   "metadata": {},
   "outputs": [
    {
     "name": "stdout",
     "output_type": "stream",
     "text": [
      "(0,) 1\n",
      "(1,) 2\n",
      "(2,) 3\n",
      "\n",
      "\n",
      "<class 'tuple'>\n",
      "<class 'numpy.int32'>\n"
     ]
    }
   ],
   "source": [
    "import numpy as np\n",
    "\n",
    "arr = np.array([1, 2, 3])\n",
    "\n",
    "for idx, x in np.ndenumerate(arr):\n",
    "  print(idx, x)\n",
    "\n",
    "print('\\n')\n",
    "print(type(idx))\n",
    "print(type(x))"
   ]
  },
  {
   "cell_type": "code",
   "execution_count": 2,
   "id": "acca7a6b",
   "metadata": {},
   "outputs": [
    {
     "name": "stdout",
     "output_type": "stream",
     "text": [
      "[[1 2 3 4]\n",
      " [5 6 7 8]] \n",
      "\n",
      "(0, 0) 1\n",
      "(0, 1) 2\n",
      "(0, 2) 3\n",
      "(0, 3) 4\n",
      "(1, 0) 5\n",
      "(1, 1) 6\n",
      "(1, 2) 7\n",
      "(1, 3) 8\n",
      "\n",
      "\n",
      "<class 'tuple'>\n",
      "<class 'numpy.int32'>\n"
     ]
    }
   ],
   "source": [
    "import numpy as np\n",
    "\n",
    "arr = np.array([[1, 2, 3, 4], [5, 6, 7, 8]])\n",
    "\n",
    "print(arr, '\\n')\n",
    "for idx, x in np.ndenumerate(arr):\n",
    "  print(idx, x)\n",
    "\n",
    "print('\\n')\n",
    "print(type(idx))\n",
    "print(type(x))"
   ]
  },
  {
   "cell_type": "code",
   "execution_count": 3,
   "id": "92fb1347",
   "metadata": {},
   "outputs": [
    {
     "name": "stdout",
     "output_type": "stream",
     "text": [
      "Original array is:\n",
      "[[ 0  5 10 15]\n",
      " [20 25 30 35]\n",
      " [40 45 50 55]]\n",
      "id(a):  2253295180272\n",
      "\n",
      "\n",
      "Transpose of the original array is:\n",
      "[[ 0 20 40]\n",
      " [ 5 25 45]\n",
      " [10 30 50]\n",
      " [15 35 55]]\n",
      "id(b):  2253295180464\n",
      "\n",
      "\n",
      "b.base:\n",
      " [ 0  5 10 15 20 25 30 35 40 45 50 55]\n",
      "\n",
      "\n",
      "Modified array is:\n",
      "0\n",
      "5\n",
      "10\n",
      "15\n",
      "20\n",
      "25\n",
      "30\n",
      "35\n",
      "40\n",
      "45\n",
      "50\n",
      "55\n",
      "a:\n",
      " [[60  5 10 15]\n",
      " [20 25 30 35]\n",
      " [40 45 50 55]]\n",
      "b:\n",
      " [[60 20 40]\n",
      " [ 5 25 45]\n",
      " [10 30 50]\n",
      " [15 35 55]]\n"
     ]
    }
   ],
   "source": [
    "import numpy as np \n",
    "a = np.arange(0,60,5) \n",
    "a = a.reshape(3,4) \n",
    "   \n",
    "print('Original array is:')\n",
    "print(a) \n",
    "print('id(a): ', id(a))\n",
    "print('\\n')  \n",
    "   \n",
    "print('Transpose of the original array is:') \n",
    "b = a.T # View : doi dong thanh cot, cot thanh dong\n",
    "print (b)\n",
    "print('id(b): ', id(b))\n",
    "print('\\n')\n",
    "print('b.base:\\n', b.base)\n",
    "print('\\n')\n",
    "\n",
    "print('Modified array is:') \n",
    "for x in np.nditer(b): \n",
    "   print (x)\n",
    "\n",
    "b[0,0] = 60\n",
    "print('a:\\n', a)\n",
    "print('b:\\n', b)"
   ]
  },
  {
   "cell_type": "code",
   "execution_count": 4,
   "id": "5eb19a8c",
   "metadata": {},
   "outputs": [
    {
     "name": "stdout",
     "output_type": "stream",
     "text": [
      "Original array is:\n",
      "[[ 0  5 10 15]\n",
      " [20 25 30 35]\n",
      " [40 45 50 55]]\n",
      "\n",
      "\n",
      "Transpose of the original array is:\n",
      "[[ 0 20 40]\n",
      " [ 5 25 45]\n",
      " [10 30 50]\n",
      " [15 35 55]]\n",
      "\n",
      "\n",
      "Sorted in C-style order:\n",
      "[[ 0 20 40]\n",
      " [ 5 25 45]\n",
      " [10 30 50]\n",
      " [15 35 55]]\n",
      "0\n",
      "20\n",
      "40\n",
      "5\n",
      "25\n",
      "45\n",
      "10\n",
      "30\n",
      "50\n",
      "15\n",
      "35\n",
      "55\n",
      "\n",
      "\n",
      "Sorted in F-style order:\n",
      "[[ 0 20 40]\n",
      " [ 5 25 45]\n",
      " [10 30 50]\n",
      " [15 35 55]]\n",
      "0\n",
      "5\n",
      "10\n",
      "15\n",
      "20\n",
      "25\n",
      "30\n",
      "35\n",
      "40\n",
      "45\n",
      "50\n",
      "55\n"
     ]
    }
   ],
   "source": [
    "# Iteration Order\n",
    "\n",
    "import numpy as np\n",
    "a = np.arange(0,60,5)\n",
    "a = a.reshape(3,4)\n",
    "print('Original array is:')\n",
    "print(a)\n",
    "print('\\n')\n",
    "\n",
    "print('Transpose of the original array is:')\n",
    "b = a.T\n",
    "print(b)\n",
    "print('\\n')\n",
    "\n",
    "print('Sorted in C-style order:')\n",
    "c = b.copy(order = 'C') # by row\n",
    "print(c)\n",
    "for x in np.nditer(c):\n",
    "   print(x)\n",
    "\n",
    "print('\\n')\n",
    "\n",
    "print('Sorted in F-style order:')\n",
    "c = b.copy(order = 'F') # by collumn\n",
    "print(c)\n",
    "for x in np.nditer(c):\n",
    "   print(x)"
   ]
  },
  {
   "cell_type": "code",
   "execution_count": 5,
   "id": "995a4a8a",
   "metadata": {},
   "outputs": [
    {
     "name": "stdout",
     "output_type": "stream",
     "text": [
      "Original array is:\n",
      "[[ 0  5 10 15]\n",
      " [20 25 30 35]\n",
      " [40 45 50 55]]\n",
      "\n",
      "\n",
      "Modified array is:\n",
      "[[  0  10  20  30]\n",
      " [ 40  50  60  70]\n",
      " [ 80  90 100 110]]\n"
     ]
    }
   ],
   "source": [
    "# Modifying Array Values\n",
    "import numpy as np\n",
    "a = np.arange(0,60,5)\n",
    "a = a.reshape(3,4)\n",
    "print('Original array is:')\n",
    "print(a)\n",
    "print('\\n')\n",
    "\n",
    "for x in np.nditer(a, op_flags = ['readwrite']):\n",
    "   x[...] = 2*x\n",
    "print('Modified array is:')\n",
    "print(a)"
   ]
  },
  {
   "cell_type": "code",
   "execution_count": 6,
   "id": "bbc7355d",
   "metadata": {},
   "outputs": [
    {
     "name": "stdout",
     "output_type": "stream",
     "text": [
      "Original array is:\n",
      "[[ 0  5 10 15]\n",
      " [20 25 30 35]\n",
      " [40 45 50 55]]\n",
      "\n",
      "\n",
      "Modified array is:\n",
      "[ 0 20 40]\n",
      "[ 5 25 45]\n",
      "[10 30 50]\n",
      "[15 35 55]\n"
     ]
    }
   ],
   "source": [
    "# Optional\n",
    "# External Loop\n",
    "\n",
    "import numpy as np \n",
    "a = np.arange(0,60,5) \n",
    "a = a.reshape(3,4) \n",
    "\n",
    "print('Original array is:')\n",
    "print(a) \n",
    "print('\\n')  \n",
    "\n",
    "print('Modified array is:') \n",
    "for x in np.nditer(a, flags = ['external_loop'], order = 'F'):\n",
    "   print (x)"
   ]
  },
  {
   "cell_type": "code",
   "execution_count": 7,
   "id": "ab7311fd",
   "metadata": {},
   "outputs": [
    {
     "name": "stdout",
     "output_type": "stream",
     "text": [
      "First array is:\n",
      "[[ 0  5 10 15]\n",
      " [20 25 30 35]\n",
      " [40 45 50 55]]\n",
      "\n",
      "\n",
      "Second array is:\n",
      "[1 2 3 4]\n",
      "\n",
      "\n",
      "Modified array is:\n",
      "0:1\n",
      "5:2\n",
      "10:3\n",
      "15:4\n",
      "20:1\n",
      "25:2\n",
      "30:3\n",
      "35:4\n",
      "40:1\n",
      "45:2\n",
      "50:3\n",
      "55:4\n"
     ]
    }
   ],
   "source": [
    "# Broadcasting Iteration\n",
    "\n",
    "import numpy as np \n",
    "a = np.arange(0,60,5) \n",
    "a = a.reshape(3,4) \n",
    "\n",
    "print('First array is:') \n",
    "print(a)\n",
    "print('\\n')  \n",
    "\n",
    "print('Second array is:') \n",
    "b = np.array([1, 2, 3, 4], dtype = int) \n",
    "print(b)  \n",
    "print('\\n') \n",
    "\n",
    "print('Modified array is:') \n",
    "for x,y in np.nditer([a,b]): \n",
    "   print(\"%d:%d\" % (x,y))"
   ]
  },
  {
   "cell_type": "code",
   "execution_count": null,
   "id": "917729b6",
   "metadata": {},
   "outputs": [],
   "source": [
    "# Array Manipulation\n"
   ]
  },
  {
   "cell_type": "code",
   "execution_count": null,
   "id": "9dde42bc",
   "metadata": {},
   "outputs": [],
   "source": [
    "# Transpose Operations"
   ]
  },
  {
   "cell_type": "code",
   "execution_count": 8,
   "id": "d9047d5f",
   "metadata": {},
   "outputs": [
    {
     "name": "stdout",
     "output_type": "stream",
     "text": [
      "[[ 0  1  2  3]\n",
      " [ 4  5  6  7]\n",
      " [ 8  9 10 11]]\n",
      "a.base?: [ 0  1  2  3  4  5  6  7  8  9 10 11] \n",
      "\n",
      "[[ 0  4  8]\n",
      " [ 1  5  9]\n",
      " [ 2  6 10]\n",
      " [ 3  7 11]]\n",
      "b.base?: [ 0  1  2  3  4  5  6  7  8  9 10 11]\n",
      "\n",
      "b is a?: False\n"
     ]
    }
   ],
   "source": [
    "a = np.arange(12).reshape(3,4) \n",
    "print(a)\n",
    "print('a.base?:', a.base, '\\n')\n",
    "b = np.transpose(a)\n",
    "print(b)\n",
    "print('b.base?:', b.base)\n",
    "print('\\nb is a?:', b is a)"
   ]
  },
  {
   "cell_type": "code",
   "execution_count": 9,
   "id": "d62831e3",
   "metadata": {},
   "outputs": [
    {
     "name": "stdout",
     "output_type": "stream",
     "text": [
      "[[ 0  1  2  3]\n",
      " [ 4  5  6  7]\n",
      " [ 8  9 10 11]] \n",
      "\n",
      "[[ 0  4  8]\n",
      " [ 1  5  9]\n",
      " [ 2  6 10]\n",
      " [ 3  7 11]]\n",
      "b.base?: [ 0  1  2  3  4  5  6  7  8  9 10 11]\n",
      "\n",
      "b is a?: False\n"
     ]
    }
   ],
   "source": [
    "a = np.arange(12).reshape(3,4) \n",
    "print(a, '\\n')\n",
    "b = a.T\n",
    "print(b)\n",
    "print('b.base?:', b.base)\n",
    "print('\\nb is a?:', b is a)"
   ]
  },
  {
   "cell_type": "code",
   "execution_count": null,
   "id": "4d0d19df",
   "metadata": {},
   "outputs": [],
   "source": [
    "# Joining Array\n",
    "axis = 0: ngang, axis = 1 : đứng\n",
    "# concatenate()"
   ]
  },
  {
   "cell_type": "code",
   "execution_count": 10,
   "id": "759ab1cd",
   "metadata": {},
   "outputs": [
    {
     "name": "stdout",
     "output_type": "stream",
     "text": [
      "[1 2 3 4 5 6]\n"
     ]
    }
   ],
   "source": [
    "import numpy as np\n",
    "\n",
    "arr1 = np.array([1, 2, 3])\n",
    "\n",
    "arr2 = np.array([4, 5, 6])\n",
    "\n",
    "arr = np.concatenate((arr1, arr2)) #arr = np.concatenate((arr1, arr2), axis =0)\n",
    "# arr = np.concatenate((arr1, arr2), axis =1) error\n",
    "print(arr)"
   ]
  },
  {
   "cell_type": "code",
   "execution_count": 12,
   "id": "24725e81",
   "metadata": {},
   "outputs": [
    {
     "name": "stdout",
     "output_type": "stream",
     "text": [
      "[[1]\n",
      " [2]\n",
      " [3]]\n",
      "ndim arr1: 2\n",
      "[[4]\n",
      " [6]\n",
      " [5]]\n",
      "ndim arr2: 2\n",
      "concatenate:\n",
      " [[1]\n",
      " [2]\n",
      " [3]\n",
      " [4]\n",
      " [6]\n",
      " [5]]\n"
     ]
    }
   ],
   "source": [
    "import numpy as np\n",
    "\n",
    "arr1 = np.array([1, 2, 3]).reshape(3,1)\n",
    "print(arr1)\n",
    "print('ndim arr1:', np.ndim(arr1))\n",
    "\n",
    "arr2 = np.array([4, 6, 5]).reshape(3,1)\n",
    "print(arr2)\n",
    "print('ndim arr2:', np.ndim(arr2))\n",
    "\n",
    "arr = np.concatenate((arr1, arr2)) #arr = np.concatenate((arr1, arr2), axis =0)\n",
    "\n",
    "print('concatenate:\\n', arr)\n"
   ]
  },
  {
   "cell_type": "code",
   "execution_count": null,
   "id": "2c24694d",
   "metadata": {},
   "outputs": [],
   "source": [
    "import numpy as np\n",
    "\n",
    "arr1 = np.array([1, 2, 3]).reshape(3,1)\n",
    "print(arr1)\n",
    "print('ndim arr1:', np.ndim(arr1))\n",
    "\n",
    "arr2 = np.array([4, 5, 6]).reshape(3,1)\n",
    "print(arr2)\n",
    "print('ndim arr2:', np.ndim(arr2))\n",
    "\n",
    "arr = np.concatenate((arr1, arr2), axis = 1)\n",
    "\n",
    "print('concatenate:\\n', arr)\n"
   ]
  },
  {
   "cell_type": "code",
   "execution_count": 13,
   "id": "83a998a6",
   "metadata": {},
   "outputs": [
    {
     "name": "stdout",
     "output_type": "stream",
     "text": [
      "[[1 2]\n",
      " [3 4]] \n",
      "\n",
      "[[5 6]\n",
      " [7 8]] \n",
      "\n",
      "[[1 2]\n",
      " [3 4]\n",
      " [5 6]\n",
      " [7 8]]\n"
     ]
    }
   ],
   "source": [
    "import numpy as np\n",
    "\n",
    "arr1 = np.array([[1, 2], [3, 4]])\n",
    "print(arr1,'\\n')\n",
    "\n",
    "arr2 = np.array([[5, 6], [7, 8]])\n",
    "print(arr2,'\\n')\n",
    "\n",
    "arr = np.concatenate((arr1, arr2), axis= 0)\n",
    "print(arr)"
   ]
  },
  {
   "cell_type": "code",
   "execution_count": 14,
   "id": "9c581fcb",
   "metadata": {},
   "outputs": [
    {
     "name": "stdout",
     "output_type": "stream",
     "text": [
      "[[1 2]\n",
      " [3 4]] \n",
      "\n",
      "[[5 6]\n",
      " [7 8]] \n",
      "\n",
      "[[1 2 5 6]\n",
      " [3 4 7 8]]\n"
     ]
    }
   ],
   "source": [
    "import numpy as np\n",
    "\n",
    "arr1 = np.array([[1, 2], [3, 4]])\n",
    "print(arr1,'\\n')\n",
    "\n",
    "arr2 = np.array([[5, 6], [7, 8]])\n",
    "print(arr2,'\\n')\n",
    "\n",
    "arr = np.concatenate((arr1, arr2), axis= 1)\n",
    "print(arr)\n",
    "\n"
   ]
  },
  {
   "cell_type": "code",
   "execution_count": 23,
   "id": "fb604430",
   "metadata": {},
   "outputs": [
    {
     "name": "stdout",
     "output_type": "stream",
     "text": [
      "[[1 2 3]\n",
      " [4 5 6]]\n"
     ]
    }
   ],
   "source": [
    "# stack(), ndim + 1 in result\n",
    "import numpy as np\n",
    "\n",
    "arr1 = np.array([1, 2, 3])\n",
    "\n",
    "arr2 = np.array([4, 5, 6])\n",
    "\n",
    "arr = np.stack((arr1, arr2)) # arr = np.stack((arr1, arr2), axis=0)\n",
    "\n",
    "print(arr)"
   ]
  },
  {
   "cell_type": "code",
   "execution_count": 24,
   "id": "fb8cdaf2",
   "metadata": {},
   "outputs": [
    {
     "name": "stdout",
     "output_type": "stream",
     "text": [
      "[[1 4]\n",
      " [2 5]\n",
      " [3 6]]\n"
     ]
    }
   ],
   "source": [
    "import numpy as np\n",
    "\n",
    "arr1 = np.array([1, 2, 3])\n",
    "\n",
    "arr2 = np.array([4, 5, 6])\n",
    "\n",
    "arr = np.stack((arr1, arr2), axis=1)\n",
    "\n",
    "print(arr)"
   ]
  },
  {
   "cell_type": "code",
   "execution_count": 25,
   "id": "73ddacb0",
   "metadata": {},
   "outputs": [
    {
     "name": "stdout",
     "output_type": "stream",
     "text": [
      "First Array:\n",
      "[[1 2]\n",
      " [3 4]]\n",
      "\n",
      "\n",
      "Second Array:\n",
      "[[5 6]\n",
      " [7 8]]\n",
      "\n",
      "\n",
      "Stack the two arrays along axis 0:\n",
      "[[[1 2]\n",
      "  [3 4]]\n",
      "\n",
      " [[5 6]\n",
      "  [7 8]]]\n",
      "\n",
      "\n",
      "Stack the two arrays along axis 1:\n",
      "[[[1 2]\n",
      "  [5 6]]\n",
      "\n",
      " [[3 4]\n",
      "  [7 8]]]\n"
     ]
    }
   ],
   "source": [
    "import numpy as np \n",
    "a = np.array([[1,2],[3,4]]) \n",
    "\n",
    "print('First Array:') \n",
    "print(a)\n",
    "print('\\n')\n",
    "b = np.array([[5,6],[7,8]]) \n",
    "\n",
    "print('Second Array:') \n",
    "print(b)\n",
    "print('\\n')  \n",
    "\n",
    "print('Stack the two arrays along axis 0:') \n",
    "print(np.stack((a,b),0)) #axis = 0\n",
    "print('\\n')  \n",
    "\n",
    "print('Stack the two arrays along axis 1:')\n",
    "print (np.stack((a,b),1)) #axis = 1"
   ]
  },
  {
   "cell_type": "code",
   "execution_count": 26,
   "id": "4cef27b8",
   "metadata": {},
   "outputs": [
    {
     "name": "stdout",
     "output_type": "stream",
     "text": [
      "[1 2 3 4 5 6]\n"
     ]
    }
   ],
   "source": [
    "# Stacking Along Rows\n",
    "# hstack()\n",
    "import numpy as np\n",
    "\n",
    "arr1 = np.array([1, 2, 3])\n",
    "\n",
    "arr2 = np.array([4, 5, 6])\n",
    "\n",
    "arr = np.hstack((arr1, arr2)) # No axis\n",
    "\n",
    "print(arr)"
   ]
  },
  {
   "cell_type": "code",
   "execution_count": 27,
   "id": "5a730de3",
   "metadata": {},
   "outputs": [
    {
     "name": "stdout",
     "output_type": "stream",
     "text": [
      "[[1 2]\n",
      " [3 4]] \n",
      "\n",
      "[[5 6]\n",
      " [7 8]] \n",
      "\n",
      "[[1 2 5 6]\n",
      " [3 4 7 8]]\n"
     ]
    }
   ],
   "source": [
    "import numpy as np\n",
    "\n",
    "arr1 = np.array([[1,2],[3,4]])\n",
    "\n",
    "arr2 = np.array([[5,6],[7,8]])\n",
    "\n",
    "arr = np.hstack((arr1, arr2)) # No axis\n",
    "\n",
    "print(arr1,'\\n')\n",
    "print(arr2,'\\n')\n",
    "print(arr)"
   ]
  },
  {
   "cell_type": "code",
   "execution_count": null,
   "id": "4a1372e2",
   "metadata": {},
   "outputs": [],
   "source": [
    "# Stacking Along Columns\n",
    "# vstack()\n",
    "import numpy as np\n",
    "\n",
    "arr1 = np.array([1, 2, 3])\n",
    "\n",
    "arr2 = np.array([4, 5, 6])\n",
    "\n",
    "arr = np.vstack((arr1, arr2)) # no axis\n",
    "\n",
    "print(arr)"
   ]
  },
  {
   "cell_type": "code",
   "execution_count": null,
   "id": "0d0cba77",
   "metadata": {},
   "outputs": [],
   "source": [
    "import numpy as np\n",
    "\n",
    "arr1 = np.array([[1,2],[3,4]])\n",
    "\n",
    "arr2 = np.array([[5,6],[7,8]])\n",
    "\n",
    "arr = np.vstack((arr1, arr2)) # no axis\n",
    "\n",
    "print(arr1,'\\n')\n",
    "print(arr2,'\\n')\n",
    "print(arr)\n"
   ]
  },
  {
   "cell_type": "code",
   "execution_count": null,
   "id": "835e12b0",
   "metadata": {},
   "outputs": [],
   "source": [
    "# Stacking Along Height (depth)\n",
    "# dstack()\n",
    "import numpy as np\n",
    "\n",
    "arr1 = np.array([1, 2, 3])\n",
    "\n",
    "arr2 = np.array([4, 5, 6])\n",
    "\n",
    "arr = np.dstack((arr1, arr2))# No axis\n",
    "\n",
    "print(arr)\n",
    "print('ndim:', np.ndim(arr))"
   ]
  },
  {
   "cell_type": "code",
   "execution_count": null,
   "id": "baa6975d",
   "metadata": {},
   "outputs": [],
   "source": [
    "# Splitting Array\n",
    " # array_split()"
   ]
  },
  {
   "cell_type": "code",
   "execution_count": null,
   "id": "4f364ede",
   "metadata": {},
   "outputs": [],
   "source": [
    "import numpy as np\n",
    "\n",
    "arr = np.array([1, 2, 3, 4, 5, 6])\n",
    "\n",
    "newarr = np.array_split(arr, 3)\n",
    "\n",
    "print(newarr)"
   ]
  },
  {
   "cell_type": "code",
   "execution_count": null,
   "id": "fa027780",
   "metadata": {},
   "outputs": [],
   "source": [
    "import numpy as np\n",
    "\n",
    "arr = np.array([1, 2, 3, 4, 5, 6])\n",
    "\n",
    "newarr = np.array_split(arr, 4)\n",
    "#newarr = np.split(arr, 4) #error\n",
    "print(newarr)"
   ]
  },
  {
   "cell_type": "code",
   "execution_count": 28,
   "id": "8ceafebe",
   "metadata": {},
   "outputs": [
    {
     "name": "stdout",
     "output_type": "stream",
     "text": [
      "[array([1, 2]), array([3, 4]), array([5, 6])] \n",
      "\n",
      "[1 2]\n",
      "[3 4]\n",
      "[5 6]\n",
      "newarr1:\n",
      " [[1 2]\n",
      " [3 4]\n",
      " [5 6]]\n"
     ]
    }
   ],
   "source": [
    "import numpy as np\n",
    "\n",
    "arr = np.array([1, 2, 3, 4, 5, 6])\n",
    "\n",
    "newarr = np.array_split(arr, 3)\n",
    "\n",
    "print(newarr,'\\n')\n",
    "print(newarr[0])\n",
    "print(newarr[1])\n",
    "print(newarr[2])\n",
    "\n",
    "newarr1 = np.array(newarr)\n",
    "print('newarr1:\\n', newarr1)"
   ]
  },
  {
   "cell_type": "markdown",
   "id": "4e3210b8",
   "metadata": {},
   "source": [
    "### Thieu splitting 2D"
   ]
  },
  {
   "cell_type": "code",
   "execution_count": null,
   "id": "298027f3",
   "metadata": {},
   "outputs": [],
   "source": [
    "import numpy as np\n",
    "\n",
    "arr = np.array([[1, 2, 3], [4, 5, 6], [7, 8, 9], [10, 11, 12], [13, 14, 15], [16, 17, 18]])\n",
    "\n",
    "newarr = np.array_split(arr, 3)\n",
    "\n",
    "print(arr,'\\n')\n",
    "print(newarr)"
   ]
  },
  {
   "cell_type": "code",
   "execution_count": 29,
   "id": "11e40627",
   "metadata": {},
   "outputs": [
    {
     "name": "stdout",
     "output_type": "stream",
     "text": [
      "[[ 1  2  3]\n",
      " [ 4  5  6]\n",
      " [ 7  8  9]\n",
      " [10 11 12]\n",
      " [13 14 15]\n",
      " [16 17 18]] \n",
      "\n",
      "[array([[ 1],\n",
      "       [ 4],\n",
      "       [ 7],\n",
      "       [10],\n",
      "       [13],\n",
      "       [16]]), array([[ 2],\n",
      "       [ 5],\n",
      "       [ 8],\n",
      "       [11],\n",
      "       [14],\n",
      "       [17]]), array([[ 3],\n",
      "       [ 6],\n",
      "       [ 9],\n",
      "       [12],\n",
      "       [15],\n",
      "       [18]])]\n",
      "newarr.shape:  (6, 1)\n"
     ]
    }
   ],
   "source": [
    "import numpy as np\n",
    "\n",
    "arr = np.array([[1, 2, 3], [4, 5, 6], [7, 8, 9], [10, 11, 12], [13, 14, 15], [16, 17, 18]])\n",
    "\n",
    "print(arr,'\\n')\n",
    "newarr = np.array_split(arr, 3, axis=1)\n",
    "\n",
    "print(newarr)\n",
    "print('newarr.shape: ', newarr[0].shape)"
   ]
  },
  {
   "cell_type": "code",
   "execution_count": 30,
   "id": "234af7bd",
   "metadata": {},
   "outputs": [
    {
     "name": "stdout",
     "output_type": "stream",
     "text": [
      "[0 1 2 3 4 5 6 7 8] \n",
      "\n",
      "split the array in 3 equal-sized subarrays:\n",
      "[array([0, 1, 2]), array([3, 4, 5]), array([6, 7, 8])] \n",
      "\n",
      "Split the array at positions indicated in 1-D array:\n",
      "[array([0, 1, 2, 3]), array([4, 5, 6]), array([7, 8])]\n"
     ]
    }
   ],
   "source": [
    "import numpy as np \n",
    "a = np.arange(9) \n",
    "\n",
    "print(a,'\\n') \n",
    "\n",
    "print('split the array in 3 equal-sized subarrays:')\n",
    "b = np.split(a,3) \n",
    "print(b,'\\n') \n",
    "\n",
    "print('Split the array at positions indicated in 1-D array:')\n",
    "b = np.split(a,[4,7])\n",
    "print(b)"
   ]
  },
  {
   "cell_type": "code",
   "execution_count": 31,
   "id": "a8209567",
   "metadata": {},
   "outputs": [
    {
     "name": "stdout",
     "output_type": "stream",
     "text": [
      "[array([[ 1],\n",
      "       [ 4],\n",
      "       [ 7],\n",
      "       [10],\n",
      "       [13],\n",
      "       [16]]), array([[ 2],\n",
      "       [ 5],\n",
      "       [ 8],\n",
      "       [11],\n",
      "       [14],\n",
      "       [17]]), array([[ 3],\n",
      "       [ 6],\n",
      "       [ 9],\n",
      "       [12],\n",
      "       [15],\n",
      "       [18]])]\n"
     ]
    }
   ],
   "source": [
    "# hsplit()\n",
    "import numpy as np\n",
    "\n",
    "arr = np.array([[1, 2, 3], [4, 5, 6], [7, 8, 9], [10, 11, 12], [13, 14, 15], [16, 17, 18]])\n",
    "\n",
    "newarr = np.hsplit(arr, 3)\n",
    "\n",
    "print(newarr)"
   ]
  },
  {
   "cell_type": "code",
   "execution_count": 32,
   "id": "d10a4639",
   "metadata": {},
   "outputs": [
    {
     "name": "stdout",
     "output_type": "stream",
     "text": [
      "[[ 0  1  2  3]\n",
      " [ 4  5  6  7]\n",
      " [ 8  9 10 11]\n",
      " [12 13 14 15]] \n",
      "\n",
      "[array([[ 0,  1,  2,  3],\n",
      "       [ 4,  5,  6,  7],\n",
      "       [ 8,  9, 10, 11],\n",
      "       [12, 13, 14, 15]])] \n",
      "\n",
      "[[ 0  1  2  3]\n",
      " [ 4  5  6  7]\n",
      " [ 8  9 10 11]\n",
      " [12 13 14 15]]\n"
     ]
    }
   ],
   "source": [
    "import numpy as np \n",
    "a = np.arange(16).reshape(4,4) \n",
    "\n",
    "print(a,'\\n')  \n",
    "\n",
    "b = np.hsplit(a,1) \n",
    "print(b,'\\n')\n",
    "print(b[0])"
   ]
  },
  {
   "cell_type": "code",
   "execution_count": 33,
   "id": "1dea12c8",
   "metadata": {},
   "outputs": [
    {
     "name": "stdout",
     "output_type": "stream",
     "text": [
      "[[ 0  1  2  3]\n",
      " [ 4  5  6  7]\n",
      " [ 8  9 10 11]\n",
      " [12 13 14 15]] \n",
      "\n",
      "[array([[ 0,  1],\n",
      "       [ 4,  5],\n",
      "       [ 8,  9],\n",
      "       [12, 13]]), array([[ 2,  3],\n",
      "       [ 6,  7],\n",
      "       [10, 11],\n",
      "       [14, 15]])]\n"
     ]
    }
   ],
   "source": [
    "import numpy as np \n",
    "a = np.arange(16).reshape(4,4) \n",
    "\n",
    "print(a,'\\n')  \n",
    "\n",
    "b = np.hsplit(a,2) \n",
    "print(b)"
   ]
  },
  {
   "cell_type": "code",
   "execution_count": null,
   "id": "406029c9",
   "metadata": {},
   "outputs": [],
   "source": [
    "import numpy as np \n",
    "a = np.arange(16).reshape(4,4) \n",
    "\n",
    "print(a,'\\n')  \n",
    "\n",
    "# b = np.hsplit(a,3) # Error\n",
    "b = np.hsplit(a,4)\n",
    "print(b)"
   ]
  },
  {
   "cell_type": "code",
   "execution_count": 37,
   "id": "f78e35b7",
   "metadata": {},
   "outputs": [
    {
     "name": "stdout",
     "output_type": "stream",
     "text": [
      "[[ 1  2  3]\n",
      " [ 4  5  6]\n",
      " [ 7  8  9]\n",
      " [10 11 12]\n",
      " [13 14 15]\n",
      " [16 17 18]] \n",
      "\n",
      "[array([[1, 2, 3],\n",
      "       [4, 5, 6],\n",
      "       [7, 8, 9]]), array([[10, 11, 12],\n",
      "       [13, 14, 15],\n",
      "       [16, 17, 18]])] \n",
      "\n",
      "[[1 2 3]\n",
      " [4 5 6]\n",
      " [7 8 9]]\n"
     ]
    }
   ],
   "source": [
    "# vsplit()\n",
    "import numpy as np\n",
    "\n",
    "arr = np.array([[1, 2, 3], [4, 5, 6], [7, 8, 9], [10, 11, 12], [13, 14, 15], [16, 17, 18]])\n",
    "\n",
    "print(arr,'\\n')\n",
    "newarr = np.vsplit(arr, 2)\n",
    "\n",
    "print(newarr,'\\n')\n",
    "print(newarr[0])"
   ]
  },
  {
   "cell_type": "code",
   "execution_count": null,
   "id": "a65c740a",
   "metadata": {},
   "outputs": [],
   "source": [
    "import numpy as np\n",
    "\n",
    "arr = np.array([[1, 2, 3], [4, 5, 6], [7, 8, 9], [10, 11, 12], [13, 14, 15], [16, 17, 18]])\n",
    "\n",
    "print(arr,'\\n')\n",
    "newarr = np.vsplit(arr, 2)\n",
    "\n",
    "print(newarr)"
   ]
  },
  {
   "cell_type": "code",
   "execution_count": null,
   "id": "889d98f5",
   "metadata": {},
   "outputs": [],
   "source": [
    "import numpy as np\n",
    "\n",
    "arr = np.array([[1, 2, 3], [4, 5, 6], [7, 8, 9], [10, 11, 12], [13, 14, 15], [16, 17, 18]])\n",
    "\n",
    "print(arr,'\\n')\n",
    "newarr = np.vsplit(arr, 3)\n",
    "\n",
    "print(newarr)"
   ]
  },
  {
   "cell_type": "code",
   "execution_count": null,
   "id": "fcc1eaf7",
   "metadata": {},
   "outputs": [],
   "source": [
    "import numpy as np\n",
    "\n",
    "arr = np.array([[1, 2, 3], [4, 5, 6], [7, 8, 9], [10, 11, 12], [13, 14, 15], [16, 17, 18]])\n",
    "\n",
    "print(arr,'\\n')\n",
    "#newarr = np.vsplit(arr, 5) #Error\n",
    "newarr = np.vsplit(arr, 6)\n",
    "\n",
    "print(newarr)"
   ]
  },
  {
   "cell_type": "code",
   "execution_count": null,
   "id": "428a57d3",
   "metadata": {},
   "outputs": [],
   "source": [
    "# Adding / Removing Elements"
   ]
  },
  {
   "cell_type": "code",
   "execution_count": 38,
   "id": "e09d3542",
   "metadata": {},
   "outputs": [
    {
     "name": "stdout",
     "output_type": "stream",
     "text": [
      "[[1 2 3]\n",
      " [4 5 6]] \n",
      "\n",
      "The shape of first array:\n",
      "(2, 3) \n",
      "\n",
      "Second array:\n",
      "[[1 2]\n",
      " [3 4]\n",
      " [5 6]] \n",
      "\n",
      "The shape of second array:\n",
      "(3, 2) \n",
      "\n",
      "Resize the second array:\n",
      "[[1 2 3]\n",
      " [4 5 6]\n",
      " [1 2 3]]\n"
     ]
    }
   ],
   "source": [
    "# resize\n",
    "\n",
    "import numpy as np \n",
    "a = np.array([[1,2,3],[4,5,6]]) \n",
    "\n",
    "print(a,'\\n') \n",
    "\n",
    "print('The shape of first array:') \n",
    "print(a.shape, '\\n') \n",
    "  \n",
    "b = np.resize(a, (3,2)) \n",
    "\n",
    "print('Second array:') \n",
    "print(b,'\\n') \n",
    "\n",
    "print('The shape of second array:') \n",
    "print(b.shape,'\\n') \n",
    "  \n",
    "# Observe that first row of a is repeated in b since size is bigger \n",
    "\n",
    "print('Resize the second array:')\n",
    "b = np.resize(a,(3,3)) \n",
    "print(b)"
   ]
  },
  {
   "cell_type": "code",
   "execution_count": 39,
   "id": "083502a7",
   "metadata": {
    "scrolled": true
   },
   "outputs": [
    {
     "name": "stdout",
     "output_type": "stream",
     "text": [
      "First array:\n",
      " [[1 2 3]\n",
      " [4 5 6]] \n",
      "\n",
      "Append elements to array:\n",
      " [1 2 3 4 5 6 7 8 9] \n",
      "\n",
      "Append elements along axis 0:\n",
      " [[1 2 3]\n",
      " [4 5 6]\n",
      " [7 8 9]] \n",
      "\n",
      "Append elements along axis 1:\n",
      " [[1 2 3 5 5 5]\n",
      " [4 5 6 7 8 9]]\n"
     ]
    }
   ],
   "source": [
    "# append, Appends the values to the end of an array\n",
    "import numpy as np \n",
    "a = np.array([[1,2,3],[4,5,6]]) \n",
    "\n",
    "print('First array:\\n',a,'\\n')\n",
    "\n",
    "print('Append elements to array:\\n', np.append(a, [7,8,9]),'\\n') \n",
    "\n",
    "print('Append elements along axis 0:\\n', np.append(a, [[7,8,9]],axis = 0),'\\n')\n",
    "\n",
    "print('Append elements along axis 1:\\n', np.append(a, [[5,5,5],[7,8,9]],axis = 1))"
   ]
  },
  {
   "cell_type": "code",
   "execution_count": 41,
   "id": "d0f973e9",
   "metadata": {},
   "outputs": [
    {
     "name": "stdout",
     "output_type": "stream",
     "text": [
      "First array:\n",
      " [[0 1]\n",
      " [2 3]\n",
      " [4 5]] \n",
      "\n",
      "Axis parameter not passed. The input array is flattened before insertion.\n",
      "[ 0  1  2 11 12  3  4  5] \n",
      "\n",
      "Axis parameter passed. The values array is broadcast to match input array.\n",
      "Broadcast along axis 0:\n",
      "[[ 0  1]\n",
      " [ 2  3]\n",
      " [11 11]\n",
      " [ 4  5]] \n",
      "\n",
      "Broadcast along axis 1:\n",
      "[[ 0 11  1]\n",
      " [ 2 11  3]\n",
      " [ 4 11  5]]\n",
      "******\n",
      "[[ 0 11  1]\n",
      " [ 2 12  3]\n",
      " [ 4 13  5]]\n"
     ]
    }
   ],
   "source": [
    "# insert, Inserts the values along the given axis before the given indices\n",
    "\n",
    "import numpy as np \n",
    "a = np.array([[0,1],[2,3],[4,5]]) \n",
    "\n",
    "print('First array:\\n', a, '\\n')\n",
    "\n",
    "print('Axis parameter not passed. The input array is flattened before insertion.')\n",
    "print(np.insert(a,3,[11,12]), '\\n')\n",
    "\n",
    "print('Axis parameter passed. The values array is broadcast to match input array.')\n",
    "\n",
    "print('Broadcast along axis 0:') \n",
    "print(np.insert(a,2,11,axis = 0), '\\n') \n",
    "\n",
    "print('Broadcast along axis 1:')\n",
    "print(np.insert(a,1,11,axis = 1))\n",
    "print('******')\n",
    "print(np.insert(a,1,[11,12,13],axis = 1))\n"
   ]
  },
  {
   "cell_type": "code",
   "execution_count": 42,
   "id": "eeccf994",
   "metadata": {},
   "outputs": [
    {
     "name": "stdout",
     "output_type": "stream",
     "text": [
      "First array:\n",
      " [[0 1]\n",
      " [2 3]\n",
      " [4 5]] \n",
      "\n",
      "Axis parameter not passed. The input array is flattened before insertion.\n",
      "[ 0  1  2 11 12  3  4  5] \n",
      "\n",
      "Axis parameter passed. The values array is broadcast to match input array.\n",
      "Broadcast along axis 0:\n",
      "[[ 0  1]\n",
      " [ 2  3]\n",
      " [11 12]\n",
      " [ 4  5]] \n",
      "\n",
      "Broadcast along axis 1:\n",
      "[[ 0 11  1]\n",
      " [ 2 12  3]\n",
      " [ 4 13  5]]\n"
     ]
    }
   ],
   "source": [
    "import numpy as np \n",
    "a = np.array([[0,1],[2,3],[4,5]]) \n",
    "\n",
    "print('First array:\\n', a, '\\n')\n",
    "\n",
    "print('Axis parameter not passed. The input array is flattened before insertion.')\n",
    "print(np.insert(a,3,[11,12]), '\\n')\n",
    "\n",
    "print('Axis parameter passed. The values array is broadcast to match input array.')\n",
    "\n",
    "print('Broadcast along axis 0:') \n",
    "print(np.insert(a,2,[11, 12],axis = 0), '\\n') \n",
    "\n",
    "print('Broadcast along axis 1:')\n",
    "print(np.insert(a,1,[11, 12, 13],axis = 1))"
   ]
  },
  {
   "cell_type": "code",
   "execution_count": null,
   "id": "a8c57124",
   "metadata": {},
   "outputs": [],
   "source": [
    "# delete, Returns a new array with sub-arrays along an axis deleted\n",
    "# Numpy.delete(arr, obj, axis)\n",
    "\n",
    "arr: Input array\n",
    "\n",
    "obj: Can be a slice, an integer or array of integers, indicating the subarray to be deleted from the input array\n",
    "\n",
    "axis: The axis along which to delete the given subarray. If not given, arr is flattened"
   ]
  },
  {
   "cell_type": "code",
   "execution_count": 43,
   "id": "d7768aa9",
   "metadata": {},
   "outputs": [
    {
     "name": "stdout",
     "output_type": "stream",
     "text": [
      "First array:\n",
      " [[ 0  1  2  3]\n",
      " [ 4  5  6  7]\n",
      " [ 8  9 10 11]] \n",
      "\n",
      "Array flattened before delete operation as axis not used:\n",
      "[ 0  1  2  3  4  6  7  8  9 10 11] \n",
      "\n",
      "Column 2 deleted:\n",
      "[[ 0  2  3]\n",
      " [ 4  6  7]\n",
      " [ 8 10 11]] \n",
      "\n",
      "Row 2 deleted:\n",
      "[[ 0  1  2  3]\n",
      " [ 8  9 10 11]] \n",
      "\n",
      "A slice containing alternate values from array deleted:\n",
      "[ 2  4  6  8 10]\n"
     ]
    }
   ],
   "source": [
    "import numpy as np \n",
    "a = np.arange(12).reshape(3,4) \n",
    "\n",
    "print('First array:\\n', a, '\\n')\n",
    "\n",
    "print('Array flattened before delete operation as axis not used:') \n",
    "print(np.delete(a,5), '\\n') \n",
    "\n",
    "print('Column 2 deleted:')  \n",
    "print(np.delete(a,1,axis = 1),'\\n')\n",
    "# print(np.delete(a,2,axis = 1),'\\n')\n",
    "\n",
    "print('Row 2 deleted:')  \n",
    "print(np.delete(a,1,axis = 0),'\\n')\n",
    "\n",
    "print('A slice containing alternate values from array deleted:' )\n",
    "a = np.array([1,2,3,4,5,6,7,8,9,10]) \n",
    "print(np.delete(a, np.s_[::2]))"
   ]
  },
  {
   "cell_type": "code",
   "execution_count": 44,
   "id": "b683c694",
   "metadata": {},
   "outputs": [
    {
     "name": "stdout",
     "output_type": "stream",
     "text": [
      "First array:\n",
      " [[ 0  4  8]\n",
      " [ 1  5  9]\n",
      " [ 2  6 10]\n",
      " [ 3  7 11]] \n",
      "\n",
      "Column 3 deleted:\n",
      "[[0 4]\n",
      " [1 5]\n",
      " [2 6]\n",
      " [3 7]] \n",
      "\n"
     ]
    }
   ],
   "source": [
    "import numpy as np \n",
    "a = np.arange(12).reshape(3,4) \n",
    "a=np.transpose(a)\n",
    "\n",
    "print('First array:\\n', a, '\\n')\n",
    "\n",
    "print('Column 3 deleted:')  \n",
    "print(np.delete(a,2,axis = 1),'\\n')"
   ]
  },
  {
   "cell_type": "code",
   "execution_count": 45,
   "id": "d9663090",
   "metadata": {},
   "outputs": [
    {
     "name": "stdout",
     "output_type": "stream",
     "text": [
      "First array:\n",
      " [[ 0  1  2  3]\n",
      " [ 4  5  6  7]\n",
      " [ 8  9 10 11]] \n",
      "\n",
      "Row 2 deleted:\n",
      "[[ 0  1  2  3]\n",
      " [ 8  9 10 11]] \n",
      "\n"
     ]
    }
   ],
   "source": [
    "import numpy as np \n",
    "a = np.arange(12).reshape(3,4) \n",
    "\n",
    "print('First array:\\n', a, '\\n')\n",
    "\n",
    "print('Row 2 deleted:')  \n",
    "print(np.delete(a,1,axis = 0),'\\n')"
   ]
  },
  {
   "cell_type": "code",
   "execution_count": null,
   "id": "797ca5bd",
   "metadata": {},
   "outputs": [],
   "source": [
    "K184060744 - Nguyễn Thị Hồng Nhung"
   ]
  },
  {
   "cell_type": "code",
   "execution_count": null,
   "id": "af573930",
   "metadata": {},
   "outputs": [],
   "source": [
    "# unique, Finds the unique elements of an array\n",
    "# numpy.unique(arr, return_index, return_inverse, return_counts)\n",
    "\n",
    "1\t\n",
    "arr\n",
    "\n",
    "The input array. Will be flattened if not 1-D array\n",
    "\n",
    "2\t\n",
    "return_index\n",
    "\n",
    "If True, returns the indices of elements in the input array\n",
    "\n",
    "3\t\n",
    "return_inverse\n",
    "\n",
    "If True, returns the indices of unique array, which can be used to reconstruct the input array\n",
    "\n",
    "4\t\n",
    "return_counts\n",
    "\n",
    "If True, returns the number of times the element in unique array appears in the original array\n",
    "\n"
   ]
  },
  {
   "cell_type": "code",
   "execution_count": 1,
   "id": "1d3089a7",
   "metadata": {},
   "outputs": [
    {
     "name": "stdout",
     "output_type": "stream",
     "text": [
      "First array:\n",
      " [5 2 6 2 7 5 6 8 2 9] \n",
      "\n",
      "Unique values of first array:\n",
      "[2 5 6 7 8 9] \n",
      "\n",
      "Unique array and Indices array:\n",
      "[1 0 2 4 7 9] \n",
      "\n",
      "We can see each number corresponds to index in original array:\n",
      "[5 2 6 2 7 5 6 8 2 9] \n",
      "\n",
      "Indices of unique array:\n",
      "[2 5 6 7 8 9] \n",
      "\n",
      "Indices_inverse are:\n",
      "[1 0 2 0 3 1 2 4 0 5]\n",
      "Reconstruct the original array using indices:\n",
      "[5 2 6 2 7 5 6 8 2 9] \n",
      "\n",
      "Return the count of repetitions of unique elements:\n",
      "[2 5 6 7 8 9]\n",
      "[3 2 2 1 1 1]\n",
      "None\n"
     ]
    }
   ],
   "source": [
    "import numpy as np \n",
    "a = np.array([5,2,6,2,7,5,6,8,2,9]) \n",
    "\n",
    "print('First array:\\n',a,'\\n') \n",
    "\n",
    "print('Unique values of first array:')\n",
    "u = np.unique(a) \n",
    "print(u, '\\n') \n",
    "\n",
    "print('Unique array and Indices array:')\n",
    "u,indices = np.unique(a, return_index = True) \n",
    "print(indices,'\\n') \n",
    "\n",
    "print('We can see each number corresponds to index in original array:') \n",
    "print(a,'\\n') \n",
    "\n",
    "print('Indices of unique array:')\n",
    "u,indices_inverse = np.unique(a,return_inverse = True) \n",
    "print(u,'\\n') \n",
    "\n",
    "print('Indices_inverse are:')\n",
    "print(indices_inverse)\n",
    "\n",
    "print('Reconstruct the original array using indices:') \n",
    "print(u[indices_inverse],'\\n')\n",
    "\n",
    "print('Return the count of repetitions of unique elements:')\n",
    "u,counts = np.unique(a,return_counts = True) \n",
    "print(u) \n",
    "print(counts)\n",
    "print(u.base)"
   ]
  },
  {
   "cell_type": "code",
   "execution_count": null,
   "id": "f46936ff",
   "metadata": {},
   "outputs": [],
   "source": [
    "# Searching Arrays"
   ]
  },
  {
   "cell_type": "code",
   "execution_count": 2,
   "id": "08ef8cde",
   "metadata": {},
   "outputs": [
    {
     "name": "stdout",
     "output_type": "stream",
     "text": [
      "(array([3, 5, 6], dtype=int64),)\n"
     ]
    }
   ],
   "source": [
    "# where(), return the indexes that get a match\n",
    "import numpy as np\n",
    "\n",
    "arr = np.array([1, 2, 3, 4, 5, 4, 4])\n",
    "\n",
    "x = np.where(arr == 4)\n",
    "\n",
    "print(x)"
   ]
  },
  {
   "cell_type": "code",
   "execution_count": 3,
   "id": "43161b07",
   "metadata": {},
   "outputs": [
    {
     "name": "stdout",
     "output_type": "stream",
     "text": [
      "(array([1, 3, 5, 7], dtype=int64),)\n"
     ]
    }
   ],
   "source": [
    "import numpy as np\n",
    "\n",
    "arr = np.array([1, 2, 3, 4, 5, 6, 7, 8])\n",
    "\n",
    "x = np.where(arr%2 == 0)\n",
    "\n",
    "print(x)"
   ]
  },
  {
   "cell_type": "code",
   "execution_count": 4,
   "id": "b511c840",
   "metadata": {},
   "outputs": [
    {
     "name": "stdout",
     "output_type": "stream",
     "text": [
      "(array([0, 2, 4, 6], dtype=int64),)\n"
     ]
    }
   ],
   "source": [
    "import numpy as np\n",
    "\n",
    "arr = np.array([1, 2, 3, 4, 5, 6, 7, 8])\n",
    "\n",
    "x = np.where(arr%2 == 1)\n",
    "\n",
    "print(x)"
   ]
  },
  {
   "cell_type": "code",
   "execution_count": 5,
   "id": "2e2145f7",
   "metadata": {},
   "outputs": [
    {
     "name": "stdout",
     "output_type": "stream",
     "text": [
      "x:\n",
      " [[0 1 2]\n",
      " [3 4 5]\n",
      " [6 7 8]]\n",
      "Indices of elements > 3\n",
      "(array([1, 1, 2, 2, 2], dtype=int64), array([1, 2, 0, 1, 2], dtype=int64))\n",
      "Use these indices to get elements satisfying the condition\n",
      "[4 5 6 7 8]\n"
     ]
    }
   ],
   "source": [
    "import numpy as np \n",
    "x = np.arange(9).reshape(3, 3) \n",
    "\n",
    "print('x:\\n',x)\n",
    "\n",
    "print('Indices of elements > 3') \n",
    "y = np.where(x > 3) \n",
    "print(y)\n",
    "\n",
    "print('Use these indices to get elements satisfying the condition')\n",
    "print(x[y])"
   ]
  },
  {
   "cell_type": "code",
   "execution_count": 6,
   "id": "1b61ff5a",
   "metadata": {},
   "outputs": [
    {
     "name": "stdout",
     "output_type": "stream",
     "text": [
      "x:\n",
      " [[0 1 2]\n",
      " [3 4 5]\n",
      " [6 7 8]]\n",
      "Element-wise value of condition\n",
      " [[ True False  True]\n",
      " [False  True False]\n",
      " [ True False  True]]\n",
      "Extract elements using condition\n",
      "[0 2 4 6 8]\n"
     ]
    }
   ],
   "source": [
    "# extract() function returns the elements satisfying any condition\n",
    "import numpy as np \n",
    "x = np.arange(9).reshape(3, 3) \n",
    "\n",
    "print('x:\\n',x)\n",
    "\n",
    "# define a condition \n",
    "condition = np.mod(x,2) == 0 \n",
    "\n",
    "print('Element-wise value of condition\\n', condition) \n",
    "\n",
    "print('Extract elements using condition')\n",
    "print(np.extract(condition, x))"
   ]
  },
  {
   "cell_type": "code",
   "execution_count": 7,
   "id": "7e5b6a8a",
   "metadata": {},
   "outputs": [
    {
     "name": "stdout",
     "output_type": "stream",
     "text": [
      "a:\n",
      " [[30 40  0]\n",
      " [ 0 20 10]\n",
      " [50  0 60]] \n",
      "\n",
      "Applying nonzero() function:\n",
      "(array([0, 0, 1, 1, 2, 2], dtype=int64), array([0, 1, 1, 2, 0, 2], dtype=int64))\n",
      "[30 40 20 10 50 60]\n"
     ]
    }
   ],
   "source": [
    "# nonzero() function returns the indices of non-zero elements in the input array\n",
    "import numpy as np \n",
    "a = np.array([[30,40,0],[0,20,10],[50,0,60]]) \n",
    "\n",
    "print('a:\\n',a,'\\n')\n",
    "\n",
    "print('Applying nonzero() function:') \n",
    "b = np.nonzero(a)\n",
    "print(b)\n",
    "print(a[b])"
   ]
  },
  {
   "cell_type": "code",
   "execution_count": 8,
   "id": "f4366a5f",
   "metadata": {},
   "outputs": [
    {
     "name": "stdout",
     "output_type": "stream",
     "text": [
      "a:\n",
      " [[30 40 70]\n",
      " [80 20 10]\n",
      " [50 90 60]] \n",
      "\n",
      "Applying argmax() function:\n",
      "7 \n",
      "\n",
      "Index of maximum number in flattened array\n",
      "[30 40 70 80 20 10 50 90 60] \n",
      "\n",
      "Array containing indices of maximum along axis 0:\n",
      "[1 2 0] \n",
      "\n",
      "Array containing indices of maximum along axis 1:\n",
      "[2 0 1] \n",
      "\n",
      "Applying argmin() function:\n",
      "5 \n",
      "\n",
      "Flattened array:\n",
      "10 \n",
      "\n",
      "Flattened array along axis 0:\n",
      "[0 1 1] \n",
      "\n",
      "Flattened array along axis 1:\n",
      "[0 2 0]\n"
     ]
    }
   ],
   "source": [
    "# numpy.argmax() and numpy.argmin()\n",
    "# These two functions return the indices of maximum and minimum elements\n",
    "# respectively along the given axis.\n",
    "\n",
    "import numpy as np \n",
    "a = np.array([[30,40,70],[80,20,10],[50,90,60]]) \n",
    "\n",
    "print('a:\\n',a,'\\n')\n",
    "\n",
    "print('Applying argmax() function:') \n",
    "print (np.argmax(a),'\\n') \n",
    "\n",
    "print('Index of maximum number in flattened array') \n",
    "print(a.flatten(),'\\n') \n",
    "\n",
    "print('Array containing indices of maximum a\n",
    "      \n",
    "      \n",
    "      long axis 0:') \n",
    "maxindex = np.argmax(a, axis = 0) \n",
    "print(maxindex, '\\n')  \n",
    "\n",
    "print('Array containing indices of maximum along axis 1:') \n",
    "maxindex = np.argmax(a, axis = 1) \n",
    "print(maxindex,'\\n')  \n",
    "\n",
    "print('Applying argmin() function:')\n",
    "minindex = np.argmin(a) \n",
    "print(minindex, '\\n')  \n",
    "   \n",
    "print('Flattened array:') \n",
    "print(a.flatten()[minindex], '\\n')  \n",
    "\n",
    "print('Flattened array along axis 0:') \n",
    "minindex = np.argmin(a, axis = 0) \n",
    "print(minindex,'\\n')\n",
    "\n",
    "print('Flattened array along axis 1:') \n",
    "minindex = np.argmin(a, axis = 1) \n",
    "print(minindex)"
   ]
  },
  {
   "cell_type": "code",
   "execution_count": 26,
   "id": "b2f968a9",
   "metadata": {},
   "outputs": [
    {
     "name": "stdout",
     "output_type": "stream",
     "text": [
      "1\n"
     ]
    }
   ],
   "source": [
    "# searchsorted(), performs a binary search in the array, \n",
    "# and returns the index where the specified value would be inserted to maintain the search order.\n",
    "import numpy as np\n",
    "\n",
    "arr = np.array([6, 7, 8, 9])\n",
    "# arr = np.array([6, 8, 9])\n",
    "\n",
    "x = np.searchsorted(arr, 7)\n",
    "\n",
    "print(x)\n",
    "\n",
    "# The number 7 should be inserted on index 1 to remain the sort order.\n",
    "\n",
    "# The method starts the search from the left and returns the first index \n",
    "# where the number 7 is no longer larger than the next value."
   ]
  },
  {
   "cell_type": "code",
   "execution_count": 10,
   "id": "da3bc028",
   "metadata": {},
   "outputs": [
    {
     "name": "stdout",
     "output_type": "stream",
     "text": [
      "2\n"
     ]
    }
   ],
   "source": [
    "# Search From the Right Side\n",
    "import numpy as np\n",
    "\n",
    "arr = np.array([6, 7, 8, 9])\n",
    "\n",
    "x = np.searchsorted(arr, 7, side='right')\n",
    "\n",
    "print(x)\n",
    "# The number 7 should be inserted on index 2 to remain the sort order.\n",
    "\n",
    "# The method starts the search from the right and returns the first index\n",
    "# where the number 7 is no longer less than the next value."
   ]
  },
  {
   "cell_type": "code",
   "execution_count": 11,
   "id": "a1d3e22b",
   "metadata": {},
   "outputs": [
    {
     "name": "stdout",
     "output_type": "stream",
     "text": [
      "[1 2 3]\n"
     ]
    }
   ],
   "source": [
    "# Multiple Values\n",
    "import numpy as np\n",
    "\n",
    "arr = np.array([1, 3, 5, 7])\n",
    "\n",
    "x = np.searchsorted(arr, [2, 4, 6])\n",
    "\n",
    "print(x)\n",
    "\n",
    "# The return value is an array: [1 2 3] containing the three indexes\n",
    "# where 2, 4, 6 would be inserted in the original array to maintain the order."
   ]
  },
  {
   "cell_type": "code",
   "execution_count": null,
   "id": "f49453f5",
   "metadata": {},
   "outputs": [],
   "source": [
    "# Sorting Arrays"
   ]
  },
  {
   "cell_type": "code",
   "execution_count": 12,
   "id": "64c501f5",
   "metadata": {},
   "outputs": [
    {
     "name": "stdout",
     "output_type": "stream",
     "text": [
      "[0 1 2 3]\n"
     ]
    }
   ],
   "source": [
    "# sort()\n",
    "import numpy as np\n",
    "\n",
    "arr = np.array([3, 2, 0, 1])\n",
    "\n",
    "print(np.sort(arr))"
   ]
  },
  {
   "cell_type": "code",
   "execution_count": 13,
   "id": "377988d1",
   "metadata": {},
   "outputs": [
    {
     "name": "stdout",
     "output_type": "stream",
     "text": [
      "['apple' 'banana' 'cherry']\n"
     ]
    }
   ],
   "source": [
    "import numpy as np\n",
    "\n",
    "arr = np.array(['banana', 'cherry', 'apple'])\n",
    "\n",
    "print(np.sort(arr))"
   ]
  },
  {
   "cell_type": "code",
   "execution_count": 14,
   "id": "ebc64d4a",
   "metadata": {},
   "outputs": [
    {
     "name": "stdout",
     "output_type": "stream",
     "text": [
      "[False  True  True]\n"
     ]
    }
   ],
   "source": [
    "import numpy as np\n",
    "\n",
    "arr = np.array([True, False, True])\n",
    "\n",
    "print(np.sort(arr))"
   ]
  },
  {
   "cell_type": "code",
   "execution_count": 15,
   "id": "eec92b9e",
   "metadata": {},
   "outputs": [
    {
     "name": "stdout",
     "output_type": "stream",
     "text": [
      "[[2 3 4]\n",
      " [0 1 5]]\n"
     ]
    }
   ],
   "source": [
    "import numpy as np\n",
    "\n",
    "arr = np.array([[3, 2, 4], [5, 0, 1]])\n",
    "\n",
    "print(np.sort(arr))"
   ]
  },
  {
   "cell_type": "code",
   "execution_count": null,
   "id": "cc71cf31",
   "metadata": {},
   "outputs": [],
   "source": [
    "numpy.sort(a, axis, kind, order)\n",
    "1\t\n",
    "a\n",
    "\n",
    "Array to be sorted\n",
    "\n",
    "2\t\n",
    "axis\n",
    "\n",
    "The axis along which the array is to be sorted. If none, the array is flattened, sorting on the last axis\n",
    "\n",
    "3\t\n",
    "kind (‘quicksort’, ‘mergesort’, ‘heapsort’)\n",
    "\n",
    "Default is quicksort\n",
    "\n",
    "4\t\n",
    "order\n",
    "\n",
    "If the array contains fields, the order of fields to be sorted\n",
    "\n"
   ]
  },
  {
   "cell_type": "code",
   "execution_count": 16,
   "id": "8926511a",
   "metadata": {},
   "outputs": [
    {
     "name": "stdout",
     "output_type": "stream",
     "text": [
      "a:\n",
      " [[3 7]\n",
      " [9 1]] \n",
      "\n",
      "Applying sort() function: [[3 7]\n",
      " [9 1]] \n",
      "\n",
      "Sort along axis 0:\n",
      "[[3 1]\n",
      " [9 7]] \n",
      "\n",
      "Our array is:\n",
      " [(b'raju', 27) (b'anil', 25) (b'ravi', 17) (b'raju', 21)] \n",
      "\n",
      "Order by name, then by age:\n",
      "[(b'anil', 25) (b'raju', 21) (b'raju', 27) (b'ravi', 17)]\n"
     ]
    }
   ],
   "source": [
    "import numpy as np  \n",
    "a = np.array([[3,7],[9,1]]) \n",
    "\n",
    "print('a:\\n', a, '\\n') \n",
    "\n",
    "print('Applying sort() function:', a, '\\n') \n",
    "  \n",
    "print('Sort along axis 0:') \n",
    "print(np.sort(a, axis = 0), '\\n') #Theo cột (axis = 0)\n",
    "\n",
    "# Order parameter in sort function \n",
    "dt = np.dtype([('name', 'S10'),('age', int)]) \n",
    "a = np.array([(\"raju\",27),(\"anil\",25),(\"ravi\", 17), (\"raju\",21)], dtype = dt) \n",
    "\n",
    "print('Our array is:\\n',a,'\\n') \n",
    "\n",
    "print('Order by name, then by age:') \n",
    "print(np.sort(a, order = ['name', 'age']))"
   ]
  },
  {
   "cell_type": "code",
   "execution_count": 17,
   "id": "e1f843cb",
   "metadata": {},
   "outputs": [
    {
     "name": "stdout",
     "output_type": "stream",
     "text": [
      "Our array is:\n",
      " [3 1 2] \n",
      "\n",
      "Applying argsort() to x:\n",
      "[1 2 0] \n",
      "\n",
      "Reconstruct original array in sorted order:\n",
      "[1 2 3] \n",
      "\n",
      "Reconstruct the original array using loop:\n",
      "1\n",
      "2\n",
      "3\n"
     ]
    }
   ],
   "source": [
    "# numpy.argsort() function performs an indirect sort on input array, \n",
    "# along the given axis and using a specified kind of sort to return the array of indices of data.\n",
    "# This indices array is used to construct the sorted array\n",
    "\n",
    "import numpy as np \n",
    "x = np.array([3, 1, 2]) \n",
    "\n",
    "print('Our array is:\\n', x, '\\n') \n",
    "\n",
    "print('Applying argsort() to x:') \n",
    "y = np.argsort(x) \n",
    "print(y,'\\n') \n",
    "\n",
    "print('Reconstruct original array in sorted order:') \n",
    "print(x[y],'\\n') \n",
    "\n",
    "print('Reconstruct the original array using loop:')\n",
    "for i in y: \n",
    "   print(x[i])"
   ]
  },
  {
   "cell_type": "code",
   "execution_count": 18,
   "id": "932d9e8d",
   "metadata": {},
   "outputs": [
    {
     "name": "stdout",
     "output_type": "stream",
     "text": [
      "Applying lexsort() function:\n",
      "[3 1 2 0] \n",
      "\n",
      "Use this index to get sorted data:\n",
      "['amar, f.y.', 'anil, s.y.', 'raju, f.y.', 'raju, s.y.']\n"
     ]
    }
   ],
   "source": [
    "# lexsort()\n",
    "# function performs an indirect sort using a sequence of keys.\n",
    "# The keys can be seen as a column in a spreadsheet.\n",
    "# The function returns an array of indices, using which the sorted data can be obtained.\n",
    "# Note, that the last key happens to be the primary key of sort\n",
    "import numpy as np \n",
    "\n",
    "nm = ('raju','anil','raju','amar') \n",
    "dv = ('s.y.', 's.y.', 'f.y.', 'f.y.') \n",
    "ind = np.lexsort((dv,nm)) \n",
    "\n",
    "print('Applying lexsort() function:')\n",
    "print(ind, '\\n') \n",
    "\n",
    "print('Use this index to get sorted data:')\n",
    "print([nm[i] + \", \" + dv[i] for i in ind])"
   ]
  },
  {
   "cell_type": "code",
   "execution_count": 19,
   "id": "cfc0a33a",
   "metadata": {},
   "outputs": [
    {
     "name": "stdout",
     "output_type": "stream",
     "text": [
      "[41 43]\n"
     ]
    }
   ],
   "source": [
    "# Filtering Arrays\n",
    "# Getting some elements out of an existing array and creating a new array out of them\n",
    "# you filter an array using a boolean index list\n",
    "\n",
    "import numpy as np\n",
    "\n",
    "arr = np.array([41, 42, 43, 44])\n",
    "\n",
    "x = [True, False, True, False]\n",
    "\n",
    "newarr = arr[x]\n",
    "\n",
    "print(newarr)"
   ]
  },
  {
   "cell_type": "code",
   "execution_count": 20,
   "id": "63b38445",
   "metadata": {},
   "outputs": [
    {
     "name": "stdout",
     "output_type": "stream",
     "text": [
      "[False, False, True, True]\n",
      "[43 44]\n"
     ]
    }
   ],
   "source": [
    "# Creating the Filter Array\n",
    "\n",
    "import numpy as np\n",
    "\n",
    "arr = np.array([41, 42, 43, 44])\n",
    "\n",
    "# Create an empty list\n",
    "filter_arr = []\n",
    "\n",
    "# go through each element in arr\n",
    "for element in arr:\n",
    "  # if the element is higher than 42, set the value to True, otherwise False:\n",
    "  if element > 42:\n",
    "    filter_arr.append(True)\n",
    "  else:\n",
    "    filter_arr.append(False)\n",
    "\n",
    "newarr = arr[filter_arr]\n",
    "\n",
    "print(filter_arr)\n",
    "print(newarr)"
   ]
  },
  {
   "cell_type": "code",
   "execution_count": 21,
   "id": "ee6c56af",
   "metadata": {},
   "outputs": [
    {
     "name": "stdout",
     "output_type": "stream",
     "text": [
      "[False, True, False, True, False, True, False]\n",
      "[2 4 6]\n"
     ]
    }
   ],
   "source": [
    "import numpy as np\n",
    "\n",
    "arr = np.array([1, 2, 3, 4, 5, 6, 7])\n",
    "\n",
    "# Create an empty list\n",
    "filter_arr = []\n",
    "\n",
    "# go through each element in arr\n",
    "for element in arr:\n",
    "  # if the element is completely divisble by 2, set the value to True, otherwise False\n",
    "  if element % 2 == 0:\n",
    "    filter_arr.append(True)\n",
    "  else:\n",
    "    filter_arr.append(False)\n",
    "\n",
    "newarr = arr[filter_arr]\n",
    "\n",
    "print(filter_arr)\n",
    "print(newarr)"
   ]
  },
  {
   "cell_type": "code",
   "execution_count": 22,
   "id": "65e7fdc9",
   "metadata": {},
   "outputs": [
    {
     "name": "stdout",
     "output_type": "stream",
     "text": [
      "[False False  True  True]\n",
      "[43 44]\n"
     ]
    }
   ],
   "source": [
    "# Creating Filter Directly From Array\n",
    "import numpy as np\n",
    "\n",
    "arr = np.array([41, 42, 43, 44])\n",
    "\n",
    "filter_arr = arr > 42\n",
    "\n",
    "newarr = arr[filter_arr]\n",
    "\n",
    "print(filter_arr)\n",
    "print(newarr)"
   ]
  },
  {
   "cell_type": "code",
   "execution_count": 23,
   "id": "0333ce4c",
   "metadata": {},
   "outputs": [
    {
     "name": "stdout",
     "output_type": "stream",
     "text": [
      "[False  True False  True False  True False]\n",
      "[2 4 6]\n"
     ]
    }
   ],
   "source": [
    "import numpy as np\n",
    "\n",
    "arr = np.array([1, 2, 3, 4, 5, 6, 7])\n",
    "\n",
    "filter_arr = arr % 2 == 0\n",
    "\n",
    "newarr = arr[filter_arr]\n",
    "\n",
    "print(filter_arr)\n",
    "print(newarr)"
   ]
  },
  {
   "cell_type": "code",
   "execution_count": 24,
   "id": "22b0af73",
   "metadata": {},
   "outputs": [
    {
     "name": "stdout",
     "output_type": "stream",
     "text": [
      "5 \n",
      "\n",
      "[1 1 2 1] \n",
      "\n",
      "[2 3] \n",
      "\n",
      "[[2]\n",
      " [3]]\n"
     ]
    }
   ],
   "source": [
    "a = np.array([[0, 1, 7, 0],\n",
    "              [3, 0, 2, 19]])\n",
    "print(np.count_nonzero(a),'\\n')\n",
    "\n",
    "print(np.count_nonzero(a, axis=0),'\\n')\n",
    "\n",
    "print(np.count_nonzero(a, axis=1),'\\n')\n",
    "\n",
    "print(np.count_nonzero(a, axis=1, keepdims=True))\n"
   ]
  }
 ],
 "metadata": {
  "kernelspec": {
   "display_name": "Python 3",
   "language": "python",
   "name": "python3"
  },
  "language_info": {
   "codemirror_mode": {
    "name": "ipython",
    "version": 3
   },
   "file_extension": ".py",
   "mimetype": "text/x-python",
   "name": "python",
   "nbconvert_exporter": "python",
   "pygments_lexer": "ipython3",
   "version": "3.8.8"
  }
 },
 "nbformat": 4,
 "nbformat_minor": 5
}
