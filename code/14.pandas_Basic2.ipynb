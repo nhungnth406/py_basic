{
 "cells": [
  {
   "cell_type": "code",
   "execution_count": null,
   "metadata": {},
   "outputs": [],
   "source": [
    "1/ Reindexing\n",
    "Reindex to Align with Other Objects\n",
    "Filling while ReIndexing\n",
    "Limits on Filling while Reindexing\n",
    "Renaming\n",
    "\n",
    "2/ set_index\n",
    "\n",
    "3/ reset_index\n",
    "\n",
    "4/ pandas.DataFrame.rename\n",
    "\n",
    "5/ pandas.DataFrame.rename_axis\n",
    "\n",
    "6/ Iteration\n",
    "iteritems() − to iterate over the (key,value) pairs\n",
    "iterrows() − iterate over the rows as (index,series) pairs\n",
    "itertuples() − iterate over the rows as namedtuples\n",
    "\n",
    "7/ Sorting\n",
    "By Label: sort_index() \n",
    "Sort the Columns\n",
    "By Value\n",
    "Sorting Algorithm\n",
    "\n",
    "8/ Descriptive Statistics: sum(), mean(), std(), describe()\n",
    "\n",
    "9/ Working with Text Data\n",
    "\n",
    "10/ Statistical Functions: pct_change(), Covariance, Correlation, Data Ranking\n"
   ]
  },
  {
   "cell_type": "code",
   "execution_count": null,
   "metadata": {},
   "outputs": [],
   "source": [
    "1/ Reindexing\n",
    "\n",
    "Reindexing changes the row labels and column labels of a DataFrame. To reindex means to conform the data\n",
    "to match a given set of labels along a particular axis.\n",
    "\n",
    "Multiple operations can be accomplished through indexing like −\n",
    "\n",
    "Reorder the existing data to match a new set of labels.\n",
    "\n",
    "Insert missing value (NA) markers in label locations where no data for the label existed."
   ]
  },
  {
   "cell_type": "code",
   "execution_count": 3,
   "metadata": {},
   "outputs": [
    {
     "name": "stdout",
     "output_type": "stream",
     "text": [
      "            A     x         y       C           D\n",
      "0  2016-01-01   0.0  0.055736    High   98.711677\n",
      "1  2016-01-02   1.0  0.194887     Low   95.080900\n",
      "2  2016-01-03   2.0  0.917360    High   73.627051\n",
      "3  2016-01-04   3.0  0.222255  Medium  107.852307\n",
      "4  2016-01-05   4.0  0.963420  Medium  112.063995\n",
      "5  2016-01-06   5.0  0.319463  Medium   95.298387\n",
      "6  2016-01-07   6.0  0.798221     Low  103.525562\n",
      "7  2016-01-08   7.0  0.891421  Medium  113.740723\n",
      "8  2016-01-09   8.0  0.450852    High  127.095933\n",
      "9  2016-01-10   9.0  0.533124     Low  109.003934\n",
      "10 2016-01-11  10.0  0.994002     Low   87.966919\n",
      "11 2016-01-12  11.0  0.146518     Low  109.450578\n",
      "12 2016-01-13  12.0  0.829900  Medium  110.795746\n",
      "13 2016-01-14  13.0  0.238532    High  100.690269\n",
      "14 2016-01-15  14.0  0.480238    High  110.553354\n",
      "15 2016-01-16  15.0  0.079047     Low  111.977198\n",
      "16 2016-01-17  16.0  0.453213  Medium  102.352305\n",
      "17 2016-01-18  17.0  0.821366     Low   95.238873\n",
      "18 2016-01-19  18.0  0.125969  Medium   82.896324\n",
      "19 2016-01-20  19.0  0.935012     Low   98.611604 \n",
      "\n",
      "reindex the DataFrame:\n",
      "\n",
      "           A       C   B\n",
      "0 2016-01-01    High NaN\n",
      "2 2016-01-03    High NaN\n",
      "5 2016-01-06  Medium NaN\n"
     ]
    }
   ],
   "source": [
    "import pandas as pd\n",
    "import numpy as np\n",
    "\n",
    "N=20\n",
    "\n",
    "df = pd.DataFrame({\n",
    "   'A': pd.date_range(start='2016-01-01',periods=N,freq='D'),\n",
    "   'x': np.linspace(0,stop=N-1,num=N),\n",
    "   'y': np.random.rand(N),\n",
    "   'C': np.random.choice(['Low','Medium','High'],N).tolist(),\n",
    "   'D': np.random.normal(100, 10, size=(N)).tolist()\n",
    "})\n",
    "\n",
    "print(df,'\\n')\n",
    "\n",
    "print('Reindex the DataFrame:\\n')\n",
    "df_reindexed = df.reindex(index=[0,2,5], columns=['A', 'C', 'B'])\n",
    "\n",
    "print(df_reindexed)"
   ]
  },
  {
   "cell_type": "code",
   "execution_count": 10,
   "metadata": {},
   "outputs": [
    {
     "name": "stdout",
     "output_type": "stream",
     "text": [
      "df1:\n",
      "        col1      col2      col3\n",
      "0 -1.248781 -1.084814  2.876913\n",
      "1  1.077293 -0.180192 -0.266024\n",
      "2 -0.299811 -0.734426 -0.829420\n",
      "3 -0.943160 -0.459368 -1.119868\n",
      "4 -0.131766  0.941568  0.729971\n",
      "5  1.420157  1.283821  1.156662\n",
      "6 -1.076283 -0.201857  0.980275\n",
      "7 -0.055937 -0.371016  0.409064\n",
      "8  1.279674 -0.226673 -0.290727\n",
      "9  0.731910 -1.202654 -2.305791 \n",
      "\n",
      "df2:\n",
      "        col1      col2      col3\n",
      "0  0.096598 -1.776092 -0.617067\n",
      "1  0.228719  1.248413 -2.115623\n",
      "2  0.028009 -0.180583 -0.658622\n",
      "3 -1.271818 -0.685978 -0.588847\n",
      "4  2.105269 -0.836055 -0.624839\n",
      "5  1.131338 -0.873297 -0.137003\n",
      "6  1.027169  0.272934  0.803413 \n",
      "\n",
      "df1.reindex_like:\n",
      "        col1      col2      col3\n",
      "0 -1.248781 -1.084814  2.876913\n",
      "1  1.077293 -0.180192 -0.266024\n",
      "2 -0.299811 -0.734426 -0.829420\n",
      "3 -0.943160 -0.459368 -1.119868\n",
      "4 -0.131766  0.941568  0.729971\n",
      "5  1.420157  1.283821  1.156662\n",
      "6 -1.076283 -0.201857  0.980275 \n",
      "\n",
      "Note − Here, the df1 DataFrame is altered and reindexed like df2. The column names should be matched or else NAN will be added for the entire column label.\n"
     ]
    }
   ],
   "source": [
    "# Reindex to Align with Other Objects\n",
    "# You may wish to take an object and reindex its axes to be labeled the same as another object.\n",
    "\n",
    "import pandas as pd\n",
    "import numpy as np\n",
    "\n",
    "df1 = pd.DataFrame(np.random.randn(10,3),columns=['col1','col2','col3'])\n",
    "df2 = pd.DataFrame(np.random.randn(7,3),columns=['col1','col2','col3'])\n",
    "\n",
    "print('df1:\\n', df1,'\\n')\n",
    "print('df2:\\n', df2,'\\n')\n",
    "\n",
    "df1 = df1.reindex_like(df2)\n",
    "print('df1.reindex_like:\\n', df1,'\\n')\n",
    "\n",
    "print('Note − Here, the df1 DataFrame is altered and reindexed like df2. The column names should be matched or else NAN will be added for the entire column label.')"
   ]
  },
  {
   "cell_type": "code",
   "execution_count": 45,
   "metadata": {},
   "outputs": [
    {
     "name": "stdout",
     "output_type": "stream",
     "text": [
      "df1:\n",
      "             temp_celsius  temp_fahrenheit windspeed\n",
      "2014-02-12          24.3             75.7      high\n",
      "2014-02-13          31.0             87.8      high\n",
      "2014-02-14          22.0             71.6    medium\n",
      "2014-02-15          35.0             95.0    medium \n",
      "\n",
      "df2:\n",
      "             temp_celsius windspeed\n",
      "2014-02-12          28.0       low\n",
      "2014-02-13          30.0       low\n",
      "2014-02-15          35.1    medium \n",
      "\n",
      "df2.reindex_like(df1):\n",
      "             temp_celsius  temp_fahrenheit windspeed\n",
      "2014-02-12          28.0              NaN       low\n",
      "2014-02-13          30.0              NaN       low\n",
      "2014-02-14           NaN              NaN       NaN\n",
      "2014-02-15          35.1              NaN    medium\n"
     ]
    }
   ],
   "source": [
    "import pandas as pd\n",
    "\n",
    "df1 = pd.DataFrame([[24.3, 75.7, 'high'],\n",
    "                    [31, 87.8, 'high'],\n",
    "                    [22, 71.6, 'medium'],\n",
    "                    [35, 95, 'medium']],\n",
    "                   columns=['temp_celsius', 'temp_fahrenheit',\n",
    "                            'windspeed'],\n",
    "                   index=pd.date_range(start='2014-02-12',\n",
    "                                       end='2014-02-15', freq='D'))\n",
    "\n",
    "df2 = pd.DataFrame([[28, 'low'],\n",
    "                    [30, 'low'],\n",
    "                    [35.1, 'medium']],\n",
    "                   columns=['temp_celsius', 'windspeed'],\n",
    "                   index=pd.DatetimeIndex(['2014-02-12', '2014-02-13',\n",
    "                                           '2014-02-15']))\n",
    "\n",
    "print('df1:\\n', df1,'\\n')\n",
    "print('df2:\\n', df2,'\\n')\n",
    "\n",
    "print('df2.reindex_like(df1):\\n',df2.reindex_like(df1))"
   ]
  },
  {
   "cell_type": "code",
   "execution_count": null,
   "metadata": {},
   "outputs": [],
   "source": [
    "# Filling while ReIndexing\n",
    "\n",
    "reindex() takes an optional parameter method which is a filling method with values as follows −\n",
    "\n",
    "pad/ffill − Fill values forward\n",
    "\n",
    "bfill/backfill − Fill values backward\n",
    "\n",
    "nearest − Fill from the nearest index values"
   ]
  },
  {
   "cell_type": "code",
   "execution_count": 44,
   "metadata": {},
   "outputs": [
    {
     "name": "stdout",
     "output_type": "stream",
     "text": [
      "df1:\n",
      "        col1      col2      col3\n",
      "0  1.539139  0.279169  2.285290\n",
      "1  0.696839  0.902736 -2.033072\n",
      "2 -0.697489 -2.156309 -0.974394\n",
      "3 -0.079232  0.387273 -0.984395\n",
      "4 -0.810838  0.229124  0.472889\n",
      "5  0.659593 -0.282681  0.596767 \n",
      "\n",
      "df2:\n",
      "        col1      col2      col3\n",
      "0  1.580942  1.246085  0.943606\n",
      "1 -0.454077  0.293966 -0.100313 \n",
      "\n",
      "Padding NAN's\n",
      "       col1      col2      col3\n",
      "0  1.580942  1.246085  0.943606\n",
      "1 -0.454077  0.293966 -0.100313\n",
      "2       NaN       NaN       NaN\n",
      "3       NaN       NaN       NaN\n",
      "4       NaN       NaN       NaN\n",
      "5       NaN       NaN       NaN \n",
      "\n",
      "Data Frame with Forward Fill:\n",
      "       col1      col2      col3\n",
      "0  1.580942  1.246085  0.943606\n",
      "1 -0.454077  0.293966 -0.100313\n",
      "2 -0.454077  0.293966 -0.100313\n",
      "3 -0.454077  0.293966 -0.100313\n",
      "4 -0.454077  0.293966 -0.100313\n",
      "5 -0.454077  0.293966 -0.100313\n"
     ]
    }
   ],
   "source": [
    "import pandas as pd\n",
    "import numpy as np\n",
    "\n",
    "df1 = pd.DataFrame(np.random.randn(6,3),columns=['col1','col2','col3'])\n",
    "df2 = pd.DataFrame(np.random.randn(2,3),columns=['col1','col2','col3'])\n",
    "\n",
    "print('df1:\\n', df1,'\\n')\n",
    "print('df2:\\n', df2,'\\n')\n",
    "\n",
    "print('Padding NAN\\'s')\n",
    "print(df2.reindex_like(df1),'\\n')\n",
    "\n",
    "# Now Fill the NAN's with preceding Values\n",
    "print(\"Data Frame with Forward Fill:\")\n",
    "print(df2.reindex_like(df1,method='ffill'))"
   ]
  },
  {
   "cell_type": "code",
   "execution_count": 43,
   "metadata": {},
   "outputs": [
    {
     "name": "stdout",
     "output_type": "stream",
     "text": [
      "df1:\n",
      "        col1      col2      col3\n",
      "0  1.058242 -0.211894 -0.670331\n",
      "1  1.011939 -1.058102  0.190539\n",
      "2  1.355099 -0.666030  0.510947\n",
      "3  0.028515 -2.171411 -0.592856\n",
      "4 -0.224246 -0.524624 -0.216552\n",
      "5 -0.348224 -0.050186  0.867766 \n",
      "\n",
      "df2:\n",
      "        col1      col2      col3\n",
      "0 -1.721724  0.393777  2.172908\n",
      "1  0.293308 -1.062767  0.022803 \n",
      "\n",
      "       col1      col2      col3\n",
      "0 -1.721724  0.393777  2.172908\n",
      "1  0.293308 -1.062767  0.022803\n",
      "2       NaN       NaN       NaN\n",
      "3       NaN       NaN       NaN\n",
      "4       NaN       NaN       NaN\n",
      "5       NaN       NaN       NaN \n",
      "\n",
      "Data Frame with Forward Fill limiting to 1:\n",
      "       col1      col2      col3\n",
      "0 -1.721724  0.393777  2.172908\n",
      "1  0.293308 -1.062767  0.022803\n",
      "2  0.293308 -1.062767  0.022803\n",
      "3       NaN       NaN       NaN\n",
      "4       NaN       NaN       NaN\n",
      "5       NaN       NaN       NaN \n",
      "\n",
      "Note − Observe, only the 2th row is filled\n"
     ]
    }
   ],
   "source": [
    "# Limits on Filling while Reindexing\n",
    "\n",
    "import pandas as pd\n",
    "import numpy as np\n",
    " \n",
    "df1 = pd.DataFrame(np.random.randn(6,3),columns=['col1','col2','col3'])\n",
    "df2 = pd.DataFrame(np.random.randn(2,3),columns=['col1','col2','col3'])\n",
    "\n",
    "print('df1:\\n', df1,'\\n')\n",
    "print('df2:\\n', df2,'\\n')\n",
    "\n",
    "# Padding NAN's\n",
    "print(df2.reindex_like(df1),'\\n')\n",
    "\n",
    "# Now Fill the NAN's with preceding Values\n",
    "print (\"Data Frame with Forward Fill limiting to 1:\")\n",
    "print(df2.reindex_like(df1,method='ffill',limit=1),'\\n')\n",
    "\n",
    "print('Note − Observe, only the 2th row is filled')\n"
   ]
  },
  {
   "cell_type": "code",
   "execution_count": 36,
   "metadata": {},
   "outputs": [
    {
     "name": "stdout",
     "output_type": "stream",
     "text": [
      "       col1      col2      col3\n",
      "0  0.595781  0.017480  1.607643\n",
      "1 -0.207789  0.978395 -0.712401\n",
      "2 -1.626889  0.460453 -2.507548\n",
      "3 -0.044926  0.445114 -1.072922\n",
      "4 -0.512499 -0.157697  0.906720\n",
      "5  1.622249  2.321352 -0.956519 \n",
      "\n",
      "After renaming the rows and columns:\n",
      "              c1        c2      col3\n",
      "apple   0.595781  0.017480  1.607643\n",
      "banana -0.207789  0.978395 -0.712401\n",
      "durian -1.626889  0.460453 -2.507548\n",
      "3      -0.044926  0.445114 -1.072922\n",
      "4      -0.512499 -0.157697  0.906720\n",
      "5       1.622249  2.321352 -0.956519 \n",
      "\n",
      "df1:\n",
      "        col1      col2      col3\n",
      "0  0.595781  0.017480  1.607643\n",
      "1 -0.207789  0.978395 -0.712401\n",
      "2 -1.626889  0.460453 -2.507548\n",
      "3 -0.044926  0.445114 -1.072922\n",
      "4 -0.512499 -0.157697  0.906720\n",
      "5  1.622249  2.321352 -0.956519\n"
     ]
    }
   ],
   "source": [
    "# Renaming\n",
    "\n",
    "# The rename() method allows you to relabel an axis based on\n",
    "# some mapping (a dict or Series) or an arbitrary function.\n",
    "\n",
    "import pandas as pd\n",
    "import numpy as np\n",
    "\n",
    "df1 = pd.DataFrame(np.random.randn(6,3),columns=['col1','col2','col3'])\n",
    "print(df1,'\\n')\n",
    "\n",
    "print(\"After renaming the rows and columns:\")\n",
    "print(df1.rename(columns={'col1' : 'c1', 'col2' : 'c2'},\n",
    "index = {0 : 'apple', 1 : 'banana', 2 : 'durian'}),'\\n')\n",
    "\n",
    "print('df1:\\n', df1)"
   ]
  },
  {
   "cell_type": "code",
   "execution_count": 37,
   "metadata": {},
   "outputs": [
    {
     "name": "stdout",
     "output_type": "stream",
     "text": [
      "       col1      col2      col3\n",
      "0 -0.181666  1.875701  0.313357\n",
      "1  1.083115 -1.645688 -1.750919\n",
      "2 -1.232698  1.292557  0.000828\n",
      "3  0.256843 -0.976213  1.406590\n",
      "4  0.426234 -0.198088 -2.384239\n",
      "5  0.372540 -0.776016  0.447568 \n",
      "\n",
      "After renaming the rows and columns:\n",
      "None \n",
      "\n",
      "df1:\n",
      "               c1        c2      col3\n",
      "apple  -0.181666  1.875701  0.313357\n",
      "banana  1.083115 -1.645688 -1.750919\n",
      "durian -1.232698  1.292557  0.000828\n",
      "3       0.256843 -0.976213  1.406590\n",
      "4       0.426234 -0.198088 -2.384239\n",
      "5       0.372540 -0.776016  0.447568\n"
     ]
    }
   ],
   "source": [
    "# The rename() method provides an inplace named parameter, which by default is False and copies the underlying data.\n",
    "# Pass inplace=True to rename the data in place.\n",
    "\n",
    "import pandas as pd\n",
    "import numpy as np\n",
    "\n",
    "df1 = pd.DataFrame(np.random.randn(6,3),columns=['col1','col2','col3'])\n",
    "print(df1,'\\n')\n",
    "\n",
    "print(\"After renaming the rows and columns:\")\n",
    "print(df1.rename(columns={'col1' : 'c1', 'col2' : 'c2'},\n",
    "index = {0 : 'apple', 1 : 'banana', 2 : 'durian'}, inplace = True),'\\n')\n",
    "\n",
    "print('df1:\\n', df1)"
   ]
  },
  {
   "cell_type": "code",
   "execution_count": null,
   "metadata": {},
   "outputs": [],
   "source": [
    "2/ set_index\n",
    "Set the DataFrame index (row labels) using one or more existing columns or arrays (of the correct length)"
   ]
  },
  {
   "cell_type": "code",
   "execution_count": 51,
   "metadata": {},
   "outputs": [
    {
     "name": "stdout",
     "output_type": "stream",
     "text": [
      "df:\n",
      "    month  year  sale\n",
      "0      1  2012    55\n",
      "1      4  2014    40\n",
      "2      7  2013    84\n",
      "3     10  2014    31 \n",
      "\n",
      "       year  sale\n",
      "month            \n",
      "1      2012    55\n",
      "4      2014    40\n",
      "7      2013    84\n",
      "10     2014    31\n"
     ]
    }
   ],
   "source": [
    "import pandas as pd\n",
    "\n",
    "df = pd.DataFrame({'month': [1, 4, 7, 10],\n",
    "                   'year': [2012, 2014, 2013, 2014],\n",
    "                   'sale': [55, 40, 84, 31]})\n",
    "\n",
    "print('df:\\n', df,'\\n')\n",
    "df.set_index('month', inplace =True)\n",
    "print(df)"
   ]
  },
  {
   "cell_type": "code",
   "execution_count": 54,
   "metadata": {},
   "outputs": [
    {
     "name": "stdout",
     "output_type": "stream",
     "text": [
      "df:\n",
      "    month  year  sale\n",
      "0      1  2012    55\n",
      "1      4  2014    40\n",
      "2      7  2013    84\n",
      "3     10  2014    31 \n",
      "\n",
      "            sale\n",
      "year month      \n",
      "2012 1        55\n",
      "2014 4        40\n",
      "2013 7        84\n",
      "2014 10       31\n"
     ]
    }
   ],
   "source": [
    "import pandas as pd\n",
    "\n",
    "df = pd.DataFrame({'month': [1, 4, 7, 10],\n",
    "                   'year': [2012, 2014, 2013, 2014],\n",
    "                   'sale': [55, 40, 84, 31]})\n",
    "\n",
    "print('df:\\n', df,'\\n')\n",
    "df.set_index(['year', 'month'], inplace =True)\n",
    "print(df)"
   ]
  },
  {
   "cell_type": "code",
   "execution_count": 56,
   "metadata": {},
   "outputs": [
    {
     "name": "stdout",
     "output_type": "stream",
     "text": [
      "df:\n",
      "    month  year  sale\n",
      "0      1  2012    55\n",
      "1      4  2014    40\n",
      "2      7  2013    84\n",
      "3     10  2014    31 \n",
      "\n",
      "        month  sale\n",
      "  year             \n",
      "1 2012      1    55\n",
      "2 2014      4    40\n",
      "3 2013      7    84\n",
      "4 2014     10    31\n"
     ]
    }
   ],
   "source": [
    "import pandas as pd\n",
    "\n",
    "df = pd.DataFrame({'month': [1, 4, 7, 10],\n",
    "                   'year': [2012, 2014, 2013, 2014],\n",
    "                   'sale': [55, 40, 84, 31]})\n",
    "\n",
    "print('df:\\n', df,'\\n')\n",
    "df.set_index([pd.Index([1, 2, 3, 4]), 'year'], inplace =True)\n",
    "print(df)"
   ]
  },
  {
   "cell_type": "code",
   "execution_count": 57,
   "metadata": {},
   "outputs": [
    {
     "name": "stdout",
     "output_type": "stream",
     "text": [
      "df:\n",
      "    month  year  sale\n",
      "0      1  2012    55\n",
      "1      4  2014    40\n",
      "2      7  2013    84\n",
      "3     10  2014    31 \n",
      "\n",
      "      month  year  sale\n",
      "1 1       1  2012    55\n",
      "2 4       4  2014    40\n",
      "3 9       7  2013    84\n",
      "4 16     10  2014    31\n"
     ]
    }
   ],
   "source": [
    "import pandas as pd\n",
    "\n",
    "df = pd.DataFrame({'month': [1, 4, 7, 10],\n",
    "                   'year': [2012, 2014, 2013, 2014],\n",
    "                   'sale': [55, 40, 84, 31]})\n",
    "\n",
    "print('df:\\n', df,'\\n')\n",
    "s = pd.Series([1, 2, 3, 4])\n",
    "df.set_index([s, s**2], inplace =True)\n",
    "print(df)"
   ]
  },
  {
   "cell_type": "code",
   "execution_count": null,
   "metadata": {},
   "outputs": [],
   "source": [
    "3/ reset_index\n",
    "\n",
    "Parameters\n",
    "level\n",
    "int, str, tuple, or list, default None\n",
    "Only remove the given levels from the index. Removes all levels by default.\n",
    "\n",
    "drop \n",
    "bool, default False\n",
    "Do not try to insert index into dataframe columns. This resets the index to the default integer index.\n",
    "\n",
    "inplace \n",
    "bool, default False\n",
    "Modify the DataFrame in place (do not create a new object).\n",
    "\n",
    "col_level \n",
    "int or str, default 0\n",
    "If the columns have multiple levels, determines which level the labels are inserted into. By default it is inserted into the first level.\n",
    "\n",
    "col_fill\n",
    "object, default ‘’\n",
    "If the columns have multiple levels, determines how the other levels are named. If None then the index name is repeated.\n",
    "\n",
    "Returns\n",
    "DataFrame or None\n",
    "DataFrame with the new index or None if inplace=True."
   ]
  },
  {
   "cell_type": "code",
   "execution_count": 20,
   "metadata": {},
   "outputs": [
    {
     "name": "stdout",
     "output_type": "stream",
     "text": [
      "df:\n",
      "          class  max_speed\n",
      "falcon    bird      389.0\n",
      "parrot    bird       24.0\n",
      "lion    mammal       80.5\n",
      "monkey  mammal        NaN \n",
      "\n",
      "class        mammal\n",
      "max_speed      80.5\n",
      "Name: lion, dtype: object \n",
      "\n",
      "df:\n",
      "     index   class  max_speed\n",
      "0  falcon    bird      389.0\n",
      "1  parrot    bird       24.0\n",
      "2    lion  mammal       80.5\n",
      "3  monkey  mammal        NaN \n",
      "\n",
      "index          lion\n",
      "class        mammal\n",
      "max_speed      80.5\n",
      "Name: 2, dtype: object \n",
      "\n"
     ]
    }
   ],
   "source": [
    "import pandas as pd\n",
    "import numpy as np\n",
    "\n",
    "df = pd.DataFrame([('bird', 389.0),\n",
    "                   ('bird', 24.0),\n",
    "                   ('mammal', 80.5),\n",
    "                   ('mammal', np.nan)],\n",
    "                  index=['falcon', 'parrot', 'lion', 'monkey'],\n",
    "                  columns=('class', 'max_speed'))\n",
    "print('df:\\n', df, '\\n')\n",
    "print(df.loc['lion'],'\\n')\n",
    "\n",
    "df = df.reset_index()\n",
    "print('df:\\n',df,'\\n')\n",
    "\n",
    "print(df.iloc[2], '\\n')\n",
    "\n",
    "# print(df.loc['lion']) => Error"
   ]
  },
  {
   "cell_type": "code",
   "execution_count": 26,
   "metadata": {},
   "outputs": [
    {
     "name": "stdout",
     "output_type": "stream",
     "text": [
      "df:\n",
      "          class  max_speed\n",
      "falcon    bird      389.0\n",
      "parrot    bird       24.0\n",
      "lion    mammal       80.5\n",
      "monkey  mammal        NaN \n",
      "\n",
      "class        mammal\n",
      "max_speed      80.5\n",
      "Name: lion, dtype: object \n",
      "\n",
      "df:\n",
      "     class  max_speed\n",
      "0    bird      389.0\n",
      "1    bird       24.0\n",
      "2  mammal       80.5\n",
      "3  mammal        NaN\n"
     ]
    }
   ],
   "source": [
    "import pandas as pd\n",
    "import numpy as np\n",
    "\n",
    "df = pd.DataFrame([('bird', 389.0),\n",
    "                   ('bird', 24.0),\n",
    "                   ('mammal', 80.5),\n",
    "                   ('mammal', np.nan)],\n",
    "                  index=['falcon', 'parrot', 'lion', 'monkey'],\n",
    "                  columns=('class', 'max_speed'))\n",
    "print('df:\\n', df, '\\n')\n",
    "print(df.loc['lion'],'\\n')\n",
    "\n",
    "df.reset_index(drop=True, inplace = True)\n",
    "\n",
    "print('df:\\n', df)"
   ]
  },
  {
   "cell_type": "code",
   "execution_count": 7,
   "metadata": {},
   "outputs": [
    {
     "name": "stdout",
     "output_type": "stream",
     "text": [
      "df:\n",
      "                speed species\n",
      "                 max    type\n",
      "class  name                 \n",
      "bird   falcon  389.0     fly\n",
      "       parrot   24.0     fly\n",
      "mammal lion     80.5     run\n",
      "       monkey    NaN    jump \n",
      "\n",
      "df:\n",
      "          class  speed species\n",
      "                  max    type\n",
      "name                         \n",
      "falcon    bird  389.0     fly\n",
      "parrot    bird   24.0     fly\n",
      "lion    mammal   80.5     run\n",
      "monkey  mammal    NaN    jump \n",
      "\n",
      "class:\n",
      "\n",
      " name\n",
      "falcon      bird\n",
      "parrot      bird\n",
      "lion      mammal\n",
      "monkey    mammal\n",
      "Name: class, dtype: object \n",
      "\n",
      "speed max:\n",
      "\n",
      " name\n",
      "falcon    389.0\n",
      "parrot     24.0\n",
      "lion       80.5\n",
      "monkey      NaN\n",
      "Name: (speed, max), dtype: float64 \n",
      "\n",
      "Columns:\n",
      "\n",
      " MultiIndex([(  'class',     ''),\n",
      "            (  'speed',  'max'),\n",
      "            ('species', 'type')],\n",
      "           ) \n",
      "\n",
      "Index:\n",
      "\n",
      " Index(['falcon', 'parrot', 'lion', 'monkey'], dtype='object', name='name') \n",
      "\n",
      "class, speed max:\n",
      "          class  speed\n",
      "                  max\n",
      "name                 \n",
      "falcon    bird  389.0\n",
      "parrot    bird   24.0\n",
      "lion    mammal   80.5\n",
      "monkey  mammal    NaN\n"
     ]
    }
   ],
   "source": [
    "import pandas as pd\n",
    "import numpy as np\n",
    "\n",
    "index = pd.MultiIndex.from_tuples([('bird', 'falcon'),\n",
    "                                   ('bird', 'parrot'),\n",
    "                                   ('mammal', 'lion'),\n",
    "                                   ('mammal', 'monkey')],\n",
    "                                  names=['class', 'name'])\n",
    "columns = pd.MultiIndex.from_tuples([('speed', 'max'),\n",
    "                                     ('species', 'type')])\n",
    "df = pd.DataFrame([(389.0, 'fly'),\n",
    "                   ( 24.0, 'fly'),\n",
    "                   ( 80.5, 'run'),\n",
    "                   (np.nan, 'jump')],\n",
    "                  index=index,\n",
    "                  columns=columns)\n",
    "print('df:\\n',df,'\\n')\n",
    "\n",
    "df.reset_index(level='class', inplace = True)\n",
    "\n",
    "print('df:\\n', df,'\\n')\n",
    "\n",
    "print('class:\\n\\n', df['class'],'\\n')\n",
    "\n",
    "print('speed max:\\n\\n', df[('speed','max')],'\\n')\n",
    "\n",
    "print('Columns:\\n\\n',df.columns,'\\n')\n",
    "print('Index:\\n\\n',df.index,'\\n')\n",
    "\n",
    "print('class, speed max:\\n', df[[('class', ''),('speed', 'max')]])\n"
   ]
  },
  {
   "cell_type": "code",
   "execution_count": 9,
   "metadata": {},
   "outputs": [
    {
     "name": "stdout",
     "output_type": "stream",
     "text": [
      "df:\n",
      "                speed species\n",
      "                 max    type\n",
      "class  name                 \n",
      "bird   falcon  389.0     fly\n",
      "       parrot   24.0     fly\n",
      "mammal lion     80.5     run\n",
      "       monkey    NaN    jump \n",
      "\n",
      "df:\n",
      "                 speed species\n",
      "         class    max    type\n",
      "name                         \n",
      "falcon    bird  389.0     fly\n",
      "parrot    bird   24.0     fly\n",
      "lion    mammal   80.5     run\n",
      "monkey  mammal    NaN    jump \n",
      "\n"
     ]
    }
   ],
   "source": [
    "import pandas as pd\n",
    "import numpy as np\n",
    "\n",
    "index = pd.MultiIndex.from_tuples([('bird', 'falcon'),\n",
    "                                   ('bird', 'parrot'),\n",
    "                                   ('mammal', 'lion'),\n",
    "                                   ('mammal', 'monkey')],\n",
    "                                  names=['class', 'name'])\n",
    "columns = pd.MultiIndex.from_tuples([('speed', 'max'),\n",
    "                                     ('species', 'type')])\n",
    "df = pd.DataFrame([(389.0, 'fly'),\n",
    "                   ( 24.0, 'fly'),\n",
    "                   ( 80.5, 'run'),\n",
    "                   (np.nan, 'jump')],\n",
    "                  index=index,\n",
    "                  columns=columns)\n",
    "print('df:\\n',df,'\\n')\n",
    "\n",
    "df.reset_index(level='class', col_level=1, inplace =True)\n",
    "\n",
    "print('df:\\n',df,'\\n')"
   ]
  },
  {
   "cell_type": "code",
   "execution_count": 12,
   "metadata": {},
   "outputs": [
    {
     "name": "stdout",
     "output_type": "stream",
     "text": [
      "df:\n",
      "                speed species\n",
      "                 max    type\n",
      "class  name                 \n",
      "bird   falcon  389.0     fly\n",
      "       parrot   24.0     fly\n",
      "mammal lion     80.5     run\n",
      "       monkey    NaN    jump \n",
      "\n",
      "df:\n",
      "        species  speed species\n",
      "         class    max    type\n",
      "name                         \n",
      "falcon    bird  389.0     fly\n",
      "parrot    bird   24.0     fly\n",
      "lion    mammal   80.5     run\n",
      "monkey  mammal    NaN    jump \n",
      "\n"
     ]
    }
   ],
   "source": [
    "import pandas as pd\n",
    "import numpy as np\n",
    "\n",
    "index = pd.MultiIndex.from_tuples([('bird', 'falcon'),\n",
    "                                   ('bird', 'parrot'),\n",
    "                                   ('mammal', 'lion'),\n",
    "                                   ('mammal', 'monkey')],\n",
    "                                  names=['class', 'name'])\n",
    "columns = pd.MultiIndex.from_tuples([('speed', 'max'),\n",
    "                                     ('species', 'type')])\n",
    "df = pd.DataFrame([(389.0, 'fly'),\n",
    "                   ( 24.0, 'fly'),\n",
    "                   ( 80.5, 'run'),\n",
    "                   (np.nan, 'jump')],\n",
    "                  index=index,\n",
    "                  columns=columns)\n",
    "print('df:\\n',df,'\\n')\n",
    "\n",
    "df.reset_index(level='class', col_level=1, col_fill='species', inplace =True)\n",
    "\n",
    "print('df:\\n',df,'\\n')"
   ]
  },
  {
   "cell_type": "code",
   "execution_count": null,
   "metadata": {},
   "outputs": [],
   "source": [
    "4/ pandas.DataFrame.rename"
   ]
  },
  {
   "cell_type": "code",
   "execution_count": 15,
   "metadata": {},
   "outputs": [
    {
     "name": "stdout",
     "output_type": "stream",
     "text": [
      "   A  B\n",
      "0  1  4\n",
      "1  2  5\n",
      "2  3  6 \n",
      "\n",
      "   a  c\n",
      "0  1  4\n",
      "1  2  5\n",
      "2  3  6\n"
     ]
    }
   ],
   "source": [
    "import pandas as pd\n",
    "\n",
    "df = pd.DataFrame({\"A\": [1, 2, 3], \"B\": [4, 5, 6]})\n",
    "print(df,'\\n')\n",
    "\n",
    "df.rename(columns={\"A\": \"a\", \"B\": \"c\"}, inplace =True)\n",
    "print(df)"
   ]
  },
  {
   "cell_type": "code",
   "execution_count": 22,
   "metadata": {},
   "outputs": [
    {
     "name": "stdout",
     "output_type": "stream",
     "text": [
      "   A  B\n",
      "0  1  4\n",
      "1  2  5\n",
      "2  3  6 \n",
      "\n",
      "   A  B\n",
      "x  1  4\n",
      "y  2  5\n",
      "z  3  6 \n",
      "\n"
     ]
    }
   ],
   "source": [
    "import pandas as pd\n",
    "\n",
    "df = pd.DataFrame({\"A\": [1, 2, 3], \"B\": [4, 5, 6]})\n",
    "print(df,'\\n')\n",
    "\n",
    "df.rename(index={0: \"x\", 1: \"y\", 2: \"z\"}, inplace = True)\n",
    "print(df,'\\n')\n",
    "\n"
   ]
  },
  {
   "cell_type": "code",
   "execution_count": 17,
   "metadata": {},
   "outputs": [
    {
     "name": "stdout",
     "output_type": "stream",
     "text": [
      "   A  B\n",
      "0  1  4\n",
      "1  2  5\n",
      "2  3  6 \n",
      "\n"
     ]
    },
    {
     "data": {
      "text/plain": [
       "RangeIndex(start=0, stop=3, step=1)"
      ]
     },
     "execution_count": 17,
     "metadata": {},
     "output_type": "execute_result"
    }
   ],
   "source": [
    "import pandas as pd\n",
    "\n",
    "df = pd.DataFrame({\"A\": [1, 2, 3], \"B\": [4, 5, 6]})\n",
    "print(df,'\\n')\n",
    "\n",
    "df.index"
   ]
  },
  {
   "cell_type": "code",
   "execution_count": 23,
   "metadata": {},
   "outputs": [
    {
     "name": "stdout",
     "output_type": "stream",
     "text": [
      "   A  B\n",
      "0  1  4\n",
      "1  2  5\n",
      "2  3  6 \n",
      "\n"
     ]
    },
    {
     "data": {
      "text/plain": [
       "Index(['0', '1', '2'], dtype='object')"
      ]
     },
     "execution_count": 23,
     "metadata": {},
     "output_type": "execute_result"
    }
   ],
   "source": [
    "import pandas as pd\n",
    "\n",
    "df = pd.DataFrame({\"A\": [1, 2, 3], \"B\": [4, 5, 6]})\n",
    "print(df,'\\n')\n",
    "\n",
    "df.rename(index=str).index"
   ]
  },
  {
   "cell_type": "code",
   "execution_count": 24,
   "metadata": {},
   "outputs": [
    {
     "name": "stdout",
     "output_type": "stream",
     "text": [
      "   A  B\n",
      "0  1  4\n",
      "1  2  5\n",
      "2  3  6 \n",
      "\n"
     ]
    },
    {
     "data": {
      "text/html": [
       "<div>\n",
       "<style scoped>\n",
       "    .dataframe tbody tr th:only-of-type {\n",
       "        vertical-align: middle;\n",
       "    }\n",
       "\n",
       "    .dataframe tbody tr th {\n",
       "        vertical-align: top;\n",
       "    }\n",
       "\n",
       "    .dataframe thead th {\n",
       "        text-align: right;\n",
       "    }\n",
       "</style>\n",
       "<table border=\"1\" class=\"dataframe\">\n",
       "  <thead>\n",
       "    <tr style=\"text-align: right;\">\n",
       "      <th></th>\n",
       "      <th>a</th>\n",
       "      <th>b</th>\n",
       "    </tr>\n",
       "  </thead>\n",
       "  <tbody>\n",
       "    <tr>\n",
       "      <th>0</th>\n",
       "      <td>1</td>\n",
       "      <td>4</td>\n",
       "    </tr>\n",
       "    <tr>\n",
       "      <th>1</th>\n",
       "      <td>2</td>\n",
       "      <td>5</td>\n",
       "    </tr>\n",
       "    <tr>\n",
       "      <th>2</th>\n",
       "      <td>3</td>\n",
       "      <td>6</td>\n",
       "    </tr>\n",
       "  </tbody>\n",
       "</table>\n",
       "</div>"
      ],
      "text/plain": [
       "   a  b\n",
       "0  1  4\n",
       "1  2  5\n",
       "2  3  6"
      ]
     },
     "execution_count": 24,
     "metadata": {},
     "output_type": "execute_result"
    }
   ],
   "source": [
    "import pandas as pd\n",
    "\n",
    "df = pd.DataFrame({\"A\": [1, 2, 3], \"B\": [4, 5, 6]})\n",
    "print(df,'\\n')\n",
    "\n",
    "df.rename(str.lower, axis='columns')"
   ]
  },
  {
   "cell_type": "code",
   "execution_count": 25,
   "metadata": {},
   "outputs": [
    {
     "name": "stdout",
     "output_type": "stream",
     "text": [
      "   A  B\n",
      "0  1  4\n",
      "1  2  5\n",
      "2  3  6 \n",
      "\n"
     ]
    },
    {
     "data": {
      "text/html": [
       "<div>\n",
       "<style scoped>\n",
       "    .dataframe tbody tr th:only-of-type {\n",
       "        vertical-align: middle;\n",
       "    }\n",
       "\n",
       "    .dataframe tbody tr th {\n",
       "        vertical-align: top;\n",
       "    }\n",
       "\n",
       "    .dataframe thead th {\n",
       "        text-align: right;\n",
       "    }\n",
       "</style>\n",
       "<table border=\"1\" class=\"dataframe\">\n",
       "  <thead>\n",
       "    <tr style=\"text-align: right;\">\n",
       "      <th></th>\n",
       "      <th>A</th>\n",
       "      <th>B</th>\n",
       "    </tr>\n",
       "  </thead>\n",
       "  <tbody>\n",
       "    <tr>\n",
       "      <th>0</th>\n",
       "      <td>1</td>\n",
       "      <td>4</td>\n",
       "    </tr>\n",
       "    <tr>\n",
       "      <th>2</th>\n",
       "      <td>2</td>\n",
       "      <td>5</td>\n",
       "    </tr>\n",
       "    <tr>\n",
       "      <th>4</th>\n",
       "      <td>3</td>\n",
       "      <td>6</td>\n",
       "    </tr>\n",
       "  </tbody>\n",
       "</table>\n",
       "</div>"
      ],
      "text/plain": [
       "   A  B\n",
       "0  1  4\n",
       "2  2  5\n",
       "4  3  6"
      ]
     },
     "execution_count": 25,
     "metadata": {},
     "output_type": "execute_result"
    }
   ],
   "source": [
    "import pandas as pd\n",
    "\n",
    "df = pd.DataFrame({\"A\": [1, 2, 3], \"B\": [4, 5, 6]})\n",
    "print(df,'\\n')\n",
    "\n",
    "df.rename({1: 2, 2: 4}, axis='index')"
   ]
  },
  {
   "cell_type": "code",
   "execution_count": null,
   "metadata": {},
   "outputs": [],
   "source": [
    "5/ pandas.DataFrame.rename_axis"
   ]
  },
  {
   "cell_type": "code",
   "execution_count": 65,
   "metadata": {},
   "outputs": [
    {
     "name": "stdout",
     "output_type": "stream",
     "text": [
      "0       dog\n",
      "1       cat\n",
      "2    monkey\n",
      "dtype: object \n",
      "\n",
      "animal\n",
      "0       dog\n",
      "1       cat\n",
      "2    monkey\n",
      "dtype: object\n"
     ]
    }
   ],
   "source": [
    "import pandas as pd\n",
    "\n",
    "s = pd.Series([\"dog\", \"cat\", \"monkey\"])\n",
    "print(s,'\\n')\n",
    "\n",
    "s.rename_axis(\"animal\",inplace = True) # axis{0 or ‘index’, 1 or ‘columns’}, default 0\n",
    "print(s)"
   ]
  },
  {
   "cell_type": "code",
   "execution_count": 33,
   "metadata": {},
   "outputs": [
    {
     "name": "stdout",
     "output_type": "stream",
     "text": [
      "        num_legs  num_arms\n",
      "dog            4         0\n",
      "cat            4         0\n",
      "monkey         2         2 \n",
      "\n",
      "        num_legs  num_arms\n",
      "animal                    \n",
      "dog            4         0\n",
      "cat            4         0\n",
      "monkey         2         2 \n",
      "\n"
     ]
    }
   ],
   "source": [
    "import pandas as pd\n",
    "\n",
    "df = pd.DataFrame({\"num_legs\": [4, 4, 2],\n",
    "                   \"num_arms\": [0, 0, 2]},\n",
    "                  [\"dog\", \"cat\", \"monkey\"])\n",
    "\n",
    "print(df,'\\n')\n",
    "\n",
    "df = df.rename_axis(\"animal\")\n",
    "\n",
    "print(df,'\\n')"
   ]
  },
  {
   "cell_type": "code",
   "execution_count": 36,
   "metadata": {},
   "outputs": [],
   "source": [
    "6/ Iteration\n",
    "Do not try to modify any object while iterating. Iterating is meant for reading and the iterator returns a copy of the original object (a view), \n",
    "thus the changes will not reflect on the original object."
   ]
  },
  {
   "cell_type": "code",
   "execution_count": 40,
   "metadata": {},
   "outputs": [
    {
     "name": "stdout",
     "output_type": "stream",
     "text": [
      "           A    x         y       C           D\n",
      "0 2016-01-01  0.0  0.495726  Medium   86.243213\n",
      "1 2016-01-02  1.0  0.954408     Low  100.119970\n",
      "2 2016-01-03  2.0  0.749279  Medium  107.245671\n",
      "3 2016-01-04  3.0  0.964540     Low  101.451511\n",
      "4 2016-01-05  4.0  0.596787    High   85.901782 \n",
      "\n",
      "A\n",
      "x\n",
      "y\n",
      "C\n",
      "D\n"
     ]
    }
   ],
   "source": [
    "import pandas as pd\n",
    "import numpy as np\n",
    " \n",
    "N=5\n",
    "df = pd.DataFrame({\n",
    "   'A': pd.date_range(start='2016-01-01',periods=N,freq='D'),\n",
    "   'x': np.linspace(0,stop=N-1,num=N),\n",
    "   'y': np.random.rand(N),\n",
    "   'C': np.random.choice(['Low','Medium','High'],N).tolist(),\n",
    "   'D': np.random.normal(100, 10, size=(N)).tolist()\n",
    "   })\n",
    "\n",
    "print(df,'\\n')\n",
    "\n",
    "for col in df:\n",
    "   print(col)"
   ]
  },
  {
   "cell_type": "code",
   "execution_count": 48,
   "metadata": {},
   "outputs": [
    {
     "name": "stdout",
     "output_type": "stream",
     "text": [
      "       col1      col2      col3\n",
      "0  0.208245  0.124291 -0.396606\n",
      "1 -0.606954  0.631382 -0.327282\n",
      "2  0.802822 -2.830758  0.181626\n",
      "3 -1.585996 -0.075003  0.308504 \n",
      "\n",
      "col1 \n",
      "\n",
      "0    0.208245\n",
      "1   -0.606954\n",
      "2    0.802822\n",
      "3   -1.585996\n",
      "Name: col1, dtype: float64 \n",
      "\n",
      "col2 \n",
      "\n",
      "0    0.124291\n",
      "1    0.631382\n",
      "2   -2.830758\n",
      "3   -0.075003\n",
      "Name: col2, dtype: float64 \n",
      "\n",
      "col3 \n",
      "\n",
      "0   -0.396606\n",
      "1   -0.327282\n",
      "2    0.181626\n",
      "3    0.308504\n",
      "Name: col3, dtype: float64 \n",
      "\n"
     ]
    }
   ],
   "source": [
    "# iteritems() − to iterate over the (key,value) pairs\n",
    "\n",
    "import pandas as pd\n",
    "import numpy as np\n",
    " \n",
    "df = pd.DataFrame(np.random.randn(4,3),columns=['col1','col2','col3'])\n",
    "print(df,'\\n')\n",
    "\n",
    "for key,value in df.iteritems():\n",
    "    print(key,'\\n') \n",
    "    print(value,'\\n')"
   ]
  },
  {
   "cell_type": "code",
   "execution_count": 49,
   "metadata": {},
   "outputs": [
    {
     "name": "stdout",
     "output_type": "stream",
     "text": [
      "       col1      col2      col3\n",
      "0  2.038046 -1.316852 -0.017217\n",
      "1  2.358425  0.329802 -0.333808\n",
      "2 -0.134905  1.289524  1.382496\n",
      "3  0.703751  1.284451  0.708062 \n",
      "\n",
      "0 \n",
      "\n",
      "col1    2.038046\n",
      "col2   -1.316852\n",
      "col3   -0.017217\n",
      "Name: 0, dtype: float64 \n",
      "\n",
      "1 \n",
      "\n",
      "col1    2.358425\n",
      "col2    0.329802\n",
      "col3   -0.333808\n",
      "Name: 1, dtype: float64 \n",
      "\n",
      "2 \n",
      "\n",
      "col1   -0.134905\n",
      "col2    1.289524\n",
      "col3    1.382496\n",
      "Name: 2, dtype: float64 \n",
      "\n",
      "3 \n",
      "\n",
      "col1    0.703751\n",
      "col2    1.284451\n",
      "col3    0.708062\n",
      "Name: 3, dtype: float64 \n",
      "\n"
     ]
    }
   ],
   "source": [
    "# iterrows() − iterate over the rows as (index,series) pairs\n",
    "\n",
    "import pandas as pd\n",
    "import numpy as np\n",
    "\n",
    "df = pd.DataFrame(np.random.randn(4,3),columns = ['col1','col2','col3'])\n",
    "print(df,'\\n')\n",
    "\n",
    "for row_index,row in df.iterrows():\n",
    "    print(row_index,'\\n')\n",
    "    print(row,'\\n')"
   ]
  },
  {
   "cell_type": "code",
   "execution_count": 52,
   "metadata": {},
   "outputs": [
    {
     "name": "stdout",
     "output_type": "stream",
     "text": [
      "       col1      col2      col3\n",
      "0 -1.260480  0.581049  1.021401\n",
      "1  1.316197 -0.501688 -0.215364\n",
      "2  0.587083 -0.865326 -0.391171\n",
      "3 -0.444733  0.959316 -1.704737 \n",
      "\n",
      "Pandas(Index=0, col1=-1.2604803730056988, col2=0.5810489834099891, col3=1.0214011894369859)\n",
      "Pandas(Index=1, col1=1.3161966133895782, col2=-0.5016880273905509, col3=-0.21536380156084486)\n",
      "Pandas(Index=2, col1=0.5870834111727686, col2=-0.8653255442530672, col3=-0.39117088943437645)\n",
      "Pandas(Index=3, col1=-0.4447328969601941, col2=0.9593164335329426, col3=-1.7047374547342993)\n"
     ]
    }
   ],
   "source": [
    "# itertuples() − iterate over the rows as namedtuples\n",
    "\n",
    "import pandas as pd\n",
    "import numpy as np\n",
    "\n",
    "df = pd.DataFrame(np.random.randn(4,3),columns = ['col1','col2','col3'])\n",
    "print(df,'\\n')\n",
    "\n",
    "for row in df.itertuples():\n",
    "    print(row)\n"
   ]
  },
  {
   "cell_type": "code",
   "execution_count": null,
   "metadata": {},
   "outputs": [],
   "source": [
    "7/ Sorting"
   ]
  },
  {
   "cell_type": "code",
   "execution_count": 55,
   "metadata": {},
   "outputs": [
    {
     "name": "stdout",
     "output_type": "stream",
     "text": [
      "       col2      col1\n",
      "1  0.641013 -0.308905\n",
      "4 -1.519890  1.152230\n",
      "6 -0.733408 -0.077357\n",
      "2  0.643566  0.178069\n",
      "3 -0.987842 -1.131322\n",
      "5  0.164336  0.321089\n",
      "9  1.519332  0.622839\n",
      "8  2.970809  1.864427\n",
      "0 -2.184859  1.161792\n",
      "7 -0.239839  1.329506\n"
     ]
    }
   ],
   "source": [
    "import pandas as pd\n",
    "import numpy as np\n",
    "\n",
    "unsorted_df=pd.DataFrame(np.random.randn(10,2),index=[1,4,6,2,3,5,9,8,0,7],columns=['col2','col1'])\n",
    "print(unsorted_df)"
   ]
  },
  {
   "cell_type": "code",
   "execution_count": 59,
   "metadata": {},
   "outputs": [
    {
     "name": "stdout",
     "output_type": "stream",
     "text": [
      "       col2      col1\n",
      "1 -1.392672  1.581171\n",
      "4  0.155368 -0.470944\n",
      "6 -0.837914 -0.555942\n",
      "2 -0.033476  1.163526\n",
      "3  0.720781 -1.024719\n",
      "5 -0.459047 -0.049290\n",
      "9  1.616377 -1.052105\n",
      "8  0.296932 -1.557814\n",
      "0  2.295140  1.103058\n",
      "7  0.368697 -1.061316 \n",
      "\n",
      "       col2      col1\n",
      "0  2.295140  1.103058\n",
      "1 -1.392672  1.581171\n",
      "2 -0.033476  1.163526\n",
      "3  0.720781 -1.024719\n",
      "4  0.155368 -0.470944\n",
      "5 -0.459047 -0.049290\n",
      "6 -0.837914 -0.555942\n",
      "7  0.368697 -1.061316\n",
      "8  0.296932 -1.557814\n",
      "9  1.616377 -1.052105\n"
     ]
    }
   ],
   "source": [
    "# By Label: sort_index() \n",
    "\n",
    "import pandas as pd\n",
    "import numpy as np\n",
    "\n",
    "unsorted_df = pd.DataFrame(np.random.randn(10,2),index=[1,4,6,2,3,5,9,8,0,7],columns = ['col2','col1'])\n",
    "print(unsorted_df,'\\n')\n",
    "\n",
    "sorted_df=unsorted_df.sort_index()\n",
    "print(sorted_df)\n"
   ]
  },
  {
   "cell_type": "code",
   "execution_count": 60,
   "metadata": {},
   "outputs": [
    {
     "name": "stdout",
     "output_type": "stream",
     "text": [
      "       col2      col1\n",
      "9  0.116053 -0.508482\n",
      "8  0.809520 -0.496283\n",
      "7  1.437919  0.161413\n",
      "6 -0.104203  0.546560\n",
      "5  0.400545  0.414630\n",
      "4 -1.752729 -0.333388\n",
      "3 -1.512777  1.183206\n",
      "2  1.037082 -0.715643\n",
      "1 -2.426271  0.561145\n",
      "0 -0.591685  0.511427\n"
     ]
    }
   ],
   "source": [
    "import pandas as pd\n",
    "import numpy as np\n",
    "\n",
    "unsorted_df = pd.DataFrame(np.random.randn(10,2),index=[1,4,6,2,3,5,9,8,0,7],columns = ['col2','col1'])\n",
    "\n",
    "sorted_df=unsorted_df.sort_index(ascending=False)\n",
    "print(sorted_df)"
   ]
  },
  {
   "cell_type": "code",
   "execution_count": 64,
   "metadata": {},
   "outputs": [
    {
     "name": "stdout",
     "output_type": "stream",
     "text": [
      "       col2      col1\n",
      "1  0.086841  0.045730\n",
      "4  0.094750  0.968080\n",
      "6 -0.957535 -1.148753\n",
      "2  1.258406 -1.010187\n",
      "3 -1.172878 -0.282248\n",
      "5 -1.213410  2.031270\n",
      "9 -0.279891  1.817819\n",
      "8  0.406501 -0.723456\n",
      "0  1.659827  0.183876\n",
      "7  0.144462 -1.100651 \n",
      "\n",
      "       col1      col2\n",
      "1  0.045730  0.086841\n",
      "4  0.968080  0.094750\n",
      "6 -1.148753 -0.957535\n",
      "2 -1.010187  1.258406\n",
      "3 -0.282248 -1.172878\n",
      "5  2.031270 -1.213410\n",
      "9  1.817819 -0.279891\n",
      "8 -0.723456  0.406501\n",
      "0  0.183876  1.659827\n",
      "7 -1.100651  0.144462\n"
     ]
    }
   ],
   "source": [
    "# Sort the Columns\n",
    "\n",
    "import pandas as pd\n",
    "import numpy as np\n",
    " \n",
    "unsorted_df = pd.DataFrame(np.random.randn(10,2),index=[1,4,6,2,3,5,9,8,0,7],columns = ['col2','col1'])\n",
    "print(unsorted_df,'\\n')\n",
    " \n",
    "sorted_df=unsorted_df.sort_index(axis=1)\n",
    "\n",
    "print(sorted_df)"
   ]
  },
  {
   "cell_type": "code",
   "execution_count": 65,
   "metadata": {},
   "outputs": [
    {
     "name": "stdout",
     "output_type": "stream",
     "text": [
      "   col1  col2\n",
      "0     2     1\n",
      "1     1     3\n",
      "2     1     2\n",
      "3     1     4 \n",
      "\n",
      "   col1  col2\n",
      "1     1     3\n",
      "2     1     2\n",
      "3     1     4\n",
      "0     2     1\n"
     ]
    }
   ],
   "source": [
    "# By Value\n",
    "\n",
    "import pandas as pd\n",
    "import numpy as np\n",
    "\n",
    "unsorted_df = pd.DataFrame({'col1':[2,1,1,1],'col2':[1,3,2,4]})\n",
    "print(unsorted_df,'\\n')\n",
    "\n",
    "sorted_df = unsorted_df.sort_values(by='col1')\n",
    "print(sorted_df)"
   ]
  },
  {
   "cell_type": "code",
   "execution_count": 66,
   "metadata": {},
   "outputs": [
    {
     "name": "stdout",
     "output_type": "stream",
     "text": [
      "   col1  col2\n",
      "0     2     1\n",
      "1     1     3\n",
      "2     1     2\n",
      "3     1     4 \n",
      "\n",
      "   col1  col2\n",
      "2     1     2\n",
      "1     1     3\n",
      "3     1     4\n",
      "0     2     1\n"
     ]
    }
   ],
   "source": [
    "import pandas as pd\n",
    "import numpy as np\n",
    "\n",
    "unsorted_df = pd.DataFrame({'col1':[2,1,1,1],'col2':[1,3,2,4]})\n",
    "print(unsorted_df,'\\n')\n",
    "\n",
    "sorted_df = unsorted_df.sort_values(by=['col1','col2'])\n",
    "print(sorted_df)"
   ]
  },
  {
   "cell_type": "code",
   "execution_count": 67,
   "metadata": {},
   "outputs": [
    {
     "name": "stdout",
     "output_type": "stream",
     "text": [
      "   col1  col2\n",
      "1     1     3\n",
      "2     1     2\n",
      "3     1     4\n",
      "0     2     1\n"
     ]
    }
   ],
   "source": [
    "# Sorting Algorithm\n",
    "# sort_values() provides a provision to choose the algorithm from mergesort, heapsort and quicksort.\n",
    "# Mergesort is the only stable algorithm. \n",
    "\n",
    "import pandas as pd\n",
    "import numpy as np\n",
    "\n",
    "unsorted_df = pd.DataFrame({'col1':[2,1,1,1],'col2':[1,3,2,4]})\n",
    "sorted_df = unsorted_df.sort_values(by='col1' ,kind='mergesort')\n",
    "\n",
    "print(sorted_df)"
   ]
  },
  {
   "cell_type": "code",
   "execution_count": null,
   "metadata": {},
   "outputs": [],
   "source": [
    "8/ Descriptive Statistics"
   ]
  },
  {
   "cell_type": "code",
   "execution_count": 1,
   "metadata": {},
   "outputs": [
    {
     "name": "stdout",
     "output_type": "stream",
     "text": [
      "      Name  Age  Rating\n",
      "0      Tom   25    4.23\n",
      "1    James   26    3.24\n",
      "2    Ricky   25    3.98\n",
      "3      Vin   23    2.56\n",
      "4    Steve   30    3.20\n",
      "5    Smith   29    4.60\n",
      "6     Jack   23    3.80\n",
      "7      Lee   34    3.78\n",
      "8    David   40    2.98\n",
      "9   Gasper   30    4.80\n",
      "10  Betina   51    4.10\n",
      "11  Andres   46    3.65\n"
     ]
    }
   ],
   "source": [
    "import pandas as pd\n",
    "import numpy as np\n",
    "\n",
    "#Create a Dictionary of series\n",
    "d = {'Name':pd.Series(['Tom','James','Ricky','Vin','Steve','Smith','Jack',\n",
    "   'Lee','David','Gasper','Betina','Andres']),\n",
    "   'Age':pd.Series([25,26,25,23,30,29,23,34,40,30,51,46]),\n",
    "   'Rating':pd.Series([4.23,3.24,3.98,2.56,3.20,4.6,3.8,3.78,2.98,4.80,4.10,3.65])\n",
    "}\n",
    "\n",
    "#Create a DataFrame\n",
    "df = pd.DataFrame(d)\n",
    "print(df)"
   ]
  },
  {
   "cell_type": "code",
   "execution_count": 5,
   "metadata": {},
   "outputs": [
    {
     "name": "stdout",
     "output_type": "stream",
     "text": [
      "Name      TomJamesRickyVinSteveSmithJackLeeDavidGasperBe...\n",
      "Age                                                     382\n",
      "Rating                                                44.92\n",
      "dtype: object\n"
     ]
    }
   ],
   "source": [
    "# sum()\n",
    "\n",
    "import pandas as pd\n",
    "import numpy as np\n",
    " \n",
    "#Create a Dictionary of series\n",
    "d = {'Name':pd.Series(['Tom','James','Ricky','Vin','Steve','Smith','Jack',\n",
    "   'Lee','David','Gasper','Betina','Andres']),\n",
    "   'Age':pd.Series([25,26,25,23,30,29,23,34,40,30,51,46]),\n",
    "   'Rating':pd.Series([4.23,3.24,3.98,2.56,3.20,4.6,3.8,3.78,2.98,4.80,4.10,3.65])\n",
    "}\n",
    "\n",
    "#Create a DataFrame\n",
    "df = pd.DataFrame(d)\n",
    "print(df.sum()) # print(df.sum(0)) (axis = 0)"
   ]
  },
  {
   "cell_type": "code",
   "execution_count": 66,
   "metadata": {},
   "outputs": [
    {
     "name": "stdout",
     "output_type": "stream",
     "text": [
      "      Name  Age  Rating\n",
      "0      Tom   25    4.23\n",
      "1    James   26    3.24\n",
      "2    Ricky   25    3.98\n",
      "3      Vin   23    2.56\n",
      "4    Steve   30    3.20\n",
      "5    Smith   29    4.60\n",
      "6     Jack   23    3.80\n",
      "7      Lee   34    3.78\n",
      "8    David   40    2.98\n",
      "9   Gasper   30    4.80\n",
      "10  Betina   51    4.10\n",
      "11  Andres   46    3.65 \n",
      "\n",
      "0     29.23\n",
      "1     29.24\n",
      "2     28.98\n",
      "3     25.56\n",
      "4     33.20\n",
      "5     33.60\n",
      "6     26.80\n",
      "7     37.78\n",
      "8     42.98\n",
      "9     34.80\n",
      "10    55.10\n",
      "11    49.65\n",
      "dtype: float64\n"
     ]
    }
   ],
   "source": [
    "import pandas as pd\n",
    "import numpy as np\n",
    " \n",
    "#Create a Dictionary of series\n",
    "d = {'Name':pd.Series(['Tom','James','Ricky','Vin','Steve','Smith','Jack',\n",
    "   'Lee','David','Gasper','Betina','Andres']),\n",
    "   'Age':pd.Series([25,26,25,23,30,29,23,34,40,30,51,46]),\n",
    "   'Rating':pd.Series([4.23,3.24,3.98,2.56,3.20,4.6,3.8,3.78,2.98,4.80,4.10,3.65])\n",
    "}\n",
    " \n",
    "#Create a DataFrame\n",
    "df = pd.DataFrame(d)\n",
    "print(df,'\\n')\n",
    "\n",
    "print(df.sum(1)) # axis = 1"
   ]
  },
  {
   "cell_type": "code",
   "execution_count": 7,
   "metadata": {},
   "outputs": [
    {
     "name": "stdout",
     "output_type": "stream",
     "text": [
      "Age       31.833333\n",
      "Rating     3.743333\n",
      "dtype: float64\n"
     ]
    }
   ],
   "source": [
    "# mean(), Returns the average value\n",
    "\n",
    "import pandas as pd\n",
    "import numpy as np\n",
    "\n",
    "#Create a Dictionary of series\n",
    "d = {'Name':pd.Series(['Tom','James','Ricky','Vin','Steve','Smith','Jack',\n",
    "   'Lee','David','Gasper','Betina','Andres']),\n",
    "   'Age':pd.Series([25,26,25,23,30,29,23,34,40,30,51,46]),\n",
    "   'Rating':pd.Series([4.23,3.24,3.98,2.56,3.20,4.6,3.8,3.78,2.98,4.80,4.10,3.65])\n",
    "}\n",
    "\n",
    "#Create a DataFrame\n",
    "df = pd.DataFrame(d)\n",
    "print(df.mean())"
   ]
  },
  {
   "cell_type": "code",
   "execution_count": 8,
   "metadata": {},
   "outputs": [
    {
     "name": "stdout",
     "output_type": "stream",
     "text": [
      "Age       9.232682\n",
      "Rating    0.661628\n",
      "dtype: float64\n"
     ]
    }
   ],
   "source": [
    "# std(), Returns the Bressel standard deviation of the numerical columns\n",
    "\n",
    "import pandas as pd\n",
    "import numpy as np\n",
    "\n",
    "#Create a Dictionary of series\n",
    "d = {'Name':pd.Series(['Tom','James','Ricky','Vin','Steve','Smith','Jack',\n",
    "   'Lee','David','Gasper','Betina','Andres']),\n",
    "   'Age':pd.Series([25,26,25,23,30,29,23,34,40,30,51,46]),\n",
    "   'Rating':pd.Series([4.23,3.24,3.98,2.56,3.20,4.6,3.8,3.78,2.98,4.80,4.10,3.65])\n",
    "}\n",
    "\n",
    "#Create a DataFrame\n",
    "df = pd.DataFrame(d)\n",
    "print(df.std())"
   ]
  },
  {
   "cell_type": "code",
   "execution_count": null,
   "metadata": {},
   "outputs": [],
   "source": [
    "1\tcount()\tNumber of non-null observations\n",
    "2\tsum()\tSum of values\n",
    "3\tmean()\tMean of Values\n",
    "4\tmedian()\tMedian of Values\n",
    "5\tmode()\tMode of values\n",
    "6\tstd()\tStandard Deviation of the Values\n",
    "7\tmin()\tMinimum Value\n",
    "8\tmax()\tMaximum Value\n",
    "9\tabs()\tAbsolute Value\n",
    "10\tprod()\tProduct of Values\n",
    "11\tcumsum()\tCumulative Sum\n",
    "12\tcumprod()\tCumulative Product\n",
    "\n",
    "Functions like sum(), cumsum() work with both numeric and character (or) string data elements without any error. Though n practice, character aggregations are never used generally, these functions do not throw any exception.\n",
    "\n",
    "Functions like abs(), cumprod() throw exception when the DataFrame contains character or string data because such operations cannot be performed."
   ]
  },
  {
   "cell_type": "code",
   "execution_count": 67,
   "metadata": {
    "scrolled": true
   },
   "outputs": [
    {
     "name": "stdout",
     "output_type": "stream",
     "text": [
      "      Name  Age  Rating\n",
      "0      Tom   25    4.23\n",
      "1    James   26    3.24\n",
      "2    Ricky   25    3.98\n",
      "3      Vin   23    2.56\n",
      "4    Steve   30    3.20\n",
      "5    Smith   29    4.60\n",
      "6     Jack   23    3.80\n",
      "7      Lee   34    3.78\n",
      "8    David   40    2.98\n",
      "9   Gasper   30    4.80\n",
      "10  Betina   51    4.10\n",
      "11  Andres   46    3.65 \n",
      "\n",
      "             Age     Rating\n",
      "count  12.000000  12.000000\n",
      "mean   31.833333   3.743333\n",
      "std     9.232682   0.661628\n",
      "min    23.000000   2.560000\n",
      "25%    25.000000   3.230000\n",
      "50%    29.500000   3.790000\n",
      "75%    35.500000   4.132500\n",
      "max    51.000000   4.800000\n"
     ]
    }
   ],
   "source": [
    "# describe(), computes a summary of statistics pertaining to the DataFrame columns.\n",
    "\n",
    "import pandas as pd\n",
    "import numpy as np\n",
    "\n",
    "#Create a Dictionary of series\n",
    "d = {'Name':pd.Series(['Tom','James','Ricky','Vin','Steve','Smith','Jack',\n",
    "   'Lee','David','Gasper','Betina','Andres']),\n",
    "   'Age':pd.Series([25,26,25,23,30,29,23,34,40,30,51,46]),\n",
    "   'Rating':pd.Series([4.23,3.24,3.98,2.56,3.20,4.6,3.8,3.78,2.98,4.80,4.10,3.65])\n",
    "}\n",
    "\n",
    "#Create a DataFrame\n",
    "df = pd.DataFrame(d)\n",
    "print(df,'\\n')\n",
    "\n",
    "print(df.describe())"
   ]
  },
  {
   "cell_type": "code",
   "execution_count": null,
   "metadata": {},
   "outputs": [],
   "source": [
    "This function gives the mean, std and IQR values.\n",
    "And, function excludes the character columns and given summary about numeric columns. \n",
    "include' is the argument which is used to pass necessary information regarding what columns need to be considered for summarizing.\n",
    "Takes the list of values; by default, 'number'.\n",
    "\n",
    "object − Summarizes String columns\n",
    "number − Summarizes Numeric columns\n",
    "all − Summarizes all columns together (Should not pass it as a list value)"
   ]
  },
  {
   "cell_type": "code",
   "execution_count": 69,
   "metadata": {},
   "outputs": [
    {
     "name": "stdout",
     "output_type": "stream",
     "text": [
      "         Name\n",
      "count      12\n",
      "unique     12\n",
      "top     James\n",
      "freq        1\n"
     ]
    }
   ],
   "source": [
    "import pandas as pd\n",
    "import numpy as np\n",
    "\n",
    "#Create a Dictionary of series\n",
    "d = {'Name':pd.Series(['Tom','James','Ricky','Vin','Steve','Smith','Jack',\n",
    "   'Lee','David','Gasper','Betina','Andres']),\n",
    "   'Age':pd.Series([25,26,25,23,30,29,23,34,40,30,51,46]),\n",
    "   'Rating':pd.Series([4.23,3.24,3.98,2.56,3.20,4.6,3.8,3.78,2.98,4.80,4.10,3.65])\n",
    "}\n",
    "\n",
    "#Create a DataFrame\n",
    "df = pd.DataFrame(d)\n",
    "print (df.describe(include=['object']))"
   ]
  },
  {
   "cell_type": "code",
   "execution_count": 12,
   "metadata": {},
   "outputs": [
    {
     "name": "stdout",
     "output_type": "stream",
     "text": [
      "             Age     Rating\n",
      "count  12.000000  12.000000\n",
      "mean   31.833333   3.743333\n",
      "std     9.232682   0.661628\n",
      "min    23.000000   2.560000\n",
      "25%    25.000000   3.230000\n",
      "50%    29.500000   3.790000\n",
      "75%    35.500000   4.132500\n",
      "max    51.000000   4.800000\n"
     ]
    }
   ],
   "source": [
    "import pandas as pd\n",
    "import numpy as np\n",
    "\n",
    "#Create a Dictionary of series\n",
    "d = {'Name':pd.Series(['Tom','James','Ricky','Vin','Steve','Smith','Jack',\n",
    "   'Lee','David','Gasper','Betina','Andres']),\n",
    "   'Age':pd.Series([25,26,25,23,30,29,23,34,40,30,51,46]),\n",
    "   'Rating':pd.Series([4.23,3.24,3.98,2.56,3.20,4.6,3.8,3.78,2.98,4.80,4.10,3.65])\n",
    "}\n",
    "\n",
    "#Create a DataFrame\n",
    "df = pd.DataFrame(d)\n",
    "print (df.describe(include=['number']))"
   ]
  },
  {
   "cell_type": "code",
   "execution_count": 14,
   "metadata": {},
   "outputs": [
    {
     "name": "stdout",
     "output_type": "stream",
     "text": [
      "         Name        Age     Rating\n",
      "count      12  12.000000  12.000000\n",
      "unique     12        NaN        NaN\n",
      "top     James        NaN        NaN\n",
      "freq        1        NaN        NaN\n",
      "mean      NaN  31.833333   3.743333\n",
      "std       NaN   9.232682   0.661628\n",
      "min       NaN  23.000000   2.560000\n",
      "25%       NaN  25.000000   3.230000\n",
      "50%       NaN  29.500000   3.790000\n",
      "75%       NaN  35.500000   4.132500\n",
      "max       NaN  51.000000   4.800000\n"
     ]
    }
   ],
   "source": [
    "import pandas as pd\n",
    "import numpy as np\n",
    "\n",
    "#Create a Dictionary of series\n",
    "d = {'Name':pd.Series(['Tom','James','Ricky','Vin','Steve','Smith','Jack',\n",
    "   'Lee','David','Gasper','Betina','Andres']),\n",
    "   'Age':pd.Series([25,26,25,23,30,29,23,34,40,30,51,46]),\n",
    "   'Rating':pd.Series([4.23,3.24,3.98,2.56,3.20,4.6,3.8,3.78,2.98,4.80,4.10,3.65])\n",
    "}\n",
    "\n",
    "#Create a DataFrame\n",
    "df = pd.DataFrame(d)\n",
    "print (df.describe(include='all'))"
   ]
  },
  {
   "cell_type": "code",
   "execution_count": null,
   "metadata": {},
   "outputs": [],
   "source": [
    "# 9/ Working with Text Data\n",
    "https://docs.python.org/3/library/stdtypes.html#string-methods\n",
    "\n",
    "1\t\n",
    "lower()\n",
    "\n",
    "Converts strings in the Series/Index to lower case.\n",
    "\n",
    "2\t\n",
    "upper()\n",
    "\n",
    "Converts strings in the Series/Index to upper case.\n",
    "\n",
    "3\t\n",
    "len()\n",
    "\n",
    "Computes String length().\n",
    "\n",
    "4\t\n",
    "strip()\n",
    "\n",
    "Helps strip whitespace(including newline) from each string in the Series/index from both the sides.\n",
    "\n",
    "5\t\n",
    "split(' ')\n",
    "\n",
    "Splits each string with the given pattern.\n",
    "\n",
    "6\t\n",
    "cat(sep=' ')\n",
    "\n",
    "Concatenates the series/index elements with given separator.\n",
    "\n",
    "7\t\n",
    "get_dummies()\n",
    "\n",
    "Returns the DataFrame with One-Hot Encoded values.\n",
    "\n",
    "8\t\n",
    "contains(pattern)\n",
    "\n",
    "Returns a Boolean value True for each element if the substring contains in the element, else False.\n",
    "\n",
    "9\t\n",
    "replace(a,b)\n",
    "\n",
    "Replaces the value a with the value b.\n",
    "\n",
    "10\t\n",
    "repeat(value)\n",
    "\n",
    "Repeats each element with specified number of times.\n",
    "\n",
    "11\t\n",
    "count(pattern)\n",
    "\n",
    "Returns count of appearance of pattern in each element.\n",
    "\n",
    "12\t\n",
    "startswith(pattern)\n",
    "\n",
    "Returns true if the element in the Series/Index starts with the pattern.\n",
    "\n",
    "13\t\n",
    "endswith(pattern)\n",
    "\n",
    "Returns true if the element in the Series/Index ends with the pattern.\n",
    "\n",
    "14\t\n",
    "find(pattern)\n",
    "\n",
    "Returns the first position of the first occurrence of the pattern.\n",
    "\n",
    "15\t\n",
    "findall(pattern)\n",
    "\n",
    "Returns a list of all occurrence of the pattern.\n",
    "\n",
    "16\t\n",
    "swapcase\n",
    "\n",
    "Swaps the case lower/upper.\n",
    "\n",
    "17\t\n",
    "islower()\n",
    "\n",
    "Checks whether all characters in each string in the Series/Index in lower case or not. Returns Boolean\n",
    "\n",
    "18\t\n",
    "isupper()\n",
    "\n",
    "Checks whether all characters in each string in the Series/Index in upper case or not. Returns Boolean.\n",
    "\n",
    "19\t\n",
    "isnumeric()\n",
    "\n",
    "Checks whether all characters in each string in the Series/Index are numeric. Returns Boolean."
   ]
  },
  {
   "cell_type": "code",
   "execution_count": 15,
   "metadata": {},
   "outputs": [
    {
     "name": "stdout",
     "output_type": "stream",
     "text": [
      "0             Tom\n",
      "1    William Rick\n",
      "2            John\n",
      "3         Alber@t\n",
      "4             NaN\n",
      "5            1234\n",
      "6      SteveSmith\n",
      "dtype: object\n"
     ]
    }
   ],
   "source": [
    "import pandas as pd\n",
    "import numpy as np\n",
    "\n",
    "s = pd.Series(['Tom', 'William Rick', 'John', 'Alber@t', np.nan, '1234','SteveSmith'])\n",
    "\n",
    "print(s)"
   ]
  },
  {
   "cell_type": "code",
   "execution_count": 16,
   "metadata": {},
   "outputs": [
    {
     "name": "stdout",
     "output_type": "stream",
     "text": [
      "0             tom\n",
      "1    william rick\n",
      "2            john\n",
      "3         alber@t\n",
      "4             NaN\n",
      "5            1234\n",
      "6      stevesmith\n",
      "dtype: object\n"
     ]
    }
   ],
   "source": [
    "# lower()\n",
    "\n",
    "import pandas as pd\n",
    "import numpy as np\n",
    "\n",
    "s = pd.Series(['Tom', 'William Rick', 'John', 'Alber@t', np.nan, '1234','SteveSmith'])\n",
    "\n",
    "print(s.str.lower())"
   ]
  },
  {
   "cell_type": "code",
   "execution_count": 17,
   "metadata": {},
   "outputs": [
    {
     "name": "stdout",
     "output_type": "stream",
     "text": [
      "0             TOM\n",
      "1    WILLIAM RICK\n",
      "2            JOHN\n",
      "3         ALBER@T\n",
      "4             NaN\n",
      "5            1234\n",
      "6      STEVESMITH\n",
      "dtype: object\n"
     ]
    }
   ],
   "source": [
    "# upper()\n",
    "\n",
    "import pandas as pd\n",
    "import numpy as np\n",
    "\n",
    "s = pd.Series(['Tom', 'William Rick', 'John', 'Alber@t', np.nan, '1234','SteveSmith'])\n",
    "\n",
    "print(s.str.upper())"
   ]
  },
  {
   "cell_type": "code",
   "execution_count": 18,
   "metadata": {},
   "outputs": [
    {
     "name": "stdout",
     "output_type": "stream",
     "text": [
      "0     3.0\n",
      "1    12.0\n",
      "2     4.0\n",
      "3     7.0\n",
      "4     NaN\n",
      "5     4.0\n",
      "6    10.0\n",
      "dtype: float64\n"
     ]
    }
   ],
   "source": [
    "# len()\n",
    "\n",
    "import pandas as pd\n",
    "import numpy as np\n",
    "\n",
    "s = pd.Series(['Tom', 'William Rick', 'John', 'Alber@t', np.nan, '1234','SteveSmith'])\n",
    "print(s.str.len())"
   ]
  },
  {
   "cell_type": "code",
   "execution_count": 22,
   "metadata": {},
   "outputs": [
    {
     "name": "stdout",
     "output_type": "stream",
     "text": [
      "0             Tom \n",
      "1     William Rick\n",
      "2             John\n",
      "3          Alber@t\n",
      "dtype: object \n",
      "\n",
      "After Stripping:\n",
      "\n",
      "0             Tom\n",
      "1    William Rick\n",
      "2            John\n",
      "3         Alber@t\n",
      "dtype: object\n"
     ]
    }
   ],
   "source": [
    "# strip()\n",
    "\n",
    "import pandas as pd\n",
    "import numpy as np\n",
    "s = pd.Series(['Tom ', ' William Rick', 'John', 'Alber@t'])\n",
    "print(s,'\\n')\n",
    "print(\"After Stripping:\\n\")\n",
    "print(s.str.strip())"
   ]
  },
  {
   "cell_type": "code",
   "execution_count": 23,
   "metadata": {},
   "outputs": [
    {
     "name": "stdout",
     "output_type": "stream",
     "text": [
      "0             Tom \n",
      "1     William Rick\n",
      "2             John\n",
      "3          Alber@t\n",
      "dtype: object \n",
      "\n",
      "Split Pattern:\n",
      "\n",
      "0              [Tom, ]\n",
      "1    [, William, Rick]\n",
      "2               [John]\n",
      "3            [Alber@t]\n",
      "dtype: object\n"
     ]
    }
   ],
   "source": [
    "# split(pattern)\n",
    "\n",
    "import pandas as pd\n",
    "import numpy as np\n",
    "s = pd.Series(['Tom ', ' William Rick', 'John', 'Alber@t'])\n",
    "print(s,'\\n')\n",
    "print (\"Split Pattern:\\n\")\n",
    "print(s.str.split(' '))"
   ]
  },
  {
   "cell_type": "code",
   "execution_count": 24,
   "metadata": {},
   "outputs": [
    {
     "name": "stdout",
     "output_type": "stream",
     "text": [
      "Tom _ William Rick_John_Alber@t\n"
     ]
    }
   ],
   "source": [
    "# cat(sep=pattern)\n",
    "\n",
    "import pandas as pd\n",
    "import numpy as np\n",
    "\n",
    "s = pd.Series(['Tom ', ' William Rick', 'John', 'Alber@t'])\n",
    "\n",
    "print(s.str.cat(sep='_'))"
   ]
  },
  {
   "cell_type": "code",
   "execution_count": 25,
   "metadata": {},
   "outputs": [
    {
     "name": "stdout",
     "output_type": "stream",
     "text": [
      "    William Rick  Alber@t  John  Tom \n",
      "0              0        0     0     1\n",
      "1              1        0     0     0\n",
      "2              0        0     1     0\n",
      "3              0        1     0     0\n"
     ]
    }
   ],
   "source": [
    "# get_dummies()\n",
    "\n",
    "import pandas as pd\n",
    "import numpy as np\n",
    "\n",
    "s = pd.Series(['Tom ', ' William Rick', 'John', 'Alber@t'])\n",
    "\n",
    "print(s.str.get_dummies())"
   ]
  },
  {
   "cell_type": "code",
   "execution_count": 26,
   "metadata": {},
   "outputs": [
    {
     "name": "stdout",
     "output_type": "stream",
     "text": [
      "0     True\n",
      "1     True\n",
      "2    False\n",
      "3    False\n",
      "dtype: bool\n"
     ]
    }
   ],
   "source": [
    "# contains ()\n",
    "\n",
    "import pandas as pd\n",
    "\n",
    "s = pd.Series(['Tom ', ' William Rick', 'John', 'Alber@t'])\n",
    "\n",
    "print(s.str.contains(' '))"
   ]
  },
  {
   "cell_type": "code",
   "execution_count": 27,
   "metadata": {},
   "outputs": [
    {
     "name": "stdout",
     "output_type": "stream",
     "text": [
      "0             Tom \n",
      "1     William Rick\n",
      "2             John\n",
      "3          Alber@t\n",
      "dtype: object \n",
      "\n",
      "After replacing @ with $:\n",
      "\n",
      "0             Tom \n",
      "1     William Rick\n",
      "2             John\n",
      "3          Alber$t\n",
      "dtype: object\n"
     ]
    }
   ],
   "source": [
    "# replace(a,b)\n",
    "\n",
    "import pandas as pd\n",
    "s = pd.Series(['Tom ', ' William Rick', 'John', 'Alber@t'])\n",
    "print(s,'\\n')\n",
    "print (\"After replacing @ with $:\\n\")\n",
    "print(s.str.replace('@','$'))"
   ]
  },
  {
   "cell_type": "code",
   "execution_count": 28,
   "metadata": {},
   "outputs": [
    {
     "name": "stdout",
     "output_type": "stream",
     "text": [
      "0                      Tom Tom \n",
      "1     William Rick William Rick\n",
      "2                      JohnJohn\n",
      "3                Alber@tAlber@t\n",
      "dtype: object\n"
     ]
    }
   ],
   "source": [
    "# repeat(value)\n",
    "\n",
    "import pandas as pd\n",
    "\n",
    "s = pd.Series(['Tom ', ' William Rick', 'John', 'Alber@t'])\n",
    "\n",
    "print(s.str.repeat(2))"
   ]
  },
  {
   "cell_type": "code",
   "execution_count": 29,
   "metadata": {},
   "outputs": [
    {
     "name": "stdout",
     "output_type": "stream",
     "text": [
      "The number of 'm's in each string:\n",
      "0    1\n",
      "1    1\n",
      "2    0\n",
      "3    0\n",
      "dtype: int64\n"
     ]
    }
   ],
   "source": [
    "# count(pattern)\n",
    "\n",
    "import pandas as pd\n",
    " \n",
    "s = pd.Series(['Tom ', ' William Rick', 'John', 'Alber@t'])\n",
    "\n",
    "print(\"The number of 'm's in each string:\")\n",
    "print(s.str.count('m'))"
   ]
  },
  {
   "cell_type": "code",
   "execution_count": 30,
   "metadata": {},
   "outputs": [
    {
     "name": "stdout",
     "output_type": "stream",
     "text": [
      "Strings that start with 'T':\n",
      "0     True\n",
      "1    False\n",
      "2    False\n",
      "3    False\n",
      "dtype: bool\n"
     ]
    }
   ],
   "source": [
    "# startswith(pattern)\n",
    "\n",
    "import pandas as pd\n",
    "\n",
    "s = pd.Series(['Tom ', ' William Rick', 'John', 'Alber@t'])\n",
    "\n",
    "print (\"Strings that start with 'T':\")\n",
    "print (s.str. startswith ('T'))"
   ]
  },
  {
   "cell_type": "code",
   "execution_count": 31,
   "metadata": {},
   "outputs": [
    {
     "name": "stdout",
     "output_type": "stream",
     "text": [
      "Strings that end with 't':\n",
      "0    False\n",
      "1    False\n",
      "2    False\n",
      "3     True\n",
      "dtype: bool\n"
     ]
    }
   ],
   "source": [
    "# endswith(pattern)\n",
    "\n",
    "import pandas as pd\n",
    "s = pd.Series(['Tom ', ' William Rick', 'John', 'Alber@t'])\n",
    "print (\"Strings that end with 't':\")\n",
    "print (s.str.endswith('t'))"
   ]
  },
  {
   "cell_type": "code",
   "execution_count": 32,
   "metadata": {},
   "outputs": [
    {
     "name": "stdout",
     "output_type": "stream",
     "text": [
      "0   -1\n",
      "1   -1\n",
      "2   -1\n",
      "3    3\n",
      "dtype: int64\n"
     ]
    }
   ],
   "source": [
    "# find(pattern)\n",
    "import pandas as pd\n",
    "\n",
    "s = pd.Series(['Tom ', ' William Rick', 'John', 'Alber@t'])\n",
    "\n",
    "print(s.str.find('e')) # \"-1\" indicates that there no such pattern available in the element."
   ]
  },
  {
   "cell_type": "code",
   "execution_count": 33,
   "metadata": {},
   "outputs": [
    {
     "name": "stdout",
     "output_type": "stream",
     "text": [
      "0     []\n",
      "1     []\n",
      "2     []\n",
      "3    [e]\n",
      "dtype: object\n"
     ]
    }
   ],
   "source": [
    "# findall(pattern)\n",
    "\n",
    "import pandas as pd\n",
    "\n",
    "s = pd.Series(['Tom ', ' William Rick', 'John', 'Alber@t'])\n",
    "\n",
    "print (s.str.findall('e')) # Null list([ ]) indicates that there is no such pattern available in the element."
   ]
  },
  {
   "cell_type": "code",
   "execution_count": 34,
   "metadata": {},
   "outputs": [
    {
     "name": "stdout",
     "output_type": "stream",
     "text": [
      "0             tOM\n",
      "1    wILLIAM rICK\n",
      "2            jOHN\n",
      "3         aLBER@T\n",
      "dtype: object\n"
     ]
    }
   ],
   "source": [
    "# swapcase()\n",
    "\n",
    "import pandas as pd\n",
    "\n",
    "s = pd.Series(['Tom', 'William Rick', 'John', 'Alber@t'])\n",
    "print (s.str.swapcase())"
   ]
  },
  {
   "cell_type": "code",
   "execution_count": 35,
   "metadata": {},
   "outputs": [
    {
     "name": "stdout",
     "output_type": "stream",
     "text": [
      "0    False\n",
      "1    False\n",
      "2    False\n",
      "3    False\n",
      "dtype: bool\n"
     ]
    }
   ],
   "source": [
    "# islower()\n",
    "\n",
    "import pandas as pd\n",
    "\n",
    "s = pd.Series(['Tom', 'William Rick', 'John', 'Alber@t'])\n",
    "print (s.str.islower())"
   ]
  },
  {
   "cell_type": "code",
   "execution_count": 36,
   "metadata": {},
   "outputs": [
    {
     "name": "stdout",
     "output_type": "stream",
     "text": [
      "0    False\n",
      "1    False\n",
      "2    False\n",
      "3    False\n",
      "dtype: bool\n"
     ]
    }
   ],
   "source": [
    "# isupper()\n",
    "\n",
    "import pandas as pd\n",
    "\n",
    "s = pd.Series(['Tom', 'William Rick', 'John', 'Alber@t'])\n",
    "\n",
    "print (s.str.isupper())"
   ]
  },
  {
   "cell_type": "code",
   "execution_count": 37,
   "metadata": {},
   "outputs": [
    {
     "name": "stdout",
     "output_type": "stream",
     "text": [
      "0    False\n",
      "1    False\n",
      "2    False\n",
      "3    False\n",
      "dtype: bool\n"
     ]
    }
   ],
   "source": [
    "# isnumeric()\n",
    "\n",
    "import pandas as pd\n",
    "\n",
    "s = pd.Series(['Tom', 'William Rick', 'John', 'Alber@t'])\n",
    "\n",
    "print (s.str.isnumeric())"
   ]
  },
  {
   "cell_type": "code",
   "execution_count": null,
   "metadata": {},
   "outputs": [],
   "source": [
    "# 10/ Statistical Functions"
   ]
  },
  {
   "cell_type": "code",
   "execution_count": 39,
   "metadata": {},
   "outputs": [
    {
     "name": "stdout",
     "output_type": "stream",
     "text": [
      "0    1\n",
      "1    2\n",
      "2    3\n",
      "3    4\n",
      "4    5\n",
      "5    4\n",
      "dtype: int64 \n",
      "\n",
      "0         NaN\n",
      "1    1.000000\n",
      "2    0.500000\n",
      "3    0.333333\n",
      "4    0.250000\n",
      "5   -0.200000\n",
      "dtype: float64 \n",
      "\n",
      "          0         1\n",
      "0  0.159625  0.405766\n",
      "1  0.877709 -2.305769\n",
      "2 -1.252604 -0.022252\n",
      "3 -0.940823 -0.761307\n",
      "4 -0.969631  0.814137 \n",
      "\n",
      "          0          1\n",
      "0       NaN        NaN\n",
      "1  4.498571  -6.682507\n",
      "2 -2.427128  -0.990349\n",
      "3 -0.248906  33.212427\n",
      "4  0.030620  -2.069394\n"
     ]
    }
   ],
   "source": [
    "# Percent_change, compares every element with its prior element and computes the change percentage\n",
    "\n",
    "import pandas as pd\n",
    "import numpy as np\n",
    "s = pd.Series([1,2,3,4,5,4])\n",
    "print(s,'\\n')\n",
    "print(s.pct_change(),'\\n')\n",
    "\n",
    "df = pd.DataFrame(np.random.randn(5, 2))\n",
    "print(df,'\\n')\n",
    "print(df.pct_change())"
   ]
  },
  {
   "cell_type": "code",
   "execution_count": 40,
   "metadata": {},
   "outputs": [
    {
     "name": "stdout",
     "output_type": "stream",
     "text": [
      "-0.11315143961575054\n"
     ]
    }
   ],
   "source": [
    "# Covariance\n",
    "import pandas as pd\n",
    "import numpy as np\n",
    "s1 = pd.Series(np.random.randn(10))\n",
    "s2 = pd.Series(np.random.randn(10))\n",
    "print(s1.cov(s2))"
   ]
  },
  {
   "cell_type": "code",
   "execution_count": 43,
   "metadata": {},
   "outputs": [
    {
     "name": "stdout",
     "output_type": "stream",
     "text": [
      "          a         b         c         d         e\n",
      "0 -0.963668  1.157225  1.175351  0.052750  1.554163\n",
      "1 -0.081542  1.172364 -0.936548 -0.001814 -1.018801\n",
      "2  0.629388 -0.410038 -0.044189 -0.762035 -1.751541\n",
      "3  0.870422 -0.845704  0.638655 -1.895047 -2.615335\n",
      "4 -0.005414 -1.484452  0.036096 -0.635582  1.037209\n",
      "5  1.295161  0.291496  0.445773 -2.204525 -0.083720\n",
      "6  1.126438 -0.456718  0.375757  0.983119  0.151723\n",
      "7 -0.006333 -0.224121 -0.548389  0.865338 -0.174773\n",
      "8  0.732688 -1.032895  0.441370 -1.058530  0.872719\n",
      "9 -0.106148 -2.040720  0.958785 -0.897695  1.031908 \n",
      "\n",
      "-0.16892880520173226 \n",
      "\n",
      "          a         b         c         d         e\n",
      "a  0.484982 -0.168929 -0.021147 -0.296778 -0.428638\n",
      "b -0.168929  1.097256 -0.184418  0.267319 -0.161483\n",
      "c -0.021147 -0.184418  0.419768 -0.237711  0.329872\n",
      "d -0.296778  0.267319 -0.237711  1.110616  0.388271\n",
      "e -0.428638 -0.161483  0.329872  0.388271  1.802756\n"
     ]
    }
   ],
   "source": [
    "# Covariance method when applied on a DataFrame, computes cov between all the columns\n",
    "\n",
    "import pandas as pd\n",
    "import numpy as np\n",
    "frame = pd.DataFrame(np.random.randn(10, 5), columns=['a', 'b', 'c', 'd', 'e'])\n",
    "print(frame,'\\n')\n",
    "\n",
    "print(frame['a'].cov(frame['b']),'\\n')\n",
    "print(frame.cov())"
   ]
  },
  {
   "cell_type": "code",
   "execution_count": null,
   "metadata": {},
   "outputs": [],
   "source": [
    "# Correlation\n",
    "\n",
    "Correlation shows the linear relationship between any two array of values (series).\n",
    "There are multiple methods to compute the correlation like pearson(default), spearman and kendall."
   ]
  },
  {
   "cell_type": "code",
   "execution_count": 45,
   "metadata": {},
   "outputs": [
    {
     "name": "stdout",
     "output_type": "stream",
     "text": [
      "          a         b         c         d         e\n",
      "0  0.068874 -1.551737  0.717593 -0.577550  1.034366\n",
      "1 -1.259794  0.803143  0.736177  0.740028 -0.231210\n",
      "2 -0.409088  0.661228 -0.594742  1.165111 -1.203028\n",
      "3  0.572032  1.070472  0.981272 -0.761237 -1.281875\n",
      "4  0.916797 -0.136164 -0.751192  0.468489 -0.475938\n",
      "5 -0.117799 -0.104966 -1.366278  2.662428  0.524744\n",
      "6  0.209513  1.147040 -0.367812  1.536831 -1.314009\n",
      "7  0.570193 -1.207380  0.366087 -0.978656 -1.061114\n",
      "8 -1.065605  0.692569 -1.591817 -2.024400 -1.472793\n",
      "9  0.111200 -0.462415 -1.036797  0.822227  0.730900 \n",
      "\n",
      "-0.34955126527590424 \n",
      "\n",
      "          a         b         c         d         e\n",
      "a  1.000000 -0.349551  0.168501  0.041950  0.033829\n",
      "b -0.349551  1.000000 -0.105910  0.168406 -0.634886\n",
      "c  0.168501 -0.105910  1.000000 -0.254719 -0.003702\n",
      "d  0.041950  0.168406 -0.254719  1.000000  0.342487\n",
      "e  0.033829 -0.634886 -0.003702  0.342487  1.000000\n"
     ]
    }
   ],
   "source": [
    "import pandas as pd\n",
    "import numpy as np\n",
    "frame = pd.DataFrame(np.random.randn(10, 5), columns=['a', 'b', 'c', 'd', 'e'])\n",
    "print(frame,'\\n')\n",
    "\n",
    "print(frame['a'].corr(frame['b']),'\\n')\n",
    "print(frame.corr())"
   ]
  },
  {
   "cell_type": "code",
   "execution_count": 56,
   "metadata": {},
   "outputs": [
    {
     "name": "stdout",
     "output_type": "stream",
     "text": [
      "a   -0.261840\n",
      "b    0.473508\n",
      "c   -0.735260\n",
      "d   -0.284385\n",
      "e   -0.460117\n",
      "dtype: float64 \n",
      "\n",
      "a    4.0\n",
      "b    5.0\n",
      "c    1.0\n",
      "d    3.0\n",
      "e    2.0\n",
      "dtype: float64\n"
     ]
    }
   ],
   "source": [
    "# Data Ranking\n",
    "\n",
    "import pandas as pd\n",
    "import numpy as np\n",
    "\n",
    "s = pd.Series(np.random.randn(5), index=list('abcde'))\n",
    "#s['d'] = s['b'] # so there's a tie\n",
    "print(s,'\\n')\n",
    "\n",
    "print(s.rank())"
   ]
  },
  {
   "cell_type": "code",
   "execution_count": 57,
   "metadata": {},
   "outputs": [
    {
     "name": "stdout",
     "output_type": "stream",
     "text": [
      "a   -0.246555\n",
      "b    0.712398\n",
      "c    0.648688\n",
      "d    0.712398\n",
      "e    0.255595\n",
      "dtype: float64 \n",
      "\n",
      "a    1.0\n",
      "b    4.5\n",
      "c    3.0\n",
      "d    4.5\n",
      "e    2.0\n",
      "dtype: float64\n"
     ]
    }
   ],
   "source": [
    "import pandas as pd\n",
    "import numpy as np\n",
    "\n",
    "s = pd.Series(np.random.randn(5), index=list('abcde'))\n",
    "s['d'] = s['b'] # so there's a tie\n",
    "print(s,'\\n')\n",
    "\n",
    "print(s.rank())"
   ]
  }
 ],
 "metadata": {
  "kernelspec": {
   "display_name": "Python 3",
   "language": "python",
   "name": "python3"
  },
  "language_info": {
   "codemirror_mode": {
    "name": "ipython",
    "version": 3
   },
   "file_extension": ".py",
   "mimetype": "text/x-python",
   "name": "python",
   "nbconvert_exporter": "python",
   "pygments_lexer": "ipython3",
   "version": "3.8.8"
  }
 },
 "nbformat": 4,
 "nbformat_minor": 4
}
