{
 "cells": [
  {
   "cell_type": "code",
   "execution_count": null,
   "metadata": {},
   "outputs": [],
   "source": [
    "1/ GroupBy\n",
    "View Groups\n",
    "Iterating through Groups\n",
    "Select a Group, get_group()\n",
    "Aggregations, agg()\n",
    "Applying Multiple Aggregation Functions at Once\n",
    "size of each group\n",
    "Filtration\n",
    "Transformations ??????\n",
    "\n",
    "2/ Merging/Joining\n",
    "Merge Two DataFrames on a Key\n",
    "Merge Two DataFrames on Multiple Keys\n",
    "Merge Using 'how' Argument:\n",
    "\tLeft Join,\n",
    "\tRight Join\n",
    "\tOuter Join\n",
    "\tInner Join\n",
    "\n",
    "3/ Concatenation\n",
    "Concatenating Objects\n",
    "Concatenating Using append"
   ]
  },
  {
   "cell_type": "code",
   "execution_count": null,
   "metadata": {},
   "outputs": [],
   "source": [
    "1/ GroupBy"
   ]
  },
  {
   "cell_type": "code",
   "execution_count": 1,
   "metadata": {},
   "outputs": [
    {
     "name": "stdout",
     "output_type": "stream",
     "text": [
      "      Team  Rank  Year  Points\n",
      "0   Riders     1  2014     876\n",
      "1   Riders     2  2015     789\n",
      "2   Devils     2  2014     863\n",
      "3   Devils     3  2015     673\n",
      "4    Kings     3  2014     741\n",
      "5    kings     4  2015     812\n",
      "6    Kings     1  2016     756\n",
      "7    Kings     1  2017     788\n",
      "8   Riders     2  2016     694\n",
      "9   Royals     4  2014     701\n",
      "10  Royals     1  2015     804\n",
      "11  Riders     2  2017     690\n"
     ]
    }
   ],
   "source": [
    "import pandas as pd\n",
    "\n",
    "ipl_data = {'Team': ['Riders', 'Riders', 'Devils', 'Devils', 'Kings',\n",
    "   'kings', 'Kings', 'Kings', 'Riders', 'Royals', 'Royals', 'Riders'],\n",
    "   'Rank': [1, 2, 2, 3, 3,4 ,1 ,1,2 , 4,1,2],\n",
    "   'Year': [2014,2015,2014,2015,2014,2015,2016,2017,2016,2014,2015,2017],\n",
    "   'Points':[876,789,863,673,741,812,756,788,694,701,804,690]}\n",
    "df = pd.DataFrame(ipl_data)\n",
    "\n",
    "print(df)"
   ]
  },
  {
   "cell_type": "code",
   "execution_count": null,
   "metadata": {},
   "outputs": [],
   "source": [
    "Split Data into Groups\n",
    "Pandas object can be split into any of their objects. There are multiple ways to split an object like −\n",
    "\n",
    "obj.groupby('key')\n",
    "obj.groupby(['key1','key2'])\n",
    "obj.groupby(key,axis=1)"
   ]
  },
  {
   "cell_type": "code",
   "execution_count": 2,
   "metadata": {},
   "outputs": [
    {
     "name": "stdout",
     "output_type": "stream",
     "text": [
      "<pandas.core.groupby.generic.DataFrameGroupBy object at 0x0000020BD2B3E9D0>\n"
     ]
    }
   ],
   "source": [
    "import pandas as pd\n",
    "\n",
    "ipl_data = {'Team': ['Riders', 'Riders', 'Devils', 'Devils', 'Kings',\n",
    "   'kings', 'Kings', 'Kings', 'Riders', 'Royals', 'Royals', 'Riders'],\n",
    "   'Rank': [1, 2, 2, 3, 3,4 ,1 ,1,2 , 4,1,2],\n",
    "   'Year': [2014,2015,2014,2015,2014,2015,2016,2017,2016,2014,2015,2017],\n",
    "   'Points':[876,789,863,673,741,812,756,788,694,701,804,690]}\n",
    "df = pd.DataFrame(ipl_data)\n",
    "\n",
    "print(df.groupby('Team'))"
   ]
  },
  {
   "cell_type": "code",
   "execution_count": 4,
   "metadata": {},
   "outputs": [
    {
     "name": "stdout",
     "output_type": "stream",
     "text": [
      "      Team  Rank  Year  Points\n",
      "0   Riders     1  2014     876\n",
      "1   Riders     2  2015     789\n",
      "2   Devils     2  2014     863\n",
      "3   Devils     3  2015     673\n",
      "4    Kings     3  2014     741\n",
      "5    kings     4  2015     812\n",
      "6    Kings     1  2016     756\n",
      "7    Kings     1  2017     788\n",
      "8   Riders     2  2016     694\n",
      "9   Royals     4  2014     701\n",
      "10  Royals     1  2015     804\n",
      "11  Riders     2  2017     690 \n",
      "\n",
      "{'Devils': [2, 3], 'Kings': [4, 6, 7], 'Riders': [0, 1, 8, 11], 'Royals': [9, 10], 'kings': [5]}\n"
     ]
    }
   ],
   "source": [
    "# View Groups\n",
    "\n",
    "import pandas as pd\n",
    "\n",
    "ipl_data = {'Team': ['Riders', 'Riders', 'Devils', 'Devils', 'Kings',\n",
    "   'kings', 'Kings', 'Kings', 'Riders', 'Royals', 'Royals', 'Riders'],\n",
    "   'Rank': [1, 2, 2, 3, 3,4 ,1 ,1,2 , 4,1,2],\n",
    "   'Year': [2014,2015,2014,2015,2014,2015,2016,2017,2016,2014,2015,2017],\n",
    "   'Points':[876,789,863,673,741,812,756,788,694,701,804,690]}\n",
    "df = pd.DataFrame(ipl_data)\n",
    "print(df,'\\n')\n",
    "\n",
    "print(df.groupby('Team').groups)"
   ]
  },
  {
   "cell_type": "code",
   "execution_count": 7,
   "metadata": {},
   "outputs": [
    {
     "name": "stdout",
     "output_type": "stream",
     "text": [
      "      Team  Rank  Year  Points\n",
      "0   Riders     1  2014     876\n",
      "1   Riders     2  2015     789\n",
      "2   Devils     2  2014     863\n",
      "3   Devils     3  2015     673\n",
      "4    Kings     3  2014     741\n",
      "5    kings     4  2015     812\n",
      "6    Kings     1  2016     756\n",
      "7    Kings     1  2017     788\n",
      "8   Riders     2  2016     694\n",
      "9   Royals     4  2014     701\n",
      "10  Royals     1  2015     804\n",
      "11  Riders     2  2017     690 \n",
      "\n",
      "{('Devils', 2): [2], ('Devils', 3): [3], ('Kings', 1): [6, 7], ('Kings', 3): [4], ('Riders', 1): [0], ('Riders', 2): [1, 8, 11], ('Royals', 1): [10], ('Royals', 4): [9], ('kings', 4): [5]}\n"
     ]
    }
   ],
   "source": [
    "import pandas as pd\n",
    "\n",
    "ipl_data = {'Team': ['Riders', 'Riders', 'Devils', 'Devils', 'Kings',\n",
    "   'kings', 'Kings', 'Kings', 'Riders', 'Royals', 'Royals', 'Riders'],\n",
    "   'Rank': [1, 2, 2, 3, 3,4 ,1 ,1,2 , 4,1,2],\n",
    "   'Year': [2014,2015,2014,2015,2014,2015,2016,2017,2016,2014,2015,2017],\n",
    "   'Points':[876,789,863,673,741,812,756,788,694,701,804,690]}\n",
    "df = pd.DataFrame(ipl_data)\n",
    "print(df,'\\n')\n",
    "\n",
    "print(df.groupby(['Team','Rank']).groups)"
   ]
  },
  {
   "cell_type": "code",
   "execution_count": 9,
   "metadata": {},
   "outputs": [
    {
     "name": "stdout",
     "output_type": "stream",
     "text": [
      "2014\n",
      "     Team  Rank  Year  Points\n",
      "0  Riders     1  2014     876\n",
      "2  Devils     2  2014     863\n",
      "4   Kings     3  2014     741\n",
      "9  Royals     4  2014     701 \n",
      "\n",
      "2015\n",
      "      Team  Rank  Year  Points\n",
      "1   Riders     2  2015     789\n",
      "3   Devils     3  2015     673\n",
      "5    kings     4  2015     812\n",
      "10  Royals     1  2015     804 \n",
      "\n",
      "2016\n",
      "     Team  Rank  Year  Points\n",
      "6   Kings     1  2016     756\n",
      "8  Riders     2  2016     694 \n",
      "\n",
      "2017\n",
      "      Team  Rank  Year  Points\n",
      "7    Kings     1  2017     788\n",
      "11  Riders     2  2017     690 \n",
      "\n"
     ]
    }
   ],
   "source": [
    "# Iterating through Groups\n",
    "\n",
    "import pandas as pd\n",
    "\n",
    "ipl_data = {'Team': ['Riders', 'Riders', 'Devils', 'Devils', 'Kings',\n",
    "   'kings', 'Kings', 'Kings', 'Riders', 'Royals', 'Royals', 'Riders'],\n",
    "   'Rank': [1, 2, 2, 3, 3,4 ,1 ,1,2 , 4,1,2],\n",
    "   'Year': [2014,2015,2014,2015,2014,2015,2016,2017,2016,2014,2015,2017],\n",
    "   'Points':[876,789,863,673,741,812,756,788,694,701,804,690]}\n",
    "df = pd.DataFrame(ipl_data)\n",
    "\n",
    "grouped = df.groupby('Year')\n",
    "\n",
    "for name,group in grouped:\n",
    "    print(name)\n",
    "    print(group,'\\n')"
   ]
  },
  {
   "cell_type": "code",
   "execution_count": 10,
   "metadata": {},
   "outputs": [
    {
     "name": "stdout",
     "output_type": "stream",
     "text": [
      "     Team  Rank  Year  Points\n",
      "0  Riders     1  2014     876\n",
      "2  Devils     2  2014     863\n",
      "4   Kings     3  2014     741\n",
      "9  Royals     4  2014     701\n"
     ]
    }
   ],
   "source": [
    "# Select a Group, get_group()\n",
    "\n",
    "import pandas as pd\n",
    "\n",
    "ipl_data = {'Team': ['Riders', 'Riders', 'Devils', 'Devils', 'Kings',\n",
    "   'kings', 'Kings', 'Kings', 'Riders', 'Royals', 'Royals', 'Riders'],\n",
    "   'Rank': [1, 2, 2, 3, 3,4 ,1 ,1,2 , 4,1,2],\n",
    "   'Year': [2014,2015,2014,2015,2014,2015,2016,2017,2016,2014,2015,2017],\n",
    "   'Points':[876,789,863,673,741,812,756,788,694,701,804,690]}\n",
    "df = pd.DataFrame(ipl_data)\n",
    "\n",
    "grouped = df.groupby('Year')\n",
    "print(grouped.get_group(2014))"
   ]
  },
  {
   "cell_type": "code",
   "execution_count": null,
   "metadata": {},
   "outputs": [],
   "source": [
    "# Aggregations, agg()\n",
    "\n",
    "An aggregated function returns a single aggregated value for each group.\n",
    "Once the group by object is created, several aggregation operations can be performed on the grouped data."
   ]
  },
  {
   "cell_type": "code",
   "execution_count": 12,
   "metadata": {},
   "outputs": [
    {
     "name": "stdout",
     "output_type": "stream",
     "text": [
      "Year\n",
      "2014    795.25\n",
      "2015    769.50\n",
      "2016    725.00\n",
      "2017    739.00\n",
      "Name: Points, dtype: float64\n"
     ]
    }
   ],
   "source": [
    "import pandas as pd\n",
    "import numpy as np\n",
    "\n",
    "ipl_data = {'Team': ['Riders', 'Riders', 'Devils', 'Devils', 'Kings',\n",
    "   'kings', 'Kings', 'Kings', 'Riders', 'Royals', 'Royals', 'Riders'],\n",
    "   'Rank': [1, 2, 2, 3, 3,4 ,1 ,1,2 , 4,1,2],\n",
    "   'Year': [2014,2015,2014,2015,2014,2015,2016,2017,2016,2014,2015,2017],\n",
    "   'Points':[876,789,863,673,741,812,756,788,694,701,804,690]}\n",
    "df = pd.DataFrame(ipl_data)\n",
    "\n",
    "grouped = df.groupby('Year')\n",
    "print(grouped['Points'].agg(np.mean))"
   ]
  },
  {
   "cell_type": "code",
   "execution_count": 17,
   "metadata": {},
   "outputs": [
    {
     "name": "stdout",
     "output_type": "stream",
     "text": [
      "         sum        mean         std\n",
      "Team                                \n",
      "Devils  1536  768.000000  134.350288\n",
      "Kings   2285  761.666667   24.006943\n",
      "Riders  3049  762.250000   88.567771\n",
      "Royals  1505  752.500000   72.831998\n",
      "kings    812  812.000000         NaN\n"
     ]
    }
   ],
   "source": [
    "# Applying Multiple Aggregation Functions at Once\n",
    "\n",
    "import pandas as pd\n",
    "import numpy as np\n",
    "\n",
    "ipl_data = {'Team': ['Riders', 'Riders', 'Devils', 'Devils', 'Kings',\n",
    "   'kings', 'Kings', 'Kings', 'Riders', 'Royals', 'Royals', 'Riders'],\n",
    "   'Rank': [1, 2, 2, 3, 3,4 ,1 ,1,2 , 4,1,2],\n",
    "   'Year': [2014,2015,2014,2015,2014,2015,2016,2017,2016,2014,2015,2017],\n",
    "   'Points':[876,789,863,673,741,812,756,788,694,701,804,690]}\n",
    "df = pd.DataFrame(ipl_data)\n",
    "\n",
    "grouped = df.groupby('Team')\n",
    "print(grouped['Points'].agg([np.sum, np.mean, np.std]))"
   ]
  },
  {
   "cell_type": "code",
   "execution_count": 16,
   "metadata": {
    "scrolled": true
   },
   "outputs": [
    {
     "name": "stdout",
     "output_type": "stream",
     "text": [
      "      Team  Rank  Year  Points\n",
      "0   Riders     1  2014     876\n",
      "1   Riders     2  2015     789\n",
      "2   Devils     2  2014     863\n",
      "3   Devils     3  2015     673\n",
      "4    Kings     3  2014     741\n",
      "5    kings     4  2015     812\n",
      "6    Kings     1  2016     756\n",
      "7    Kings     1  2017     788\n",
      "8   Riders     2  2016     694\n",
      "9   Royals     4  2014     701\n",
      "10  Royals     1  2015     804\n",
      "11  Riders     2  2017     690 \n",
      "\n",
      "        Rank  Year  Points\n",
      "Team                      \n",
      "Devils     2     2       2\n",
      "Kings      3     3       3\n",
      "Riders     4     4       4\n",
      "Royals     2     2       2\n",
      "kings      1     1       1 \n",
      "\n",
      "{'Devils': [2, 3], 'Kings': [4, 6, 7], 'Riders': [0, 1, 8, 11], 'Royals': [9, 10], 'kings': [5]}\n"
     ]
    }
   ],
   "source": [
    "# size of each group\n",
    "\n",
    "import pandas as pd\n",
    "import numpy as np\n",
    "\n",
    "ipl_data = {'Team': ['Riders', 'Riders', 'Devils', 'Devils', 'Kings',\n",
    "   'kings', 'Kings', 'Kings', 'Riders', 'Royals', 'Royals', 'Riders'],\n",
    "   'Rank': [1, 2, 2, 3, 3,4 ,1 ,1,2 , 4,1,2],\n",
    "   'Year': [2014,2015,2014,2015,2014,2015,2016,2017,2016,2014,2015,2017],\n",
    "   'Points':[876,789,863,673,741,812,756,788,694,701,804,690]}\n",
    "df = pd.DataFrame(ipl_data)\n",
    "print(df,'\\n')\n",
    "\n",
    "# Attribute Access in Python Pandas\n",
    "grouped = df.groupby('Team')\n",
    "print(grouped.agg(np.size),'\\n')\n",
    "print(grouped.groups)"
   ]
  },
  {
   "cell_type": "code",
   "execution_count": 22,
   "metadata": {},
   "outputs": [
    {
     "name": "stdout",
     "output_type": "stream",
     "text": [
      "      Team  Rank  Year  Points\n",
      "0   Riders     1  2014     876\n",
      "1   Riders     2  2015     789\n",
      "4    Kings     3  2014     741\n",
      "6    Kings     1  2016     756\n",
      "7    Kings     1  2017     788\n",
      "8   Riders     2  2016     694\n",
      "11  Riders     2  2017     690 \n",
      "\n",
      "{'Devils': [2, 3], 'Kings': [4, 6, 7], 'Riders': [0, 1, 8, 11], 'Royals': [9, 10], 'kings': [5]}\n"
     ]
    }
   ],
   "source": [
    "# Filtration\n",
    "\n",
    "import pandas as pd\n",
    "import numpy as np\n",
    "\n",
    "ipl_data = {'Team': ['Riders', 'Riders', 'Devils', 'Devils', 'Kings',\n",
    "   'kings', 'Kings', 'Kings', 'Riders', 'Royals', 'Royals', 'Riders'],\n",
    "   'Rank': [1, 2, 2, 3, 3,4 ,1 ,1,2 , 4,1,2],\n",
    "   'Year': [2014,2015,2014,2015,2014,2015,2016,2017,2016,2014,2015,2017],\n",
    "   'Points':[876,789,863,673,741,812,756,788,694,701,804,690]}\n",
    "df = pd.DataFrame(ipl_data)\n",
    "\n",
    "print(df.groupby('Team').filter(lambda x: len(x) >= 3),'\\n')\n",
    "print(df.groupby('Team').groups)\n"
   ]
  },
  {
   "cell_type": "code",
   "execution_count": null,
   "metadata": {},
   "outputs": [],
   "source": [
    "2/ Merging/Joining"
   ]
  },
  {
   "cell_type": "code",
   "execution_count": null,
   "metadata": {},
   "outputs": [],
   "source": [
    "pd.merge(left, right, how='inner', on=None, left_on=None, right_on=None, left_index=False, right_index=False, sort=True)\n",
    "\n",
    "left − A DataFrame object.\n",
    "\n",
    "right − Another DataFrame object.\n",
    "\n",
    "on − Columns (names) to join on. Must be found in both the left and right DataFrame objects.\n",
    "\n",
    "left_on − Columns from the left DataFrame to use as keys. Can either be column names or arrays with length equal to the length of the DataFrame.\n",
    "\n",
    "right_on − Columns from the right DataFrame to use as keys. Can either be column names or arrays with length equal to the length of the DataFrame.\n",
    "\n",
    "left_index − If True, use the index (row labels) from the left DataFrame as its join key(s). In case of a DataFrame with a MultiIndex (hierarchical), the number of levels must match the number of join keys from the right DataFrame.\n",
    "\n",
    "right_index − Same usage as left_index for the right DataFrame.\n",
    "\n",
    "how − One of 'left', 'right', 'outer', 'inner'. Defaults to inner. Each method has been described below.\n",
    "\n",
    "sort − Sort the result DataFrame by the join keys in lexicographical order. Defaults to True, setting to False will improve the performance substantially in many cases."
   ]
  },
  {
   "cell_type": "code",
   "execution_count": 4,
   "metadata": {},
   "outputs": [
    {
     "name": "stdout",
     "output_type": "stream",
     "text": [
      "   id    Name subject_id\n",
      "0   1    Alex       sub1\n",
      "1   2     Amy       sub2\n",
      "2   3   Allen       sub4\n",
      "3   4   Alice       sub6\n",
      "4   5  Ayoung       sub5 \n",
      "\n",
      "   id   Name subject_id\n",
      "0   1  Billy       sub2\n",
      "1   2  Brian       sub4\n",
      "2   3   Bran       sub3\n",
      "3   4  Bryce       sub6\n",
      "4   5  Betty       sub5 \n",
      "\n",
      "   id  Name_x subject_id_x Name_y subject_id_y\n",
      "0   1    Alex         sub1  Billy         sub2\n",
      "1   2     Amy         sub2  Brian         sub4\n",
      "2   3   Allen         sub4   Bran         sub3\n",
      "3   4   Alice         sub6  Bryce         sub6\n",
      "4   5  Ayoung         sub5  Betty         sub5\n"
     ]
    }
   ],
   "source": [
    "# Merge Two DataFrames on a Key\n",
    "import pandas as pd\n",
    "left = pd.DataFrame({\n",
    "   'id':[1,2,3,4,5],\n",
    "   'Name': ['Alex', 'Amy', 'Allen', 'Alice', 'Ayoung'],\n",
    "   'subject_id':['sub1','sub2','sub4','sub6','sub5']})\n",
    "right = pd.DataFrame(\n",
    "   {'id':[1,2,3,4,5],\n",
    "   'Name': ['Billy', 'Brian', 'Bran', 'Bryce', 'Betty'],\n",
    "   'subject_id':['sub2','sub4','sub3','sub6','sub5']})\n",
    "print(left,'\\n')\n",
    "print(right,'\\n')\n",
    "\n",
    "print(pd.merge(left,right,on='id'))"
   ]
  },
  {
   "cell_type": "code",
   "execution_count": 6,
   "metadata": {},
   "outputs": [
    {
     "name": "stdout",
     "output_type": "stream",
     "text": [
      "   id    Name subject_id\n",
      "0   1    Alex       sub1\n",
      "1   2     Amy       sub2\n",
      "2   3   Allen       sub4\n",
      "3   4   Alice       sub6\n",
      "4   5  Ayoung       sub5 \n",
      "\n",
      "   id   Name subject_id\n",
      "0   1  Billy       sub2\n",
      "1   2  Brian       sub4\n",
      "2   3   Bran       sub3\n",
      "3   4  Bryce       sub6\n",
      "4   5  Betty       sub5 \n",
      "\n",
      "   id  Name_x subject_id_x Name_y subject_id_y\n",
      "0   1    Alex         sub1  Billy         sub2\n",
      "1   2     Amy         sub2  Brian         sub4\n",
      "2   3   Allen         sub4   Bran         sub3\n",
      "3   4   Alice         sub6  Bryce         sub6\n",
      "4   5  Ayoung         sub5  Betty         sub5 \n",
      "\n",
      "   id  Name_x subject_id Name_y\n",
      "0   4   Alice       sub6  Bryce\n",
      "1   5  Ayoung       sub5  Betty\n"
     ]
    }
   ],
   "source": [
    "# Merge Two DataFrames on Multiple Keys\n",
    "\n",
    "import pandas as pd\n",
    "left = pd.DataFrame({\n",
    "   'id':[1,2,3,4,5],\n",
    "   'Name': ['Alex', 'Amy', 'Allen', 'Alice', 'Ayoung'],\n",
    "   'subject_id':['sub1','sub2','sub4','sub6','sub5']})\n",
    "right = pd.DataFrame(\n",
    "   {'id':[1,2,3,4,5],\n",
    "   'Name': ['Billy', 'Brian', 'Bran', 'Bryce', 'Betty'],\n",
    "   'subject_id':['sub2','sub4','sub3','sub6','sub5']})\n",
    "print(left,'\\n')\n",
    "print(right,'\\n')\n",
    "\n",
    "print(pd.merge(left,right,on='id'),'\\n')\n",
    "\n",
    "print(pd.merge(left,right,on=['id','subject_id']))"
   ]
  },
  {
   "cell_type": "code",
   "execution_count": null,
   "metadata": {},
   "outputs": [],
   "source": [
    "# Merge Using 'how' Argument\n",
    "\n",
    "Merge Method\tSQL Equivalent\tDescription\n",
    "left\tLEFT OUTER JOIN\tUse keys from left object\n",
    "right\tRIGHT OUTER JOIN\tUse keys from right object\n",
    "outer\tFULL OUTER JOIN\tUse union of keys\n",
    "inner\tINNER JOIN\tUse intersection of keys"
   ]
  },
  {
   "cell_type": "code",
   "execution_count": 7,
   "metadata": {},
   "outputs": [
    {
     "name": "stdout",
     "output_type": "stream",
     "text": [
      "   id    Name subject_id\n",
      "0   1    Alex       sub1\n",
      "1   2     Amy       sub2\n",
      "2   3   Allen       sub4\n",
      "3   4   Alice       sub6\n",
      "4   5  Ayoung       sub5 \n",
      "\n",
      "   id   Name subject_id\n",
      "0   1  Billy       sub2\n",
      "1   2  Brian       sub4\n",
      "2   3   Bran       sub3\n",
      "3   4  Bryce       sub6\n",
      "4   5  Betty       sub5 \n",
      "\n",
      "   id_x  Name_x subject_id  id_y Name_y\n",
      "0     1    Alex       sub1   NaN    NaN\n",
      "1     2     Amy       sub2   1.0  Billy\n",
      "2     3   Allen       sub4   2.0  Brian\n",
      "3     4   Alice       sub6   4.0  Bryce\n",
      "4     5  Ayoung       sub5   5.0  Betty\n"
     ]
    }
   ],
   "source": [
    "# Left Join\n",
    "\n",
    "import pandas as pd\n",
    "left = pd.DataFrame({\n",
    "   'id':[1,2,3,4,5],\n",
    "   'Name': ['Alex', 'Amy', 'Allen', 'Alice', 'Ayoung'],\n",
    "   'subject_id':['sub1','sub2','sub4','sub6','sub5']})\n",
    "right = pd.DataFrame(\n",
    "   {'id':[1,2,3,4,5],\n",
    "   'Name': ['Billy', 'Brian', 'Bran', 'Bryce', 'Betty'],\n",
    "   'subject_id':['sub2','sub4','sub3','sub6','sub5']})\n",
    "print(left,'\\n')\n",
    "print(right,'\\n')\n",
    "\n",
    "print (pd.merge(left, right, on='subject_id', how='left'))"
   ]
  },
  {
   "cell_type": "code",
   "execution_count": 8,
   "metadata": {},
   "outputs": [
    {
     "name": "stdout",
     "output_type": "stream",
     "text": [
      "   id    Name subject_id\n",
      "0   1    Alex       sub1\n",
      "1   2     Amy       sub2\n",
      "2   3   Allen       sub4\n",
      "3   4   Alice       sub6\n",
      "4   5  Ayoung       sub5 \n",
      "\n",
      "   id   Name subject_id\n",
      "0   1  Billy       sub2\n",
      "1   2  Brian       sub4\n",
      "2   3   Bran       sub3\n",
      "3   4  Bryce       sub6\n",
      "4   5  Betty       sub5 \n",
      "\n",
      "   id_x  Name_x subject_id  id_y Name_y\n",
      "0   2.0     Amy       sub2     1  Billy\n",
      "1   3.0   Allen       sub4     2  Brian\n",
      "2   NaN     NaN       sub3     3   Bran\n",
      "3   4.0   Alice       sub6     4  Bryce\n",
      "4   5.0  Ayoung       sub5     5  Betty\n"
     ]
    }
   ],
   "source": [
    "# Right Join\n",
    "\n",
    "import pandas as pd\n",
    "left = pd.DataFrame({\n",
    "   'id':[1,2,3,4,5],\n",
    "   'Name': ['Alex', 'Amy', 'Allen', 'Alice', 'Ayoung'],\n",
    "   'subject_id':['sub1','sub2','sub4','sub6','sub5']})\n",
    "right = pd.DataFrame(\n",
    "   {'id':[1,2,3,4,5],\n",
    "   'Name': ['Billy', 'Brian', 'Bran', 'Bryce', 'Betty'],\n",
    "   'subject_id':['sub2','sub4','sub3','sub6','sub5']})\n",
    "print(left,'\\n')\n",
    "print(right,'\\n')\n",
    "\n",
    "print(pd.merge(left, right, on='subject_id', how='right'))"
   ]
  },
  {
   "cell_type": "code",
   "execution_count": 9,
   "metadata": {},
   "outputs": [
    {
     "name": "stdout",
     "output_type": "stream",
     "text": [
      "   id    Name subject_id\n",
      "0   1    Alex       sub1\n",
      "1   2     Amy       sub2\n",
      "2   3   Allen       sub4\n",
      "3   4   Alice       sub6\n",
      "4   5  Ayoung       sub5 \n",
      "\n",
      "   id   Name subject_id\n",
      "0   1  Billy       sub2\n",
      "1   2  Brian       sub4\n",
      "2   3   Bran       sub3\n",
      "3   4  Bryce       sub6\n",
      "4   5  Betty       sub5 \n",
      "\n",
      "   id_x  Name_x subject_id  id_y Name_y\n",
      "0   1.0    Alex       sub1   NaN    NaN\n",
      "1   2.0     Amy       sub2   1.0  Billy\n",
      "2   3.0   Allen       sub4   2.0  Brian\n",
      "3   4.0   Alice       sub6   4.0  Bryce\n",
      "4   5.0  Ayoung       sub5   5.0  Betty\n",
      "5   NaN     NaN       sub3   3.0   Bran\n"
     ]
    }
   ],
   "source": [
    "# Outer Join\n",
    "\n",
    "import pandas as pd\n",
    "left = pd.DataFrame({\n",
    "   'id':[1,2,3,4,5],\n",
    "   'Name': ['Alex', 'Amy', 'Allen', 'Alice', 'Ayoung'],\n",
    "   'subject_id':['sub1','sub2','sub4','sub6','sub5']})\n",
    "right = pd.DataFrame(\n",
    "   {'id':[1,2,3,4,5],\n",
    "   'Name': ['Billy', 'Brian', 'Bran', 'Bryce', 'Betty'],\n",
    "   'subject_id':['sub2','sub4','sub3','sub6','sub5']})\n",
    "print(left,'\\n')\n",
    "print(right,'\\n')\n",
    "\n",
    "print(pd.merge(left, right, how='outer', on='subject_id'))"
   ]
  },
  {
   "cell_type": "code",
   "execution_count": 10,
   "metadata": {},
   "outputs": [
    {
     "name": "stdout",
     "output_type": "stream",
     "text": [
      "   id    Name subject_id\n",
      "0   1    Alex       sub1\n",
      "1   2     Amy       sub2\n",
      "2   3   Allen       sub4\n",
      "3   4   Alice       sub6\n",
      "4   5  Ayoung       sub5 \n",
      "\n",
      "   id   Name subject_id\n",
      "0   1  Billy       sub2\n",
      "1   2  Brian       sub4\n",
      "2   3   Bran       sub3\n",
      "3   4  Bryce       sub6\n",
      "4   5  Betty       sub5 \n",
      "\n",
      "   id_x  Name_x subject_id  id_y Name_y\n",
      "0     2     Amy       sub2     1  Billy\n",
      "1     3   Allen       sub4     2  Brian\n",
      "2     4   Alice       sub6     4  Bryce\n",
      "3     5  Ayoung       sub5     5  Betty\n"
     ]
    }
   ],
   "source": [
    "# Inner Join\n",
    "\n",
    "import pandas as pd\n",
    "left = pd.DataFrame({\n",
    "   'id':[1,2,3,4,5],\n",
    "   'Name': ['Alex', 'Amy', 'Allen', 'Alice', 'Ayoung'],\n",
    "   'subject_id':['sub1','sub2','sub4','sub6','sub5']})\n",
    "right = pd.DataFrame(\n",
    "   {'id':[1,2,3,4,5],\n",
    "   'Name': ['Billy', 'Brian', 'Bran', 'Bryce', 'Betty'],\n",
    "   'subject_id':['sub2','sub4','sub3','sub6','sub5']})\n",
    "print(left,'\\n')\n",
    "print(right,'\\n')\n",
    "\n",
    "print(pd.merge(left, right, on='subject_id', how='inner'))"
   ]
  },
  {
   "cell_type": "code",
   "execution_count": null,
   "metadata": {},
   "outputs": [],
   "source": [
    "3/ Concatenation"
   ]
  },
  {
   "cell_type": "code",
   "execution_count": null,
   "metadata": {},
   "outputs": [],
   "source": [
    "pd.concat(objs,axis=0,join='outer',join_axes=None, ignore_index=False)\n",
    "\n",
    "objs − This is a sequence or mapping of Series, DataFrame, or Panel objects.\n",
    "\n",
    "axis − {0, 1, ...}, default 0. This is the axis to concatenate along.\n",
    "\n",
    "join − {‘inner’, ‘outer’}, default ‘outer’. How to handle indexes on other axis(es). Outer for union and inner for intersection.\n",
    "\n",
    "ignore_index − boolean, default False. If True, do not use the index values on the concatenation axis. The resulting axis will be labeled 0, ..., n - 1.\n",
    "\n",
    "join_axes − This is the list of Index objects. Specific indexes to use for the other (n-1) axes instead of performing inner/outer set logic."
   ]
  },
  {
   "cell_type": "code",
   "execution_count": 12,
   "metadata": {},
   "outputs": [
    {
     "name": "stdout",
     "output_type": "stream",
     "text": [
      "     Name subject_id  Marks_scored\n",
      "1    Alex       sub1            98\n",
      "2     Amy       sub2            90\n",
      "3   Allen       sub4            87\n",
      "4   Alice       sub6            69\n",
      "5  Ayoung       sub5            78 \n",
      "\n",
      "    Name subject_id  Marks_scored\n",
      "1  Billy       sub2            89\n",
      "2  Brian       sub4            80\n",
      "3   Bran       sub3            79\n",
      "4  Bryce       sub6            97\n",
      "5  Betty       sub5            88 \n",
      "\n",
      "     Name subject_id  Marks_scored\n",
      "1    Alex       sub1            98\n",
      "2     Amy       sub2            90\n",
      "3   Allen       sub4            87\n",
      "4   Alice       sub6            69\n",
      "5  Ayoung       sub5            78\n",
      "1   Billy       sub2            89\n",
      "2   Brian       sub4            80\n",
      "3    Bran       sub3            79\n",
      "4   Bryce       sub6            97\n",
      "5   Betty       sub5            88\n"
     ]
    }
   ],
   "source": [
    "# Concatenating Objects\n",
    "\n",
    "import pandas as pd\n",
    "\n",
    "one = pd.DataFrame({\n",
    "   'Name': ['Alex', 'Amy', 'Allen', 'Alice', 'Ayoung'],\n",
    "   'subject_id':['sub1','sub2','sub4','sub6','sub5'],\n",
    "   'Marks_scored':[98,90,87,69,78]},\n",
    "   index=[1,2,3,4,5])\n",
    "\n",
    "two = pd.DataFrame({\n",
    "   'Name': ['Billy', 'Brian', 'Bran', 'Bryce', 'Betty'],\n",
    "   'subject_id':['sub2','sub4','sub3','sub6','sub5'],\n",
    "   'Marks_scored':[89,80,79,97,88]},\n",
    "   index=[1,2,3,4,5])\n",
    "\n",
    "print(one,'\\n')\n",
    "print(two,'\\n')\n",
    "\n",
    "print(pd.concat([one,two]))"
   ]
  },
  {
   "cell_type": "code",
   "execution_count": 13,
   "metadata": {},
   "outputs": [
    {
     "name": "stdout",
     "output_type": "stream",
     "text": [
      "     Name subject_id  Marks_scored\n",
      "1    Alex       sub1            98\n",
      "2     Amy       sub2            90\n",
      "3   Allen       sub4            87\n",
      "4   Alice       sub6            69\n",
      "5  Ayoung       sub5            78 \n",
      "\n",
      "    Name subject_id  Marks_scored\n",
      "1  Billy       sub2            89\n",
      "2  Brian       sub4            80\n",
      "3   Bran       sub3            79\n",
      "4  Bryce       sub6            97\n",
      "5  Betty       sub5            88 \n",
      "\n",
      "       Name subject_id  Marks_scored\n",
      "x 1    Alex       sub1            98\n",
      "  2     Amy       sub2            90\n",
      "  3   Allen       sub4            87\n",
      "  4   Alice       sub6            69\n",
      "  5  Ayoung       sub5            78\n",
      "y 1   Billy       sub2            89\n",
      "  2   Brian       sub4            80\n",
      "  3    Bran       sub3            79\n",
      "  4   Bryce       sub6            97\n",
      "  5   Betty       sub5            88\n"
     ]
    }
   ],
   "source": [
    "import pandas as pd\n",
    "\n",
    "one = pd.DataFrame({\n",
    "   'Name': ['Alex', 'Amy', 'Allen', 'Alice', 'Ayoung'],\n",
    "   'subject_id':['sub1','sub2','sub4','sub6','sub5'],\n",
    "   'Marks_scored':[98,90,87,69,78]},\n",
    "   index=[1,2,3,4,5])\n",
    "\n",
    "two = pd.DataFrame({\n",
    "   'Name': ['Billy', 'Brian', 'Bran', 'Bryce', 'Betty'],\n",
    "   'subject_id':['sub2','sub4','sub3','sub6','sub5'],\n",
    "   'Marks_scored':[89,80,79,97,88]},\n",
    "   index=[1,2,3,4,5])\n",
    "\n",
    "print(one,'\\n')\n",
    "print(two,'\\n')\n",
    "\n",
    "print(pd.concat([one,two],keys=['x','y']))"
   ]
  },
  {
   "cell_type": "code",
   "execution_count": 14,
   "metadata": {},
   "outputs": [
    {
     "name": "stdout",
     "output_type": "stream",
     "text": [
      "     Name subject_id  Marks_scored\n",
      "0    Alex       sub1            98\n",
      "1     Amy       sub2            90\n",
      "2   Allen       sub4            87\n",
      "3   Alice       sub6            69\n",
      "4  Ayoung       sub5            78\n",
      "5   Billy       sub2            89\n",
      "6   Brian       sub4            80\n",
      "7    Bran       sub3            79\n",
      "8   Bryce       sub6            97\n",
      "9   Betty       sub5            88\n"
     ]
    }
   ],
   "source": [
    "import pandas as pd\n",
    "\n",
    "one = pd.DataFrame({\n",
    "   'Name': ['Alex', 'Amy', 'Allen', 'Alice', 'Ayoung'],\n",
    "   'subject_id':['sub1','sub2','sub4','sub6','sub5'],\n",
    "   'Marks_scored':[98,90,87,69,78]},\n",
    "   index=[1,2,3,4,5])\n",
    "\n",
    "two = pd.DataFrame({\n",
    "   'Name': ['Billy', 'Brian', 'Bran', 'Bryce', 'Betty'],\n",
    "   'subject_id':['sub2','sub4','sub3','sub6','sub5'],\n",
    "   'Marks_scored':[89,80,79,97,88]},\n",
    "   index=[1,2,3,4,5])\n",
    "\n",
    "print(pd.concat([one,two],keys=['x','y'],ignore_index=True))"
   ]
  },
  {
   "cell_type": "code",
   "execution_count": 15,
   "metadata": {},
   "outputs": [
    {
     "name": "stdout",
     "output_type": "stream",
     "text": [
      "     Name subject_id  Marks_scored   Name subject_id  Marks_scored\n",
      "1    Alex       sub1            98  Billy       sub2            89\n",
      "2     Amy       sub2            90  Brian       sub4            80\n",
      "3   Allen       sub4            87   Bran       sub3            79\n",
      "4   Alice       sub6            69  Bryce       sub6            97\n",
      "5  Ayoung       sub5            78  Betty       sub5            88\n"
     ]
    }
   ],
   "source": [
    "import pandas as pd\n",
    "\n",
    "one = pd.DataFrame({\n",
    "   'Name': ['Alex', 'Amy', 'Allen', 'Alice', 'Ayoung'],\n",
    "   'subject_id':['sub1','sub2','sub4','sub6','sub5'],\n",
    "   'Marks_scored':[98,90,87,69,78]},\n",
    "   index=[1,2,3,4,5])\n",
    "\n",
    "two = pd.DataFrame({\n",
    "   'Name': ['Billy', 'Brian', 'Bran', 'Bryce', 'Betty'],\n",
    "   'subject_id':['sub2','sub4','sub3','sub6','sub5'],\n",
    "   'Marks_scored':[89,80,79,97,88]},\n",
    "   index=[1,2,3,4,5])\n",
    "\n",
    "print(pd.concat([one,two],axis=1))"
   ]
  },
  {
   "cell_type": "code",
   "execution_count": 16,
   "metadata": {},
   "outputs": [
    {
     "name": "stdout",
     "output_type": "stream",
     "text": [
      "     Name subject_id  Marks_scored\n",
      "1    Alex       sub1            98\n",
      "2     Amy       sub2            90\n",
      "3   Allen       sub4            87\n",
      "4   Alice       sub6            69\n",
      "5  Ayoung       sub5            78\n",
      "1   Billy       sub2            89\n",
      "2   Brian       sub4            80\n",
      "3    Bran       sub3            79\n",
      "4   Bryce       sub6            97\n",
      "5   Betty       sub5            88\n"
     ]
    }
   ],
   "source": [
    "# Concatenating Using append\n",
    "\n",
    "import pandas as pd\n",
    "\n",
    "one = pd.DataFrame({\n",
    "   'Name': ['Alex', 'Amy', 'Allen', 'Alice', 'Ayoung'],\n",
    "   'subject_id':['sub1','sub2','sub4','sub6','sub5'],\n",
    "   'Marks_scored':[98,90,87,69,78]},\n",
    "   index=[1,2,3,4,5])\n",
    "\n",
    "two = pd.DataFrame({\n",
    "   'Name': ['Billy', 'Brian', 'Bran', 'Bryce', 'Betty'],\n",
    "   'subject_id':['sub2','sub4','sub3','sub6','sub5'],\n",
    "   'Marks_scored':[89,80,79,97,88]},\n",
    "   index=[1,2,3,4,5])\n",
    "\n",
    "print(one.append(two))"
   ]
  },
  {
   "cell_type": "code",
   "execution_count": 17,
   "metadata": {},
   "outputs": [
    {
     "name": "stdout",
     "output_type": "stream",
     "text": [
      "     Name subject_id  Marks_scored\n",
      "1    Alex       sub1            98\n",
      "2     Amy       sub2            90\n",
      "3   Allen       sub4            87\n",
      "4   Alice       sub6            69\n",
      "5  Ayoung       sub5            78\n",
      "1   Billy       sub2            89\n",
      "2   Brian       sub4            80\n",
      "3    Bran       sub3            79\n",
      "4   Bryce       sub6            97\n",
      "5   Betty       sub5            88\n",
      "1    Alex       sub1            98\n",
      "2     Amy       sub2            90\n",
      "3   Allen       sub4            87\n",
      "4   Alice       sub6            69\n",
      "5  Ayoung       sub5            78\n",
      "1   Billy       sub2            89\n",
      "2   Brian       sub4            80\n",
      "3    Bran       sub3            79\n",
      "4   Bryce       sub6            97\n",
      "5   Betty       sub5            88\n"
     ]
    }
   ],
   "source": [
    "import pandas as pd\n",
    "\n",
    "one = pd.DataFrame({\n",
    "   'Name': ['Alex', 'Amy', 'Allen', 'Alice', 'Ayoung'],\n",
    "   'subject_id':['sub1','sub2','sub4','sub6','sub5'],\n",
    "   'Marks_scored':[98,90,87,69,78]},\n",
    "   index=[1,2,3,4,5])\n",
    "\n",
    "two = pd.DataFrame({\n",
    "   'Name': ['Billy', 'Brian', 'Bran', 'Bryce', 'Betty'],\n",
    "   'subject_id':['sub2','sub4','sub3','sub6','sub5'],\n",
    "   'Marks_scored':[89,80,79,97,88]},\n",
    "   index=[1,2,3,4,5])\n",
    "\n",
    "print(one.append([onetwo,,two]))"
   ]
  }
 ],
 "metadata": {
  "kernelspec": {
   "display_name": "Python 3",
   "language": "python",
   "name": "python3"
  },
  "language_info": {
   "codemirror_mode": {
    "name": "ipython",
    "version": 3
   },
   "file_extension": ".py",
   "mimetype": "text/x-python",
   "name": "python",
   "nbconvert_exporter": "python",
   "pygments_lexer": "ipython3",
   "version": "3.8.8"
  }
 },
 "nbformat": 4,
 "nbformat_minor": 4
}
