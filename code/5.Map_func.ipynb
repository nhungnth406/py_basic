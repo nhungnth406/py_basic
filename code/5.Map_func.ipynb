{
 "cells": [
  {
   "cell_type": "code",
   "execution_count": null,
   "id": "d18c1cb4",
   "metadata": {},
   "outputs": [],
   "source": [
    "# map(function, iterables)\n",
    "# The map() function executes a specified function for each item in an iterable.\n",
    "# The item is sent to the function as a parameter"
   ]
  },
  {
   "cell_type": "code",
   "execution_count": 1,
   "id": "793ec818",
   "metadata": {},
   "outputs": [
    {
     "name": "stdout",
     "output_type": "stream",
     "text": [
      "<map object at 0x000001812A664D30>\n",
      "[5, 6, 6]\n"
     ]
    }
   ],
   "source": [
    "def myfunc(a):\n",
    "  return len(a)\n",
    "\n",
    "x = map(myfunc, ('apple', 'banana', 'cherry'))\n",
    "\n",
    "print(x) # trả về map object at....\n",
    "\n",
    "#convert the map into a list, for readability:\n",
    "print(list(x)) # [5, 6, 6]"
   ]
  },
  {
   "cell_type": "code",
   "execution_count": 2,
   "id": "31e48619",
   "metadata": {},
   "outputs": [
    {
     "name": "stdout",
     "output_type": "stream",
     "text": [
      "[5, 6, 6]\n"
     ]
    }
   ],
   "source": [
    "x = map(lambda a: len(a), ('apple', 'banana', 'cherry'))\n",
    "print(list(x))"
   ]
  },
  {
   "cell_type": "code",
   "execution_count": 3,
   "id": "1de6c937",
   "metadata": {},
   "outputs": [
    {
     "name": "stdout",
     "output_type": "stream",
     "text": [
      "['appleorange', 'bananalemon', 'cherrypineapple']\n"
     ]
    }
   ],
   "source": [
    "def myfunc(a, b):\n",
    "  return a + b\n",
    "\n",
    "x = map(myfunc, ('apple', 'banana', 'cherry'), ('orange', 'lemon', 'pineapple'))\n",
    "\n",
    "print(list(x))"
   ]
  },
  {
   "cell_type": "code",
   "execution_count": 4,
   "id": "f1b1489d",
   "metadata": {},
   "outputs": [
    {
     "name": "stdout",
     "output_type": "stream",
     "text": [
      "['appleorange', 'bananalemon', 'cherrypineapple']\n"
     ]
    }
   ],
   "source": [
    "x = map(lambda a, b: a + b, ('apple', 'banana', 'cherry'), ('orange', 'lemon', 'pineapple'))\n",
    "print(list(x))"
   ]
  },
  {
   "cell_type": "code",
   "execution_count": 5,
   "id": "a71bfbd8",
   "metadata": {},
   "outputs": [
    {
     "name": "stdout",
     "output_type": "stream",
     "text": [
      "[['s', 'a', 't'], ['b', 'a', 't'], ['c', 'a', 't'], ['m', 'a', 't']]\n"
     ]
    }
   ],
   "source": [
    "l = ['sat', 'bat', 'cat', 'mat']\n",
    "  \n",
    "# map() can listify the list of strings individually\n",
    "test = list(map(list, l))\n",
    "print(test)"
   ]
  },
  {
   "cell_type": "code",
   "execution_count": 6,
   "id": "2e55e3f1",
   "metadata": {},
   "outputs": [
    {
     "name": "stdout",
     "output_type": "stream",
     "text": [
      "<map object at 0x000001812A6648E0>\n",
      "[4, 8, 6, 5, 3, 2, 8, 9, 2, 5]\n"
     ]
    }
   ],
   "source": [
    "str_nums = [\"4\", \"8\", \"6\", \"5\", \"3\", \"2\", \"8\", \"9\", \"2\", \"5\"]\n",
    "\n",
    "int_nums = map(int, str_nums)\n",
    "print(int_nums) # <map object at .....>\n",
    "int_nums = list(int_nums)\n",
    "print(int_nums) # [4, 8, 6, 5, 3, 2, 8, 9, 2, 5]"
   ]
  },
  {
   "cell_type": "code",
   "execution_count": 7,
   "id": "ddc2c4ed",
   "metadata": {},
   "outputs": [
    {
     "name": "stdout",
     "output_type": "stream",
     "text": [
      "['Processing', 'Strings', 'With', 'Map']\n",
      "['PROCESSING', 'STRINGS', 'WITH', 'MAP']\n",
      "['processing', 'strings', 'with', 'map']\n"
     ]
    }
   ],
   "source": [
    "string_it = [\"processing\", \"strings\", \"with\", \"map\"]\n",
    "\n",
    "print(list(map(str.capitalize, string_it))) # ['Processing', 'Strings', 'With', 'Map']\n",
    "\n",
    "print(list(map(str.upper, string_it)))\n",
    "\n",
    "print(list(map(str.lower, string_it)))"
   ]
  },
  {
   "cell_type": "code",
   "execution_count": 8,
   "id": "6b95ad15",
   "metadata": {},
   "outputs": [
    {
     "name": "stdout",
     "output_type": "stream",
     "text": [
      "['processing', 'strings', 'with', 'map']\n",
      "['processing', 'strings', 'with', 'map']\n"
     ]
    }
   ],
   "source": [
    "with_spaces = [\"processing \", \"  strings\", \"with   \", \" map   \"]\n",
    "print(list(map(str.strip, with_spaces)))\n",
    "\n",
    "with_dots = [\"processing..\", \"...strings\", \"with....\", \"..map..\"]\n",
    "print(list(map(lambda s: s.strip(\".\"), with_dots)))"
   ]
  },
  {
   "cell_type": "code",
   "execution_count": 9,
   "id": "08253aa1",
   "metadata": {},
   "outputs": [
    {
     "name": "stdout",
     "output_type": "stream",
     "text": [
      "[6, 15, 24]\n"
     ]
    }
   ],
   "source": [
    "# initializing the 2D array\n",
    "array = [\n",
    "   [1, 2, 3],\n",
    "   [4, 5, 6],\n",
    "   [7, 8, 9]\n",
    "]\n",
    "# passing the sum, array to function\n",
    "result = list(map(sum, array))\n",
    "# see the result values. It contains sum of every sub array\n",
    "print(result)"
   ]
  },
  {
   "cell_type": "code",
   "execution_count": 10,
   "id": "8c984cf6",
   "metadata": {},
   "outputs": [
    {
     "name": "stdout",
     "output_type": "stream",
     "text": [
      "[0, 3, 2]\n",
      "1\n",
      "3\n"
     ]
    }
   ],
   "source": [
    "matrix = [\n",
    "   [0, 0, 0],\n",
    "   [1, 1, 1],\n",
    "   [1, 0, 1]\n",
    "]\n",
    "## function to find number of 1's in a row\n",
    "def number_of_ones(row):\n",
    "   count = 0\n",
    "   for i in row:\n",
    "      if i == 1:\n",
    "         count += 1\n",
    "   return count\n",
    "## finding the number of 1's in every row\n",
    "## map returns an object which we converted into a list \n",
    "ones_count = list(map(number_of_ones, matrix))\n",
    "print(ones_count)\n",
    "## printing the index of max number from the list \n",
    "print(ones_count.index(max(ones_count)))\n",
    "print(max(ones_count))"
   ]
  },
  {
   "cell_type": "code",
   "execution_count": 11,
   "id": "70bbfd69",
   "metadata": {},
   "outputs": [
    {
     "name": "stdout",
     "output_type": "stream",
     "text": [
      "Input 3 sides of triangle:3 4 5\n",
      "3 4 5 <class 'str'>\n",
      "['3', '4', '5'] <class 'list'>\n",
      "[3, 4, 5] <class 'list'>\n"
     ]
    }
   ],
   "source": [
    "sides = input('Input 3 sides of triangle:')\n",
    "print(sides , type(sides))\n",
    "sides = sides.split(' ')\n",
    "print(sides, type(sides))\n",
    "\n",
    "for i in range(0,len(sides)):\n",
    "    sides[i] = int(sides[i])\n",
    "\n",
    "print(sides, type(sides))"
   ]
  },
  {
   "cell_type": "code",
   "execution_count": 12,
   "id": "d8c849d1",
   "metadata": {},
   "outputs": [
    {
     "name": "stdout",
     "output_type": "stream",
     "text": [
      "Input 3 sides of triangle:2 3 4\n",
      "2 3 4 <class 'str'>\n",
      "['2', '3', '4'] <class 'list'>\n",
      "[2, 3, 4] <class 'list'>\n"
     ]
    }
   ],
   "source": [
    "sides = input('Input 3 sides of triangle:')\n",
    "print(sides , type(sides))\n",
    "sides = sides.split(' ')\n",
    "print(sides, type(sides))\n",
    "\n",
    "sides = [int(x) for x in sides]\n",
    "\n",
    "print(sides, type(sides))"
   ]
  },
  {
   "cell_type": "code",
   "execution_count": 13,
   "id": "67bbb865",
   "metadata": {},
   "outputs": [
    {
     "name": "stdout",
     "output_type": "stream",
     "text": [
      "Input 3 sides of triangle:3 4 5\n",
      "3 4 5 <class 'str'>\n",
      "['3', '4', '5'] <class 'list'>\n",
      "[3, 4, 5] <class 'list'>\n"
     ]
    }
   ],
   "source": [
    "sides = input('Input 3 sides of triangle:')\n",
    "print(sides , type(sides))\n",
    "sides = sides.split(' ')\n",
    "print(sides, type(sides))\n",
    "\n",
    "sides = list(map(int, sides))\n",
    "# sides = list(map(int, input('Input 3 sides of triangle:').split(' ')))\n",
    "print(sides, type(sides))"
   ]
  },
  {
   "cell_type": "code",
   "execution_count": 14,
   "id": "33edef27",
   "metadata": {},
   "outputs": [
    {
     "name": "stdout",
     "output_type": "stream",
     "text": [
      "Input 3 sides of triangle:2 3 4\n",
      "[2, 3, 4] <class 'list'>\n"
     ]
    }
   ],
   "source": [
    "sides = list(map(int, input('Input 3 sides of triangle:').split(' ')))\n",
    "print(sides, type(sides))"
   ]
  },
  {
   "cell_type": "code",
   "execution_count": null,
   "id": "91835b29",
   "metadata": {},
   "outputs": [],
   "source": []
  },
  {
   "cell_type": "code",
   "execution_count": null,
   "id": "84760775",
   "metadata": {},
   "outputs": [],
   "source": []
  },
  {
   "cell_type": "code",
   "execution_count": null,
   "id": "09f3e061",
   "metadata": {},
   "outputs": [],
   "source": []
  },
  {
   "cell_type": "code",
   "execution_count": null,
   "id": "9be2727f",
   "metadata": {},
   "outputs": [],
   "source": []
  },
  {
   "cell_type": "code",
   "execution_count": null,
   "id": "23fa6d78",
   "metadata": {},
   "outputs": [],
   "source": []
  },
  {
   "cell_type": "code",
   "execution_count": null,
   "id": "4f0a8812",
   "metadata": {},
   "outputs": [],
   "source": []
  },
  {
   "cell_type": "code",
   "execution_count": null,
   "id": "b63f7de0",
   "metadata": {},
   "outputs": [],
   "source": []
  },
  {
   "cell_type": "code",
   "execution_count": null,
   "id": "3bdaacda",
   "metadata": {},
   "outputs": [],
   "source": []
  },
  {
   "cell_type": "code",
   "execution_count": null,
   "id": "57409863",
   "metadata": {},
   "outputs": [],
   "source": []
  }
 ],
 "metadata": {
  "kernelspec": {
   "display_name": "Python 3",
   "language": "python",
   "name": "python3"
  },
  "language_info": {
   "codemirror_mode": {
    "name": "ipython",
    "version": 3
   },
   "file_extension": ".py",
   "mimetype": "text/x-python",
   "name": "python",
   "nbconvert_exporter": "python",
   "pygments_lexer": "ipython3",
   "version": "3.8.8"
  }
 },
 "nbformat": 4,
 "nbformat_minor": 5
}
