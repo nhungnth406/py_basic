{
 "cells": [
  {
   "cell_type": "code",
   "execution_count": null,
   "id": "045cbe1c",
   "metadata": {},
   "outputs": [],
   "source": [
    "# zip() Function\n",
    "# The zip() function returns a zip object, which is an iterator\n",
    "# where the first item in each passed iterator is paired together,\n",
    "# and then the second item in each passed iterator are paired together etc.\n",
    "\n",
    "# If the passed iterators have different lengths,\n",
    "# the iterator with the least items decides the length of the new iterator."
   ]
  },
  {
   "cell_type": "code",
   "execution_count": null,
   "id": "598a1604",
   "metadata": {},
   "outputs": [],
   "source": [
    "# zip(iterator1, iterator2, iterator3 ...)"
   ]
  },
  {
   "cell_type": "code",
   "execution_count": 1,
   "id": "f7f5ec8a",
   "metadata": {},
   "outputs": [
    {
     "name": "stdout",
     "output_type": "stream",
     "text": [
      "<zip object at 0x00000192241B87C0>\n",
      "(('John', 'Jenny'), ('Charles', 'Christy'), ('Mike', 'Monica'))\n"
     ]
    }
   ],
   "source": [
    "a = (\"John\", \"Charles\", \"Mike\")\n",
    "b = (\"Jenny\", \"Christy\", \"Monica\")\n",
    "\n",
    "x = zip(a, b)\n",
    "\n",
    "#use the tuple() function to display a readable version of the result:\n",
    "print(x)\n",
    "print(tuple(x))"
   ]
  },
  {
   "cell_type": "code",
   "execution_count": 2,
   "id": "b7a43356",
   "metadata": {},
   "outputs": [
    {
     "name": "stdout",
     "output_type": "stream",
     "text": [
      "(('John', 'Jenny'), ('Charles', 'Christy'), ('Mike', 'Monica'))\n"
     ]
    }
   ],
   "source": [
    "a = (\"John\", \"Charles\", \"Mike\")\n",
    "b = (\"Jenny\", \"Christy\", \"Monica\", \"Vicky\")\n",
    "\n",
    "x = zip(a, b)\n",
    "\n",
    "#use the tuple() function to display a readable version of the result:\n",
    "\n",
    "print(tuple(x))"
   ]
  },
  {
   "cell_type": "code",
   "execution_count": 3,
   "id": "c931c0f0",
   "metadata": {},
   "outputs": [
    {
     "name": "stdout",
     "output_type": "stream",
     "text": [
      "[(0, 0), (1, 1), (2, 2), (3, 3), (4, 4)]\n"
     ]
    }
   ],
   "source": [
    "print(list(zip(range(5), range(100))))"
   ]
  },
  {
   "cell_type": "code",
   "execution_count": 4,
   "id": "7ada1f76",
   "metadata": {},
   "outputs": [
    {
     "name": "stdout",
     "output_type": "stream",
     "text": [
      "[(1, 'a', 0), (2, 'b', 1), (3, 'c', 2), ('?', '?', 3), ('?', '?', 4)]\n"
     ]
    }
   ],
   "source": [
    "from itertools import zip_longest # use itertools.zip_longest() instead of zip()\n",
    "numbers = [1, 2, 3]\n",
    "letters = ['a', 'b', 'c']\n",
    "longest = range(5)\n",
    "zipped = zip_longest(numbers, letters, longest, fillvalue='?') \n",
    "# the missing values will be replaced with whatever you pass to the fillvalue argument (defaults to None)\n",
    "print(list(zipped))"
   ]
  },
  {
   "cell_type": "code",
   "execution_count": 5,
   "id": "23873d64",
   "metadata": {},
   "outputs": [
    {
     "name": "stdout",
     "output_type": "stream",
     "text": [
      "[(1, 'a', 0), (2, 'b', 1), (3, 'c', 2), (None, None, 3), (None, None, 4)]\n"
     ]
    }
   ],
   "source": [
    "from itertools import zip_longest # use itertools.zip_longest() instead of zip()\n",
    "numbers = [1, 2, 3]\n",
    "letters = ['a', 'b', 'c']\n",
    "longest = range(5)\n",
    "zipped = zip_longest(numbers, letters, longest)\n",
    "print(list(zipped))"
   ]
  },
  {
   "cell_type": "code",
   "execution_count": 7,
   "id": "8cfd35e0",
   "metadata": {},
   "outputs": [
    {
     "name": "stdout",
     "output_type": "stream",
     "text": [
      "<zip object at 0x00000192241BAA00> <class 'zip'>\n",
      "[(1, 'a'), (2, 'b'), (3, 'c')]\n"
     ]
    }
   ],
   "source": [
    "numbers = [1, 2, 3]\n",
    "letters = ['a', 'b', 'c']\n",
    "zipped = zip(numbers, letters)\n",
    "print(zipped, type(zipped))\n",
    "print(list(zipped))"
   ]
  },
  {
   "cell_type": "code",
   "execution_count": 8,
   "id": "ab89e08b",
   "metadata": {},
   "outputs": [
    {
     "name": "stdout",
     "output_type": "stream",
     "text": [
      "(1, 'a')\n",
      "(2, 'b')\n",
      "(3, 'c')\n"
     ]
    }
   ],
   "source": [
    "numbers = [1, 2, 3]\n",
    "letters = ['a', 'b', 'c']\n",
    "zipped = zip(numbers, letters)\n",
    "for x in zipped:\n",
    "    print(x)"
   ]
  },
  {
   "cell_type": "code",
   "execution_count": 9,
   "id": "7e3d3c74",
   "metadata": {},
   "outputs": [
    {
     "name": "stdout",
     "output_type": "stream",
     "text": [
      "(1, 'a')\n",
      "(2, 'b')\n",
      "(3, 'c')\n"
     ]
    }
   ],
   "source": [
    "numbers = [1, 2, 3]\n",
    "letters = ['a', 'b', 'c']\n",
    "zipped = zip(numbers, letters)\n",
    "# print(len(zipped)) # Error, object of type 'zip' has no len()\n",
    "for i in range(0,min(len(numbers),len(letters))):\n",
    "    print(next(zipped))"
   ]
  },
  {
   "cell_type": "code",
   "execution_count": 10,
   "id": "f495a7d6",
   "metadata": {},
   "outputs": [
    {
     "name": "stdout",
     "output_type": "stream",
     "text": [
      "Letter: a\n",
      "Number: 0\n",
      "Letter: b\n",
      "Number: 1\n",
      "Letter: c\n",
      "Number: 2\n"
     ]
    }
   ],
   "source": [
    "letters = ['a', 'b', 'c']\n",
    "numbers = [0, 1, 2]\n",
    "for l, n in zip(letters, numbers):\n",
    "    print('Letter:', l)\n",
    "    print('Number:', n)\n",
    "    #print(f'Letter: {l}')\n",
    "    #print(f'Number: {n}')"
   ]
  },
  {
   "cell_type": "code",
   "execution_count": 11,
   "id": "5d29ed7c",
   "metadata": {},
   "outputs": [
    {
     "name": "stdout",
     "output_type": "stream",
     "text": [
      "[(1, 'a'), (2, 'b'), (3, 'c')]\n"
     ]
    }
   ],
   "source": [
    "s1 = {2, 3, 1}\n",
    "s2 = {'b', 'a', 'c'}\n",
    "print(list(zip(s1, s2)))\n",
    "#Note: set is unordered"
   ]
  },
  {
   "cell_type": "code",
   "execution_count": 12,
   "id": "04ff55bb",
   "metadata": {},
   "outputs": [
    {
     "name": "stdout",
     "output_type": "stream",
     "text": [
      "<zip object at 0x00000192241BC600>\n",
      "[]\n"
     ]
    }
   ],
   "source": [
    "zipped = zip() # No Arguments\n",
    "print(zipped)\n",
    "print(list(zipped))"
   ]
  },
  {
   "cell_type": "code",
   "execution_count": 13,
   "id": "904f8723",
   "metadata": {},
   "outputs": [
    {
     "ename": "StopIteration",
     "evalue": "",
     "output_type": "error",
     "traceback": [
      "\u001b[1;31m---------------------------------------------------------------------------\u001b[0m",
      "\u001b[1;31mStopIteration\u001b[0m                             Traceback (most recent call last)",
      "\u001b[1;32m<ipython-input-13-9e67f6c730f2>\u001b[0m in \u001b[0;36m<module>\u001b[1;34m\u001b[0m\n\u001b[0;32m      1\u001b[0m \u001b[0mzipped\u001b[0m \u001b[1;33m=\u001b[0m \u001b[0mzip\u001b[0m\u001b[1;33m(\u001b[0m\u001b[1;33m)\u001b[0m\u001b[1;33m\u001b[0m\u001b[1;33m\u001b[0m\u001b[0m\n\u001b[1;32m----> 2\u001b[1;33m \u001b[0mnext\u001b[0m\u001b[1;33m(\u001b[0m\u001b[0mzipped\u001b[0m\u001b[1;33m)\u001b[0m\u001b[1;33m\u001b[0m\u001b[1;33m\u001b[0m\u001b[0m\n\u001b[0m",
      "\u001b[1;31mStopIteration\u001b[0m: "
     ]
    }
   ],
   "source": [
    "zipped = zip()\n",
    "next(zipped)"
   ]
  },
  {
   "cell_type": "code",
   "execution_count": 14,
   "id": "7d1acee4",
   "metadata": {},
   "outputs": [
    {
     "name": "stdout",
     "output_type": "stream",
     "text": [
      "[(1,), (2,), (3,)]\n"
     ]
    }
   ],
   "source": [
    "a = [1, 2, 3]\n",
    "zipped = zip(a)\n",
    "print(list(zipped))"
   ]
  },
  {
   "cell_type": "code",
   "execution_count": 15,
   "id": "136e53e3",
   "metadata": {},
   "outputs": [
    {
     "name": "stdout",
     "output_type": "stream",
     "text": [
      "[(1, 'a', 4.0), (2, 'b', 5.0), (3, 'c', 6.0)]\n"
     ]
    }
   ],
   "source": [
    "integers = [1, 2, 3]\n",
    "letters = ['a', 'b', 'c']\n",
    "floats = [4.0, 5.0, 6.0]\n",
    "zipped = zip(integers, letters, floats)  # Three input iterables\n",
    "print(list(zipped))"
   ]
  },
  {
   "cell_type": "code",
   "execution_count": null,
   "id": "f8df32dd",
   "metadata": {},
   "outputs": [],
   "source": [
    "# Creating Dictionary"
   ]
  },
  {
   "cell_type": "code",
   "execution_count": 16,
   "id": "582f3ab9",
   "metadata": {},
   "outputs": [
    {
     "name": "stdout",
     "output_type": "stream",
     "text": [
      "<zip object at 0x0000019224261040> <class 'zip'>\n",
      "{'name': 'Ravi', 'age': 23, 'marks': 56}\n"
     ]
    }
   ],
   "source": [
    "l1=['name', 'age', 'marks']\n",
    "l2=['Ravi', 23, 56]\n",
    "#Note: l1, l2 are LIST\n",
    "z=zip(l1,l2)\n",
    "print(z, type(z))\n",
    "newdict=dict(z)\n",
    "print(newdict)"
   ]
  },
  {
   "cell_type": "code",
   "execution_count": 17,
   "id": "aa93b03d",
   "metadata": {},
   "outputs": [
    {
     "name": "stdout",
     "output_type": "stream",
     "text": [
      "{'name': 'Ravi', 'age': 23, 'marks': 56}\n"
     ]
    }
   ],
   "source": [
    "l1=['name', 'age', 'marks']\n",
    "l2=['Ravi', 23, 56]\n",
    "newdict={key:value for key, value in zip(l1, l2)}\n",
    "print(newdict)"
   ]
  },
  {
   "cell_type": "code",
   "execution_count": 18,
   "id": "00fca810",
   "metadata": {},
   "outputs": [
    {
     "name": "stdout",
     "output_type": "stream",
     "text": [
      "dict_items([('name', 'John'), ('last_name', 'Doe'), ('job', 'Python Consultant')])\n",
      "dict_items([('name', 'Jane'), ('last_name', 'Doe'), ('job', 'Community Manager')])\n",
      "\n",
      "\n",
      "(('name', 'John'), ('name', 'Jane'))\n",
      "(('last_name', 'Doe'), ('last_name', 'Doe'))\n",
      "(('job', 'Python Consultant'), ('job', 'Community Manager'))\n",
      "\n",
      "\n",
      "name -> John\n",
      "name -> Jane\n",
      "last_name -> Doe\n",
      "last_name -> Doe\n",
      "job -> Python Consultant\n",
      "job -> Community Manager\n"
     ]
    }
   ],
   "source": [
    "dict_one = {'name': 'John', 'last_name': 'Doe', 'job': 'Python Consultant'}\n",
    "dict_two = {'name': 'Jane', 'last_name': 'Doe', 'job': 'Community Manager'}\n",
    "\n",
    "print(dict_one.items())\n",
    "print(dict_two.items())\n",
    "print('\\n')\n",
    "\n",
    "for x in zip(dict_one.items(), dict_two.items()):\n",
    "    print(x)\n",
    "print('\\n')\n",
    "    \n",
    "for (k1, v1), (k2, v2) in zip(dict_one.items(), dict_two.items()):\n",
    "    print(k1, '->', v1)\n",
    "    print(k2, '->', v2)"
   ]
  },
  {
   "cell_type": "code",
   "execution_count": 19,
   "id": "2e6e6635",
   "metadata": {},
   "outputs": [
    {
     "name": "stdout",
     "output_type": "stream",
     "text": [
      "{'name': 'John', 'last_name': 'Doe', 'age': '45', 'job': 'Python Developer'} \n",
      "\n",
      "{'name': 'John', 'last_name': 'Doe', 'age': '45', 'job': 'Python Consultant'}\n"
     ]
    }
   ],
   "source": [
    "fields = ['name', 'last_name', 'age', 'job']\n",
    "values = ['John', 'Doe', '45', 'Python Developer']\n",
    "a_dict = dict(zip(fields, values))\n",
    "print(a_dict, '\\n')\n",
    "\n",
    "new_job = ['Python Consultant']\n",
    "field = ['job']\n",
    "a_dict.update(zip(field, new_job)) # Change job\n",
    "print(a_dict)"
   ]
  },
  {
   "cell_type": "code",
   "execution_count": null,
   "id": "a6f30b05",
   "metadata": {},
   "outputs": [],
   "source": [
    "# Unzipping a Sequence"
   ]
  },
  {
   "cell_type": "code",
   "execution_count": 20,
   "id": "291a3b2a",
   "metadata": {},
   "outputs": [
    {
     "name": "stdout",
     "output_type": "stream",
     "text": [
      "(1, 2, 3, 4)\n",
      "('a', 'b', 'c', 'd')\n"
     ]
    }
   ],
   "source": [
    "pairs = [(1, 'a'), (2, 'b'), (3, 'c'), (4, 'd')]\n",
    "numbers, letters = zip(*pairs)\n",
    "print(numbers)\n",
    "print(letters)"
   ]
  },
  {
   "cell_type": "code",
   "execution_count": 21,
   "id": "ea5862cf",
   "metadata": {},
   "outputs": [
    {
     "name": "stdout",
     "output_type": "stream",
     "text": [
      "dict_items([('name', 'John'), ('last_name', 'Doe'), ('job', 'Python Consultant')]) \n",
      "\n",
      "('name', 'last_name', 'job') <class 'tuple'>\n",
      "('John', 'Doe', 'Python Consultant') <class 'tuple'>\n",
      "\n",
      "\n",
      "dict_keys(['name', 'last_name', 'job']) <class 'dict_keys'>\n",
      "dict_values(['John', 'Doe', 'Python Consultant']) <class 'dict_values'>\n",
      "\n",
      "\n",
      "['John', 'Doe', 'Python Consultant']\n",
      "('John', 'Doe', 'Python Consultant')\n",
      "{'Python Consultant', 'John', 'Doe'}\n"
     ]
    }
   ],
   "source": [
    "a_dict = {'name': 'John', 'last_name': 'Doe', 'job': 'Python Consultant'}\n",
    "# keys, values = zip(*a_dict) # Error\n",
    "print(a_dict.items(), '\\n')\n",
    "\n",
    "keys, values = zip(*a_dict.items())\n",
    "print(keys, type(keys))\n",
    "print(values, type(values))\n",
    "\n",
    "print('\\n')\n",
    "\n",
    "print(a_dict.keys(), type(a_dict.keys()))\n",
    "print(a_dict.values(), type(a_dict.values()))\n",
    "\n",
    "print('\\n')\n",
    "\n",
    "print(list(a_dict.values()))\n",
    "print(tuple(a_dict.values()))\n",
    "print(set(a_dict.values()))"
   ]
  },
  {
   "cell_type": "code",
   "execution_count": null,
   "id": "63613d00",
   "metadata": {},
   "outputs": [],
   "source": [
    "# Sorting in Parallel"
   ]
  },
  {
   "cell_type": "code",
   "execution_count": 22,
   "id": "a835e2bf",
   "metadata": {},
   "outputs": [
    {
     "name": "stdout",
     "output_type": "stream",
     "text": [
      "[('b', 2), ('a', 4), ('d', 3), ('c', 1)]\n",
      "[('a', 4), ('b', 2), ('c', 1), ('d', 3)]\n",
      "[(2, 'b'), (4, 'a'), (3, 'd'), (1, 'c')]\n",
      "[(1, 'c'), (2, 'b'), (3, 'd'), (4, 'a')]\n"
     ]
    }
   ],
   "source": [
    "letters = ['b', 'a', 'd', 'c']\n",
    "numbers = [2, 4, 3, 1]\n",
    "data1 = list(zip(letters, numbers))\n",
    "print(data1) # [('b', 2), ('a', 4), ('d', 3), ('c', 1)]\n",
    "data1.sort()  # Sort by letters\n",
    "print(data1) # [('a', 4), ('b', 2), ('c', 1), ('d', 3)]\n",
    "data2 = list(zip(numbers, letters))\n",
    "print(data2) # [(2, 'b'), (4, 'a'), (3, 'd'), (1, 'c')]\n",
    "data2.sort()  # Sort by numbers\n",
    "print(data2) # [(1, 'c'), (2, 'b'), (3, 'd'), (4, 'a')]"
   ]
  },
  {
   "cell_type": "code",
   "execution_count": 23,
   "id": "87274503",
   "metadata": {},
   "outputs": [
    {
     "name": "stdout",
     "output_type": "stream",
     "text": [
      "[('a', 4), ('b', 2), ('c', 1), ('d', 3)]\n"
     ]
    }
   ],
   "source": [
    "letters = ['b', 'a', 'd', 'c']\n",
    "numbers = [2, 4, 3, 1]\n",
    "data = sorted(zip(letters, numbers))  # Use sorted()\n",
    "print(data)"
   ]
  }
 ],
 "metadata": {
  "kernelspec": {
   "display_name": "Python 3",
   "language": "python",
   "name": "python3"
  },
  "language_info": {
   "codemirror_mode": {
    "name": "ipython",
    "version": 3
   },
   "file_extension": ".py",
   "mimetype": "text/x-python",
   "name": "python",
   "nbconvert_exporter": "python",
   "pygments_lexer": "ipython3",
   "version": "3.8.8"
  }
 },
 "nbformat": 4,
 "nbformat_minor": 5
}
