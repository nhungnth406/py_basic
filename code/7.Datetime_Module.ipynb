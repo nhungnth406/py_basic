{
 "cells": [
  {
   "cell_type": "code",
   "execution_count": null,
   "id": "6ddf2c62",
   "metadata": {},
   "outputs": [],
   "source": [
    "# Datetime Module includes Objects: date, datetime, timedelta, time..."
   ]
  },
  {
   "cell_type": "code",
   "execution_count": null,
   "id": "08e1eac3",
   "metadata": {},
   "outputs": [],
   "source": [
    "### ### ###\n",
    "# date Objects"
   ]
  },
  {
   "cell_type": "code",
   "execution_count": 1,
   "id": "bcbca76a",
   "metadata": {},
   "outputs": [
    {
     "name": "stdout",
     "output_type": "stream",
     "text": [
      "2021-03-20\n"
     ]
    }
   ],
   "source": [
    "# class datetime.date(year, month, day)\n",
    "import datetime\n",
    "x = datetime.date(2021, 3, 20)\n",
    "print(x)"
   ]
  },
  {
   "cell_type": "code",
   "execution_count": 2,
   "id": "4a05f8f4",
   "metadata": {},
   "outputs": [
    {
     "name": "stdout",
     "output_type": "stream",
     "text": [
      "2021-07-20\n",
      "<class 'datetime.date'>\n"
     ]
    }
   ],
   "source": [
    "# classmethod date.today()\n",
    "import datetime\n",
    "x = datetime.date.today()\n",
    "print(x)\n",
    "print(type(x))"
   ]
  },
  {
   "cell_type": "code",
   "execution_count": 3,
   "id": "a201d56e",
   "metadata": {},
   "outputs": [
    {
     "data": {
      "text/plain": [
       "datetime.date(2019, 12, 4)"
      ]
     },
     "execution_count": 3,
     "metadata": {},
     "output_type": "execute_result"
    }
   ],
   "source": [
    "# classmethod date.fromisoformat(date_string)\n",
    "# Return a date corresponding to a date_string given in the format YYYY-MM-DD:\n",
    "import datetime\n",
    "datetime.date.fromisoformat('2019-12-04') #yyyy-mm-dd"
   ]
  },
  {
   "cell_type": "code",
   "execution_count": 4,
   "id": "58248826",
   "metadata": {},
   "outputs": [
    {
     "name": "stdout",
     "output_type": "stream",
     "text": [
      "2019-12-04\n",
      "<class 'datetime.date'>\n"
     ]
    }
   ],
   "source": [
    "import datetime\n",
    "x = datetime.date.fromisoformat('2019-12-04')\n",
    "print(x)\n",
    "print(type(x))"
   ]
  },
  {
   "cell_type": "code",
   "execution_count": 5,
   "id": "ba517efc",
   "metadata": {},
   "outputs": [
    {
     "name": "stdout",
     "output_type": "stream",
     "text": [
      "2019 <class 'int'>\n",
      "12 <class 'int'>\n",
      "4 <class 'int'>\n"
     ]
    }
   ],
   "source": [
    "# Instance attributes (read-only)\n",
    "# date.year\n",
    "# date.month\n",
    "# date.day\n",
    "import datetime\n",
    "x = datetime.date.fromisoformat('2019-12-04')\n",
    "print(x.year, type(x.year))\n",
    "print(x.month, type(x.month))\n",
    "print(x.day, type(x.day))"
   ]
  },
  {
   "cell_type": "code",
   "execution_count": 8,
   "id": "427bb5f3",
   "metadata": {},
   "outputs": [
    {
     "name": "stdout",
     "output_type": "stream",
     "text": [
      "2021-12-26\n",
      "2002-12-31\n",
      "2021-12-26\n"
     ]
    }
   ],
   "source": [
    "# Instance methods:\n",
    "# date.replace(year=self.year, month=self.month, day=self.day)\n",
    "import datetime\n",
    "d = datetime.date(2002, 12, 31)\n",
    "print(d.replace(year = 2021, day=26))\n",
    "print(d)\n",
    "d = d.replace(year = 2021, day=26)\n",
    "print(d)"
   ]
  },
  {
   "cell_type": "code",
   "execution_count": 9,
   "id": "e99416c5",
   "metadata": {},
   "outputs": [
    {
     "data": {
      "text/plain": [
       "datetime.date(2002, 12, 26)"
      ]
     },
     "execution_count": 9,
     "metadata": {},
     "output_type": "execute_result"
    }
   ],
   "source": [
    "from datetime import date\n",
    "d = date(2002, 12, 31)\n",
    "d.replace(day=26)"
   ]
  },
  {
   "cell_type": "code",
   "execution_count": 10,
   "id": "37402cc2",
   "metadata": {},
   "outputs": [
    {
     "name": "stdout",
     "output_type": "stream",
     "text": [
      "2021-07-20\n",
      "1\n"
     ]
    }
   ],
   "source": [
    "# date.weekday()\n",
    "# Return the day of the week as an integer, where Monday is 0 and Sunday is 6\n",
    "from datetime import date\n",
    "d = date.today()\n",
    "print(d)\n",
    "print(d.weekday())"
   ]
  },
  {
   "cell_type": "code",
   "execution_count": 11,
   "id": "dd4d0bc3",
   "metadata": {},
   "outputs": [
    {
     "name": "stdout",
     "output_type": "stream",
     "text": [
      "2021-07-20\n",
      "2\n"
     ]
    }
   ],
   "source": [
    "# date.isoweekday()\n",
    "# Return the day of the week as an integer, where Monday is 1 and Sunday is 7\n",
    "from datetime import date\n",
    "d = date.today()\n",
    "print(d)\n",
    "print(d.isoweekday())"
   ]
  },
  {
   "cell_type": "code",
   "execution_count": 12,
   "id": "5a23a817",
   "metadata": {},
   "outputs": [
    {
     "name": "stdout",
     "output_type": "stream",
     "text": [
      "2021-07-20\n",
      "(2021, 29, 2)\n",
      "(2021, 1, 1)\n"
     ]
    }
   ],
   "source": [
    "# date.isocalendar()\n",
    "# three components: year, week and weekday.\n",
    "from datetime import date\n",
    "d = date.today()\n",
    "print(d)\n",
    "print(d.isocalendar())\n",
    "d1 = date(2021, 1, 4)\n",
    "print(d1.isocalendar())"
   ]
  },
  {
   "cell_type": "code",
   "execution_count": 13,
   "id": "a7420e1d",
   "metadata": {},
   "outputs": [
    {
     "name": "stdout",
     "output_type": "stream",
     "text": [
      "2002-12-04\n",
      "<class 'str'>\n",
      "2019-12-04\n",
      "<class 'datetime.date'>\n"
     ]
    }
   ],
   "source": [
    "# date.isoformat()\n",
    "# Return a string representing the date in ISO 8601 format, YYYY-MM-DD\n",
    "from datetime import date\n",
    "dstr = date(2002, 12, 4).isoformat()\n",
    "print(dstr)\n",
    "print(type(dstr))\n",
    "\n",
    "# d = datetime.date.fromisoformat('2019-12-04')\n",
    "d = date.fromisoformat('2019-12-04')\n",
    "print(d)\n",
    "print(type(d))"
   ]
  },
  {
   "cell_type": "code",
   "execution_count": 15,
   "id": "8a71e142",
   "metadata": {},
   "outputs": [],
   "source": [
    "### ### ###\n",
    "# datetime Objects\n",
    "# class datetime.datetime(year, month, day, hour=0, minute=0, second=0, microsecond=0, tzinfo=None, *, fold=0)"
   ]
  },
  {
   "cell_type": "code",
   "execution_count": 16,
   "id": "6ba7ef38",
   "metadata": {},
   "outputs": [
    {
     "name": "stdout",
     "output_type": "stream",
     "text": [
      "2021-07-20 09:18:24.233180\n"
     ]
    }
   ],
   "source": [
    "import datetime\n",
    "x = datetime.datetime.now()\n",
    "print(x)"
   ]
  },
  {
   "cell_type": "code",
   "execution_count": 17,
   "id": "c071cdfe",
   "metadata": {},
   "outputs": [
    {
     "name": "stdout",
     "output_type": "stream",
     "text": [
      "2020-05-17 00:00:00\n"
     ]
    }
   ],
   "source": [
    "import datetime\n",
    "x = datetime.datetime(2020, 5, 17)\n",
    "print(x)"
   ]
  },
  {
   "cell_type": "code",
   "execution_count": 18,
   "id": "ee555320",
   "metadata": {},
   "outputs": [
    {
     "name": "stdout",
     "output_type": "stream",
     "text": [
      "2021-07-20 09:19:36.733039\n",
      "2021-07-20 09:19:36.733039\n"
     ]
    }
   ],
   "source": [
    "from datetime import datetime\n",
    "x = datetime.now()\n",
    "print(x)\n",
    "d = datetime.today()\n",
    "print(d)"
   ]
  },
  {
   "cell_type": "code",
   "execution_count": 19,
   "id": "ce40e376",
   "metadata": {},
   "outputs": [
    {
     "name": "stdout",
     "output_type": "stream",
     "text": [
      "2018-06-01 00:00:00\n",
      "June\n"
     ]
    }
   ],
   "source": [
    "# strftime() and strptime()\n",
    "# strftime() Method of date; datetime, time. Convert object to a string according to a given format\n",
    "# strftime(format)\n",
    "# strptime() Method of datetime. Parse a string into a datetime object given a corresponding format\n",
    "# strptime(date_string, format)\n",
    "import datetime\n",
    "x = datetime.datetime(2018, 6, 1)\n",
    "print(x)\n",
    "print(x.strftime(\"%B\"))"
   ]
  },
  {
   "cell_type": "code",
   "execution_count": 20,
   "id": "91f6b278",
   "metadata": {},
   "outputs": [
    {
     "name": "stdout",
     "output_type": "stream",
     "text": [
      "2018-06-01\n",
      "June\n"
     ]
    }
   ],
   "source": [
    "from datetime import date\n",
    "x = date(2018, 6, 1)\n",
    "print(x)\n",
    "print(x.strftime(\"%B\"))"
   ]
  },
  {
   "cell_type": "code",
   "execution_count": 21,
   "id": "a1ad225c",
   "metadata": {},
   "outputs": [
    {
     "name": "stdout",
     "output_type": "stream",
     "text": [
      "2021-03-24 00:00:00\n",
      "<class 'datetime.datetime'>\n",
      "2021-03-24\n",
      "<class 'datetime.date'>\n"
     ]
    }
   ],
   "source": [
    "import datetime\n",
    "d = datetime.datetime.strptime('24/03/2021', '%d/%m/%Y')\n",
    "print(d)\n",
    "print(type(d))\n",
    "d1 = d.date()\n",
    "print(d1)\n",
    "print(type(d1))"
   ]
  },
  {
   "cell_type": "code",
   "execution_count": null,
   "id": "bc241f08",
   "metadata": {},
   "outputs": [],
   "source": [
    "# datetime Module includes Objects: date, datetime, timedelta, time...\n",
    "\n",
    "# strftime() Method of date, datetime, time. Convert object to a string according to a given format\n",
    "# strftime(format)\n",
    "\n",
    "# strptime() Method of datetime. Parse a string into a datetime object given a corresponding format\n",
    "# strptime(date_string, format)\n",
    "\n",
    "# See more Format Codes: https://docs.python.org/3/library/datetime.html#strftime-and-strptime-format-codes"
   ]
  },
  {
   "cell_type": "code",
   "execution_count": null,
   "id": "ff6a4e28",
   "metadata": {},
   "outputs": [],
   "source": [
    "# strftime(format)"
   ]
  },
  {
   "cell_type": "code",
   "execution_count": 22,
   "id": "85279e4b",
   "metadata": {},
   "outputs": [
    {
     "name": "stdout",
     "output_type": "stream",
     "text": [
      "2021-03-18\n",
      "2021-03-18 21:42:35.123456\n",
      "Thursday, March 18, 2021, 21:42:35.123456\n",
      "Thursday, March 18, 2021, 09PM:42:35.123456\n",
      "Thu Mar 18 21:42:35 2021\n",
      "03/18/21\n",
      "21:42:35\n",
      "Thursday, 18/03/2021, 21:42:35 \n",
      "Thursday, March 18, 2021, 21:42:35\n",
      "March 18, 2021, 21:42:35\n"
     ]
    }
   ],
   "source": [
    "import datetime\n",
    "\n",
    "d = datetime.date(2021, 3, 18)\n",
    "print(d) # 2021-03-18\n",
    "\n",
    "d = datetime.datetime(2021, 3, 18, 21, 42, 35, 123456)#  123456 microsecond\n",
    "print(d) # 2021-03-18 21:42:35.123456\n",
    "\n",
    "print(d.strftime('%A, %B %d, %Y, %H:%M:%S.%f'))   # Thursday, March 18, 2021, 21:42:35.123456\n",
    "print(d.strftime('%A, %B %d, %Y, %I%p:%M:%S.%f')) # Thursday, March 18, 2021, 09PM:42:35.123456\n",
    "print(d.strftime('%c')) # Thu Mar 18 21:42:35 2021\n",
    "print(d.strftime('%x')) # 03/18/21\n",
    "print(d.strftime('%X')) # 21:42:35\n",
    "print(d.strftime('%A, %d/%m/%Y, %X ')) # Thursday, 18/03/2021, 21:42:35 \n",
    "print(d.strftime('%A, %B %d, %Y, %X')) # Thursday, March 18, 2021, 21:42:35\n",
    "print(d.strftime('%B %d, %Y, %X')) # March 18, 2021, 21:42:35"
   ]
  },
  {
   "cell_type": "code",
   "execution_count": null,
   "id": "a8b746f2",
   "metadata": {},
   "outputs": [],
   "source": [
    "# strptime(date_string, format)"
   ]
  },
  {
   "cell_type": "code",
   "execution_count": 23,
   "id": "23b32df9",
   "metadata": {},
   "outputs": [
    {
     "name": "stdout",
     "output_type": "stream",
     "text": [
      "1/ 2021-03-18 00:00:00\n",
      "2/ 2021-03-18 00:00:00\n",
      "3/ 2021-03-18 00:00:00\n",
      "4/ 2021-03-18 00:00:00\n",
      "5/ 2021-03-18 21:42:35\n",
      "Input date (d/m/yyyy): 20/7/2021\n",
      "6/ 2021-07-20 00:00:00\n",
      "Input date (d/m/yy): 20/7/21\n",
      "7/ 2021-07-20 00:00:00\n"
     ]
    }
   ],
   "source": [
    "import datetime\n",
    "\n",
    "d = datetime.datetime.strptime('18/3/2021', '%d/%m/%Y')\n",
    "print('1/',d)\n",
    "d = datetime.datetime.strptime('18/3/21', '%d/%m/%y')\n",
    "print('2/',d)\n",
    "d = datetime.datetime.strptime('3/18/21', '%x')\n",
    "print('3/',d)\n",
    "d = datetime.datetime.strptime('March 18, 2021', '%B %d, %Y')\n",
    "print('4/',d)\n",
    "d = datetime.datetime.strptime('March 18, 2021, 21:42:35', '%B %d, %Y, %X')\n",
    "print('5/',d)\n",
    "d = datetime.datetime.strptime(input('Input date (d/m/yyyy): '), '%d/%m/%Y') # 18/3/2021\n",
    "print('6/',d)\n",
    "d = datetime.datetime.strptime(input('Input date (d/m/yy): '), '%d/%m/%y') # 18/3/21\n",
    "print('7/',d)"
   ]
  },
  {
   "cell_type": "code",
   "execution_count": null,
   "id": "830bb3f4",
   "metadata": {},
   "outputs": [],
   "source": [
    "### ### ###\n",
    "# timedelta Objects\n",
    "# represents a duration, the difference between two dates or times\n",
    "# class datetime.timedelta(days=0, seconds=0, microseconds=0, milliseconds=0, minutes=0, hours=0, weeks=0)"
   ]
  },
  {
   "cell_type": "code",
   "execution_count": 24,
   "id": "7ac3e9af",
   "metadata": {},
   "outputs": [
    {
     "name": "stdout",
     "output_type": "stream",
     "text": [
      "5 days, 0:00:00\n",
      "<class 'datetime.timedelta'>\n",
      "5\n",
      "<class 'int'>\n"
     ]
    }
   ],
   "source": [
    "import datetime\n",
    "d1 = datetime.date(2021, 3, 15)\n",
    "d2 = datetime.date(2021, 3, 20)\n",
    "delta = d2-d1\n",
    "print(delta)\n",
    "print(type(delta))\n",
    "#x = int(delta)\n",
    "x = delta.days\n",
    "print(x)\n",
    "print(type(x))"
   ]
  },
  {
   "cell_type": "code",
   "execution_count": 25,
   "id": "68f796ad",
   "metadata": {},
   "outputs": [
    {
     "name": "stdout",
     "output_type": "stream",
     "text": [
      "3650 days, 0:00:00\n",
      "10\n",
      "3285 days, 0:00:00\n",
      "1095 days, 0:00:00\n",
      "3\n"
     ]
    }
   ],
   "source": [
    "from datetime import timedelta\n",
    "year = timedelta(days=365)\n",
    "ten_years = 10 * year\n",
    "print(ten_years)\n",
    "\n",
    "print(ten_years.days // 365)\n",
    "\n",
    "nine_years = ten_years - year\n",
    "print(nine_years)\n",
    "\n",
    "three_years = nine_years // 3\n",
    "print(three_years) \n",
    "print(three_years.days // 365)"
   ]
  },
  {
   "cell_type": "code",
   "execution_count": null,
   "id": "79815991",
   "metadata": {},
   "outputs": [],
   "source": [
    "K184060744 - Nguyễn Thị Hồng Nhung"
   ]
  }
 ],
 "metadata": {
  "kernelspec": {
   "display_name": "Python 3",
   "language": "python",
   "name": "python3"
  },
  "language_info": {
   "codemirror_mode": {
    "name": "ipython",
    "version": 3
   },
   "file_extension": ".py",
   "mimetype": "text/x-python",
   "name": "python",
   "nbconvert_exporter": "python",
   "pygments_lexer": "ipython3",
   "version": "3.8.8"
  }
 },
 "nbformat": 4,
 "nbformat_minor": 5
}
