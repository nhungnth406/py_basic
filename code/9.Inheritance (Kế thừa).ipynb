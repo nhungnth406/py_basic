{
 "cells": [
  {
   "cell_type": "code",
   "execution_count": null,
   "id": "de481b4e",
   "metadata": {},
   "outputs": [],
   "source": [
    "# Inheritance\n",
    "\n",
    "# Inheritance allows us to define a class that inherits all the methods and properties from another class.\n",
    "\n",
    "# Parent class is the class being inherited from, also called base class.\n",
    "\n",
    "# Child class is the class that inherits from another class, also called derived class."
   ]
  },
  {
   "cell_type": "code",
   "execution_count": 1,
   "id": "a32e7467",
   "metadata": {},
   "outputs": [
    {
     "name": "stdout",
     "output_type": "stream",
     "text": [
      "Calling child constructor\n",
      "Calling child method\n",
      "Calling parent method\n",
      "Parent attribute : 200\n",
      "200\n"
     ]
    }
   ],
   "source": [
    "class Parent:        # define parent class\n",
    "   parentAttr = 100\n",
    "   def __init__(self):\n",
    "      print(\"Calling parent constructor\")\n",
    "\n",
    "   def parentMethod(self):\n",
    "      print('Calling parent method')\n",
    "\n",
    "   def setAttr(self, attr):\n",
    "      Parent.parentAttr = attr\n",
    "\n",
    "   def getAttr(self):\n",
    "      print(\"Parent attribute :\", Parent.parentAttr)\n",
    "#####\n",
    "class Child(Parent): # define child class\n",
    "   def __init__(self):\n",
    "      print(\"Calling child constructor\")\n",
    "\n",
    "   def childMethod(self):\n",
    "      print('Calling child method')\n",
    "\n",
    "c = Child()          # instance of child\n",
    "c.childMethod()      # child calls its method\n",
    "c.parentMethod()     # calls parent's method\n",
    "c.setAttr(200)       # again call parent's method\n",
    "c.getAttr()          # again call parent's method\n",
    "\n",
    "print(Child.parentAttr)"
   ]
  },
  {
   "cell_type": "code",
   "execution_count": null,
   "id": "ac3c655b",
   "metadata": {},
   "outputs": [],
   "source": [
    "# Overriding Methods"
   ]
  },
  {
   "cell_type": "code",
   "execution_count": 3,
   "id": "2b01e2a5",
   "metadata": {},
   "outputs": [
    {
     "name": "stdout",
     "output_type": "stream",
     "text": [
      "Calling child method\n",
      "Calling parent method\n"
     ]
    }
   ],
   "source": [
    "class Parent:        # define parent class\n",
    "   def myMethod(self):\n",
    "      print('Calling parent method')\n",
    "\n",
    "class Child(Parent): # define child class\n",
    "   def myMethod(self):\n",
    "      print('Calling child method')\n",
    "\n",
    "c = Child()          # instance of child\n",
    "c.myMethod()         # child calls overridden method\n",
    "\n",
    "b = Parent()\n",
    "b.myMethod()"
   ]
  },
  {
   "cell_type": "code",
   "execution_count": 15,
   "id": "e5be4516",
   "metadata": {},
   "outputs": [
    {
     "name": "stdout",
     "output_type": "stream",
     "text": [
      "A Person string\n",
      "Hải Nam Lê\n",
      "Hải Nam\n"
     ]
    }
   ],
   "source": [
    "class Person:  #Create a Parent Class\n",
    "  s = 'A Person string'\n",
    "  def __init__(self, fname, lname):\n",
    "    self.firstname = fname\n",
    "    self.lastname = lname\n",
    "\n",
    "  def printname(self): #Create a Child Class\n",
    "    print(self.firstname, self.lastname)\n",
    "\n",
    "class Student(Person):\n",
    "  pass \n",
    "#Use the pass keyword when you do not want to add any other properties or methods to the class.\n",
    "\n",
    "#Now the Student class has the same properties and methods as the Person class.\n",
    "x = Student('Hải Nam','Lê')\n",
    "print(x.s)\n",
    "x.printname()\n",
    "print(x.firstname)"
   ]
  },
  {
   "cell_type": "code",
   "execution_count": 16,
   "id": "b6a21b3b",
   "metadata": {},
   "outputs": [
    {
     "name": "stdout",
     "output_type": "stream",
     "text": [
      "A Person string\n"
     ]
    },
    {
     "ename": "AttributeError",
     "evalue": "'Student' object has no attribute 'firstname'",
     "output_type": "error",
     "traceback": [
      "\u001b[1;31m---------------------------------------------------------------------------\u001b[0m",
      "\u001b[1;31mAttributeError\u001b[0m                            Traceback (most recent call last)",
      "\u001b[1;32m<ipython-input-16-706257caefd3>\u001b[0m in \u001b[0;36m<module>\u001b[1;34m\u001b[0m\n\u001b[0;32m     16\u001b[0m \u001b[1;33m\u001b[0m\u001b[0m\n\u001b[0;32m     17\u001b[0m \u001b[0mprint\u001b[0m\u001b[1;33m(\u001b[0m\u001b[0mx\u001b[0m\u001b[1;33m.\u001b[0m\u001b[0ms\u001b[0m\u001b[1;33m)\u001b[0m\u001b[1;33m\u001b[0m\u001b[1;33m\u001b[0m\u001b[0m\n\u001b[1;32m---> 18\u001b[1;33m \u001b[0mx\u001b[0m\u001b[1;33m.\u001b[0m\u001b[0mprintname\u001b[0m\u001b[1;33m(\u001b[0m\u001b[1;33m)\u001b[0m \u001b[1;31m#Error\u001b[0m\u001b[1;33m\u001b[0m\u001b[1;33m\u001b[0m\u001b[0m\n\u001b[0m\u001b[0;32m     19\u001b[0m \u001b[0mprint\u001b[0m\u001b[1;33m(\u001b[0m\u001b[0mx\u001b[0m\u001b[1;33m.\u001b[0m\u001b[0mfirstname\u001b[0m\u001b[1;33m)\u001b[0m \u001b[1;31m#Error\u001b[0m\u001b[1;33m\u001b[0m\u001b[1;33m\u001b[0m\u001b[0m\n",
      "\u001b[1;32m<ipython-input-16-706257caefd3>\u001b[0m in \u001b[0;36mprintname\u001b[1;34m(self)\u001b[0m\n\u001b[0;32m      6\u001b[0m \u001b[1;33m\u001b[0m\u001b[0m\n\u001b[0;32m      7\u001b[0m   \u001b[1;32mdef\u001b[0m \u001b[0mprintname\u001b[0m\u001b[1;33m(\u001b[0m\u001b[0mself\u001b[0m\u001b[1;33m)\u001b[0m\u001b[1;33m:\u001b[0m\u001b[1;33m\u001b[0m\u001b[1;33m\u001b[0m\u001b[0m\n\u001b[1;32m----> 8\u001b[1;33m     \u001b[0mprint\u001b[0m\u001b[1;33m(\u001b[0m\u001b[0mself\u001b[0m\u001b[1;33m.\u001b[0m\u001b[0mfirstname\u001b[0m\u001b[1;33m,\u001b[0m \u001b[0mself\u001b[0m\u001b[1;33m.\u001b[0m\u001b[0mlastname\u001b[0m\u001b[1;33m)\u001b[0m\u001b[1;33m\u001b[0m\u001b[1;33m\u001b[0m\u001b[0m\n\u001b[0m\u001b[0;32m      9\u001b[0m \u001b[1;33m\u001b[0m\u001b[0m\n\u001b[0;32m     10\u001b[0m \u001b[1;31m# When you add the __init__() function, the child class will no longer inherit the parent's __init__() function\u001b[0m\u001b[1;33m\u001b[0m\u001b[1;33m\u001b[0m\u001b[1;33m\u001b[0m\u001b[0m\n",
      "\u001b[1;31mAttributeError\u001b[0m: 'Student' object has no attribute 'firstname'"
     ]
    }
   ],
   "source": [
    "class Person:\n",
    "  s = 'A Person string'\n",
    "  def __init__(self, fname, lname):\n",
    "    self.firstname = fname\n",
    "    self.lastname = lname\n",
    "\n",
    "  def printname(self):\n",
    "    print(self.firstname, self.lastname)\n",
    "\n",
    "#Add the __init__() Function\n",
    "    # When you add the __init__() function, the child class will no longer inherit the parent's __init__() function\n",
    "class Student(Person):\n",
    "  def __init__(self, fname, lname):\n",
    "    pass\n",
    "    \n",
    "x = Student('Hải Nam','Lê')\n",
    "\n",
    "print(x.s)\n",
    "x.printname() #Error\n",
    "print(x.firstname) #Error"
   ]
  },
  {
   "cell_type": "code",
   "execution_count": 17,
   "id": "b81fbd55",
   "metadata": {},
   "outputs": [
    {
     "name": "stdout",
     "output_type": "stream",
     "text": [
      "A Person string\n",
      "Hải Nam\n",
      "Hải Nam Lê\n"
     ]
    }
   ],
   "source": [
    "class Person:\n",
    "  s = 'A Person string'\n",
    "  def __init__(self, fname, lname):\n",
    "    self.firstname = fname\n",
    "    self.lastname = lname\n",
    "\n",
    "  def printname(self):\n",
    "    print(self.firstname, self.lastname)\n",
    "\n",
    "class Student(Person):\n",
    "  def __init__(self, fname, lname):\n",
    "      Person.__init__(self, fname, lname) # To keep the inheritance of the parent's __init__() function\n",
    "        \n",
    "x = Student('Hải Nam','Lê')\n",
    "print(x.s)\n",
    "print(x.firstname)\n",
    "x.printname()"
   ]
  },
  {
   "cell_type": "code",
   "execution_count": 18,
   "id": "4a039ab6",
   "metadata": {},
   "outputs": [
    {
     "name": "stdout",
     "output_type": "stream",
     "text": [
      "A Person string\n",
      "Hải Nam Lê\n",
      "Hải Nam\n"
     ]
    }
   ],
   "source": [
    "#Use the super() Function\n",
    "\n",
    "class Person:\n",
    "  s = 'A Person string'\n",
    "  def __init__(self, fname, lname):\n",
    "    self.firstname = fname\n",
    "    self.lastname = lname\n",
    "\n",
    "  def printname(self):\n",
    "    print(self.firstname, self.lastname)\n",
    "\n",
    "class Student(Person):\n",
    "  def __init__(self, fname, lname):\n",
    "      super().__init__(fname, lname) \n",
    "# super() function will make the child class inherit all the methods and properties from its parent\n",
    "        \n",
    "x = Student('Hải Nam','Lê')\n",
    "print(x.s)\n",
    "x.printname()\n",
    "print(x.firstname)"
   ]
  },
  {
   "cell_type": "code",
   "execution_count": null,
   "id": "db035bb0",
   "metadata": {},
   "outputs": [],
   "source": [
    "#Add Propprties"
   ]
  },
  {
   "cell_type": "code",
   "execution_count": 20,
   "id": "e3d492d9",
   "metadata": {},
   "outputs": [
    {
     "name": "stdout",
     "output_type": "stream",
     "text": [
      "A Person string\n",
      "2019\n",
      "Mike Olsen\n",
      "Mike\n"
     ]
    }
   ],
   "source": [
    "class Person:\n",
    "  s = 'A Person string'\n",
    "  def __init__(self, fname, lname):\n",
    "    self.firstname = fname\n",
    "    self.lastname = lname\n",
    "\n",
    "  def printname(self):\n",
    "    print(self.firstname, self.lastname)\n",
    "\n",
    "class Student(Person):\n",
    "  def __init__(self, fname, lname):\n",
    "    super().__init__(fname, lname)\n",
    "    self.graduationyear = 2019\n",
    "\n",
    "x = Student(\"Mike\", \"Olsen\")\n",
    "print(x.s)\n",
    "print(x.graduationyear)\n",
    "x.printname()\n",
    "print(x.firstname)"
   ]
  },
  {
   "cell_type": "code",
   "execution_count": 19,
   "id": "a1172997",
   "metadata": {},
   "outputs": [
    {
     "name": "stdout",
     "output_type": "stream",
     "text": [
      "A Person string\n",
      "2019\n",
      "Mike Olsen\n",
      "Mike\n"
     ]
    }
   ],
   "source": [
    "class Person:\n",
    "  s = 'A Person string'\n",
    "  def __init__(self, fname, lname):\n",
    "    self.firstname = fname\n",
    "    self.lastname = lname\n",
    "\n",
    "  def printname(self):\n",
    "    print(self.firstname, self.lastname)\n",
    "\n",
    "class Student(Person):\n",
    "  #def __init__(self, fname, lname):\n",
    "    #super().__init__(fname, lname)\n",
    "    graduationyear = 2019\n",
    "\n",
    "x = Student(\"Mike\", \"Olsen\")\n",
    "print(x.s)\n",
    "print(x.graduationyear)\n",
    "x.printname()\n",
    "print(x.firstname)"
   ]
  },
  {
   "cell_type": "code",
   "execution_count": 24,
   "id": "422ec95f",
   "metadata": {},
   "outputs": [
    {
     "name": "stdout",
     "output_type": "stream",
     "text": [
      "A Person string\n",
      "Mike\n",
      "Mike Olsen\n",
      "2019\n"
     ]
    }
   ],
   "source": [
    "class Person:\n",
    "  s = 'A Person string'\n",
    "  def __init__(self, fname, lname):\n",
    "    self.firstname = fname\n",
    "    self.lastname = lname\n",
    "\n",
    "  def printname(self):\n",
    "    print(self.firstname, self.lastname)\n",
    "\n",
    "class Student(Person):\n",
    "  def __init__(self, fname, lname, year):  #Thêm tham số year\n",
    "    Person.__init__(self,fname, lname)\n",
    "    self.graduationyear = year\n",
    "\n",
    "x = Student(\"Mike\", \"Olsen\", 2019)\n",
    "print(x.s)\n",
    "print(x.firstname)\n",
    "x.printname()\n",
    "print(x.graduationyear)"
   ]
  },
  {
   "cell_type": "code",
   "execution_count": null,
   "id": "18086f75",
   "metadata": {},
   "outputs": [],
   "source": [
    "__init__ ( self [,args...] )\n",
    "Constructor (with any optional arguments)\n",
    "Sample Call : obj = className(args)\n",
    "\n",
    "__del__( self )\n",
    "Destructor, deletes an object\n",
    "Sample Call : del obj\n",
    "    \n",
    "__repr__( self )\n",
    "Evaluable string representation\n",
    "Sample Call : repr(obj)\n",
    "    \n",
    "__str__( self )\n",
    "Printable string representation\n",
    "Sample Call : str(obj)\n",
    "\n",
    "__cmp__ ( self, x )\n",
    "Object comparison\n",
    "Sample Call : cmp(obj, x)\n"
   ]
  },
  {
   "cell_type": "code",
   "execution_count": 1,
   "id": "6faa4b8a",
   "metadata": {},
   "outputs": [
    {
     "name": "stdout",
     "output_type": "stream",
     "text": [
      "(3, 5)\n"
     ]
    }
   ],
   "source": [
    "# Overloading Operators\n",
    "\n",
    "# Python Program to perform addition\n",
    "# of two complex numbers using binary\n",
    "# + operator overloading.\n",
    " \n",
    "class complex:\n",
    "    def __init__(self, a, b):\n",
    "        self.a = a\n",
    "        self.b = b\n",
    " \n",
    "     # adding two objects\n",
    "    def __add__(self, other):\n",
    "        return self.a + other.a, self.b + other.b\n",
    " \n",
    "Ob1 = complex(1, 2)\n",
    "Ob2 = complex(2, 3)\n",
    "Ob3 = Ob1 + Ob2\n",
    "print(Ob3)"
   ]
  },
  {
   "cell_type": "code",
   "execution_count": null,
   "id": "00cc6e2b",
   "metadata": {},
   "outputs": [],
   "source": [
    "# Data Hiding\n",
    "\n",
    "# An object's attributes may or may not be visible outside the class definition.\n",
    "# You need to name attributes with a double underscore prefix,\n",
    "# and those attributes then are not be directly visible to outsiders.\n"
   ]
  },
  {
   "cell_type": "code",
   "execution_count": 25,
   "id": "da9619ef",
   "metadata": {},
   "outputs": [
    {
     "name": "stdout",
     "output_type": "stream",
     "text": [
      "1\n",
      "2\n"
     ]
    },
    {
     "ename": "AttributeError",
     "evalue": "'JustCounter' object has no attribute '__secretCount'",
     "output_type": "error",
     "traceback": [
      "\u001b[1;31m---------------------------------------------------------------------------\u001b[0m",
      "\u001b[1;31mAttributeError\u001b[0m                            Traceback (most recent call last)",
      "\u001b[1;32m<ipython-input-25-57ff337a14cf>\u001b[0m in \u001b[0;36m<module>\u001b[1;34m\u001b[0m\n\u001b[0;32m      9\u001b[0m \u001b[0mcounter\u001b[0m\u001b[1;33m.\u001b[0m\u001b[0mcount\u001b[0m\u001b[1;33m(\u001b[0m\u001b[1;33m)\u001b[0m\u001b[1;33m\u001b[0m\u001b[1;33m\u001b[0m\u001b[0m\n\u001b[0;32m     10\u001b[0m \u001b[0mcounter\u001b[0m\u001b[1;33m.\u001b[0m\u001b[0mcount\u001b[0m\u001b[1;33m(\u001b[0m\u001b[1;33m)\u001b[0m\u001b[1;33m\u001b[0m\u001b[1;33m\u001b[0m\u001b[0m\n\u001b[1;32m---> 11\u001b[1;33m \u001b[0mprint\u001b[0m\u001b[1;33m(\u001b[0m\u001b[0mcounter\u001b[0m\u001b[1;33m.\u001b[0m\u001b[0m__secretCount\u001b[0m\u001b[1;33m)\u001b[0m\u001b[1;33m\u001b[0m\u001b[1;33m\u001b[0m\u001b[0m\n\u001b[0m",
      "\u001b[1;31mAttributeError\u001b[0m: 'JustCounter' object has no attribute '__secretCount'"
     ]
    }
   ],
   "source": [
    "class JustCounter:\n",
    "   __secretCount = 0\n",
    "  \n",
    "   def count(self):\n",
    "      self.__secretCount += 1\n",
    "      print(self.__secretCount)\n",
    "\n",
    "counter = JustCounter()\n",
    "counter.count()\n",
    "counter.count()\n",
    "print(counter.__secretCount) #ERROR"
   ]
  },
  {
   "cell_type": "code",
   "execution_count": 26,
   "id": "cbc53b34",
   "metadata": {},
   "outputs": [
    {
     "name": "stdout",
     "output_type": "stream",
     "text": [
      "1\n",
      "2\n",
      "2\n"
     ]
    }
   ],
   "source": [
    "# You can access such attributes as object._className__attrName\n",
    "class JustCounter:\n",
    "   __secretCount = 0\n",
    "  \n",
    "   def count(self):\n",
    "      self.__secretCount += 1\n",
    "      print(self.__secretCount)\n",
    "\n",
    "counter = JustCounter()\n",
    "counter.count()\n",
    "counter.count()\n",
    "print(counter._JustCounter__secretCount)"
   ]
  },
  {
   "cell_type": "code",
   "execution_count": 27,
   "id": "06cba063",
   "metadata": {},
   "outputs": [
    {
     "name": "stdout",
     "output_type": "stream",
     "text": [
      "Welcome Mike Olsen to the class of 2019\n"
     ]
    }
   ],
   "source": [
    "#Add Methods\n",
    "\n",
    "class Student(Person):\n",
    "  def __init__(self, fname, lname, year):\n",
    "    super().__init__(fname, lname)\n",
    "    self.graduationyear = year\n",
    "\n",
    "  def welcome(self):\n",
    "    print(\"Welcome\", self.firstname, self.lastname, \"to the class of\", self.graduationyear)\n",
    "\n",
    "x = Student(\"Mike\", \"Olsen\", 2019)\n",
    "x.welcome()\n",
    "    "
   ]
  },
  {
   "cell_type": "code",
   "execution_count": null,
   "id": "0794fe62",
   "metadata": {},
   "outputs": [],
   "source": [
    "# Method with Argument"
   ]
  },
  {
   "cell_type": "code",
   "execution_count": 28,
   "id": "569ff849",
   "metadata": {},
   "outputs": [
    {
     "name": "stdout",
     "output_type": "stream",
     "text": [
      "Person Mike Olsen says: a handsome person\n",
      "Student Mike Olsen says: a handsome student\n"
     ]
    }
   ],
   "source": [
    "class Person:\n",
    "  def __init__(self, fname, lname):\n",
    "    self.firstname = fname\n",
    "    self.lastname = lname\n",
    "    \n",
    "  def PersonSays(self, text):\n",
    "    print('Person', self.firstname, self.lastname, 'says:', text)\n",
    "    \n",
    "class Student(Person):\n",
    "  def __init__(self, fname, lname):\n",
    "    super().__init__(fname, lname)\n",
    "    \n",
    "  def StudentSays(self, text):\n",
    "    print('Student', self.firstname, self.lastname, 'says:', text)\n",
    "    \n",
    "x = Student(\"Mike\", \"Olsen\")\n",
    "x.PersonSays(\"a handsome person\")\n",
    "x.StudentSays('a handsome student')"
   ]
  }
 ],
 "metadata": {
  "kernelspec": {
   "display_name": "Python 3",
   "language": "python",
   "name": "python3"
  },
  "language_info": {
   "codemirror_mode": {
    "name": "ipython",
    "version": 3
   },
   "file_extension": ".py",
   "mimetype": "text/x-python",
   "name": "python",
   "nbconvert_exporter": "python",
   "pygments_lexer": "ipython3",
   "version": "3.8.8"
  }
 },
 "nbformat": 4,
 "nbformat_minor": 5
}
