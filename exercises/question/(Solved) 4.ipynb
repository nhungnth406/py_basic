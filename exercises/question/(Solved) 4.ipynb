{
 "cells": [
  {
   "cell_type": "code",
   "execution_count": 1,
   "metadata": {},
   "outputs": [
    {
     "name": "stdout",
     "output_type": "stream",
     "text": [
      "[[1 2 3]\n",
      " [3 4 5]\n",
      " [4 5 6]] \n",
      "\n",
      "The items in the last column are:\n",
      "[3 5 6]\n",
      "The items in the last row are:\n",
      "[4 5 6]\n",
      "Column 0, column 2:\n",
      "[[1 3]\n",
      " [3 5]\n",
      " [4 6]]\n",
      "Row 0, row 2:\n",
      "[[1 2 3]\n",
      " [4 5 6]]\n"
     ]
    }
   ],
   "source": [
    "# 1/\n",
    "import numpy as np \n",
    "a = np.array([[1,2,3],[3,4,5],[4,5,6]]) \n",
    "print(a,'\\n')\n",
    "\n",
    "print('The items in the last column are:')\n",
    "print(a[...,2]) \n",
    "\n",
    "print('The items in the last row are:')\n",
    "print(a[2,...]) \n",
    "\n",
    "print('Column 0, column 2:')\n",
    "print(a[0:3, [0,2]])\n",
    "\n",
    "print('Row 0, row 2:')\n",
    "print(a[[0,2], 0:3])"
   ]
  },
  {
   "cell_type": "code",
   "execution_count": 58,
   "metadata": {},
   "outputs": [
    {
     "name": "stdout",
     "output_type": "stream",
     "text": [
      "[[1 2]\n",
      " [3 4]\n",
      " [5 6]] \n",
      "\n",
      "[2 3 6]\n"
     ]
    }
   ],
   "source": [
    "# 2/ \n",
    "import numpy as np \n",
    "\n",
    "x = np.array([[1, 2], [3, 4], [5, 6]]) \n",
    "print(x,'\\n')\n",
    "\n",
    "# Dùng Array of Indices để xuất ra các phần tử: x[0,1], x[1,0], x[2,1]\n",
    "y = x[[0,1,2], [1,0,1]] \n",
    "print(y)"
   ]
  },
  {
   "cell_type": "code",
   "execution_count": 3,
   "metadata": {},
   "outputs": [
    {
     "name": "stdout",
     "output_type": "stream",
     "text": [
      "Our array is:\n",
      " [[ 0  1  2]\n",
      " [ 3  4  5]\n",
      " [ 6  7  8]\n",
      " [ 9 10 11]] \n",
      "\n",
      "The output:\n",
      "[[ 3  1]\n",
      " [ 7 11]]\n"
     ]
    }
   ],
   "source": [
    "# 3/\n",
    "import numpy as np \n",
    "x = np.array([[ 0,  1,  2],[ 3,  4,  5],[ 6,  7,  8],[ 9, 10, 11]]) \n",
    "   \n",
    "print('Our array is:\\n', x,'\\n') \n",
    "\n",
    "# Xuất ra màn hình như bên dưới: \n",
    "y = np.array([[x[1,0],x[0,1]], [x[2,1],x[3,2]]])\n",
    "\n",
    "print('The output:') \n",
    "print(y)"
   ]
  },
  {
   "cell_type": "code",
   "execution_count": 4,
   "metadata": {},
   "outputs": [
    {
     "name": "stdout",
     "output_type": "stream",
     "text": [
      "Our array is:\n",
      "[[ 0  1  2]\n",
      " [ 3  4  5]\n",
      " [ 6  7  8]\n",
      " [ 9 10 11]]\n",
      "\n",
      "\n",
      "The items greater or equal to 6 are:\n",
      "[ 6  7  8  9 10 11]\n"
     ]
    }
   ],
   "source": [
    "# 4/\n",
    "import numpy as np \n",
    "x = np.array([[ 0,  1,  2],[ 3,  4,  5],[ 6,  7,  8],[ 9, 10, 11]]) \n",
    "\n",
    "print('Our array is:')\n",
    "print(x) \n",
    "print('\\n')  \n",
    " \n",
    "print('The items greater or equal to 6 are:')\n",
    "print(x[x >= 6])"
   ]
  },
  {
   "cell_type": "code",
   "execution_count": 5,
   "metadata": {},
   "outputs": [
    {
     "name": "stdout",
     "output_type": "stream",
     "text": [
      "[('code', 'S5'), ('quantity', '<u8'), ('askprice', '<f4')]\n",
      "[(b'TCB', 1200, 39.6 ) (b'MSN', 2350, 87.6 ) (b'POW',  980, 13.45)]\n",
      "[b'TCB' b'MSN' b'POW']\n"
     ]
    }
   ],
   "source": [
    "# 5/\n",
    "import numpy as np \n",
    "\n",
    "'''\n",
    "Lập data type cho cổ phiếu gồm:\n",
    "code kiểu dữ liệu: S5\n",
    "quantity kiểu dữ liệu: i4\n",
    "askprice kiểu dữ liệu: f4\n",
    "'''\n",
    "stockdtype = np.dtype([('Code','S5'), ('Quantity', 'i4'), ('AskPrice', 'f4')]) \n",
    "\n",
    "'''\n",
    "Nhập dữ liệu các chứng khoán:\n",
    "Code: \"TCB\"\n",
    "Quantity : 1200,\n",
    "AskPrice : 39.6\n",
    "\n",
    "Code: \"MSN\"\n",
    "Quantity : 2350,\n",
    "AskPrice : 87.6\n",
    "\n",
    "Code: POW\n",
    "Quantity : 980,\n",
    "AskPrice : 13.45\n",
    "'''\n",
    "stockarr = np.array([('TCB', 1200, 39.6), ('MSN', 2350, 87.6), ('POW', 980, 13.45)], dtype = stockdtype) \n",
    "\n",
    "print(stocktype)\n",
    "print(stockarr)\n",
    "#Xuất ra danh sách các code\n",
    "print(stockarr['Code'])"
   ]
  },
  {
   "cell_type": "code",
   "execution_count": 9,
   "metadata": {},
   "outputs": [
    {
     "name": "stdout",
     "output_type": "stream",
     "text": [
      "arr:\n",
      " [ 0  1  2  3  4  5  6  7  8  9 10 11 12 13 14 15 16 17 18 19 20 21 22 23] \n",
      "\n",
      "newarr:\n",
      " [[ 0  1  2  3  4  5]\n",
      " [ 6  7  8  9 10 11]\n",
      " [12 13 14 15 16 17]\n",
      " [18 19 20 21 22 23]] \n",
      "\n",
      "newarr.base;\n",
      " [ 0  1  2  3  4  5  6  7  8  9 10 11 12 13 14 15 16 17 18 19 20 21 22 23]\n"
     ]
    }
   ],
   "source": [
    "# 6/\n",
    "import numpy as np \n",
    "arr = np.array(range(24))\n",
    "print('arr:\\n', arr,'\\n')\n",
    "\n",
    "#kích thước (4,6),  có base là arr\n",
    "newarr = arr.reshape(4,6)\n",
    "\n",
    "print('newarr:\\n',newarr, '\\n')\n",
    "print('newarr.base;\\n', newarr.base)"
   ]
  },
  {
   "cell_type": "code",
   "execution_count": 59,
   "metadata": {},
   "outputs": [
    {
     "name": "stdout",
     "output_type": "stream",
     "text": [
      "arr:\n",
      " [ 0  1  2  3  4  5  6  7  8  9 10 11 12 13 14 15 16 17 18 19 20 21 22 23] \n",
      "\n",
      "\n",
      " dc:\n",
      " [[24  1  2  3  4  5]\n",
      " [ 6  7  8  9 10 11]\n",
      " [12 13 14 15 16 17]\n",
      " [18 19 20 21 22 23]]\n",
      "arr:\n",
      " [ 0  1  2  3  4  5  6  7  8  9 10 11 12 13 14 15 16 17 18 19 20 21 22 23]\n",
      "dc.base:\n",
      " None\n",
      "dc is arr: False\n",
      "\n",
      " sc:\n",
      " [[30  1  2  3  4  5  6  7]\n",
      " [ 8  9 10 11 12 13 14 15]\n",
      " [16 17 18 19 20 21 22 23]]\n",
      "arr:\n",
      " [30  1  2  3  4  5  6  7  8  9 10 11 12 13 14 15 16 17 18 19 20 21 22 23]\n",
      "sc.base: [30  1  2  3  4  5  6  7  8  9 10 11 12 13 14 15 16 17 18 19 20 21 22 23]\n",
      "sc is arr: False\n",
      "\n",
      " nc:\n",
      " [[40  1  2  3]\n",
      " [ 4  5  6  7]\n",
      " [ 8  9 10 11]\n",
      " [12 13 14 15]\n",
      " [16 17 18 19]\n",
      " [20 21 22 23]]\n",
      "arr:\n",
      " [[40  1  2  3]\n",
      " [ 4  5  6  7]\n",
      " [ 8  9 10 11]\n",
      " [12 13 14 15]\n",
      " [16 17 18 19]\n",
      " [20 21 22 23]]\n",
      "nc.base: None\n",
      "nc is arr: True\n"
     ]
    }
   ],
   "source": [
    "# 7/\n",
    "import numpy as np \n",
    "arr = np.array(range(24))\n",
    "print('arr:\\n', arr,'\\n')\n",
    "\n",
    "#Deep copy từ arr, kích thước (4,6), đổi phần tử đầu tiên thành 24\n",
    "dc = arr.copy()\n",
    "dc[0] = 24\n",
    "dc.shape = (4,6)\n",
    "print('\\n dc:\\n',dc)\n",
    "print('arr:\\n',arr)\n",
    "print('dc.base:\\n',dc.base)\n",
    "print('dc is arr:',dc is arr)\n",
    "\n",
    "#Shallow copy từ arr, kích thước (3,8), đổi phần tử đầu tiên thành 30\n",
    "sc = arr.view()\n",
    "sc[0] = 30\n",
    "sc.shape = (3,8)\n",
    "print('\\n sc:\\n',sc)\n",
    "print ('arr:\\n',arr)\n",
    "print('sc.base:',sc.base)\n",
    "print('sc is arr:',sc is arr)\n",
    "\n",
    "#Trỏ tới vùng dữ liệu của arr, kích thước (6,4), đổi phần tử đầu tiên thành 40\n",
    "nc = arr\n",
    "nc[0] = 40\n",
    "nc.shape = (6,4)\n",
    "print('\\n nc:\\n',nc)\n",
    "print ('arr:\\n',arr)\n",
    "print('nc.base:',nc.base)\n",
    "print('nc is arr:',nc is arr)\n",
    "\n",
    "# Chỉnh lại code để xuất ra rõ ràng"
   ]
  },
  {
   "cell_type": "code",
   "execution_count": 57,
   "metadata": {},
   "outputs": [
    {
     "name": "stdout",
     "output_type": "stream",
     "text": [
      "2\n",
      "4\n",
      "7\n",
      "9\n",
      "12\n",
      "14\n"
     ]
    }
   ],
   "source": [
    "# 8/\n",
    "import numpy as np\n",
    "\n",
    "arr = np.array([[1, 2, 3, 4, 5], [6, 7, 8, 9, 10], [11, 12, 13, 14, 15]])\n",
    "\n",
    "for x in np.nditer(arr[:,1::2]):\n",
    "  print(x)"
   ]
  },
  {
   "cell_type": "code",
   "execution_count": 60,
   "metadata": {},
   "outputs": [
    {
     "name": "stdout",
     "output_type": "stream",
     "text": [
      "Original array is:\n",
      " [[ 1  2  3  4  5]\n",
      " [ 6  7  8  9 10]\n",
      " [11 12 13 14 15]\n",
      " [16 17 18 19 20]] \n",
      "\n",
      "Modified array is:\n",
      "[[  1   4   9  16  25]\n",
      " [ 36  49  64  81 100]\n",
      " [121 144 169 196 225]\n",
      " [256 289 324 361 400]]\n"
     ]
    }
   ],
   "source": [
    "# 9/ \n",
    "import numpy as np\n",
    "a = np.arange(1,21)\n",
    "a = a.reshape(4,5)\n",
    "\n",
    "print('Original array is:\\n', a, '\\n')\n",
    "\n",
    "for x in np.nditer(a, op_flags = ['readwrite']):\n",
    "    x[...] = x*x\n",
    "print('Modified array is:')\n",
    "print(a)"
   ]
  },
  {
   "cell_type": "code",
   "execution_count": 50,
   "metadata": {},
   "outputs": [
    {
     "name": "stdout",
     "output_type": "stream",
     "text": [
      "a:\n",
      " [[ 1  3  5  7]\n",
      " [ 9 11 13 15]\n",
      " [17 19 21 23]] \n",
      "\n",
      "b:\n",
      " [[ 2  4  6  8]\n",
      " [10 12 14 16]\n",
      " [18 20 22 24]] \n",
      "\n",
      "c:\n",
      " [[ 3  7 11 15]\n",
      " [19 23 27 31]\n",
      " [35 39 43 47]]\n"
     ]
    }
   ],
   "source": [
    "# 10/ tạo a, b dùng arange và reshape\n",
    "import numpy as np \n",
    "\n",
    "a = np.arange(1,24,2) \n",
    "a = a.reshape(3,4)\n",
    "print('a:\\n',a, '\\n')\n",
    "b = np.arange(2,25,2) \n",
    "b = b.reshape(3,4) \n",
    "print('b:\\n',b, '\\n')\n",
    "\n",
    "c = np.arange(3,48,4)\n",
    "c = c.reshape(3,4)\n",
    "print('c:\\n',c)\n"
   ]
  }
 ],
 "metadata": {
  "kernelspec": {
   "display_name": "Python 3",
   "language": "python",
   "name": "python3"
  },
  "language_info": {
   "codemirror_mode": {
    "name": "ipython",
    "version": 3
   },
   "file_extension": ".py",
   "mimetype": "text/x-python",
   "name": "python",
   "nbconvert_exporter": "python",
   "pygments_lexer": "ipython3",
   "version": "3.8.8"
  }
 },
 "nbformat": 4,
 "nbformat_minor": 4
}
