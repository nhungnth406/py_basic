{
 "cells": [
  {
   "cell_type": "code",
   "execution_count": 66,
   "metadata": {},
   "outputs": [
    {
     "name": "stdout",
     "output_type": "stream",
     "text": [
      "Original:\n",
      "[[ 1  2  3]\n",
      " [ 4  5  6]\n",
      " [ 7  8  9]\n",
      " [10 11 12]\n",
      " [13 14 15]\n",
      " [16 17 18]] \n",
      "\n",
      "Delete row 3 and 5:\n",
      "[[ 1  2  3]\n",
      " [ 4  5  6]\n",
      " [10 11 12]\n",
      " [16 17 18]] \n",
      "\n",
      "Delete row 2, 4, 6 (use slice):\n",
      "[[ 1  2  3]\n",
      " [ 7  8  9]\n",
      " [13 14 15]] \n",
      "\n",
      "Delete the last column:\n",
      "[[ 1  2]\n",
      " [ 4  5]\n",
      " [ 7  8]\n",
      " [10 11]\n",
      " [13 14]]\n"
     ]
    }
   ],
   "source": [
    "# 1/ \n",
    "import numpy as np\n",
    "arr = np.array([[1, 2, 3], [4, 5, 6], [7, 8, 9], [10, 11, 12], [13, 14, 15], [16, 17, 18]])\n",
    "print('Original:') \n",
    "print(arr, '\\n')\n",
    "\n",
    "del_3 = np.delete(arr, 2, axis = 0)\n",
    "a = np.array(del_3)\n",
    "del_5 = np.delete(a, 3, axis = 0)\n",
    "print('Delete row 3 and 5:')  \n",
    "print(del_5, '\\n')\n",
    "\n",
    "print('Delete row 2, 4, 6 (use slice):')  \n",
    "print(arr[0:5:2], '\\n')\n",
    "\n",
    "\n",
    "del_last_col = np.delete(arr, 2, axis = 1)\n",
    "del_last_row = np.delete(del_last_col, 5, axis = 0)\n",
    "print('Delete the last column:')  \n",
    "print(del_last_row)"
   ]
  },
  {
   "cell_type": "code",
   "execution_count": 33,
   "metadata": {},
   "outputs": [
    {
     "name": "stdout",
     "output_type": "stream",
     "text": [
      "Array:\n",
      " [[3 9 6]\n",
      " [9 7 3]\n",
      " [6 8 9]] \n",
      "\n",
      "Xóa phần tử trùng lắp: \n",
      " [3 6 7 8 9] \n",
      "\n",
      "Phục hồi array: \n",
      " [[3 9 6]\n",
      " [9 7 3]\n",
      " [6 8 9]] \n",
      "\n",
      "Số lần xuất hiện của các giá trị:\n",
      "[3 6 7 8 9] xuất hiện\n",
      "[2 2 1 1 3] lần\n"
     ]
    }
   ],
   "source": [
    "#2/\n",
    "import numpy as np \n",
    "arr = np.array([[3,9,6],[9,7,3],[6,8,9]]) \n",
    "\n",
    "print('Array:\\n',arr,'\\n') \n",
    "\n",
    "new = np.unique(arr)  \n",
    "print('Xóa phần tử trùng lắp:','\\n',new,'\\n')\n",
    "\n",
    "new,indices_inverse = np.unique(arr,return_inverse = True) \n",
    "print('Phục hồi array:','\\n', new[indices_inverse].reshape(3, 3),'\\n')\n",
    "\n",
    "print('Số lần xuất hiện của các giá trị:')\n",
    "new,counts = np.unique(arr,return_counts = True) \n",
    "print(new, \"xuất hiện\") \n",
    "print(counts, \"lần\")"
   ]
  },
  {
   "cell_type": "code",
   "execution_count": 15,
   "metadata": {},
   "outputs": [
    {
     "name": "stdout",
     "output_type": "stream",
     "text": [
      "Array:\n",
      " [[ 3  9  6  7]\n",
      " [ 9  7  3  4]\n",
      " [ 6  8  9 12]] \n",
      "\n",
      "Các số chia hết cho 3:\n",
      "[ 3  6  9 12]\n"
     ]
    }
   ],
   "source": [
    "#3/\n",
    "import numpy as np \n",
    "arr = np.array([[3,9,6,7],[9,7,3,4],[6,8,9,12]])\n",
    "print('Array:\\n',arr,'\\n') \n",
    "\n",
    "print('Các số chia hết cho 3:')\n",
    "filter_arr = arr % 3 == 0\n",
    "newarr = arr[filter_arr]\n",
    "u = np.unique(newarr)\n",
    "print(u)"
   ]
  },
  {
   "cell_type": "code",
   "execution_count": 60,
   "metadata": {},
   "outputs": [
    {
     "name": "stdout",
     "output_type": "stream",
     "text": [
      "Array:\n",
      " [[ 3  9  6  7]\n",
      " [10  7  3  4]\n",
      " [ 6  8  9 12]] \n",
      "\n",
      "Số lớn nhất của mỗi dòng:\n",
      "[ 9 10 12] \n",
      "\n",
      "Số nhỏ nhất của mỗi cột:\n",
      "[3 7 3 4] \n",
      "\n"
     ]
    }
   ],
   "source": [
    "#4/\n",
    "\n",
    "import numpy as np \n",
    "arr = np.array([[3,9,6,7],[10,7,3,4],[6,8,9,12]])\n",
    "print('Array:\\n',arr,'\\n') \n",
    "\n",
    "print('Số lớn nhất của mỗi dòng:')\n",
    "maxindex = np.max(arr, axis = 1) \n",
    "print(maxindex,'\\n') \n",
    "\n",
    "print('Số nhỏ nhất của mỗi cột:')\n",
    "minindex = np.min(arr, axis = 0) \n",
    "print(minindex,'\\n')"
   ]
  },
  {
   "cell_type": "code",
   "execution_count": 8,
   "metadata": {},
   "outputs": [
    {
     "name": "stdout",
     "output_type": "stream",
     "text": [
      "Array:\n",
      " [ 6  3  5  9  2  4  7 10 15 14 16 18 19] \n",
      "\n",
      "Sorted array:\n",
      "[ 2  3  4  5  6  7  9 10 14 15 16 18 19] \n",
      "\n",
      "Nhập 1 số bất kỳ từ 1->20: 13\n",
      "\n",
      "Chèn number vào array mà không đổi thứ tự:\n",
      "[ 2  3  4  5  6  7  9 10 13 14 15 16 18 19]\n"
     ]
    }
   ],
   "source": [
    "# 5/\n",
    "\n",
    "import numpy as np\n",
    "arr = np.array([6,3,5,9,2,4,7, 10, 15,14,16,18,19])\n",
    "print('Array:\\n', arr, '\\n')\n",
    "\n",
    "new_arr = np.sort(arr)\n",
    "print('Sorted array:\\n', new_arr,'\\n')\n",
    "\n",
    "number = int(input('Nhập 1 số bất kỳ từ 1->20: ')) # lưu ý :nhập số lớn hơn 10, nhỏ hơn 19, ví dụ nhập số 13\n",
    "\n",
    "x = np.searchsorted(new_arr, number)\n",
    "\n",
    "a = np.insert(new_arr, x, number)\n",
    "\n",
    "print('\\nChèn number vào array mà không đổi thứ tự:\\n',a)"
   ]
  },
  {
   "cell_type": "code",
   "execution_count": 6,
   "metadata": {},
   "outputs": [
    {
     "name": "stdout",
     "output_type": "stream",
     "text": [
      "Array:\n",
      " [[ 3  9  6  7]\n",
      " [10  7  3  4]\n",
      " [ 6 12  8  9]] \n",
      "\n",
      "Sorted arr:\n",
      "[[ 3  3  4  6]\n",
      " [ 6  7  7  8]\n",
      " [ 9  9 10 12]] \n",
      "\n",
      "Sorted arr theo từng dòng:\n",
      "[[ 3  6  7  9]\n",
      " [ 3  4  7 10]\n",
      " [ 6  8  9 12]] \n",
      "\n",
      "Sorted arr theo từng cột:\n",
      "[[ 3  7  3  4]\n",
      " [ 6  9  6  7]\n",
      " [10 12  8  9]] \n",
      "\n"
     ]
    }
   ],
   "source": [
    "#6\n",
    "import numpy as np \n",
    "arr = np.array([[3,9,6,7],[10,7,3,4],[6,12,8,9]])\n",
    "print('Array:\\n',arr,'\\n')\n",
    "print('Sorted arr:')\n",
    "print(np.sort(arr,axis=None).reshape(3,4))\n",
    "print('Sorted arr theo từng dòng:') \n",
    "print(np.sort(arr, axis = 1), '\\n')\n",
    "print('Sorted arr theo từng cột:') \n",
    "print(np.sort(arr, axis = 0), '\\n')"
   ]
  },
  {
   "cell_type": "code",
   "execution_count": 2,
   "metadata": {},
   "outputs": [
    {
     "name": "stdout",
     "output_type": "stream",
     "text": [
      "Sắp xếp theo TinhThanh, HoTen, Thu Nhap\n",
      "[(b'Ngoc', b'Binh Duong',  2000000) (b'Toan', b'Binh Thuan', 18000000)\n",
      " (b'Kien', b'Da Lat',  1500000) (b'Nhung', b'Vung Tau', 30000000)\n",
      " (b'Van Anh', b'Vung Tau',  1000000)]\n"
     ]
    }
   ],
   "source": [
    "import numpy as np\n",
    "memberdtype = np.dtype([('HoTen', 'S10'),('TinhThanh', 'S10'),(\"ThuNhap\",'i4')]) \n",
    "memberarr= np.array([(\"Ngoc\",\"Binh Duong\",2000000),(\"Van Anh\",\"Vung Tau\",1000000),(\"Kien\",\"Da Lat\",1500000),(\"Nhung\",\"Vung Tau\",30000000),(\"Toan\",\"Binh Thuan\",18000000)], dtype = memberdtype) \n",
    "print('Sắp xếp theo TinhThanh, HoTen, Thu Nhap')\n",
    "print(np.sort(memberarr, order = ['TinhThanh', 'HoTen','ThuNhap']))"
   ]
  },
  {
   "cell_type": "code",
   "execution_count": 2,
   "metadata": {},
   "outputs": [
    {
     "name": "stdout",
     "output_type": "stream",
     "text": [
      "Array:\n",
      " [[ 3  9  6  7]\n",
      " [10  7  3  4]\n",
      " [ 6 12  8  9]] \n",
      "\n",
      "x (indices):\n",
      " [ 0  6  7  2  8  3  5 10  1 11  4  9] \n",
      "\n",
      "Sorted array:\n",
      " [[ 3  3  4  6]\n",
      " [ 6  7  7  8]\n",
      " [ 9  9 10 12]] \n",
      "\n"
     ]
    }
   ],
   "source": [
    "#8\n",
    "#8\n",
    "import numpy as np \n",
    "arr = np.array([[3,9,6,7],[10,7,3,4],[6,12,8,9]])\n",
    "print('Array:\\n',arr,'\\n')\n",
    "print('x (indices):\\n',np.argsort(arr,axis=None),'\\n')\n",
    "print('Sorted array:\\n',np.sort(arr,axis=None).reshape(3, 4),'\\n')"
   ]
  }
 ],
 "metadata": {
  "kernelspec": {
   "display_name": "Python 3",
   "language": "python",
   "name": "python3"
  },
  "language_info": {
   "codemirror_mode": {
    "name": "ipython",
    "version": 3
   },
   "file_extension": ".py",
   "mimetype": "text/x-python",
   "name": "python",
   "nbconvert_exporter": "python",
   "pygments_lexer": "ipython3",
   "version": "3.8.8"
  }
 },
 "nbformat": 4,
 "nbformat_minor": 4
}
