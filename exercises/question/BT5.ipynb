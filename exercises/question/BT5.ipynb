{
 "cells": [
  {
   "cell_type": "code",
   "execution_count": 15,
   "metadata": {},
   "outputs": [
    {
     "name": "stdout",
     "output_type": "stream",
     "text": [
      "[[ 1  2  3]\n",
      " [ 4  5  6]\n",
      " [ 7  8  9]\n",
      " [10 11 12]\n",
      " [13 14 15]\n",
      " [16 17 18]] \n",
      "\n",
      "Delete row 3 and 5:\n",
      "[[ 1  2  3]\n",
      " [ 4  5  6]\n",
      " [10 11 12]\n",
      " [16 17 18]] \n",
      "\n",
      "Delete row 2,4,6 (use slice):\n",
      "[[ 1  2  3]\n",
      " [ 7  8  9]\n",
      " [13 14 15]] \n",
      "\n",
      "Delete the last column:\n",
      "[[ 1  2]\n",
      " [ 4  5]\n",
      " [ 7  8]\n",
      " [10 11]\n",
      " [13 14]\n",
      " [16 17]]\n"
     ]
    }
   ],
   "source": [
    "# 1/ \n",
    "import numpy as np\n",
    "arr = np.array([[1, 2, 3], [4, 5, 6], [7, 8, 9], [10, 11, 12], [13, 14, 15], [16, 17, 18]])\n",
    "print(arr, '\\n')\n",
    "\n",
    "print('Delete row 3 and 5:')  \n",
    "?????\n",
    "\n",
    "print('Delete row 2,4,6 (use slice):')  \n",
    "?????\n",
    "\n",
    "print('Delete the last column:')  \n",
    "?????"
   ]
  },
  {
   "cell_type": "code",
   "execution_count": 51,
   "metadata": {},
   "outputs": [
    {
     "name": "stdout",
     "output_type": "stream",
     "text": [
      "Array:\n",
      " [[3 9 6]\n",
      " [9 7 3]\n",
      " [6 8 9]] \n",
      "\n",
      "Xóa phần tử trùng lắp:\n",
      "[3 6 7 8 9] \n",
      "\n",
      "Phục hồi array:\n",
      "[[3 9 6]\n",
      " [9 7 3]\n",
      " [6 8 9]] \n",
      "\n",
      "Số lần xuất hiện của các giá trị:\n",
      "[3 6 7 8 9] xuất hiện\n",
      "[2 2 1 1 3] lần\n"
     ]
    }
   ],
   "source": [
    "# 2/\n",
    "\n",
    "import numpy as np \n",
    "arr = np.array([[3,9,6],[9,7,3],[6,8,9]]) \n",
    "\n",
    "print('Array:\\n',arr,'\\n') \n",
    "\n",
    "print('Xóa phần tử trùng lắp:')\n",
    "?????\n",
    "\n",
    "del(arr)\n",
    "\n",
    "print('Phục hồi array:')\n",
    "?????\n",
    "\n",
    "print('Số lần xuất hiện của các giá trị:')\n",
    "?????\n"
   ]
  },
  {
   "cell_type": "code",
   "execution_count": 59,
   "metadata": {},
   "outputs": [
    {
     "name": "stdout",
     "output_type": "stream",
     "text": [
      "Array:\n",
      " [[ 3  9  6  7]\n",
      " [ 9  7  3  4]\n",
      " [ 6  8  9 12]] \n",
      "\n",
      "Các số chia hết cho 3:\n",
      "[ 3  6  9 12]\n"
     ]
    }
   ],
   "source": [
    "#3/\n",
    "\n",
    "import numpy as np \n",
    "arr = np.array([[3,9,6,7],[9,7,3,4],[6,8,9,12]])\n",
    "print('Array:\\n',arr,'\\n') \n",
    "\n",
    "print('Các số chia hết cho 3:')\n",
    "?????"
   ]
  },
  {
   "cell_type": "code",
   "execution_count": 70,
   "metadata": {},
   "outputs": [
    {
     "name": "stdout",
     "output_type": "stream",
     "text": [
      "Array:\n",
      " [[ 3  9  6  7]\n",
      " [10  7  3  4]\n",
      " [ 6  8  9 12]] \n",
      "\n",
      "Số lớn nhất của mỗi dòng:\n",
      "[ 9 10 12] \n",
      "\n",
      "Số nhỏ nhất của mỗi cột:\n",
      "[3 7 3 4]\n"
     ]
    }
   ],
   "source": [
    "#4/\n",
    "\n",
    "import numpy as np \n",
    "arr = np.array([[3,9,6,7],[10,7,3,4],[6,8,9,12]])\n",
    "print('Array:\\n',arr,'\\n') \n",
    "\n",
    "print('Số lớn nhất của mỗi dòng:')\n",
    "?????\n",
    "\n",
    "print('Số nhỏ nhất của mỗi cột:')\n",
    "?????\n"
   ]
  },
  {
   "cell_type": "code",
   "execution_count": 8,
   "metadata": {},
   "outputs": [
    {
     "name": "stdout",
     "output_type": "stream",
     "text": [
      "Array:\n",
      " [ 6  3  5  9  2  4  7 10 15 14 16 18 19] \n",
      "\n",
      "Sorted array:\n",
      "[ 2  3  4  5  6  7  9 10 14 15 16 18 19] \n",
      "\n",
      "Nhập 1 số bất kỳ từ 1->20: 13\n",
      "\n",
      "Chèn number vào array mà không đổi thứ tự:\n",
      "[ 2  3  4  5  6  7  9 10 13 14 15 16 18 19]\n"
     ]
    }
   ],
   "source": [
    "# 5/\n",
    "\n",
    "import numpy as np\n",
    "arr = np.array([6,3,5,9,2,4,7, 10, 15,14,16,18,19])\n",
    "print('Array:\\n', arr, '\\n')\n",
    "\n",
    "print('Sorted array:')\n",
    "?????\n",
    "\n",
    "number = input('Nhập 1 số bất kỳ từ 1->20: ')) # lưu ý :nhập số lớn hơn 10, nhỏ hơn 19, ví dụ nhập số 13\n",
    "\n",
    "print('\\nChèn number vào array mà không đổi thứ tự:')\n",
    "?????"
   ]
  },
  {
   "cell_type": "code",
   "execution_count": 6,
   "metadata": {},
   "outputs": [
    {
     "name": "stdout",
     "output_type": "stream",
     "text": [
      "Array:\n",
      " [[ 3  9  6  7]\n",
      " [10  7  3  4]\n",
      " [ 6 12  8  9]] \n",
      "\n",
      "Sorted arr:\n",
      "[[ 3  3  4  6]\n",
      " [ 6  7  7  8]\n",
      " [ 9  9 10 12]] \n",
      "\n",
      "Sorted arr theo từng dòng:\n",
      "[[ 3  6  7  9]\n",
      " [ 3  4  7 10]\n",
      " [ 6  8  9 12]] \n",
      "\n",
      "Sorted arr theo từng cột:\n",
      "[[ 3  7  3  4]\n",
      " [ 6  9  6  7]\n",
      " [10 12  8  9]] \n",
      "\n"
     ]
    }
   ],
   "source": [
    "# 6/\n",
    "import numpy as np \n",
    "arr = np.array([[3,9,6,7],[10,7,3,4],[6,12,8,9]])\n",
    "print('Array:\\n',arr,'\\n')\n",
    "\n",
    "print('Sorted arr:')\n",
    "?????\n",
    "\n",
    "print('Sorted arr theo từng dòng:') \n",
    "????? \n",
    "\n",
    "print('Sorted arr theo từng cột:') \n",
    "????? "
   ]
  },
  {
   "cell_type": "code",
   "execution_count": null,
   "metadata": {},
   "outputs": [],
   "source": [
    "# 7/\n",
    "\n",
    "import numpy as np \n",
    "\n",
    "'''\n",
    "Lập data type cho member gồm:\n",
    "HoTen kiểu dữ liệu: S10\n",
    "TinhThanh kiểu dữ liệu: S10\n",
    "ThuNhap kiểu dữ liệu: i4\n",
    "'''\n",
    "memberdtype = ????\n",
    "\n",
    "'''\n",
    "Nhập dữ liêu với 5 người (nhập tùy ý)\n",
    "'''\n",
    "memberarr = ???\n",
    "\n",
    "print('Sắp xếp theo TinhThanh, HoTen, Thu Nhap ')\n",
    "?????"
   ]
  },
  {
   "cell_type": "code",
   "execution_count": 1,
   "metadata": {},
   "outputs": [
    {
     "name": "stdout",
     "output_type": "stream",
     "text": [
      "Array:\n",
      " [[ 3  9  6  7]\n",
      " [10  7  3  4]\n",
      " [ 6 12  8  9]] \n",
      "\n",
      "x (indices):\n",
      " [ 0  6  7  2  8  3  5 10  1 11  4  9] \n",
      "\n",
      "Sorted array:\n",
      " [[ 3  3  4  6]\n",
      " [ 6  7  7  8]\n",
      " [ 9  9 10 12]] \n",
      "\n"
     ]
    }
   ],
   "source": [
    "# 8/\n",
    "import numpy as np \n",
    "arr = np.array([[3,9,6,7],[10,7,3,4],[6,12,8,9]])\n",
    "print('Array:\\n',arr,'\\n')\n",
    "\n",
    "x = ?????\n",
    "?????\n"
   ]
  }
 ],
 "metadata": {
  "kernelspec": {
   "display_name": "Python 3",
   "language": "python",
   "name": "python3"
  },
  "language_info": {
   "codemirror_mode": {
    "name": "ipython",
    "version": 3
   },
   "file_extension": ".py",
   "mimetype": "text/x-python",
   "name": "python",
   "nbconvert_exporter": "python",
   "pygments_lexer": "ipython3",
   "version": "3.8.5"
  }
 },
 "nbformat": 4,
 "nbformat_minor": 4
}
