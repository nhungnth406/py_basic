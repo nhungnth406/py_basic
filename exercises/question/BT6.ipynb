{
 "cells": [
  {
   "cell_type": "code",
   "execution_count": 7,
   "metadata": {},
   "outputs": [
    {
     "name": "stdout",
     "output_type": "stream",
     "text": [
      "[21 24 17 30 33 36]\n"
     ]
    }
   ],
   "source": [
    "#1/ numpy ufunc\n",
    "import numpy as np\n",
    "\n",
    "arr1 = np.array([1, 2, 3, 4, 5, 6])\n",
    "arr2 = np.array([7, 8, 9, 10, 11, 12])\n",
    "arr3 = np.array([13, 14, 5, 16, 17, 18])\n",
    "\n",
    "newarr = ????\n",
    "\n",
    "print(newarr)"
   ]
  },
  {
   "cell_type": "code",
   "execution_count": 13,
   "metadata": {},
   "outputs": [
    {
     "name": "stdout",
     "output_type": "stream",
     "text": [
      "[5 7 9 11]\n",
      "<class 'numpy.ufunc'>\n"
     ]
    }
   ],
   "source": [
    "#2/  y = a*x + b\n",
    "import numpy as np\n",
    "\n",
    "x = np.array([1, 2, 3, 4])\n",
    "\n",
    "????\n",
    "\n",
    "a = 2\n",
    "b = 3\n",
    "y = ????\n",
    "\n",
    "print(y)\n",
    "????"
   ]
  },
  {
   "cell_type": "code",
   "execution_count": 20,
   "metadata": {},
   "outputs": [
    {
     "name": "stdout",
     "output_type": "stream",
     "text": [
      "array min: [3 7 9 8 2 33] \n",
      "\n",
      "array max: [10 20 30 40 50 60] \n",
      "\n",
      "findminmax: <class 'numpy.ufunc'>\n"
     ]
    }
   ],
   "source": [
    "#3/ min, max \n",
    "import numpy as np\n",
    "\n",
    "arr1 = np.array([10, 7, 30, 40, 2, 60])\n",
    "arr2 = np.array([3, 20, 9, 8, 50, 33])\n",
    "\n",
    "????\n",
    "\n",
    "amin, amax = ????\n",
    "\n",
    "print('array min:', amin,'\\n')\n",
    "print('array max:', amax,'\\n')\n",
    "\n",
    "print('findminmax:', ????)"
   ]
  },
  {
   "cell_type": "code",
   "execution_count": 26,
   "metadata": {},
   "outputs": [
    {
     "name": "stdout",
     "output_type": "stream",
     "text": [
      "a:\n",
      " [[1 2 3]\n",
      " [4 5 6]\n",
      " [7 8 9]] \n",
      "\n",
      "Cộng cột a và b:\n",
      "\n",
      "[[ 2  3  4]\n",
      " [ 6  7  8]\n",
      " [10 11 12]]\n"
     ]
    }
   ],
   "source": [
    "#4/\n",
    "\n",
    "import numpy as np \n",
    "\n",
    "a = np.array([[1,2,3],[4,5,6],[7,8,9]])\n",
    "print('a:\\n', a,'\\n')\n",
    "\n",
    "b = np.array([1,2,3])\n",
    "\n",
    "print('Cộng cột a và b:\\n')\n",
    "\n",
    "????"
   ]
  },
  {
   "cell_type": "code",
   "execution_count": 32,
   "metadata": {},
   "outputs": [
    {
     "name": "stdout",
     "output_type": "stream",
     "text": [
      "Làm tròn 1 chữ số sau phần thập phân: [-4.4  2.7] \n",
      "\n",
      "Lây phần nguyên trên [-4.  3.] \n",
      "\n",
      "Lấy phần nguyên dưới: [-5.  2.] \n",
      "\n",
      "Lấy phần nguyên gần 0 nhất: [-4.  2.] \n",
      "\n"
     ]
    }
   ],
   "source": [
    "#5/\n",
    "import numpy as np\n",
    "\n",
    "a = np.array([-4.356, 2.738])\n",
    "\n",
    "print('Làm tròn 1 chữ số sau phần thập phân:', ????,'\\n')\n",
    "print('Lây phần nguyên trên', ????,'\\n')\n",
    "print('Lấy phần nguyên dưới:', ????,'\\n')\n",
    "print('Lấy phần nguyên gần 0 nhất:', ????,'\\n')"
   ]
  },
  {
   "cell_type": "code",
   "execution_count": 1,
   "metadata": {},
   "outputs": [
    {
     "name": "stdout",
     "output_type": "stream",
     "text": [
      "[1.0 2.0 3.0000000000000004]\n"
     ]
    }
   ],
   "source": [
    "# 6/ Tính log6(x)\n",
    "\n",
    "import numpy as np\n",
    "\n",
    "x = np.array([6, 36, 216])\n",
    "\n",
    "????"
   ]
  },
  {
   "cell_type": "code",
   "execution_count": 2,
   "metadata": {},
   "outputs": [
    {
     "name": "stdout",
     "output_type": "stream",
     "text": [
      "a:\n",
      " [[1 2]\n",
      " [3 4]] \n",
      "\n",
      "b:\n",
      " [[5 6]\n",
      " [7 8]] \n",
      "\n",
      "newarr:\n",
      " [[ 6  8]\n",
      " [10 12]] \n",
      "\n",
      "newarr2:\n",
      " [[ 4  6]\n",
      " [12 14]] \n",
      "\n",
      "newarr3:\n",
      " [[ 1  3]\n",
      " [ 6 10]]\n"
     ]
    }
   ],
   "source": [
    "#7/ #sum, cumsum\n",
    "import numpy as np\n",
    "\n",
    "a = np.array([[1,2],[3,4]])\n",
    "b = np.array([[5,6],[7,8]])\n",
    "\n",
    "print('a:\\n',a,'\\n')\n",
    "print('b:\\n',b,'\\n')\n",
    "\n",
    "newarr1 = ????\n",
    "print('newarr:\\n', newarr1,'\\n')\n",
    "\n",
    "newarr2 = ????\n",
    "print('newarr2:\\n', newarr2, '\\n')\n",
    "\n",
    "x = np.array([[1, 2], [3, 4]])\n",
    "newarr3 = ????\n",
    "print('newarr3:\\n', newarr3)"
   ]
  },
  {
   "cell_type": "code",
   "execution_count": 56,
   "metadata": {},
   "outputs": [
    {
     "name": "stdout",
     "output_type": "stream",
     "text": [
      "newarr: 24 \n",
      "\n",
      "newarr1: [ 2 12] \n",
      "\n",
      "newarr2: [3 8] \n",
      "\n"
     ]
    }
   ],
   "source": [
    "# 8/ \n",
    "import numpy as np\n",
    "\n",
    "arr1 = np.array([1, 2])\n",
    "arr2 = np.array([3, 4])\n",
    "\n",
    "newarr = ????\n",
    "newarr1 = ????\n",
    "newarr2 = ????\n",
    "\n",
    "print('newarr:', newarr, '\\n')\n",
    "print('newarr1:', newarr1, '\\n')\n",
    "print('newarr2:', newarr2, '\\n')\n"
   ]
  },
  {
   "cell_type": "code",
   "execution_count": 57,
   "metadata": {},
   "outputs": [
    {
     "name": "stdout",
     "output_type": "stream",
     "text": [
      "Bội số chung nhỏ nhât: 288 \n",
      "\n",
      "Ước số chung lớn nhất: 4 \n",
      "\n"
     ]
    }
   ],
   "source": [
    "#9/\n",
    "\n",
    "import numpy as np\n",
    "\n",
    "arr = np.array([8, 32, 36, 16])\n",
    "\n",
    "print('Bội số chung nhỏ nhât:', ???? ,'\\n')\n",
    "print('Ước số chung lớn nhất:', ???? ,'\\n')"
   ]
  },
  {
   "cell_type": "code",
   "execution_count": 62,
   "metadata": {},
   "outputs": [
    {
     "name": "stdout",
     "output_type": "stream",
     "text": [
      "Phần tử riêng của arr1 và arr2: [1 3]\n",
      "Phần tử chung: [2 4 6]\n",
      "Phần tử trong arr1 không có trong arr2: [3]\n"
     ]
    }
   ],
   "source": [
    "#10/\n",
    "import numpy as np\n",
    "\n",
    "arr1 = np.array([4, 6, 2, 3,  4])\n",
    "arr2 = np.array([4, 6, 2, 1, 6])\n",
    "\n",
    "print('Phần tử riêng của arr1 và arr2:', ????)\n",
    "print('Phần tử chung:', ????)\n",
    "print('Phần tử trong arr1 không có trong arr2:',????)"
   ]
  }
 ],
 "metadata": {
  "kernelspec": {
   "display_name": "Python 3",
   "language": "python",
   "name": "python3"
  },
  "language_info": {
   "codemirror_mode": {
    "name": "ipython",
    "version": 3
   },
   "file_extension": ".py",
   "mimetype": "text/x-python",
   "name": "python",
   "nbconvert_exporter": "python",
   "pygments_lexer": "ipython3",
   "version": "3.8.5"
  }
 },
 "nbformat": 4,
 "nbformat_minor": 4
}
